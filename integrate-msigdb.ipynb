{
 "cells": [
  {
   "cell_type": "markdown",
   "metadata": {},
   "source": [
    "# Create a hetnet of MSigDB genesets\n",
    "\n",
    "This script was modified from https://github.com/dhimmel/integrate.\n",
    "\n",
    "## For the automatic interpretation of gene expression compression features\n",
    "\n",
    "The script creates an MSigDB hetnet as described in the eLIFE publication _\"Systematic integration of biomedical knowledge prioritizes drugs for repurposing\"_ by [Himmelstein et al. 2017](https://doi.org/10.7554/eLife.26726)"
   ]
  },
  {
   "cell_type": "code",
   "execution_count": 1,
   "metadata": {},
   "outputs": [],
   "source": [
    "import os\n",
    "import csv\n",
    "import pandas as pd\n",
    "import seaborn as sns\n",
    "\n",
    "import hetio.hetnet\n",
    "import hetio.readwrite\n",
    "import hetio.stats"
   ]
  },
  {
   "cell_type": "code",
   "execution_count": 2,
   "metadata": {},
   "outputs": [],
   "source": [
    "%matplotlib inline"
   ]
  },
  {
   "cell_type": "markdown",
   "metadata": {},
   "source": [
    "## Define the metagraph and instantiate the graph"
   ]
  },
  {
   "cell_type": "code",
   "execution_count": 3,
   "metadata": {},
   "outputs": [],
   "source": [
    "kind_to_abbev = {\n",
    "    \n",
    "    # metanodes\n",
    "    'Gene': 'G',\n",
    "\n",
    "    'Cancer-Hallmarks': 'H',\n",
    "    'Positional-Gene-Sets': 'C1',\n",
    "    'Curated-Gene-Sets': 'C2',\n",
    "    'Motif-Gene-Sets': 'C3',\n",
    "    'Computational-Gene-Sets': 'C4',\n",
    "    'GO-Gene-Sets': 'C5',\n",
    "    'Oncogenic-Gene-Sets': 'C6',\n",
    "    'Immunologic-Gene-Sets': 'C7',\n",
    "    \n",
    "    # metaedges\n",
    "    'participates': 'p',\n",
    "}\n",
    "\n",
    "metaedge_tuples = [\n",
    "    ('Gene', 'Cancer-Hallmarks', 'participates', 'both'),\n",
    "    ('Gene', 'Positional-Gene-Sets', 'participates', 'both'),\n",
    "    ('Gene', 'Curated-Gene-Sets', 'participates', 'both'),\n",
    "    ('Gene', 'Motif-Gene-Sets', 'participates', 'both'),\n",
    "    ('Gene', 'Computational-Gene-Sets', 'participates', 'both'),\n",
    "    ('Gene', 'GO-Gene-Sets', 'participates', 'both'),\n",
    "    ('Gene', 'Oncogenic-Gene-Sets', 'participates', 'both'),\n",
    "    ('Gene', 'Immunologic-Gene-Sets', 'participates', 'both'),\n",
    "]"
   ]
  },
  {
   "cell_type": "code",
   "execution_count": 4,
   "metadata": {},
   "outputs": [],
   "source": [
    "# Initialize the graph\n",
    "metagraph = hetio.hetnet.MetaGraph.from_edge_tuples(metaedge_tuples, kind_to_abbev)\n",
    "graph = hetio.hetnet.Graph(metagraph)"
   ]
  },
  {
   "cell_type": "markdown",
   "metadata": {},
   "source": [
    "## Get all genes found in MSigDB"
   ]
  },
  {
   "cell_type": "code",
   "execution_count": 5,
   "metadata": {},
   "outputs": [
    {
     "name": "stdout",
     "output_type": "stream",
     "text": [
      "(32431, 17356)\n"
     ]
    },
    {
     "data": {
      "text/html": [
       "<div>\n",
       "<style scoped>\n",
       "    .dataframe tbody tr th:only-of-type {\n",
       "        vertical-align: middle;\n",
       "    }\n",
       "\n",
       "    .dataframe tbody tr th {\n",
       "        vertical-align: top;\n",
       "    }\n",
       "\n",
       "    .dataframe thead th {\n",
       "        text-align: right;\n",
       "    }\n",
       "</style>\n",
       "<table border=\"1\" class=\"dataframe\">\n",
       "  <thead>\n",
       "    <tr style=\"text-align: right;\">\n",
       "      <th></th>\n",
       "      <th>AAACCAC_MIR140</th>\n",
       "      <th>AAAGACA_MIR511</th>\n",
       "      <th>AAAGGAT_MIR501</th>\n",
       "      <th>AAAGGGA_MIR204_MIR211</th>\n",
       "      <th>AAANWWTGC_UNKNOWN</th>\n",
       "      <th>AAAYRNCTG_UNKNOWN</th>\n",
       "      <th>AAAYWAACM_HFH4_01</th>\n",
       "      <th>AACATTC_MIR4093P</th>\n",
       "      <th>AACGGTT_MIR451</th>\n",
       "      <th>AACTGAC_MIR223</th>\n",
       "      <th>...</th>\n",
       "      <th>chrxq21</th>\n",
       "      <th>chrxq22</th>\n",
       "      <th>chrxq23</th>\n",
       "      <th>chrxq24</th>\n",
       "      <th>chrxq25</th>\n",
       "      <th>chrxq26</th>\n",
       "      <th>chrxq27</th>\n",
       "      <th>chrxq28</th>\n",
       "      <th>chryp11</th>\n",
       "      <th>chryq11</th>\n",
       "    </tr>\n",
       "  </thead>\n",
       "  <tbody>\n",
       "    <tr>\n",
       "      <th>1/2-SBSRNA4</th>\n",
       "      <td>0</td>\n",
       "      <td>0</td>\n",
       "      <td>0</td>\n",
       "      <td>0</td>\n",
       "      <td>0</td>\n",
       "      <td>0</td>\n",
       "      <td>0</td>\n",
       "      <td>0</td>\n",
       "      <td>0</td>\n",
       "      <td>0</td>\n",
       "      <td>...</td>\n",
       "      <td>0</td>\n",
       "      <td>0</td>\n",
       "      <td>0</td>\n",
       "      <td>0</td>\n",
       "      <td>0</td>\n",
       "      <td>0</td>\n",
       "      <td>0</td>\n",
       "      <td>0</td>\n",
       "      <td>0</td>\n",
       "      <td>0</td>\n",
       "    </tr>\n",
       "    <tr>\n",
       "      <th>3.8-1.2</th>\n",
       "      <td>0</td>\n",
       "      <td>0</td>\n",
       "      <td>0</td>\n",
       "      <td>0</td>\n",
       "      <td>0</td>\n",
       "      <td>0</td>\n",
       "      <td>0</td>\n",
       "      <td>0</td>\n",
       "      <td>0</td>\n",
       "      <td>0</td>\n",
       "      <td>...</td>\n",
       "      <td>0</td>\n",
       "      <td>0</td>\n",
       "      <td>0</td>\n",
       "      <td>0</td>\n",
       "      <td>0</td>\n",
       "      <td>0</td>\n",
       "      <td>0</td>\n",
       "      <td>0</td>\n",
       "      <td>0</td>\n",
       "      <td>0</td>\n",
       "    </tr>\n",
       "    <tr>\n",
       "      <th>3.8-1.3</th>\n",
       "      <td>0</td>\n",
       "      <td>0</td>\n",
       "      <td>0</td>\n",
       "      <td>0</td>\n",
       "      <td>0</td>\n",
       "      <td>0</td>\n",
       "      <td>0</td>\n",
       "      <td>0</td>\n",
       "      <td>0</td>\n",
       "      <td>0</td>\n",
       "      <td>...</td>\n",
       "      <td>0</td>\n",
       "      <td>0</td>\n",
       "      <td>0</td>\n",
       "      <td>0</td>\n",
       "      <td>0</td>\n",
       "      <td>0</td>\n",
       "      <td>0</td>\n",
       "      <td>0</td>\n",
       "      <td>0</td>\n",
       "      <td>0</td>\n",
       "    </tr>\n",
       "    <tr>\n",
       "      <th>3.8-1.4</th>\n",
       "      <td>0</td>\n",
       "      <td>0</td>\n",
       "      <td>0</td>\n",
       "      <td>0</td>\n",
       "      <td>0</td>\n",
       "      <td>0</td>\n",
       "      <td>0</td>\n",
       "      <td>0</td>\n",
       "      <td>0</td>\n",
       "      <td>0</td>\n",
       "      <td>...</td>\n",
       "      <td>0</td>\n",
       "      <td>0</td>\n",
       "      <td>0</td>\n",
       "      <td>0</td>\n",
       "      <td>0</td>\n",
       "      <td>0</td>\n",
       "      <td>0</td>\n",
       "      <td>0</td>\n",
       "      <td>0</td>\n",
       "      <td>0</td>\n",
       "    </tr>\n",
       "    <tr>\n",
       "      <th>3.8-1.5</th>\n",
       "      <td>0</td>\n",
       "      <td>0</td>\n",
       "      <td>0</td>\n",
       "      <td>0</td>\n",
       "      <td>0</td>\n",
       "      <td>0</td>\n",
       "      <td>0</td>\n",
       "      <td>0</td>\n",
       "      <td>0</td>\n",
       "      <td>0</td>\n",
       "      <td>...</td>\n",
       "      <td>0</td>\n",
       "      <td>0</td>\n",
       "      <td>0</td>\n",
       "      <td>0</td>\n",
       "      <td>0</td>\n",
       "      <td>0</td>\n",
       "      <td>0</td>\n",
       "      <td>0</td>\n",
       "      <td>0</td>\n",
       "      <td>0</td>\n",
       "    </tr>\n",
       "  </tbody>\n",
       "</table>\n",
       "<p>5 rows × 17356 columns</p>\n",
       "</div>"
      ],
      "text/plain": [
       "             AAACCAC_MIR140  AAAGACA_MIR511  AAAGGAT_MIR501  \\\n",
       "1/2-SBSRNA4               0               0               0   \n",
       "3.8-1.2                   0               0               0   \n",
       "3.8-1.3                   0               0               0   \n",
       "3.8-1.4                   0               0               0   \n",
       "3.8-1.5                   0               0               0   \n",
       "\n",
       "             AAAGGGA_MIR204_MIR211  AAANWWTGC_UNKNOWN  AAAYRNCTG_UNKNOWN  \\\n",
       "1/2-SBSRNA4                      0                  0                  0   \n",
       "3.8-1.2                          0                  0                  0   \n",
       "3.8-1.3                          0                  0                  0   \n",
       "3.8-1.4                          0                  0                  0   \n",
       "3.8-1.5                          0                  0                  0   \n",
       "\n",
       "             AAAYWAACM_HFH4_01  AACATTC_MIR4093P  AACGGTT_MIR451  \\\n",
       "1/2-SBSRNA4                  0                 0               0   \n",
       "3.8-1.2                      0                 0               0   \n",
       "3.8-1.3                      0                 0               0   \n",
       "3.8-1.4                      0                 0               0   \n",
       "3.8-1.5                      0                 0               0   \n",
       "\n",
       "             AACTGAC_MIR223   ...     chrxq21  chrxq22  chrxq23  chrxq24  \\\n",
       "1/2-SBSRNA4               0   ...           0        0        0        0   \n",
       "3.8-1.2                   0   ...           0        0        0        0   \n",
       "3.8-1.3                   0   ...           0        0        0        0   \n",
       "3.8-1.4                   0   ...           0        0        0        0   \n",
       "3.8-1.5                   0   ...           0        0        0        0   \n",
       "\n",
       "             chrxq25  chrxq26  chrxq27  chrxq28  chryp11  chryq11  \n",
       "1/2-SBSRNA4        0        0        0        0        0        0  \n",
       "3.8-1.2            0        0        0        0        0        0  \n",
       "3.8-1.3            0        0        0        0        0        0  \n",
       "3.8-1.4            0        0        0        0        0        0  \n",
       "3.8-1.5            0        0        0        0        0        0  \n",
       "\n",
       "[5 rows x 17356 columns]"
      ]
     },
     "execution_count": 5,
     "metadata": {},
     "output_type": "execute_result"
    }
   ],
   "source": [
    "full_msigdb_file = os.path.join('data', 'full_msigdb_binary_matrix.tsv.bz2')\n",
    "msigdb_df = pd.read_table(full_msigdb_file, index_col=0)\n",
    "\n",
    "print(msigdb_df.shape)\n",
    "msigdb_df.head()"
   ]
  },
  {
   "cell_type": "code",
   "execution_count": 6,
   "metadata": {},
   "outputs": [
    {
     "data": {
      "image/png": "[encoded data removed]",
      "text/plain": [
       "<matplotlib.figure.Figure at 0x7f2fa73ab710>"
      ]
     },
     "metadata": {},
     "output_type": "display_data"
    }
   ],
   "source": [
    "# Ask the distribution of pathway sizes\n",
    "msigdb_df.sum(axis=1).sort_values().hist(bins=30);"
   ]
  },
  {
   "cell_type": "code",
   "execution_count": 7,
   "metadata": {},
   "outputs": [
    {
     "data": {
      "image/png": "[encoded data removed]",
      "text/plain": [
       "<matplotlib.figure.Figure at 0x7f2fdc101278>"
      ]
     },
     "metadata": {},
     "output_type": "display_data"
    }
   ],
   "source": [
    "# What about the distribution of gene participation?\n",
    "msigdb_df.sum(axis=0).sort_values().hist(bins=30);"
   ]
  },
  {
   "cell_type": "markdown",
   "metadata": {},
   "source": [
    "## Gene Nodes"
   ]
  },
  {
   "cell_type": "code",
   "execution_count": 8,
   "metadata": {},
   "outputs": [
    {
     "name": "stdout",
     "output_type": "stream",
     "text": [
      "(20943, 7)\n"
     ]
    },
    {
     "data": {
      "text/html": [
       "<div>\n",
       "<style scoped>\n",
       "    .dataframe tbody tr th:only-of-type {\n",
       "        vertical-align: middle;\n",
       "    }\n",
       "\n",
       "    .dataframe tbody tr th {\n",
       "        vertical-align: top;\n",
       "    }\n",
       "\n",
       "    .dataframe thead th {\n",
       "        text-align: right;\n",
       "    }\n",
       "</style>\n",
       "<table border=\"1\" class=\"dataframe\">\n",
       "  <thead>\n",
       "    <tr style=\"text-align: right;\">\n",
       "      <th></th>\n",
       "      <th>tax_id</th>\n",
       "      <th>GeneID</th>\n",
       "      <th>Symbol</th>\n",
       "      <th>chromosome</th>\n",
       "      <th>map_location</th>\n",
       "      <th>type_of_gene</th>\n",
       "      <th>description</th>\n",
       "    </tr>\n",
       "  </thead>\n",
       "  <tbody>\n",
       "    <tr>\n",
       "      <th>0</th>\n",
       "      <td>9606</td>\n",
       "      <td>1</td>\n",
       "      <td>A1BG</td>\n",
       "      <td>19</td>\n",
       "      <td>19q13.4</td>\n",
       "      <td>protein-coding</td>\n",
       "      <td>alpha-1-B glycoprotein</td>\n",
       "    </tr>\n",
       "    <tr>\n",
       "      <th>1</th>\n",
       "      <td>9606</td>\n",
       "      <td>2</td>\n",
       "      <td>A2M</td>\n",
       "      <td>12</td>\n",
       "      <td>12p13.31</td>\n",
       "      <td>protein-coding</td>\n",
       "      <td>alpha-2-macroglobulin</td>\n",
       "    </tr>\n",
       "  </tbody>\n",
       "</table>\n",
       "</div>"
      ],
      "text/plain": [
       "   tax_id  GeneID Symbol chromosome map_location    type_of_gene  \\\n",
       "0    9606       1   A1BG         19      19q13.4  protein-coding   \n",
       "1    9606       2    A2M         12     12p13.31  protein-coding   \n",
       "\n",
       "              description  \n",
       "0  alpha-1-B glycoprotein  \n",
       "1   alpha-2-macroglobulin  "
      ]
     },
     "execution_count": 8,
     "metadata": {},
     "output_type": "execute_result"
    }
   ],
   "source": [
    "# Load curated gene names from versioned resource \n",
    "commit = 'a7362748a34211e5df6f2d185bb3246279760546'\n",
    "url = 'https://raw.githubusercontent.com/dhimmel/entrez-gene/{}/data/genes-human.tsv'.format(commit)\n",
    "gene_df = pd.read_table(url)\n",
    "\n",
    "# Only consider protein-coding genes\n",
    "gene_df = (\n",
    "    gene_df.query(\"type_of_gene == 'protein-coding'\")\n",
    "    .drop_duplicates('Symbol')\n",
    ")\n",
    "\n",
    "coding_genes = set(gene_df['GeneID'])\n",
    "print(gene_df.shape)\n",
    "gene_df.head(2)"
   ]
  },
  {
   "cell_type": "code",
   "execution_count": 9,
   "metadata": {},
   "outputs": [
    {
     "data": {
      "image/png": "[encoded data removed]",
      "text/plain": [
       "<matplotlib.figure.Figure at 0x7f2fdc101748>"
      ]
     },
     "metadata": {},
     "output_type": "display_data"
    }
   ],
   "source": [
    "# Subset the msigdb genes to the gene curation above\n",
    "common_subset_genes = set(gene_df['Symbol']).intersection(set(msigdb_df.index))\n",
    "msigdb_subset_genes_df = msigdb_df.loc[common_subset_genes, :]\n",
    "\n",
    "# What is the new distribution of pathway sizes?\n",
    "msigdb_subset_genes_df.sum(axis=1).sort_values().hist(bins=30);"
   ]
  },
  {
   "cell_type": "code",
   "execution_count": 10,
   "metadata": {},
   "outputs": [
    {
     "data": {
      "image/png": "[encoded data removed]",
      "text/plain": [
       "<matplotlib.figure.Figure at 0x7f2f9fd51a90>"
      ]
     },
     "metadata": {},
     "output_type": "display_data"
    }
   ],
   "source": [
    "# What is the new distribution of gene representation?\n",
    "msigdb_subset_genes_df.sum(axis=0).sort_values().hist(bins=30);"
   ]
  },
  {
   "cell_type": "code",
   "execution_count": 11,
   "metadata": {},
   "outputs": [
    {
     "data": {
      "text/plain": [
       "<matplotlib.axes._subplots.AxesSubplot at 0x7f2f4f1e37b8>"
      ]
     },
     "execution_count": 11,
     "metadata": {},
     "output_type": "execute_result"
    },
    {
     "data": {
      "image/png": "[encoded data removed]",
      "text/plain": [
       "<matplotlib.figure.Figure at 0x7f2f2d20e588>"
      ]
     },
     "metadata": {},
     "output_type": "display_data"
    }
   ],
   "source": [
    "# The genes that were removed from MSigDB participate mostly in few pathways\n",
    "diff_genes = set(msigdb_df.index).difference(gene_df['Symbol'])\n",
    "msigdb_other_genes_df = msigdb_df.loc[diff_genes, :]\n",
    "msigdb_other_genes_df.sum(axis=1).sort_values().hist(bins=30)"
   ]
  },
  {
   "cell_type": "markdown",
   "metadata": {},
   "source": [
    "## Add genes as nodes to the graph\n",
    "\n",
    "Use the gene-symbol identifier for easier interpretation"
   ]
  },
  {
   "cell_type": "code",
   "execution_count": 12,
   "metadata": {},
   "outputs": [
    {
     "name": "stdout",
     "output_type": "stream",
     "text": [
      "CPU times: user 2.83 s, sys: 12 ms, total: 2.84 s\n",
      "Wall time: 2.85 s\n"
     ]
    }
   ],
   "source": [
    "%%time\n",
    "for i, row in gene_df.iterrows():\n",
    "    # Build dictionary of descriptive elements for each gene\n",
    "    meta_data = {\n",
    "        'description': row['description'],\n",
    "        'source': 'Entrez Gene',\n",
    "        'url': 'http://identifiers.org/ncbigene/{}'.format(row['GeneID']),\n",
    "        'license': 'CC0 1.0',\n",
    "    }\n",
    "    \n",
    "    if pd.notnull(row['chromosome']):\n",
    "        meta_data['chromosome'] = row['chromosome']\n",
    "\n",
    "    # Add genes to graph\n",
    "    graph.add_node(kind='Gene', identifier=row['Symbol'], name=row['GeneID'],\n",
    "                   data=meta_data)"
   ]
  },
  {
   "cell_type": "markdown",
   "metadata": {
    "collapsed": true
   },
   "source": [
    "## Add gene set nodes and associated genes as edges\n",
    "\n",
    "Add each MSigDB collection as distinct nodes with a `participates` edge for representative gene sets and corresponding membership."
   ]
  },
  {
   "cell_type": "code",
   "execution_count": 13,
   "metadata": {},
   "outputs": [],
   "source": [
    "def add_msigdb_node_to_graph(current_graph, collection_file, collection_kind,\n",
    "                             collection_source, gene_list, min_geneset_size=4,\n",
    "                             max_geneset_size=1000, license='CC BY 4.0'):\n",
    "    \"\"\"\n",
    "    Add nodes and edges to current graph based on geneset memembership of collection\n",
    "    \n",
    "    Arguments:\n",
    "    current_graph - a hetnet object to add node-edge info to\n",
    "    collection_file - location of msigdb file\n",
    "    collection_kind - the kind of node already initialized in the graph\n",
    "    collection_source - alternative ID for collection\n",
    "    gene_list - a list of genes to consider when building the graph\n",
    "    min_geneset_size - filter out a given gene set if it has fewer genes\n",
    "    max_geneset_size - filter out a given gene set if it has more genes\n",
    "    license - given license associated with node\n",
    "    \n",
    "    Output:\n",
    "    Adds to current graph; Returns the amount of filtered genesets\n",
    "    \"\"\"\n",
    "    \n",
    "    # Build meta data dictionary to store node info\n",
    "    meta_data = {'license': license, 'source': collection_source}\n",
    "    \n",
    "    # Open the .gmt file and process each geneset\n",
    "    filtered_genesets = []\n",
    "    with open(collection_file, 'r') as collection_fh:\n",
    "        collection_reader = csv.reader(collection_fh, delimiter='\\t')\n",
    "\n",
    "        for row in collection_reader:\n",
    "            # Get geneset and and metadata info\n",
    "            geneset_name = row[0]\n",
    "            meta_data['url'] = row[1]\n",
    "            \n",
    "            # Process geneset membership\n",
    "            genes = row[2:]\n",
    "\n",
    "            # Filter geneset if its too big or small\n",
    "            if min_geneset_size > len(genes) or len(genes) > max_geneset_size:\n",
    "                filtered_genesets.append(geneset_name)\n",
    "                continue\n",
    "                \n",
    "            # Add the genesetname as a node (based on collection) to the graph\n",
    "            current_graph.add_node(kind=collection_kind, identifier=geneset_name, data=meta_data)\n",
    "\n",
    "            # Loop through all genes and add to the graph it should be considered\n",
    "            for gene in genes:\n",
    "                if gene in gene_list:\n",
    "                    source_id = ('Gene', gene)\n",
    "                    target_id = (collection_kind, geneset_name)\n",
    "                    \n",
    "                    edge_data = meta_data.copy()\n",
    "                    edge_data['unbiased'] = False\n",
    "\n",
    "                    current_graph.add_edge(source_id, target_id, 'participates', 'both', edge_data)\n",
    "\n",
    "    return filtered_genesets"
   ]
  },
  {
   "cell_type": "code",
   "execution_count": 14,
   "metadata": {},
   "outputs": [
    {
     "name": "stdout",
     "output_type": "stream",
     "text": [
      "CPU times: user 120 ms, sys: 8 ms, total: 128 ms\n",
      "Wall time: 137 ms\n"
     ]
    }
   ],
   "source": [
    "%%time\n",
    "hallmarks_file = 'data/h.all.v6.1.symbols.gmt'\n",
    "hallmark_filtered = add_msigdb_node_to_graph(current_graph=graph,\n",
    "                                             collection_file=hallmarks_file,\n",
    "                                             collection_kind='Cancer-Hallmarks',\n",
    "                                             collection_source='MSigDB-H',\n",
    "                                             gene_list=common_subset_genes)"
   ]
  },
  {
   "cell_type": "code",
   "execution_count": 15,
   "metadata": {},
   "outputs": [
    {
     "name": "stdout",
     "output_type": "stream",
     "text": [
      "CPU times: user 412 ms, sys: 0 ns, total: 412 ms\n",
      "Wall time: 434 ms\n"
     ]
    }
   ],
   "source": [
    "%%time\n",
    "positional_file = 'data/c1.all.v6.1.symbols.gmt'\n",
    "positional_filtered = add_msigdb_node_to_graph(current_graph=graph,\n",
    "                                               collection_file=positional_file,\n",
    "                                               collection_kind='Positional-Gene-Sets',\n",
    "                                               collection_source='MSigDB-C1',\n",
    "                                               gene_list=common_subset_genes)"
   ]
  },
  {
   "cell_type": "code",
   "execution_count": 16,
   "metadata": {},
   "outputs": [
    {
     "name": "stdout",
     "output_type": "stream",
     "text": [
      "CPU times: user 8.8 s, sys: 148 ms, total: 8.95 s\n",
      "Wall time: 9.17 s\n"
     ]
    }
   ],
   "source": [
    "%%time\n",
    "curated_file = 'data/c2.all.v6.1.symbols.gmt'\n",
    "curated_filtered = add_msigdb_node_to_graph(current_graph=graph,\n",
    "                                            collection_file=curated_file,\n",
    "                                            collection_kind='Curated-Gene-Sets',\n",
    "                                            collection_source='MSigDB-C2',\n",
    "                                            gene_list=common_subset_genes)"
   ]
  },
  {
   "cell_type": "code",
   "execution_count": 17,
   "metadata": {},
   "outputs": [
    {
     "name": "stdout",
     "output_type": "stream",
     "text": [
      "CPU times: user 3.43 s, sys: 44 ms, total: 3.47 s\n",
      "Wall time: 3.49 s\n"
     ]
    }
   ],
   "source": [
    "%%time\n",
    "motif_file = 'data/c3.all.v6.1.symbols.gmt'\n",
    "motif_filtered = add_msigdb_node_to_graph(current_graph=graph,\n",
    "                                          collection_file=motif_file,\n",
    "                                          collection_kind='Motif-Gene-Sets',\n",
    "                                          collection_source='MSigDB-C3',\n",
    "                                          gene_list=common_subset_genes)"
   ]
  },
  {
   "cell_type": "code",
   "execution_count": 18,
   "metadata": {},
   "outputs": [
    {
     "name": "stdout",
     "output_type": "stream",
     "text": [
      "CPU times: user 2.33 s, sys: 16 ms, total: 2.35 s\n",
      "Wall time: 2.38 s\n"
     ]
    }
   ],
   "source": [
    "%%time\n",
    "computational_file = 'data/c4.all.v6.1.symbols.gmt'\n",
    "computational_filtered = add_msigdb_node_to_graph(current_graph=graph,\n",
    "                                                  collection_file=computational_file,\n",
    "                                                  collection_kind='Computational-Gene-Sets',\n",
    "                                                  collection_source='MSigDB-C4',\n",
    "                                                  gene_list=common_subset_genes)"
   ]
  },
  {
   "cell_type": "code",
   "execution_count": 19,
   "metadata": {},
   "outputs": [
    {
     "name": "stdout",
     "output_type": "stream",
     "text": [
      "CPU times: user 11.1 s, sys: 208 ms, total: 11.3 s\n",
      "Wall time: 11.4 s\n"
     ]
    }
   ],
   "source": [
    "%%time\n",
    "go_file = 'data/c5.all.v6.1.symbols.gmt'\n",
    "go_filtered = add_msigdb_node_to_graph(current_graph=graph,\n",
    "                                       collection_file=go_file,\n",
    "                                       collection_kind='GO-Gene-Sets',\n",
    "                                       collection_source='MSigDB-C5',\n",
    "                                       gene_list=common_subset_genes) "
   ]
  },
  {
   "cell_type": "code",
   "execution_count": 20,
   "metadata": {},
   "outputs": [
    {
     "name": "stdout",
     "output_type": "stream",
     "text": [
      "CPU times: user 492 ms, sys: 20 ms, total: 512 ms\n",
      "Wall time: 513 ms\n"
     ]
    }
   ],
   "source": [
    "%%time\n",
    "oncogenic_file = 'data/c6.all.v6.1.symbols.gmt'\n",
    "oncogenic_filtered = add_msigdb_node_to_graph(current_graph=graph,\n",
    "                                              collection_file=oncogenic_file,\n",
    "                                              collection_kind='Oncogenic-Gene-Sets',\n",
    "                                              collection_source='MSigDB-C6',\n",
    "                                              gene_list=common_subset_genes)"
   ]
  },
  {
   "cell_type": "code",
   "execution_count": 21,
   "metadata": {},
   "outputs": [
    {
     "name": "stdout",
     "output_type": "stream",
     "text": [
      "CPU times: user 19.1 s, sys: 312 ms, total: 19.4 s\n",
      "Wall time: 19.4 s\n"
     ]
    }
   ],
   "source": [
    "%%time\n",
    "immunologic_file = 'data/c7.all.v6.1.symbols.gmt'\n",
    "immunologic_filtered = add_msigdb_node_to_graph(current_graph=graph,\n",
    "                                                collection_file=immunologic_file,\n",
    "                                                collection_kind='Immunologic-Gene-Sets',\n",
    "                                                collection_source='MSigDB-C7',\n",
    "                                                gene_list=common_subset_genes)"
   ]
  },
  {
   "cell_type": "markdown",
   "metadata": {},
   "source": [
    "## Network visualizations and stats"
   ]
  },
  {
   "cell_type": "code",
   "execution_count": 22,
   "metadata": {},
   "outputs": [],
   "source": [
    "# Export node degree tables\n",
    "node_degree_file = os.path.join('results', 'msigdb_node_degrees.xlsx')\n",
    "hetio.stats.degrees_to_excel(graph, node_degree_file)"
   ]
  },
  {
   "cell_type": "code",
   "execution_count": 23,
   "metadata": {},
   "outputs": [
    {
     "data": {
      "text/html": [
       "<div>\n",
       "<style scoped>\n",
       "    .dataframe tbody tr th:only-of-type {\n",
       "        vertical-align: middle;\n",
       "    }\n",
       "\n",
       "    .dataframe tbody tr th {\n",
       "        vertical-align: top;\n",
       "    }\n",
       "\n",
       "    .dataframe thead th {\n",
       "        text-align: right;\n",
       "    }\n",
       "</style>\n",
       "<table border=\"1\" class=\"dataframe\">\n",
       "  <thead>\n",
       "    <tr style=\"text-align: right;\">\n",
       "      <th></th>\n",
       "      <th>metanode</th>\n",
       "      <th>abbreviation</th>\n",
       "      <th>metaedges</th>\n",
       "      <th>nodes</th>\n",
       "      <th>unconnected_nodes</th>\n",
       "    </tr>\n",
       "  </thead>\n",
       "  <tbody>\n",
       "    <tr>\n",
       "      <th>2</th>\n",
       "      <td>Cancer-Hallmarks</td>\n",
       "      <td>H</td>\n",
       "      <td>1</td>\n",
       "      <td>50</td>\n",
       "      <td>0</td>\n",
       "    </tr>\n",
       "    <tr>\n",
       "      <th>1</th>\n",
       "      <td>Computational-Gene-Sets</td>\n",
       "      <td>C4</td>\n",
       "      <td>1</td>\n",
       "      <td>858</td>\n",
       "      <td>0</td>\n",
       "    </tr>\n",
       "    <tr>\n",
       "      <th>6</th>\n",
       "      <td>Curated-Gene-Sets</td>\n",
       "      <td>C2</td>\n",
       "      <td>1</td>\n",
       "      <td>4709</td>\n",
       "      <td>0</td>\n",
       "    </tr>\n",
       "    <tr>\n",
       "      <th>7</th>\n",
       "      <td>GO-Gene-Sets</td>\n",
       "      <td>C5</td>\n",
       "      <td>1</td>\n",
       "      <td>5799</td>\n",
       "      <td>0</td>\n",
       "    </tr>\n",
       "    <tr>\n",
       "      <th>4</th>\n",
       "      <td>Gene</td>\n",
       "      <td>G</td>\n",
       "      <td>8</td>\n",
       "      <td>20943</td>\n",
       "      <td>2543</td>\n",
       "    </tr>\n",
       "    <tr>\n",
       "      <th>0</th>\n",
       "      <td>Immunologic-Gene-Sets</td>\n",
       "      <td>C7</td>\n",
       "      <td>1</td>\n",
       "      <td>4872</td>\n",
       "      <td>0</td>\n",
       "    </tr>\n",
       "    <tr>\n",
       "      <th>8</th>\n",
       "      <td>Motif-Gene-Sets</td>\n",
       "      <td>C3</td>\n",
       "      <td>1</td>\n",
       "      <td>819</td>\n",
       "      <td>0</td>\n",
       "    </tr>\n",
       "    <tr>\n",
       "      <th>5</th>\n",
       "      <td>Oncogenic-Gene-Sets</td>\n",
       "      <td>C6</td>\n",
       "      <td>1</td>\n",
       "      <td>189</td>\n",
       "      <td>0</td>\n",
       "    </tr>\n",
       "    <tr>\n",
       "      <th>3</th>\n",
       "      <td>Positional-Gene-Sets</td>\n",
       "      <td>C1</td>\n",
       "      <td>1</td>\n",
       "      <td>326</td>\n",
       "      <td>0</td>\n",
       "    </tr>\n",
       "  </tbody>\n",
       "</table>\n",
       "</div>"
      ],
      "text/plain": [
       "                  metanode abbreviation  metaedges  nodes  unconnected_nodes\n",
       "2         Cancer-Hallmarks            H          1     50                  0\n",
       "1  Computational-Gene-Sets           C4          1    858                  0\n",
       "6        Curated-Gene-Sets           C2          1   4709                  0\n",
       "7             GO-Gene-Sets           C5          1   5799                  0\n",
       "4                     Gene            G          8  20943               2543\n",
       "0    Immunologic-Gene-Sets           C7          1   4872                  0\n",
       "8          Motif-Gene-Sets           C3          1    819                  0\n",
       "5      Oncogenic-Gene-Sets           C6          1    189                  0\n",
       "3     Positional-Gene-Sets           C1          1    326                  0"
      ]
     },
     "execution_count": 23,
     "metadata": {},
     "output_type": "execute_result"
    }
   ],
   "source": [
    "# Summary of metanodes and cooresponding nodes\n",
    "metanode_df = hetio.stats.get_metanode_df(graph)\n",
    "\n",
    "metanode_file = os.path.join('results', 'msigdb_metanode_summary.tsv')\n",
    "metanode_df.to_csv(metanode_file, sep='\\t', index=False)\n",
    "metanode_df"
   ]
  },
  {
   "cell_type": "code",
   "execution_count": 24,
   "metadata": {},
   "outputs": [
    {
     "data": {
      "text/plain": [
       "38565"
      ]
     },
     "execution_count": 24,
     "metadata": {},
     "output_type": "execute_result"
    }
   ],
   "source": [
    "# Total number of nodes\n",
    "metanode_df.nodes.sum()"
   ]
  },
  {
   "cell_type": "code",
   "execution_count": 25,
   "metadata": {},
   "outputs": [
    {
     "data": {
      "text/html": [
       "<div>\n",
       "<style scoped>\n",
       "    .dataframe tbody tr th:only-of-type {\n",
       "        vertical-align: middle;\n",
       "    }\n",
       "\n",
       "    .dataframe tbody tr th {\n",
       "        vertical-align: top;\n",
       "    }\n",
       "\n",
       "    .dataframe thead th {\n",
       "        text-align: right;\n",
       "    }\n",
       "</style>\n",
       "<table border=\"1\" class=\"dataframe\">\n",
       "  <thead>\n",
       "    <tr style=\"text-align: right;\">\n",
       "      <th></th>\n",
       "      <th>metaedge</th>\n",
       "      <th>abbreviation</th>\n",
       "      <th>edges</th>\n",
       "      <th>source_nodes</th>\n",
       "      <th>target_nodes</th>\n",
       "      <th>unbiased</th>\n",
       "    </tr>\n",
       "  </thead>\n",
       "  <tbody>\n",
       "    <tr>\n",
       "      <th>0</th>\n",
       "      <td>Gene - participates - Cancer-Hallmarks</td>\n",
       "      <td>GpH</td>\n",
       "      <td>7255</td>\n",
       "      <td>4331</td>\n",
       "      <td>50</td>\n",
       "      <td>0</td>\n",
       "    </tr>\n",
       "    <tr>\n",
       "      <th>1</th>\n",
       "      <td>Gene - participates - Computational-Gene-Sets</td>\n",
       "      <td>GpC4</td>\n",
       "      <td>88629</td>\n",
       "      <td>9615</td>\n",
       "      <td>858</td>\n",
       "      <td>0</td>\n",
       "    </tr>\n",
       "    <tr>\n",
       "      <th>2</th>\n",
       "      <td>Gene - participates - Curated-Gene-Sets</td>\n",
       "      <td>GpC2</td>\n",
       "      <td>389273</td>\n",
       "      <td>17506</td>\n",
       "      <td>4709</td>\n",
       "      <td>0</td>\n",
       "    </tr>\n",
       "    <tr>\n",
       "      <th>3</th>\n",
       "      <td>Gene - participates - GO-Gene-Sets</td>\n",
       "      <td>GpC5</td>\n",
       "      <td>510549</td>\n",
       "      <td>15526</td>\n",
       "      <td>5799</td>\n",
       "      <td>0</td>\n",
       "    </tr>\n",
       "    <tr>\n",
       "      <th>4</th>\n",
       "      <td>Gene - participates - Immunologic-Gene-Sets</td>\n",
       "      <td>GpC7</td>\n",
       "      <td>896263</td>\n",
       "      <td>17291</td>\n",
       "      <td>4872</td>\n",
       "      <td>0</td>\n",
       "    </tr>\n",
       "    <tr>\n",
       "      <th>5</th>\n",
       "      <td>Gene - participates - Motif-Gene-Sets</td>\n",
       "      <td>GpC3</td>\n",
       "      <td>163394</td>\n",
       "      <td>12833</td>\n",
       "      <td>819</td>\n",
       "      <td>0</td>\n",
       "    </tr>\n",
       "    <tr>\n",
       "      <th>6</th>\n",
       "      <td>Gene - participates - Oncogenic-Gene-Sets</td>\n",
       "      <td>GpC6</td>\n",
       "      <td>29471</td>\n",
       "      <td>10352</td>\n",
       "      <td>189</td>\n",
       "      <td>0</td>\n",
       "    </tr>\n",
       "    <tr>\n",
       "      <th>7</th>\n",
       "      <td>Gene - participates - Positional-Gene-Sets</td>\n",
       "      <td>GpC1</td>\n",
       "      <td>17809</td>\n",
       "      <td>17630</td>\n",
       "      <td>326</td>\n",
       "      <td>0</td>\n",
       "    </tr>\n",
       "  </tbody>\n",
       "</table>\n",
       "</div>"
      ],
      "text/plain": [
       "                                        metaedge abbreviation   edges  \\\n",
       "0         Gene - participates - Cancer-Hallmarks          GpH    7255   \n",
       "1  Gene - participates - Computational-Gene-Sets         GpC4   88629   \n",
       "2        Gene - participates - Curated-Gene-Sets         GpC2  389273   \n",
       "3             Gene - participates - GO-Gene-Sets         GpC5  510549   \n",
       "4    Gene - participates - Immunologic-Gene-Sets         GpC7  896263   \n",
       "5          Gene - participates - Motif-Gene-Sets         GpC3  163394   \n",
       "6      Gene - participates - Oncogenic-Gene-Sets         GpC6   29471   \n",
       "7     Gene - participates - Positional-Gene-Sets         GpC1   17809   \n",
       "\n",
       "   source_nodes  target_nodes  unbiased  \n",
       "0          4331            50         0  \n",
       "1          9615           858         0  \n",
       "2         17506          4709         0  \n",
       "3         15526          5799         0  \n",
       "4         17291          4872         0  \n",
       "5         12833           819         0  \n",
       "6         10352           189         0  \n",
       "7         17630           326         0  "
      ]
     },
     "execution_count": 25,
     "metadata": {},
     "output_type": "execute_result"
    }
   ],
   "source": [
    "# Summary of metaedges and cooresponding edges\n",
    "metaedge_df = hetio.stats.get_metaedge_df(graph)\n",
    "\n",
    "# Calculate number of unbiased edges\n",
    "rows = list()\n",
    "for metaedge, edges in graph.get_metaedge_to_edges(exclude_inverts=True).items():\n",
    "    unbiased = sum(edge.data['unbiased'] for edge in edges)\n",
    "    rows.append({'metaedge': str(metaedge), 'unbiased': unbiased})\n",
    "\n",
    "metaedge_file = os.path.join('results', 'msigdb_metaedges.tsv')\n",
    "metaedge_df = metaedge_df.merge(pd.DataFrame(rows))\n",
    "metaedge_df.to_csv(metaedge_file, sep='\\t', index=False)\n",
    "metaedge_df"
   ]
  },
  {
   "cell_type": "code",
   "execution_count": 26,
   "metadata": {},
   "outputs": [
    {
     "data": {
      "text/html": [
       "<div>\n",
       "<style scoped>\n",
       "    .dataframe tbody tr th:only-of-type {\n",
       "        vertical-align: middle;\n",
       "    }\n",
       "\n",
       "    .dataframe tbody tr th {\n",
       "        vertical-align: top;\n",
       "    }\n",
       "\n",
       "    .dataframe thead th {\n",
       "        text-align: right;\n",
       "    }\n",
       "</style>\n",
       "<table border=\"1\" class=\"dataframe\">\n",
       "  <thead>\n",
       "    <tr style=\"text-align: right;\">\n",
       "      <th></th>\n",
       "      <th>metaedge</th>\n",
       "      <th>unicode_metaedge</th>\n",
       "      <th>standard_metaedge</th>\n",
       "      <th>abbreviation</th>\n",
       "      <th>standard_abbreviation</th>\n",
       "      <th>source</th>\n",
       "      <th>target</th>\n",
       "      <th>inverted</th>\n",
       "    </tr>\n",
       "  </thead>\n",
       "  <tbody>\n",
       "    <tr>\n",
       "      <th>14</th>\n",
       "      <td>Cancer-Hallmarks - participates - Gene</td>\n",
       "      <td>Cancer-Hallmarks–participates–Gene</td>\n",
       "      <td>Gene - participates - Cancer-Hallmarks</td>\n",
       "      <td>HpG</td>\n",
       "      <td>GpH</td>\n",
       "      <td>Cancer-Hallmarks</td>\n",
       "      <td>Gene</td>\n",
       "      <td>1</td>\n",
       "    </tr>\n",
       "    <tr>\n",
       "      <th>15</th>\n",
       "      <td>Computational-Gene-Sets - participates - Gene</td>\n",
       "      <td>Computational-Gene-Sets–participates–Gene</td>\n",
       "      <td>Gene - participates - Computational-Gene-Sets</td>\n",
       "      <td>C4pG</td>\n",
       "      <td>GpC4</td>\n",
       "      <td>Computational-Gene-Sets</td>\n",
       "      <td>Gene</td>\n",
       "      <td>1</td>\n",
       "    </tr>\n",
       "    <tr>\n",
       "      <th>4</th>\n",
       "      <td>Curated-Gene-Sets - participates - Gene</td>\n",
       "      <td>Curated-Gene-Sets–participates–Gene</td>\n",
       "      <td>Gene - participates - Curated-Gene-Sets</td>\n",
       "      <td>C2pG</td>\n",
       "      <td>GpC2</td>\n",
       "      <td>Curated-Gene-Sets</td>\n",
       "      <td>Gene</td>\n",
       "      <td>1</td>\n",
       "    </tr>\n",
       "    <tr>\n",
       "      <th>13</th>\n",
       "      <td>GO-Gene-Sets - participates - Gene</td>\n",
       "      <td>GO-Gene-Sets–participates–Gene</td>\n",
       "      <td>Gene - participates - GO-Gene-Sets</td>\n",
       "      <td>C5pG</td>\n",
       "      <td>GpC5</td>\n",
       "      <td>GO-Gene-Sets</td>\n",
       "      <td>Gene</td>\n",
       "      <td>1</td>\n",
       "    </tr>\n",
       "    <tr>\n",
       "      <th>6</th>\n",
       "      <td>Gene - participates - Cancer-Hallmarks</td>\n",
       "      <td>Gene–participates–Cancer-Hallmarks</td>\n",
       "      <td>Gene - participates - Cancer-Hallmarks</td>\n",
       "      <td>GpH</td>\n",
       "      <td>GpH</td>\n",
       "      <td>Gene</td>\n",
       "      <td>Cancer-Hallmarks</td>\n",
       "      <td>0</td>\n",
       "    </tr>\n",
       "    <tr>\n",
       "      <th>8</th>\n",
       "      <td>Gene - participates - Computational-Gene-Sets</td>\n",
       "      <td>Gene–participates–Computational-Gene-Sets</td>\n",
       "      <td>Gene - participates - Computational-Gene-Sets</td>\n",
       "      <td>GpC4</td>\n",
       "      <td>GpC4</td>\n",
       "      <td>Gene</td>\n",
       "      <td>Computational-Gene-Sets</td>\n",
       "      <td>0</td>\n",
       "    </tr>\n",
       "    <tr>\n",
       "      <th>10</th>\n",
       "      <td>Gene - participates - Curated-Gene-Sets</td>\n",
       "      <td>Gene–participates–Curated-Gene-Sets</td>\n",
       "      <td>Gene - participates - Curated-Gene-Sets</td>\n",
       "      <td>GpC2</td>\n",
       "      <td>GpC2</td>\n",
       "      <td>Gene</td>\n",
       "      <td>Curated-Gene-Sets</td>\n",
       "      <td>0</td>\n",
       "    </tr>\n",
       "    <tr>\n",
       "      <th>0</th>\n",
       "      <td>Gene - participates - GO-Gene-Sets</td>\n",
       "      <td>Gene–participates–GO-Gene-Sets</td>\n",
       "      <td>Gene - participates - GO-Gene-Sets</td>\n",
       "      <td>GpC5</td>\n",
       "      <td>GpC5</td>\n",
       "      <td>Gene</td>\n",
       "      <td>GO-Gene-Sets</td>\n",
       "      <td>0</td>\n",
       "    </tr>\n",
       "    <tr>\n",
       "      <th>7</th>\n",
       "      <td>Gene - participates - Immunologic-Gene-Sets</td>\n",
       "      <td>Gene–participates–Immunologic-Gene-Sets</td>\n",
       "      <td>Gene - participates - Immunologic-Gene-Sets</td>\n",
       "      <td>GpC7</td>\n",
       "      <td>GpC7</td>\n",
       "      <td>Gene</td>\n",
       "      <td>Immunologic-Gene-Sets</td>\n",
       "      <td>0</td>\n",
       "    </tr>\n",
       "    <tr>\n",
       "      <th>5</th>\n",
       "      <td>Gene - participates - Motif-Gene-Sets</td>\n",
       "      <td>Gene–participates–Motif-Gene-Sets</td>\n",
       "      <td>Gene - participates - Motif-Gene-Sets</td>\n",
       "      <td>GpC3</td>\n",
       "      <td>GpC3</td>\n",
       "      <td>Gene</td>\n",
       "      <td>Motif-Gene-Sets</td>\n",
       "      <td>0</td>\n",
       "    </tr>\n",
       "    <tr>\n",
       "      <th>2</th>\n",
       "      <td>Gene - participates - Oncogenic-Gene-Sets</td>\n",
       "      <td>Gene–participates–Oncogenic-Gene-Sets</td>\n",
       "      <td>Gene - participates - Oncogenic-Gene-Sets</td>\n",
       "      <td>GpC6</td>\n",
       "      <td>GpC6</td>\n",
       "      <td>Gene</td>\n",
       "      <td>Oncogenic-Gene-Sets</td>\n",
       "      <td>0</td>\n",
       "    </tr>\n",
       "    <tr>\n",
       "      <th>9</th>\n",
       "      <td>Gene - participates - Positional-Gene-Sets</td>\n",
       "      <td>Gene–participates–Positional-Gene-Sets</td>\n",
       "      <td>Gene - participates - Positional-Gene-Sets</td>\n",
       "      <td>GpC1</td>\n",
       "      <td>GpC1</td>\n",
       "      <td>Gene</td>\n",
       "      <td>Positional-Gene-Sets</td>\n",
       "      <td>0</td>\n",
       "    </tr>\n",
       "    <tr>\n",
       "      <th>1</th>\n",
       "      <td>Immunologic-Gene-Sets - participates - Gene</td>\n",
       "      <td>Immunologic-Gene-Sets–participates–Gene</td>\n",
       "      <td>Gene - participates - Immunologic-Gene-Sets</td>\n",
       "      <td>C7pG</td>\n",
       "      <td>GpC7</td>\n",
       "      <td>Immunologic-Gene-Sets</td>\n",
       "      <td>Gene</td>\n",
       "      <td>1</td>\n",
       "    </tr>\n",
       "    <tr>\n",
       "      <th>11</th>\n",
       "      <td>Motif-Gene-Sets - participates - Gene</td>\n",
       "      <td>Motif-Gene-Sets–participates–Gene</td>\n",
       "      <td>Gene - participates - Motif-Gene-Sets</td>\n",
       "      <td>C3pG</td>\n",
       "      <td>GpC3</td>\n",
       "      <td>Motif-Gene-Sets</td>\n",
       "      <td>Gene</td>\n",
       "      <td>1</td>\n",
       "    </tr>\n",
       "    <tr>\n",
       "      <th>3</th>\n",
       "      <td>Oncogenic-Gene-Sets - participates - Gene</td>\n",
       "      <td>Oncogenic-Gene-Sets–participates–Gene</td>\n",
       "      <td>Gene - participates - Oncogenic-Gene-Sets</td>\n",
       "      <td>C6pG</td>\n",
       "      <td>GpC6</td>\n",
       "      <td>Oncogenic-Gene-Sets</td>\n",
       "      <td>Gene</td>\n",
       "      <td>1</td>\n",
       "    </tr>\n",
       "    <tr>\n",
       "      <th>12</th>\n",
       "      <td>Positional-Gene-Sets - participates - Gene</td>\n",
       "      <td>Positional-Gene-Sets–participates–Gene</td>\n",
       "      <td>Gene - participates - Positional-Gene-Sets</td>\n",
       "      <td>C1pG</td>\n",
       "      <td>GpC1</td>\n",
       "      <td>Positional-Gene-Sets</td>\n",
       "      <td>Gene</td>\n",
       "      <td>1</td>\n",
       "    </tr>\n",
       "  </tbody>\n",
       "</table>\n",
       "</div>"
      ],
      "text/plain": [
       "                                         metaedge  \\\n",
       "14         Cancer-Hallmarks - participates - Gene   \n",
       "15  Computational-Gene-Sets - participates - Gene   \n",
       "4         Curated-Gene-Sets - participates - Gene   \n",
       "13             GO-Gene-Sets - participates - Gene   \n",
       "6          Gene - participates - Cancer-Hallmarks   \n",
       "8   Gene - participates - Computational-Gene-Sets   \n",
       "10        Gene - participates - Curated-Gene-Sets   \n",
       "0              Gene - participates - GO-Gene-Sets   \n",
       "7     Gene - participates - Immunologic-Gene-Sets   \n",
       "5           Gene - participates - Motif-Gene-Sets   \n",
       "2       Gene - participates - Oncogenic-Gene-Sets   \n",
       "9      Gene - participates - Positional-Gene-Sets   \n",
       "1     Immunologic-Gene-Sets - participates - Gene   \n",
       "11          Motif-Gene-Sets - participates - Gene   \n",
       "3       Oncogenic-Gene-Sets - participates - Gene   \n",
       "12     Positional-Gene-Sets - participates - Gene   \n",
       "\n",
       "                             unicode_metaedge  \\\n",
       "14         Cancer-Hallmarks–participates–Gene   \n",
       "15  Computational-Gene-Sets–participates–Gene   \n",
       "4         Curated-Gene-Sets–participates–Gene   \n",
       "13             GO-Gene-Sets–participates–Gene   \n",
       "6          Gene–participates–Cancer-Hallmarks   \n",
       "8   Gene–participates–Computational-Gene-Sets   \n",
       "10        Gene–participates–Curated-Gene-Sets   \n",
       "0              Gene–participates–GO-Gene-Sets   \n",
       "7     Gene–participates–Immunologic-Gene-Sets   \n",
       "5           Gene–participates–Motif-Gene-Sets   \n",
       "2       Gene–participates–Oncogenic-Gene-Sets   \n",
       "9      Gene–participates–Positional-Gene-Sets   \n",
       "1     Immunologic-Gene-Sets–participates–Gene   \n",
       "11          Motif-Gene-Sets–participates–Gene   \n",
       "3       Oncogenic-Gene-Sets–participates–Gene   \n",
       "12     Positional-Gene-Sets–participates–Gene   \n",
       "\n",
       "                                standard_metaedge abbreviation  \\\n",
       "14         Gene - participates - Cancer-Hallmarks          HpG   \n",
       "15  Gene - participates - Computational-Gene-Sets         C4pG   \n",
       "4         Gene - participates - Curated-Gene-Sets         C2pG   \n",
       "13             Gene - participates - GO-Gene-Sets         C5pG   \n",
       "6          Gene - participates - Cancer-Hallmarks          GpH   \n",
       "8   Gene - participates - Computational-Gene-Sets         GpC4   \n",
       "10        Gene - participates - Curated-Gene-Sets         GpC2   \n",
       "0              Gene - participates - GO-Gene-Sets         GpC5   \n",
       "7     Gene - participates - Immunologic-Gene-Sets         GpC7   \n",
       "5           Gene - participates - Motif-Gene-Sets         GpC3   \n",
       "2       Gene - participates - Oncogenic-Gene-Sets         GpC6   \n",
       "9      Gene - participates - Positional-Gene-Sets         GpC1   \n",
       "1     Gene - participates - Immunologic-Gene-Sets         C7pG   \n",
       "11          Gene - participates - Motif-Gene-Sets         C3pG   \n",
       "3       Gene - participates - Oncogenic-Gene-Sets         C6pG   \n",
       "12     Gene - participates - Positional-Gene-Sets         C1pG   \n",
       "\n",
       "   standard_abbreviation                   source                   target  \\\n",
       "14                   GpH         Cancer-Hallmarks                     Gene   \n",
       "15                  GpC4  Computational-Gene-Sets                     Gene   \n",
       "4                   GpC2        Curated-Gene-Sets                     Gene   \n",
       "13                  GpC5             GO-Gene-Sets                     Gene   \n",
       "6                    GpH                     Gene         Cancer-Hallmarks   \n",
       "8                   GpC4                     Gene  Computational-Gene-Sets   \n",
       "10                  GpC2                     Gene        Curated-Gene-Sets   \n",
       "0                   GpC5                     Gene             GO-Gene-Sets   \n",
       "7                   GpC7                     Gene    Immunologic-Gene-Sets   \n",
       "5                   GpC3                     Gene          Motif-Gene-Sets   \n",
       "2                   GpC6                     Gene      Oncogenic-Gene-Sets   \n",
       "9                   GpC1                     Gene     Positional-Gene-Sets   \n",
       "1                   GpC7    Immunologic-Gene-Sets                     Gene   \n",
       "11                  GpC3          Motif-Gene-Sets                     Gene   \n",
       "3                   GpC6      Oncogenic-Gene-Sets                     Gene   \n",
       "12                  GpC1     Positional-Gene-Sets                     Gene   \n",
       "\n",
       "    inverted  \n",
       "14         1  \n",
       "15         1  \n",
       "4          1  \n",
       "13         1  \n",
       "6          0  \n",
       "8          0  \n",
       "10         0  \n",
       "0          0  \n",
       "7          0  \n",
       "5          0  \n",
       "2          0  \n",
       "9          0  \n",
       "1          1  \n",
       "11         1  \n",
       "3          1  \n",
       "12         1  "
      ]
     },
     "execution_count": 26,
     "metadata": {},
     "output_type": "execute_result"
    }
   ],
   "source": [
    "# Summary of different styles for representing each metaedge\n",
    "metaedge_style_file = os.path.join('results', 'msigdb_metaedge_styles.tsv')\n",
    "metaedge_style_df = hetio.stats.get_metaedge_style_df(metagraph)\n",
    "metaedge_style_df.to_csv(metaedge_style_file, sep='\\t', index=False)\n",
    "metaedge_style_df"
   ]
  },
  {
   "cell_type": "code",
   "execution_count": 27,
   "metadata": {
    "scrolled": true
   },
   "outputs": [
    {
     "data": {
      "text/plain": [
       "2102643"
      ]
     },
     "execution_count": 27,
     "metadata": {},
     "output_type": "execute_result"
    }
   ],
   "source": [
    "# Number of edges in the network\n",
    "metaedge_df.edges.sum()"
   ]
  },
  {
   "cell_type": "code",
   "execution_count": 28,
   "metadata": {},
   "outputs": [
    {
     "data": {
      "text/plain": [
       "{'Cancer-Hallmarks': 0,\n",
       " 'Computational-Gene-Sets': 0,\n",
       " 'Curated-Gene-Sets': 29,\n",
       " 'GO-Gene-Sets': 118,\n",
       " 'Immunologic-Gene-Sets': 0,\n",
       " 'Motif-Gene-Sets': 17,\n",
       " 'Oncogenic-Gene-Sets': 0,\n",
       " 'Positional-Gene-Sets': 0}"
      ]
     },
     "execution_count": 28,
     "metadata": {},
     "output_type": "execute_result"
    }
   ],
   "source": [
    "# How many genesets were filtered?\n",
    "{'Cancer-Hallmarks': len(hallmark_filtered),\n",
    " 'Positional-Gene-Sets': len(positional_filtered),\n",
    " 'Curated-Gene-Sets': len(curated_filtered),\n",
    " 'Motif-Gene-Sets': len(motif_filtered),\n",
    " 'Computational-Gene-Sets': len(computational_filtered),\n",
    " 'GO-Gene-Sets': len(go_filtered),\n",
    " 'Oncogenic-Gene-Sets': len(oncogenic_filtered),\n",
    " 'Immunologic-Gene-Sets': len(immunologic_filtered)}"
   ]
  },
  {
   "cell_type": "markdown",
   "metadata": {
    "collapsed": true
   },
   "source": [
    "## Save graph"
   ]
  },
  {
   "cell_type": "code",
   "execution_count": 29,
   "metadata": {},
   "outputs": [
    {
     "name": "stdout",
     "output_type": "stream",
     "text": [
      "CPU times: user 38 s, sys: 44 ms, total: 38 s\n",
      "Wall time: 38.3 s\n"
     ]
    }
   ],
   "source": [
    "%%time\n",
    "# Write nodes to a table\n",
    "nodes_file = os.path.join('hetnets', 'msigdb_nodes.tsv')\n",
    "hetio.readwrite.write_nodetable(graph, nodes_file)\n",
    "\n",
    "# Write edges to a table\n",
    "edges_file = os.path.join('hetnets', 'msigdb_edges.sif.gz')\n",
    "hetio.readwrite.write_sif(graph, edges_file)"
   ]
  },
  {
   "cell_type": "code",
   "execution_count": 30,
   "metadata": {},
   "outputs": [
    {
     "name": "stdout",
     "output_type": "stream",
     "text": [
      "CPU times: user 6.96 s, sys: 36 ms, total: 6.99 s\n",
      "Wall time: 7.17 s\n"
     ]
    }
   ],
   "source": [
    "%%time\n",
    "# Write a subset of edges to a table\n",
    "edges_file = os.path.join('hetnets', 'msigdb_edges-10.sif.gz')\n",
    "hetio.readwrite.write_sif(graph, edges_file, max_edges=10)\n",
    "\n",
    "edges_file = os.path.join('hetnets', 'msigdb_edges-5k.sif.gz')\n",
    "hetio.readwrite.write_sif(graph, edges_file, max_edges=5000)"
   ]
  },
  {
   "cell_type": "code",
   "execution_count": 31,
   "metadata": {},
   "outputs": [
    {
     "name": "stdout",
     "output_type": "stream",
     "text": [
      "CPU times: user 0 ns, sys: 0 ns, total: 0 ns\n",
      "Wall time: 1.12 ms\n"
     ]
    }
   ],
   "source": [
    "%%time\n",
    "# Write metagraph as json\n",
    "metagraph_file = os.path.join('hetnets', 'msigdb_metagraph.json')\n",
    "hetio.readwrite.write_metagraph(metagraph, metagraph_file)"
   ]
  },
  {
   "cell_type": "code",
   "execution_count": 32,
   "metadata": {},
   "outputs": [
    {
     "name": "stdout",
     "output_type": "stream",
     "text": [
      "CPU times: user 4min 55s, sys: 648 ms, total: 4min 56s\n",
      "Wall time: 5min\n"
     ]
    }
   ],
   "source": [
    "%%time\n",
    "# Write graph as json\n",
    "hetnet_json_path = os.path.join('hetnets', 'msigdb_hetnet.json.bz2')\n",
    "hetio.readwrite.write_graph(graph, hetnet_json_path)"
   ]
  },
  {
   "cell_type": "code",
   "execution_count": 33,
   "metadata": {},
   "outputs": [
    {
     "name": "stdout",
     "output_type": "stream",
     "text": [
      "3dd0ee53107d7db100e07030bdb090500768e6021f2f0a73891fb4842b5f0f69  hetnets/msigdb_hetnet.json.bz2\r\n"
     ]
    }
   ],
   "source": [
    "! sha256sum 'hetnets/msigdb_hetnet.json.bz2'"
   ]
  },
  {
   "cell_type": "markdown",
   "metadata": {},
   "source": [
    "## Visualize hetnet node and edge counts"
   ]
  },
  {
   "cell_type": "code",
   "execution_count": 34,
   "metadata": {},
   "outputs": [
    {
     "data": {
      "image/png": "[encoded data removed]",
      "text/plain": [
       "<matplotlib.figure.Figure at 0x7f2f4f1e5ac8>"
      ]
     },
     "metadata": {},
     "output_type": "display_data"
    }
   ],
   "source": [
    "ax = sns.barplot(x='metanode', y='nodes', data=metanode_df.sort_values('nodes'))\n",
    "for tick in ax.get_xticklabels():\n",
    "    tick.set_rotation(90)\n",
    "ax.set_xlabel(''); ax.set_ylabel('nodes');"
   ]
  },
  {
   "cell_type": "code",
   "execution_count": 35,
   "metadata": {
    "scrolled": false
   },
   "outputs": [
    {
     "data": {
      "image/png": "[encoded data removed]",
      "text/plain": [
       "<matplotlib.figure.Figure at 0x7f2f45ef95f8>"
      ]
     },
     "metadata": {},
     "output_type": "display_data"
    }
   ],
   "source": [
    "ax = sns.barplot(x='metaedge', y='edges', data=metaedge_df.sort_values('edges'))\n",
    "for tick in ax.get_xticklabels():\n",
    "    tick.set_rotation(90)\n",
    "ax.set_xlabel(''); ax.set_ylabel('edges');"
   ]
  }
 ],
 "metadata": {
  "kernelspec": {
   "display_name": "Python [conda root]",
   "language": "python",
   "name": "conda-root-py"
  },
  "language_info": {
   "codemirror_mode": {
    "name": "ipython",
    "version": 3
   },
   "file_extension": ".py",
   "mimetype": "text/x-python",
   "name": "python",
   "nbconvert_exporter": "python",
   "pygments_lexer": "ipython3",
   "version": "3.5.5"
  }
 },
 "nbformat": 4,
 "nbformat_minor": 1
}
