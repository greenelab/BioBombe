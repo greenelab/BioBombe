{
 "cells": [
  {
   "cell_type": "markdown",
   "metadata": {},
   "source": [
    "# Download GTEx Phenotype Data\n",
    "\n",
    "**Gregory Way, 2019**"
   ]
  },
  {
   "cell_type": "code",
   "execution_count": 1,
   "metadata": {},
   "outputs": [],
   "source": [
    "import os\n",
    "from urllib.request import urlretrieve"
   ]
  },
  {
   "cell_type": "code",
   "execution_count": 2,
   "metadata": {},
   "outputs": [],
   "source": [
    "name = \"GTEx_v7_Annotations_SubjectPhenotypesDS.txt\"\n",
    "url = \"https://storage.googleapis.com/gtex_analysis_v7/annotations/{}\".format(name)\n",
    "path = os.path.join('download', name)"
   ]
  },
  {
   "cell_type": "code",
   "execution_count": 3,
   "metadata": {},
   "outputs": [
    {
     "data": {
      "text/plain": [
       "('download/GTEx_v7_Annotations_SubjectPhenotypesDS.txt',\n",
       " <http.client.HTTPMessage at 0x7fd3b4304860>)"
      ]
     },
     "execution_count": 3,
     "metadata": {},
     "output_type": "execute_result"
    }
   ],
   "source": [
    "urlretrieve(url, path)"
   ]
  },
  {
   "cell_type": "code",
   "execution_count": 4,
   "metadata": {},
   "outputs": [
    {
     "name": "stdout",
     "output_type": "stream",
     "text": [
      "73d9180f604c17e6c211ca1694dc9ff7  ../0.expression-download/download/GTEx_v7_Annotations_SubjectPhenotypesDS.txt\r\n"
     ]
    }
   ],
   "source": [
    "! md5sum ../0.expression-download/download/GTEx_v7_Annotations_SubjectPhenotypesDS.txt"
   ]
  },
  {
   "cell_type": "code",
   "execution_count": 5,
   "metadata": {},
   "outputs": [],
   "source": [
    "name = \"GTEx_v7_Annotations_SampleAttributesDS.txt\"\n",
    "url = \"https://storage.googleapis.com/gtex_analysis_v7/annotations/{}\".format(name)\n",
    "path = os.path.join('download', name)"
   ]
  },
  {
   "cell_type": "code",
   "execution_count": 6,
   "metadata": {},
   "outputs": [
    {
     "data": {
      "text/plain": [
       "('download/GTEx_v7_Annotations_SampleAttributesDS.txt',\n",
       " <http.client.HTTPMessage at 0x7fd3b4272128>)"
      ]
     },
     "execution_count": 6,
     "metadata": {},
     "output_type": "execute_result"
    }
   ],
   "source": [
    "urlretrieve(url, path)"
   ]
  },
  {
   "cell_type": "code",
   "execution_count": 7,
   "metadata": {},
   "outputs": [
    {
     "name": "stdout",
     "output_type": "stream",
     "text": [
      "80f2b89d45843abb0a0dc39d5054530c  ../0.expression-download/download/GTEx_v7_Annotations_SampleAttributesDS.txt\r\n"
     ]
    }
   ],
   "source": [
    "! md5sum ../0.expression-download/download/GTEx_v7_Annotations_SampleAttributesDS.txt"
   ]
  }
 ],
 "metadata": {
  "kernelspec": {
   "display_name": "Python [conda env:biobombe]",
   "language": "python",
   "name": "conda-env-biobombe-py"
  },
  "language_info": {
   "codemirror_mode": {
    "name": "ipython",
    "version": 3
   },
   "file_extension": ".py",
   "mimetype": "text/x-python",
   "name": "python",
   "nbconvert_exporter": "python",
   "pygments_lexer": "ipython3",
   "version": "3.6.7"
  }
 },
 "nbformat": 4,
 "nbformat_minor": 2
}
