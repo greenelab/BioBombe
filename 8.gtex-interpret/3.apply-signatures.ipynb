{
 "cells": [
  {
   "cell_type": "markdown",
   "metadata": {},
   "source": [
    "# Application of Compressed Gene Expression Signatures\n",
    "\n",
    "**Gregory Way, 2018**\n",
    "\n",
    "We previously identified a specific VAE feature (z = 3) that captured blood signatures.\n",
    "These signatures were not captured in VAE z = 2, and, when present, contributed to a rapid increase in the ability to capture the signal in GTEX blood tissues.\n",
    "\n",
    "The primary differences between the two VAE models appeared to be related to neutrophil and monocyte signatures. Here, we test the ability of these signatures to generalize to external datasets.\n",
    "\n",
    "\n",
    "## Part 1:\n",
    "\n",
    "### Enrichment of Neutrophil Signatures\n",
    "\n",
    "Here, we apply the VAE feature enriched for neutrophil genes to a publicly available dataset capturing neutrophil differentiation in two leukemia cell lines.\n",
    "\n",
    "![cell_type_Neutrophils_HPCA_2.png](https://github.com/greenelab/BioBombe/raw/master/6.analyze-weights/figures/GTEX/signal/GpXCELL/gene_set_Neutrophils_HPCA_2.png)\n",
    "\n",
    "## Part 2:\n",
    "\n",
    "### Enrichment of Monocyte Signatures\n",
    "\n",
    "Here, we apply the VAE features enriched for monocyte genes to a different publicly available dataset that captures various cell-types undergoing hematopoiesis.\n",
    "\n",
    "![cell_type_Monocytes_FANTOM_2.png](https://github.com/greenelab/BioBombe/raw/master/6.analyze-weights/figures/GTEX/signal/GpXCELL/gene_set_Monocytes_FANTOM_2.png)\n",
    "\n",
    "## Output\n",
    "\n",
    "In both cases, various scores are output that will be visualized in a separate notebook."
   ]
  },
  {
   "cell_type": "code",
   "execution_count": 1,
   "metadata": {},
   "outputs": [],
   "source": [
    "import os\n",
    "import sys\n",
    "import numpy as np\n",
    "import pandas as pd\n",
    "import matplotlib.pyplot as plt\n",
    "import seaborn as sns\n",
    "\n",
    "import hetio.readwrite\n",
    "import hetmech.matrix\n",
    "\n",
    "from scripts.utils import load_weight_matrix, apply_signature, load_enrichment_results\n",
    "\n",
    "sys.path.append('../scripts')\n",
    "from latent import parse_gmt"
   ]
  },
  {
   "cell_type": "code",
   "execution_count": 2,
   "metadata": {},
   "outputs": [],
   "source": [
    "%matplotlib inline"
   ]
  },
  {
   "cell_type": "code",
   "execution_count": 3,
   "metadata": {},
   "outputs": [],
   "source": [
    "np.random.seed(123)"
   ]
  },
  {
   "cell_type": "code",
   "execution_count": 4,
   "metadata": {},
   "outputs": [
    {
     "data": {
      "text/plain": [
       "489"
      ]
     },
     "execution_count": 4,
     "metadata": {},
     "output_type": "execute_result"
    }
   ],
   "source": [
    "# First, load the XCELL dataset and extract genes\n",
    "geneset_file = os.path.join('..', '3.build-hetnets', 'data', 'xcell_all_entrez.gmt')\n",
    "\n",
    "xcell_genesets_gmt = parse_gmt(gene_sets=[geneset_file])\n",
    "len(xcell_genesets_gmt)"
   ]
  },
  {
   "cell_type": "markdown",
   "metadata": {},
   "source": [
    "## 1.0. Load and Process External Neutrophil Dataset"
   ]
  },
  {
   "cell_type": "code",
   "execution_count": 5,
   "metadata": {},
   "outputs": [
    {
     "name": "stdout",
     "output_type": "stream",
     "text": [
      "(14, 18606)\n"
     ]
    },
    {
     "data": {
      "text/html": [
       "<div>\n",
       "<style scoped>\n",
       "    .dataframe tbody tr th:only-of-type {\n",
       "        vertical-align: middle;\n",
       "    }\n",
       "\n",
       "    .dataframe tbody tr th {\n",
       "        vertical-align: top;\n",
       "    }\n",
       "\n",
       "    .dataframe thead th {\n",
       "        text-align: right;\n",
       "    }\n",
       "</style>\n",
       "<table border=\"1\" class=\"dataframe\">\n",
       "  <thead>\n",
       "    <tr style=\"text-align: right;\">\n",
       "      <th></th>\n",
       "      <th>1</th>\n",
       "      <th>2</th>\n",
       "      <th>9</th>\n",
       "      <th>12</th>\n",
       "      <th>13</th>\n",
       "      <th>14</th>\n",
       "      <th>15</th>\n",
       "      <th>16</th>\n",
       "      <th>18</th>\n",
       "      <th>19</th>\n",
       "      <th>...</th>\n",
       "      <th>105371242</th>\n",
       "      <th>105373377</th>\n",
       "      <th>105375205</th>\n",
       "      <th>105377595</th>\n",
       "      <th>105379554</th>\n",
       "      <th>106821730</th>\n",
       "      <th>107282092</th>\n",
       "      <th>107984155</th>\n",
       "      <th>107984923</th>\n",
       "      <th>107987479</th>\n",
       "    </tr>\n",
       "  </thead>\n",
       "  <tbody>\n",
       "    <tr>\n",
       "      <th>HL-60, DMSO+Nutridoma, day 6, replicate 1</th>\n",
       "      <td>0.928066</td>\n",
       "      <td>1.000000</td>\n",
       "      <td>0.131285</td>\n",
       "      <td>0.0</td>\n",
       "      <td>0.0</td>\n",
       "      <td>0.258895</td>\n",
       "      <td>0.0</td>\n",
       "      <td>0.097450</td>\n",
       "      <td>0.899518</td>\n",
       "      <td>1.000000</td>\n",
       "      <td>...</td>\n",
       "      <td>0.0</td>\n",
       "      <td>0.0</td>\n",
       "      <td>0.456063</td>\n",
       "      <td>0.0</td>\n",
       "      <td>0.230915</td>\n",
       "      <td>0.000000e+00</td>\n",
       "      <td>0.161967</td>\n",
       "      <td>0.0</td>\n",
       "      <td>0.233555</td>\n",
       "      <td>0.280561</td>\n",
       "    </tr>\n",
       "    <tr>\n",
       "      <th>HL-60, DMSO+Nutridoma, day 6, replicate 2</th>\n",
       "      <td>0.520178</td>\n",
       "      <td>0.782566</td>\n",
       "      <td>0.217753</td>\n",
       "      <td>0.0</td>\n",
       "      <td>0.0</td>\n",
       "      <td>0.000000</td>\n",
       "      <td>1.0</td>\n",
       "      <td>0.016712</td>\n",
       "      <td>0.321479</td>\n",
       "      <td>0.622087</td>\n",
       "      <td>...</td>\n",
       "      <td>0.0</td>\n",
       "      <td>0.0</td>\n",
       "      <td>0.263193</td>\n",
       "      <td>0.0</td>\n",
       "      <td>0.000015</td>\n",
       "      <td>5.445048e-210</td>\n",
       "      <td>0.231850</td>\n",
       "      <td>0.0</td>\n",
       "      <td>0.266596</td>\n",
       "      <td>0.163936</td>\n",
       "    </tr>\n",
       "  </tbody>\n",
       "</table>\n",
       "<p>2 rows × 18606 columns</p>\n",
       "</div>"
      ],
      "text/plain": [
       "                                                  1         2         9   12  \\\n",
       "HL-60, DMSO+Nutridoma, day 6, replicate 1  0.928066  1.000000  0.131285  0.0   \n",
       "HL-60, DMSO+Nutridoma, day 6, replicate 2  0.520178  0.782566  0.217753  0.0   \n",
       "\n",
       "                                            13        14   15        16  \\\n",
       "HL-60, DMSO+Nutridoma, day 6, replicate 1  0.0  0.258895  0.0  0.097450   \n",
       "HL-60, DMSO+Nutridoma, day 6, replicate 2  0.0  0.000000  1.0  0.016712   \n",
       "\n",
       "                                                 18        19    ...      \\\n",
       "HL-60, DMSO+Nutridoma, day 6, replicate 1  0.899518  1.000000    ...       \n",
       "HL-60, DMSO+Nutridoma, day 6, replicate 2  0.321479  0.622087    ...       \n",
       "\n",
       "                                           105371242  105373377  105375205  \\\n",
       "HL-60, DMSO+Nutridoma, day 6, replicate 1        0.0        0.0   0.456063   \n",
       "HL-60, DMSO+Nutridoma, day 6, replicate 2        0.0        0.0   0.263193   \n",
       "\n",
       "                                           105377595  105379554  \\\n",
       "HL-60, DMSO+Nutridoma, day 6, replicate 1        0.0   0.230915   \n",
       "HL-60, DMSO+Nutridoma, day 6, replicate 2        0.0   0.000015   \n",
       "\n",
       "                                               106821730  107282092  \\\n",
       "HL-60, DMSO+Nutridoma, day 6, replicate 1   0.000000e+00   0.161967   \n",
       "HL-60, DMSO+Nutridoma, day 6, replicate 2  5.445048e-210   0.231850   \n",
       "\n",
       "                                           107984155  107984923  107987479  \n",
       "HL-60, DMSO+Nutridoma, day 6, replicate 1        0.0   0.233555   0.280561  \n",
       "HL-60, DMSO+Nutridoma, day 6, replicate 2        0.0   0.266596   0.163936  \n",
       "\n",
       "[2 rows x 18606 columns]"
      ]
     },
     "execution_count": 5,
     "metadata": {},
     "output_type": "execute_result"
    }
   ],
   "source": [
    "file = os.path.join('data', 'GSE103706_processed_matrix.tsv.gz')\n",
    "geo_scaled_zeroone_df = pd.read_table(file, index_col=0)\n",
    "\n",
    "print(geo_scaled_zeroone_df.shape)\n",
    "geo_scaled_zeroone_df.head(2)"
   ]
  },
  {
   "cell_type": "markdown",
   "metadata": {},
   "source": [
    "## 1.1. Apply Signature from VAE z = 3 (feature 0)\n",
    "\n",
    "We are using feature 0 from VAE z = 3 because we previously observed an enrichment of a Neutrophil signature in this specific feature."
   ]
  },
  {
   "cell_type": "code",
   "execution_count": 6,
   "metadata": {},
   "outputs": [],
   "source": [
    "vae_z3_seed = 908341\n",
    "vae_z3_feature = 'vae_0'"
   ]
  },
  {
   "cell_type": "code",
   "execution_count": 7,
   "metadata": {},
   "outputs": [
    {
     "name": "stdout",
     "output_type": "stream",
     "text": [
      "7664 (95.8%) of genes are used\n"
     ]
    }
   ],
   "source": [
    "weight_z3_df = load_weight_matrix(dataset='GTEX',\n",
    "                                  z_dim=3,\n",
    "                                  seed=vae_z3_seed)\n",
    "\n",
    "result_vae_3_feat0, neutrophil_missing_genes = (\n",
    "    apply_signature(weight_df=weight_z3_df,\n",
    "                    other_df=geo_scaled_zeroone_df,\n",
    "                    feature=vae_z3_feature,\n",
    "                    align=True)\n",
    ")\n",
    "\n",
    "use_genes = weight_z3_df.shape[0] - len(neutrophil_missing_genes)\n",
    "print('{} ({}%) of genes are used'.format(use_genes, use_genes / weight_z3_df.shape[0] * 100 ))"
   ]
  },
  {
   "cell_type": "code",
   "execution_count": 8,
   "metadata": {},
   "outputs": [
    {
     "data": {
      "text/plain": [
       "['1441', '54210', '53829', '2215', '6283', '3310', '2358', '3579']"
      ]
     },
     "execution_count": 8,
     "metadata": {},
     "output_type": "execute_result"
    }
   ],
   "source": [
    "neutrophil_hpca_genes = xcell_genesets_gmt['Neutrophils_HPCA_2']\n",
    "neutrophil_hpca_genes"
   ]
  },
  {
   "cell_type": "code",
   "execution_count": 9,
   "metadata": {},
   "outputs": [
    {
     "data": {
      "text/plain": [
       "[]"
      ]
     },
     "execution_count": 9,
     "metadata": {},
     "output_type": "execute_result"
    }
   ],
   "source": [
    "# But how many of the missing genes belong to the specific Neutrophil signature\n",
    "neutrophil_hpca_genes_missing = [x for x in neutrophil_hpca_genes if int(x) in neutrophil_missing_genes]\n",
    "neutrophil_hpca_genes_missing"
   ]
  },
  {
   "cell_type": "markdown",
   "metadata": {},
   "source": [
    "## 1.2. Apply Signature from VAE z = 14 (feature 10)\n",
    "\n",
    "We are using VAE z = 14 because, for some reason, this dimension was best able to capture the `Neutrophil_HPCA_2` xCell geneset.\n",
    "This geneset was the same geneset that was enriched in feature 0 for VAE z = 3.\n",
    "\n",
    "We identified feature 10 as the feature with the greatest enrichment by visually scanning the biobombe results in `results/gtex/gpxcell/signal/gtex_z_14_GpXCELL__geneset_scores.tsv`"
   ]
  },
  {
   "cell_type": "code",
   "execution_count": 10,
   "metadata": {},
   "outputs": [
    {
     "data": {
      "text/html": [
       "<div>\n",
       "<style scoped>\n",
       "    .dataframe tbody tr th:only-of-type {\n",
       "        vertical-align: middle;\n",
       "    }\n",
       "\n",
       "    .dataframe tbody tr th {\n",
       "        vertical-align: top;\n",
       "    }\n",
       "\n",
       "    .dataframe thead th {\n",
       "        text-align: right;\n",
       "    }\n",
       "</style>\n",
       "<table border=\"1\" class=\"dataframe\">\n",
       "  <thead>\n",
       "    <tr style=\"text-align: right;\">\n",
       "      <th></th>\n",
       "      <th>model_type</th>\n",
       "      <th>variable</th>\n",
       "      <th>value</th>\n",
       "      <th>z_score</th>\n",
       "      <th>algorithm</th>\n",
       "      <th>feature</th>\n",
       "      <th>z</th>\n",
       "      <th>seed</th>\n",
       "      <th>abs_z_score</th>\n",
       "    </tr>\n",
       "  </thead>\n",
       "  <tbody>\n",
       "    <tr>\n",
       "      <th>15</th>\n",
       "      <td>real</td>\n",
       "      <td>Neutrophils_HPCA_2</td>\n",
       "      <td>-1.22986</td>\n",
       "      <td>-30.0841</td>\n",
       "      <td>vae</td>\n",
       "      <td>10</td>\n",
       "      <td>14</td>\n",
       "      <td>486191</td>\n",
       "      <td>30.0841</td>\n",
       "    </tr>\n",
       "  </tbody>\n",
       "</table>\n",
       "</div>"
      ],
      "text/plain": [
       "   model_type            variable    value  z_score algorithm  feature   z  \\\n",
       "15       real  Neutrophils_HPCA_2 -1.22986 -30.0841       vae       10  14   \n",
       "\n",
       "      seed  abs_z_score  \n",
       "15  486191      30.0841  "
      ]
     },
     "execution_count": 10,
     "metadata": {},
     "output_type": "execute_result"
    }
   ],
   "source": [
    "z_14_df = load_enrichment_results(dataset=\"GTEX\",\n",
    "                                  metaedge=\"GpXCELL\",\n",
    "                                  z_dim=14)\n",
    "\n",
    "z_14_df = (\n",
    "    z_14_df\n",
    "    .query(\"variable == 'Neutrophils_HPCA_2'\")\n",
    "    .assign(abs_z_score=z_14_df.z_score.abs())\n",
    "    .sort_values(by='abs_z_score', ascending=False)\n",
    ")\n",
    "\n",
    "z_14_df.head(1)"
   ]
  },
  {
   "cell_type": "code",
   "execution_count": 11,
   "metadata": {},
   "outputs": [
    {
     "name": "stdout",
     "output_type": "stream",
     "text": [
      "486191\n"
     ]
    },
    {
     "data": {
      "text/plain": [
       "'vae_10'"
      ]
     },
     "execution_count": 11,
     "metadata": {},
     "output_type": "execute_result"
    }
   ],
   "source": [
    "vae_z14_seed = z_14_df.head(1).seed.values[0]\n",
    "vae_z14_feature = '{}_{}'.format(z_14_df.head(1).algorithm.values[0],\n",
    "                                 z_14_df.head(1).feature.values[0])\n",
    "\n",
    "print(vae_z14_seed)\n",
    "vae_z14_feature"
   ]
  },
  {
   "cell_type": "code",
   "execution_count": 12,
   "metadata": {},
   "outputs": [],
   "source": [
    "weight_z14_df = load_weight_matrix(dataset='GTEX',\n",
    "                                   z_dim=14,\n",
    "                                   seed=vae_z14_seed)\n",
    "\n",
    "result_vae_14_feat10, _ = apply_signature(weight_df=weight_z14_df,\n",
    "                                          other_df=geo_scaled_zeroone_df,\n",
    "                                          feature=vae_z14_feature,\n",
    "                                          align=True)"
   ]
  },
  {
   "cell_type": "markdown",
   "metadata": {},
   "source": [
    "## 1.3. Combine Data and Add Phenotype Information"
   ]
  },
  {
   "cell_type": "code",
   "execution_count": 13,
   "metadata": {},
   "outputs": [],
   "source": [
    "full_neutrophil_results_df = result_vae_14_feat10.merge(result_vae_3_feat0,\n",
    "                                                        left_index=True,\n",
    "                                                        right_index=True)"
   ]
  },
  {
   "cell_type": "code",
   "execution_count": 14,
   "metadata": {},
   "outputs": [],
   "source": [
    "# Process phenotype data\n",
    "cell_line = [x[0] for x in result_vae_3_feat0.index.str.split(',')]\n",
    "treatment = [x[1] for x in result_vae_3_feat0.index.str.split(',')]\n",
    "day = [x[2].strip(' ') if 'replicate' not in x[2] else 'day 0'\n",
    "       for x in result_vae_3_feat0.index.str.split(',')]"
   ]
  },
  {
   "cell_type": "code",
   "execution_count": 15,
   "metadata": {},
   "outputs": [
    {
     "data": {
      "text/html": [
       "<div>\n",
       "<style scoped>\n",
       "    .dataframe tbody tr th:only-of-type {\n",
       "        vertical-align: middle;\n",
       "    }\n",
       "\n",
       "    .dataframe tbody tr th {\n",
       "        vertical-align: top;\n",
       "    }\n",
       "\n",
       "    .dataframe thead th {\n",
       "        text-align: right;\n",
       "    }\n",
       "</style>\n",
       "<table border=\"1\" class=\"dataframe\">\n",
       "  <thead>\n",
       "    <tr style=\"text-align: right;\">\n",
       "      <th></th>\n",
       "      <th>full_id</th>\n",
       "      <th>vae_10</th>\n",
       "      <th>vae_0</th>\n",
       "      <th>cell_line</th>\n",
       "      <th>treatment</th>\n",
       "      <th>day</th>\n",
       "    </tr>\n",
       "  </thead>\n",
       "  <tbody>\n",
       "    <tr>\n",
       "      <th>0</th>\n",
       "      <td>HL-60, DMSO+Nutridoma, day 6, replicate 1</td>\n",
       "      <td>-36.049434</td>\n",
       "      <td>-143.876272</td>\n",
       "      <td>HL-60</td>\n",
       "      <td>DMSO+Nutridoma</td>\n",
       "      <td>day 6</td>\n",
       "    </tr>\n",
       "    <tr>\n",
       "      <th>1</th>\n",
       "      <td>HL-60, DMSO+Nutridoma, day 6, replicate 2</td>\n",
       "      <td>-22.590977</td>\n",
       "      <td>-106.286791</td>\n",
       "      <td>HL-60</td>\n",
       "      <td>DMSO+Nutridoma</td>\n",
       "      <td>day 6</td>\n",
       "    </tr>\n",
       "    <tr>\n",
       "      <th>2</th>\n",
       "      <td>HL-60, DMSO, day 6, replicate 1</td>\n",
       "      <td>-35.909924</td>\n",
       "      <td>-156.422128</td>\n",
       "      <td>HL-60</td>\n",
       "      <td>DMSO</td>\n",
       "      <td>day 6</td>\n",
       "    </tr>\n",
       "    <tr>\n",
       "      <th>3</th>\n",
       "      <td>HL-60, DMSO, day 6, replicate 2</td>\n",
       "      <td>-39.231079</td>\n",
       "      <td>-117.157236</td>\n",
       "      <td>HL-60</td>\n",
       "      <td>DMSO</td>\n",
       "      <td>day 6</td>\n",
       "    </tr>\n",
       "    <tr>\n",
       "      <th>4</th>\n",
       "      <td>HL-60, not differentiated, replicate 1</td>\n",
       "      <td>4.608596</td>\n",
       "      <td>-164.379558</td>\n",
       "      <td>HL-60</td>\n",
       "      <td>Not Differentiated</td>\n",
       "      <td>day 0</td>\n",
       "    </tr>\n",
       "    <tr>\n",
       "      <th>5</th>\n",
       "      <td>HL-60, not differentiated, replicate 2</td>\n",
       "      <td>20.108394</td>\n",
       "      <td>-130.046084</td>\n",
       "      <td>HL-60</td>\n",
       "      <td>Not Differentiated</td>\n",
       "      <td>day 0</td>\n",
       "    </tr>\n",
       "    <tr>\n",
       "      <th>6</th>\n",
       "      <td>PLB-985, DMSO+Nutridoma, day 2</td>\n",
       "      <td>-16.096259</td>\n",
       "      <td>-135.552338</td>\n",
       "      <td>PLB-985</td>\n",
       "      <td>DMSO+Nutridoma</td>\n",
       "      <td>day 2</td>\n",
       "    </tr>\n",
       "    <tr>\n",
       "      <th>7</th>\n",
       "      <td>PLB-985, DMSO+Nutridoma, day 4</td>\n",
       "      <td>-28.350487</td>\n",
       "      <td>-162.160578</td>\n",
       "      <td>PLB-985</td>\n",
       "      <td>DMSO+Nutridoma</td>\n",
       "      <td>day 4</td>\n",
       "    </tr>\n",
       "    <tr>\n",
       "      <th>8</th>\n",
       "      <td>PLB-985, DMSO+Nutridoma, day 6, replicate 1</td>\n",
       "      <td>-35.254016</td>\n",
       "      <td>-152.617394</td>\n",
       "      <td>PLB-985</td>\n",
       "      <td>DMSO+Nutridoma</td>\n",
       "      <td>day 6</td>\n",
       "    </tr>\n",
       "    <tr>\n",
       "      <th>9</th>\n",
       "      <td>PLB-985, DMSO+Nutridoma, day 6, replicate 2</td>\n",
       "      <td>-23.895784</td>\n",
       "      <td>-130.494257</td>\n",
       "      <td>PLB-985</td>\n",
       "      <td>DMSO+Nutridoma</td>\n",
       "      <td>day 6</td>\n",
       "    </tr>\n",
       "    <tr>\n",
       "      <th>10</th>\n",
       "      <td>PLB-985, DMSO, day 6, replicate 1</td>\n",
       "      <td>-29.730797</td>\n",
       "      <td>-165.817214</td>\n",
       "      <td>PLB-985</td>\n",
       "      <td>DMSO</td>\n",
       "      <td>day 6</td>\n",
       "    </tr>\n",
       "    <tr>\n",
       "      <th>11</th>\n",
       "      <td>PLB-985, DMSO, day 6, replicate 2</td>\n",
       "      <td>-30.892827</td>\n",
       "      <td>-116.149126</td>\n",
       "      <td>PLB-985</td>\n",
       "      <td>DMSO</td>\n",
       "      <td>day 6</td>\n",
       "    </tr>\n",
       "    <tr>\n",
       "      <th>12</th>\n",
       "      <td>PLB-985, not differentiated, replicate 1</td>\n",
       "      <td>15.486501</td>\n",
       "      <td>-195.596686</td>\n",
       "      <td>PLB-985</td>\n",
       "      <td>Not Differentiated</td>\n",
       "      <td>day 0</td>\n",
       "    </tr>\n",
       "    <tr>\n",
       "      <th>13</th>\n",
       "      <td>PLB-985, not differentiated, replicate 2</td>\n",
       "      <td>9.925813</td>\n",
       "      <td>-144.003970</td>\n",
       "      <td>PLB-985</td>\n",
       "      <td>Not Differentiated</td>\n",
       "      <td>day 0</td>\n",
       "    </tr>\n",
       "  </tbody>\n",
       "</table>\n",
       "</div>"
      ],
      "text/plain": [
       "                                        full_id     vae_10       vae_0  \\\n",
       "0     HL-60, DMSO+Nutridoma, day 6, replicate 1 -36.049434 -143.876272   \n",
       "1     HL-60, DMSO+Nutridoma, day 6, replicate 2 -22.590977 -106.286791   \n",
       "2               HL-60, DMSO, day 6, replicate 1 -35.909924 -156.422128   \n",
       "3               HL-60, DMSO, day 6, replicate 2 -39.231079 -117.157236   \n",
       "4        HL-60, not differentiated, replicate 1   4.608596 -164.379558   \n",
       "5        HL-60, not differentiated, replicate 2  20.108394 -130.046084   \n",
       "6                PLB-985, DMSO+Nutridoma, day 2 -16.096259 -135.552338   \n",
       "7                PLB-985, DMSO+Nutridoma, day 4 -28.350487 -162.160578   \n",
       "8   PLB-985, DMSO+Nutridoma, day 6, replicate 1 -35.254016 -152.617394   \n",
       "9   PLB-985, DMSO+Nutridoma, day 6, replicate 2 -23.895784 -130.494257   \n",
       "10            PLB-985, DMSO, day 6, replicate 1 -29.730797 -165.817214   \n",
       "11            PLB-985, DMSO, day 6, replicate 2 -30.892827 -116.149126   \n",
       "12     PLB-985, not differentiated, replicate 1  15.486501 -195.596686   \n",
       "13     PLB-985, not differentiated, replicate 2   9.925813 -144.003970   \n",
       "\n",
       "   cell_line           treatment    day  \n",
       "0      HL-60      DMSO+Nutridoma  day 6  \n",
       "1      HL-60      DMSO+Nutridoma  day 6  \n",
       "2      HL-60                DMSO  day 6  \n",
       "3      HL-60                DMSO  day 6  \n",
       "4      HL-60  Not Differentiated  day 0  \n",
       "5      HL-60  Not Differentiated  day 0  \n",
       "6    PLB-985      DMSO+Nutridoma  day 2  \n",
       "7    PLB-985      DMSO+Nutridoma  day 4  \n",
       "8    PLB-985      DMSO+Nutridoma  day 6  \n",
       "9    PLB-985      DMSO+Nutridoma  day 6  \n",
       "10   PLB-985                DMSO  day 6  \n",
       "11   PLB-985                DMSO  day 6  \n",
       "12   PLB-985  Not Differentiated  day 0  \n",
       "13   PLB-985  Not Differentiated  day 0  "
      ]
     },
     "execution_count": 15,
     "metadata": {},
     "output_type": "execute_result"
    }
   ],
   "source": [
    "full_neutrophil_results_df = (\n",
    "    full_neutrophil_results_df\n",
    "    .assign(cell_line=cell_line,\n",
    "            treatment=treatment,\n",
    "            day=day)\n",
    "    .reset_index()\n",
    "    .rename(columns={'index': 'full_id'})\n",
    ")\n",
    "\n",
    "recode_labels = {' not differentiated': 'Not Differentiated',\n",
    "                 ' DMSO': 'DMSO',\n",
    "                 ' DMSO+Nutridoma': 'DMSO+Nutridoma'}\n",
    "\n",
    "full_neutrophil_results_df.treatment = full_neutrophil_results_df.treatment.replace(recode_labels)\n",
    "\n",
    "file = os.path.join('results', 'neutrophil_data_biobombe_results.tsv')\n",
    "full_neutrophil_results_df.to_csv(file, index=False, sep='\\t')\n",
    "\n",
    "full_neutrophil_results_df"
   ]
  },
  {
   "cell_type": "markdown",
   "metadata": {},
   "source": [
    "## 1.4. Quickly Visualize Signature Applied to External Dataset\n",
    "\n",
    "Note the final figure is compiled in an alternative notebook"
   ]
  },
  {
   "cell_type": "code",
   "execution_count": 16,
   "metadata": {},
   "outputs": [
    {
     "data": {
      "image/png": "[encoded data removed]",
      "text/plain": [
       "<Figure size 360x216 with 1 Axes>"
      ]
     },
     "metadata": {},
     "output_type": "display_data"
    }
   ],
   "source": [
    "# Quickly visualize results\n",
    "plt.rcParams['figure.figsize'] = 5, 3\n",
    "ax = sns.stripplot(x='cell_line',\n",
    "                   y='vae_0',\n",
    "                   data=full_neutrophil_results_df,\n",
    "                   hue='treatment',\n",
    "                   jitter=0.1)\n",
    "\n",
    "handles, labels = ax.get_legend_handles_labels()\n",
    "\n",
    "l = plt.legend(handles,\n",
    "               labels,\n",
    "               bbox_to_anchor=(1.02, 0.8),\n",
    "               loc=2,\n",
    "               borderaxespad=0.)\n",
    "l.set_title(\"Treatment\")\n",
    "\n",
    "ax.set_ylabel('VAE Feature 0 (z = 3)')\n",
    "ax.set_xlabel('Cell Lines')\n",
    "\n",
    "plt.tight_layout()"
   ]
  },
  {
   "cell_type": "code",
   "execution_count": 17,
   "metadata": {},
   "outputs": [
    {
     "data": {
      "image/png": "[encoded data removed]",
      "text/plain": [
       "<Figure size 360x216 with 1 Axes>"
      ]
     },
     "metadata": {},
     "output_type": "display_data"
    }
   ],
   "source": [
    "# Quickly visualize results\n",
    "plt.rcParams['figure.figsize'] = 5, 3\n",
    "ax = sns.stripplot(x='cell_line',\n",
    "                   y='vae_10',\n",
    "                   data=full_neutrophil_results_df,\n",
    "                   hue='treatment',\n",
    "                   jitter=0.1)\n",
    "\n",
    "handles, labels = ax.get_legend_handles_labels()\n",
    "\n",
    "l = plt.legend(handles,\n",
    "               labels,\n",
    "               bbox_to_anchor=(1.02, 0.8),\n",
    "               loc=2,\n",
    "               borderaxespad=0.)\n",
    "l.set_title(\"Treatment\")\n",
    "\n",
    "ax.set_ylabel('VAE Feature 10 (z = 14)')\n",
    "ax.set_xlabel('Cell Lines')\n",
    "\n",
    "plt.tight_layout()"
   ]
  },
  {
   "cell_type": "markdown",
   "metadata": {},
   "source": [
    "## 1.5. Compare the two signatures derived from both models\n",
    "\n",
    "Use the function `load_enrichment_results` to retrieve and subset previously compiled BioBombe results.\n",
    "The files are located in `6.analyze-weights/results/`."
   ]
  },
  {
   "cell_type": "code",
   "execution_count": 18,
   "metadata": {},
   "outputs": [
    {
     "data": {
      "text/html": [
       "<div>\n",
       "<style scoped>\n",
       "    .dataframe tbody tr th:only-of-type {\n",
       "        vertical-align: middle;\n",
       "    }\n",
       "\n",
       "    .dataframe tbody tr th {\n",
       "        vertical-align: top;\n",
       "    }\n",
       "\n",
       "    .dataframe thead th {\n",
       "        text-align: right;\n",
       "    }\n",
       "</style>\n",
       "<table border=\"1\" class=\"dataframe\">\n",
       "  <thead>\n",
       "    <tr style=\"text-align: right;\">\n",
       "      <th></th>\n",
       "      <th>model_type_z3</th>\n",
       "      <th>variable</th>\n",
       "      <th>value_z3</th>\n",
       "      <th>z_score_z3</th>\n",
       "      <th>algorithm_z3</th>\n",
       "      <th>feature_z3</th>\n",
       "      <th>z_z3</th>\n",
       "      <th>seed_z3</th>\n",
       "      <th>model_type_z14</th>\n",
       "      <th>value_z14</th>\n",
       "      <th>z_score_z14</th>\n",
       "      <th>algorithm_z14</th>\n",
       "      <th>feature_z14</th>\n",
       "      <th>z_z14</th>\n",
       "      <th>seed_z14</th>\n",
       "    </tr>\n",
       "  </thead>\n",
       "  <tbody>\n",
       "    <tr>\n",
       "      <th>0</th>\n",
       "      <td>real</td>\n",
       "      <td>Keratinocytes_HPCA_3</td>\n",
       "      <td>-10.9015</td>\n",
       "      <td>-33.32250</td>\n",
       "      <td>vae</td>\n",
       "      <td>2</td>\n",
       "      <td>3</td>\n",
       "      <td>908341</td>\n",
       "      <td>real</td>\n",
       "      <td>-2.46113</td>\n",
       "      <td>-5.42071</td>\n",
       "      <td>vae</td>\n",
       "      <td>10</td>\n",
       "      <td>14</td>\n",
       "      <td>486191</td>\n",
       "    </tr>\n",
       "    <tr>\n",
       "      <th>1</th>\n",
       "      <td>real</td>\n",
       "      <td>Keratinocytes_HPCA_3</td>\n",
       "      <td>-11.9194</td>\n",
       "      <td>-19.00490</td>\n",
       "      <td>vae</td>\n",
       "      <td>1</td>\n",
       "      <td>3</td>\n",
       "      <td>908341</td>\n",
       "      <td>real</td>\n",
       "      <td>-2.46113</td>\n",
       "      <td>-5.42071</td>\n",
       "      <td>vae</td>\n",
       "      <td>10</td>\n",
       "      <td>14</td>\n",
       "      <td>486191</td>\n",
       "    </tr>\n",
       "    <tr>\n",
       "      <th>2</th>\n",
       "      <td>real</td>\n",
       "      <td>Keratinocytes_HPCA_3</td>\n",
       "      <td>1.3954</td>\n",
       "      <td>5.91483</td>\n",
       "      <td>vae</td>\n",
       "      <td>0</td>\n",
       "      <td>3</td>\n",
       "      <td>908341</td>\n",
       "      <td>real</td>\n",
       "      <td>-2.46113</td>\n",
       "      <td>-5.42071</td>\n",
       "      <td>vae</td>\n",
       "      <td>10</td>\n",
       "      <td>14</td>\n",
       "      <td>486191</td>\n",
       "    </tr>\n",
       "  </tbody>\n",
       "</table>\n",
       "</div>"
      ],
      "text/plain": [
       "  model_type_z3              variable  value_z3  z_score_z3 algorithm_z3  \\\n",
       "0          real  Keratinocytes_HPCA_3  -10.9015   -33.32250          vae   \n",
       "1          real  Keratinocytes_HPCA_3  -11.9194   -19.00490          vae   \n",
       "2          real  Keratinocytes_HPCA_3    1.3954     5.91483          vae   \n",
       "\n",
       "   feature_z3  z_z3  seed_z3 model_type_z14  value_z14  z_score_z14  \\\n",
       "0           2     3   908341           real   -2.46113     -5.42071   \n",
       "1           1     3   908341           real   -2.46113     -5.42071   \n",
       "2           0     3   908341           real   -2.46113     -5.42071   \n",
       "\n",
       "  algorithm_z14  feature_z14  z_z14  seed_z14  \n",
       "0           vae           10     14    486191  \n",
       "1           vae           10     14    486191  \n",
       "2           vae           10     14    486191  "
      ]
     },
     "execution_count": 18,
     "metadata": {},
     "output_type": "execute_result"
    }
   ],
   "source": [
    "# What other genesets are enriched in VAE z = 3 feature?\n",
    "vae_z3_p0 = load_enrichment_results(dataset='GTEX',\n",
    "                                    z_dim=3,\n",
    "                                    metaedge='GpXCELL',\n",
    "                                    algorithm='vae',\n",
    "                                    feature=0,\n",
    "                                    seed=vae_z3_seed,\n",
    "                                    shuffled=False)\n",
    "\n",
    "# What other genesets are enriched in VAE z = 14 feature?\n",
    "vae_z14_p10 = load_enrichment_results(dataset='GTEX',\n",
    "                                      z_dim=14,\n",
    "                                      metaedge='GpXCELL',\n",
    "                                      algorithm='vae',\n",
    "                                      feature=10,\n",
    "                                      seed=vae_z14_seed,\n",
    "                                      shuffled=False)\n",
    "\n",
    "full_test_df = vae_z3_p0.merge(vae_z14_p10, on='variable', suffixes=('_z3', '_z14'))\n",
    "\n",
    "file = os.path.join('results', 'latent_feature_enrichment_comparison_neutrophil_genesets.tsv')\n",
    "full_test_df.to_csv(file, index=False, sep='\\t')\n",
    "\n",
    "full_test_df.head(3)"
   ]
  },
  {
   "cell_type": "code",
   "execution_count": 19,
   "metadata": {},
   "outputs": [
    {
     "data": {
      "image/png": "[encoded data removed]",
      "text/plain": [
       "<Figure size 360x216 with 1 Axes>"
      ]
     },
     "metadata": {},
     "output_type": "display_data"
    }
   ],
   "source": [
    "# Save dataframe for better plotting in R, but visualize quickly here\n",
    "sns.scatterplot(data=full_test_df, x='z_score_z3', y='z_score_z14');"
   ]
  },
  {
   "cell_type": "markdown",
   "metadata": {},
   "source": [
    "### 1.5.1 Determine Gene Weights across the Two Features\n",
    "\n",
    "Also assign labels to which genesets the genes contribute to"
   ]
  },
  {
   "cell_type": "code",
   "execution_count": 20,
   "metadata": {},
   "outputs": [],
   "source": [
    "unique_genes = []\n",
    "for geneset_name, geneset in xcell_genesets_gmt.items():\n",
    "    for gene in geneset:\n",
    "        unique_genes.append(gene)\n",
    "\n",
    "unique_genes = set(unique_genes)\n",
    "\n",
    "classification_genes = []\n",
    "for geneset_name, geneset in xcell_genesets_gmt.items():\n",
    "    if 'neutrophil' in geneset_name.lower():\n",
    "        classification = 'Neutrophils'\n",
    "    elif 'keratinocytes' in geneset_name.lower():\n",
    "        classification = 'Keratinocytes'\n",
    "    elif 'neurons' in geneset_name.lower():\n",
    "        classification = 'Neurons'\n",
    "    elif 'skeletal' in geneset_name.lower():\n",
    "        classification = 'Skeletal Muscle'\n",
    "    elif 'monocytes' in geneset_name.lower():\n",
    "        classification = 'Monocytes'\n",
    "    else:\n",
    "        classification = 'Other Geneset'\n",
    "    for gene in geneset:\n",
    "        if gene in weight_z14_df.index:\n",
    "            classification_genes.append([classification, gene, geneset_name])"
   ]
  },
  {
   "cell_type": "code",
   "execution_count": 21,
   "metadata": {},
   "outputs": [
    {
     "data": {
      "text/html": [
       "<div>\n",
       "<style scoped>\n",
       "    .dataframe tbody tr th:only-of-type {\n",
       "        vertical-align: middle;\n",
       "    }\n",
       "\n",
       "    .dataframe tbody tr th {\n",
       "        vertical-align: top;\n",
       "    }\n",
       "\n",
       "    .dataframe thead th {\n",
       "        text-align: right;\n",
       "    }\n",
       "</style>\n",
       "<table border=\"1\" class=\"dataframe\">\n",
       "  <thead>\n",
       "    <tr style=\"text-align: right;\">\n",
       "      <th></th>\n",
       "      <th>classification</th>\n",
       "      <th>gene</th>\n",
       "      <th>gene_set</th>\n",
       "    </tr>\n",
       "    <tr>\n",
       "      <th>gene</th>\n",
       "      <th></th>\n",
       "      <th></th>\n",
       "      <th></th>\n",
       "    </tr>\n",
       "  </thead>\n",
       "  <tbody>\n",
       "    <tr>\n",
       "      <th>23650</th>\n",
       "      <td>Keratinocytes</td>\n",
       "      <td>23650</td>\n",
       "      <td>Keratinocytes_FANTOM_3</td>\n",
       "    </tr>\n",
       "    <tr>\n",
       "      <th>11187</th>\n",
       "      <td>Keratinocytes</td>\n",
       "      <td>11187</td>\n",
       "      <td>Keratinocytes_HPCA_1</td>\n",
       "    </tr>\n",
       "    <tr>\n",
       "      <th>3861</th>\n",
       "      <td>Keratinocytes</td>\n",
       "      <td>3861</td>\n",
       "      <td>Keratinocytes_HPCA_1</td>\n",
       "    </tr>\n",
       "    <tr>\n",
       "      <th>5268</th>\n",
       "      <td>Keratinocytes</td>\n",
       "      <td>5268</td>\n",
       "      <td>Keratinocytes_HPCA_1</td>\n",
       "    </tr>\n",
       "    <tr>\n",
       "      <th>10419</th>\n",
       "      <td>Keratinocytes</td>\n",
       "      <td>10419</td>\n",
       "      <td>Keratinocytes_HPCA_1</td>\n",
       "    </tr>\n",
       "  </tbody>\n",
       "</table>\n",
       "</div>"
      ],
      "text/plain": [
       "      classification   gene                gene_set\n",
       "gene                                               \n",
       "23650  Keratinocytes  23650  Keratinocytes_FANTOM_3\n",
       "11187  Keratinocytes  11187    Keratinocytes_HPCA_1\n",
       "3861   Keratinocytes   3861    Keratinocytes_HPCA_1\n",
       "5268   Keratinocytes   5268    Keratinocytes_HPCA_1\n",
       "10419  Keratinocytes  10419    Keratinocytes_HPCA_1"
      ]
     },
     "execution_count": 21,
     "metadata": {},
     "output_type": "execute_result"
    }
   ],
   "source": [
    "result_df = (\n",
    "    pd.DataFrame(classification_genes, columns=['classification', 'gene', 'gene_set'])\n",
    "    .sort_values(by='classification')\n",
    "    .reset_index(drop=True)\n",
    "    .drop_duplicates(subset='gene', keep='first')\n",
    ")\n",
    "\n",
    "result_df.gene = result_df.gene.astype(str)\n",
    "result_df.index = result_df.gene\n",
    "result_df.head()"
   ]
  },
  {
   "cell_type": "code",
   "execution_count": 22,
   "metadata": {},
   "outputs": [
    {
     "data": {
      "text/plain": [
       "Other Geneset      2250\n",
       "Monocytes           202\n",
       "Neurons             169\n",
       "Keratinocytes        90\n",
       "Neutrophils          27\n",
       "Skeletal Muscle      13\n",
       "Name: classification, dtype: int64"
      ]
     },
     "execution_count": 22,
     "metadata": {},
     "output_type": "execute_result"
    }
   ],
   "source": [
    "result_df.classification.value_counts()"
   ]
  },
  {
   "cell_type": "code",
   "execution_count": 23,
   "metadata": {},
   "outputs": [],
   "source": [
    "both_weight_df = (\n",
    "    weight_z3_df.merge(weight_z14_df,\n",
    "                       left_index=True,\n",
    "                       right_index=True,\n",
    "                       suffixes=('_3', '_14'))\n",
    "    .merge(result_df, left_index=True,\n",
    "           right_index=True, how='left')\n",
    "    .fillna('No Geneset')\n",
    ")\n",
    "\n",
    "file = os.path.join('results', 'latent_feature_enrichment_comparison_neutrophil_genes.tsv')\n",
    "both_weight_df.to_csv(file, index=False, sep='\\t')"
   ]
  },
  {
   "cell_type": "markdown",
   "metadata": {},
   "source": [
    "## 2.0. Load and Process External Hematopoietic Dataset"
   ]
  },
  {
   "cell_type": "code",
   "execution_count": 24,
   "metadata": {},
   "outputs": [
    {
     "name": "stdout",
     "output_type": "stream",
     "text": [
      "(211, 8190)\n"
     ]
    },
    {
     "data": {
      "text/html": [
       "<div>\n",
       "<style scoped>\n",
       "    .dataframe tbody tr th:only-of-type {\n",
       "        vertical-align: middle;\n",
       "    }\n",
       "\n",
       "    .dataframe tbody tr th {\n",
       "        vertical-align: top;\n",
       "    }\n",
       "\n",
       "    .dataframe thead th {\n",
       "        text-align: right;\n",
       "    }\n",
       "</style>\n",
       "<table border=\"1\" class=\"dataframe\">\n",
       "  <thead>\n",
       "    <tr style=\"text-align: right;\">\n",
       "      <th></th>\n",
       "      <th>2</th>\n",
       "      <th>9</th>\n",
       "      <th>14</th>\n",
       "      <th>16</th>\n",
       "      <th>18</th>\n",
       "      <th>19</th>\n",
       "      <th>20</th>\n",
       "      <th>22</th>\n",
       "      <th>23</th>\n",
       "      <th>25</th>\n",
       "      <th>...</th>\n",
       "      <th>100137049</th>\n",
       "      <th>100462977</th>\n",
       "      <th>100505741</th>\n",
       "      <th>100507436</th>\n",
       "      <th>100527963</th>\n",
       "      <th>100652748</th>\n",
       "      <th>102723547</th>\n",
       "      <th>105369230</th>\n",
       "      <th>107984923</th>\n",
       "      <th>107987479</th>\n",
       "    </tr>\n",
       "  </thead>\n",
       "  <tbody>\n",
       "    <tr>\n",
       "      <th>BASO1_3</th>\n",
       "      <td>0.389491</td>\n",
       "      <td>0.342512</td>\n",
       "      <td>0.173372</td>\n",
       "      <td>0.196964</td>\n",
       "      <td>0.431818</td>\n",
       "      <td>0.405355</td>\n",
       "      <td>0.200679</td>\n",
       "      <td>0.580138</td>\n",
       "      <td>0.457497</td>\n",
       "      <td>0.475122</td>\n",
       "      <td>...</td>\n",
       "      <td>0.150598</td>\n",
       "      <td>0.297524</td>\n",
       "      <td>0.83302</td>\n",
       "      <td>0.410220</td>\n",
       "      <td>0.379413</td>\n",
       "      <td>0.271206</td>\n",
       "      <td>0.467457</td>\n",
       "      <td>0.842266</td>\n",
       "      <td>0.441286</td>\n",
       "      <td>0.384583</td>\n",
       "    </tr>\n",
       "    <tr>\n",
       "      <th>BASO1_4</th>\n",
       "      <td>0.308525</td>\n",
       "      <td>0.233696</td>\n",
       "      <td>0.281117</td>\n",
       "      <td>0.385034</td>\n",
       "      <td>0.540101</td>\n",
       "      <td>0.317294</td>\n",
       "      <td>0.262179</td>\n",
       "      <td>0.688354</td>\n",
       "      <td>0.453625</td>\n",
       "      <td>0.586759</td>\n",
       "      <td>...</td>\n",
       "      <td>0.268785</td>\n",
       "      <td>0.490944</td>\n",
       "      <td>0.77053</td>\n",
       "      <td>0.495008</td>\n",
       "      <td>0.660851</td>\n",
       "      <td>0.329928</td>\n",
       "      <td>0.365230</td>\n",
       "      <td>0.923228</td>\n",
       "      <td>0.487514</td>\n",
       "      <td>0.371348</td>\n",
       "    </tr>\n",
       "  </tbody>\n",
       "</table>\n",
       "<p>2 rows × 8190 columns</p>\n",
       "</div>"
      ],
      "text/plain": [
       "                2         9        14        16        18        19        20  \\\n",
       "BASO1_3  0.389491  0.342512  0.173372  0.196964  0.431818  0.405355  0.200679   \n",
       "BASO1_4  0.308525  0.233696  0.281117  0.385034  0.540101  0.317294  0.262179   \n",
       "\n",
       "               22        23        25    ...      100137049  100462977  \\\n",
       "BASO1_3  0.580138  0.457497  0.475122    ...       0.150598   0.297524   \n",
       "BASO1_4  0.688354  0.453625  0.586759    ...       0.268785   0.490944   \n",
       "\n",
       "         100505741  100507436  100527963  100652748  102723547  105369230  \\\n",
       "BASO1_3    0.83302   0.410220   0.379413   0.271206   0.467457   0.842266   \n",
       "BASO1_4    0.77053   0.495008   0.660851   0.329928   0.365230   0.923228   \n",
       "\n",
       "         107984923  107987479  \n",
       "BASO1_3   0.441286   0.384583  \n",
       "BASO1_4   0.487514   0.371348  \n",
       "\n",
       "[2 rows x 8190 columns]"
      ]
     },
     "execution_count": 24,
     "metadata": {},
     "output_type": "execute_result"
    }
   ],
   "source": [
    "file = os.path.join('data', 'GSE24759_processed_matrix.tsv.gz')\n",
    "heme_zeroone_df = pd.read_table(file, index_col=0)\n",
    "\n",
    "print(heme_zeroone_df.shape)\n",
    "heme_zeroone_df.head(2)"
   ]
  },
  {
   "cell_type": "code",
   "execution_count": 25,
   "metadata": {},
   "outputs": [],
   "source": [
    "heme_z3_seed = 908341\n",
    "heme_z3_feature = 'vae_2'"
   ]
  },
  {
   "cell_type": "code",
   "execution_count": 26,
   "metadata": {},
   "outputs": [
    {
     "name": "stdout",
     "output_type": "stream",
     "text": [
      "4645 (58.06%) of genes are used\n"
     ]
    }
   ],
   "source": [
    "# Transform the external dataset with this learned feature\n",
    "weight_heme_z3_df = load_weight_matrix(dataset='GTEX',\n",
    "                                       z_dim=3,\n",
    "                                       seed=heme_z3_seed)\n",
    "\n",
    "result_heme_vae_3_feat2, monocyte_missing_genes = (\n",
    "    apply_signature(weight_df=weight_heme_z3_df,\n",
    "                    other_df=heme_zeroone_df,\n",
    "                    feature=heme_z3_feature,\n",
    "                    align=True)\n",
    ")\n",
    "\n",
    "use_genes = weight_heme_z3_df.shape[0] - len(monocyte_missing_genes)\n",
    "print('{} ({:.2f}%) of genes are used'.format(use_genes, use_genes / weight_heme_z3_df.shape[0] * 100 ))"
   ]
  },
  {
   "cell_type": "code",
   "execution_count": 27,
   "metadata": {},
   "outputs": [
    {
     "name": "stdout",
     "output_type": "stream",
     "text": [
      "178\n"
     ]
    },
    {
     "data": {
      "text/plain": [
       "['1536',\n",
       " '10241',\n",
       " '3587',\n",
       " '11277',\n",
       " '23569',\n",
       " '23064',\n",
       " '4123',\n",
       " '3614',\n",
       " '4140',\n",
       " '27180',\n",
       " '10287',\n",
       " '10288',\n",
       " '204851',\n",
       " '9784',\n",
       " '79930',\n",
       " '1089',\n",
       " '53829',\n",
       " '10313',\n",
       " '11337',\n",
       " '5199',\n",
       " '4689',\n",
       " '51284',\n",
       " '9815',\n",
       " '23135',\n",
       " '5728',\n",
       " '27235',\n",
       " '51304',\n",
       " '5739',\n",
       " '10859',\n",
       " '51311',\n",
       " '2162',\n",
       " '9332',\n",
       " '4215',\n",
       " '10871',\n",
       " '23673',\n",
       " '26234',\n",
       " '1659',\n",
       " '58488',\n",
       " '23166',\n",
       " '8834',\n",
       " '6787',\n",
       " '6277',\n",
       " '6281',\n",
       " '6283',\n",
       " '26253',\n",
       " '729230',\n",
       " '124565',\n",
       " '10390',\n",
       " '27287',\n",
       " '7321',\n",
       " '80025',\n",
       " '2204',\n",
       " '137886',\n",
       " '671',\n",
       " '2207',\n",
       " '55968',\n",
       " '50856',\n",
       " '2219',\n",
       " '64174',\n",
       " '79026',\n",
       " '54453',\n",
       " '9398',\n",
       " '695',\n",
       " '29888',\n",
       " '8897',\n",
       " '706',\n",
       " '3267',\n",
       " '3779',\n",
       " '25796',\n",
       " '79042',\n",
       " '199',\n",
       " '4296',\n",
       " '719',\n",
       " '7375',\n",
       " '23765',\n",
       " '2268',\n",
       " '10462',\n",
       " '79587',\n",
       " '9444',\n",
       " '9958',\n",
       " '64231',\n",
       " '9450',\n",
       " '5355',\n",
       " '4332',\n",
       " '23276',\n",
       " '3310',\n",
       " '4335',\n",
       " '55023',\n",
       " '353514',\n",
       " '9470',\n",
       " '23294',\n",
       " '7940',\n",
       " '23304',\n",
       " '23309',\n",
       " '7439',\n",
       " '11024',\n",
       " '11025',\n",
       " '64783',\n",
       " '11027',\n",
       " '23317',\n",
       " '5914',\n",
       " '23325',\n",
       " '7454',\n",
       " '79143',\n",
       " '29992',\n",
       " '301',\n",
       " '2350',\n",
       " '11054',\n",
       " '27440',\n",
       " '6452',\n",
       " '11060',\n",
       " '2358',\n",
       " '824',\n",
       " '825',\n",
       " '826',\n",
       " '23353',\n",
       " '8509',\n",
       " '831',\n",
       " '80204',\n",
       " '90957',\n",
       " '80208',\n",
       " '9555',\n",
       " '9044',\n",
       " '8021',\n",
       " '9046',\n",
       " '9051',\n",
       " '23387',\n",
       " '23389',\n",
       " '8031',\n",
       " '28511',\n",
       " '26469',\n",
       " '10087',\n",
       " '80231',\n",
       " '8554',\n",
       " '57706',\n",
       " '22895',\n",
       " '55666',\n",
       " '10101',\n",
       " '5500',\n",
       " '381',\n",
       " '22918',\n",
       " '6036',\n",
       " '10645',\n",
       " '1432',\n",
       " '920',\n",
       " '84376',\n",
       " '56729',\n",
       " '1436',\n",
       " '6556',\n",
       " '1441',\n",
       " '26017',\n",
       " '64419',\n",
       " '51108',\n",
       " '64422',\n",
       " '29099',\n",
       " '9647',\n",
       " '433',\n",
       " '945',\n",
       " '23478',\n",
       " '51643',\n",
       " '4542',\n",
       " '54210',\n",
       " '5578',\n",
       " '11214',\n",
       " '1488',\n",
       " '7123',\n",
       " '3030',\n",
       " '4055',\n",
       " '4066',\n",
       " '23527',\n",
       " '8685',\n",
       " '3055',\n",
       " '1524',\n",
       " '55285',\n",
       " '253943',\n",
       " '55288',\n",
       " '3579',\n",
       " '7165']"
      ]
     },
     "execution_count": 27,
     "metadata": {},
     "output_type": "execute_result"
    }
   ],
   "source": [
    "monocyte_fantom_genes = xcell_genesets_gmt['Monocytes_FANTOM_2']\n",
    "print(len(monocyte_fantom_genes))\n",
    "monocyte_fantom_genes"
   ]
  },
  {
   "cell_type": "code",
   "execution_count": 28,
   "metadata": {},
   "outputs": [
    {
     "name": "stdout",
     "output_type": "stream",
     "text": [
      "10\n"
     ]
    },
    {
     "data": {
      "text/plain": [
       "['79930',\n",
       " '5739',\n",
       " '124565',\n",
       " '29888',\n",
       " '11025',\n",
       " '11054',\n",
       " '23387',\n",
       " '22895',\n",
       " '7123',\n",
       " '8685']"
      ]
     },
     "execution_count": 28,
     "metadata": {},
     "output_type": "execute_result"
    }
   ],
   "source": [
    "# But how many of the missing genes belong to the specific Monocyte signature\n",
    "monocyte_fantom_genes_missing = [x for x in monocyte_fantom_genes if int(x) in monocyte_missing_genes]\n",
    "print(len(monocyte_fantom_genes_missing))\n",
    "monocyte_fantom_genes_missing"
   ]
  },
  {
   "cell_type": "code",
   "execution_count": 29,
   "metadata": {},
   "outputs": [
    {
     "name": "stdout",
     "output_type": "stream",
     "text": [
      "5.62% of monocyte genes are missing\n"
     ]
    }
   ],
   "source": [
    "print('{:.2f}% of monocyte genes are missing'.format(len(monocyte_fantom_genes_missing) / len(monocyte_fantom_genes) * 100 ))"
   ]
  },
  {
   "cell_type": "code",
   "execution_count": 30,
   "metadata": {},
   "outputs": [
    {
     "data": {
      "text/html": [
       "<div>\n",
       "<style scoped>\n",
       "    .dataframe tbody tr th:only-of-type {\n",
       "        vertical-align: middle;\n",
       "    }\n",
       "\n",
       "    .dataframe tbody tr th {\n",
       "        vertical-align: top;\n",
       "    }\n",
       "\n",
       "    .dataframe thead th {\n",
       "        text-align: right;\n",
       "    }\n",
       "</style>\n",
       "<table border=\"1\" class=\"dataframe\">\n",
       "  <thead>\n",
       "    <tr style=\"text-align: right;\">\n",
       "      <th></th>\n",
       "      <th>model_type</th>\n",
       "      <th>variable</th>\n",
       "      <th>value</th>\n",
       "      <th>z_score</th>\n",
       "      <th>algorithm</th>\n",
       "      <th>feature</th>\n",
       "      <th>z</th>\n",
       "      <th>seed</th>\n",
       "      <th>abs_z_score</th>\n",
       "    </tr>\n",
       "  </thead>\n",
       "  <tbody>\n",
       "    <tr>\n",
       "      <th>2444895</th>\n",
       "      <td>real</td>\n",
       "      <td>Monocytes_FANTOM_2</td>\n",
       "      <td>37.7563</td>\n",
       "      <td>31.9881</td>\n",
       "      <td>nmf</td>\n",
       "      <td>6</td>\n",
       "      <td>200</td>\n",
       "      <td>908341</td>\n",
       "      <td>31.9881</td>\n",
       "    </tr>\n",
       "  </tbody>\n",
       "</table>\n",
       "</div>"
      ],
      "text/plain": [
       "        model_type            variable    value  z_score algorithm  feature  \\\n",
       "2444895       real  Monocytes_FANTOM_2  37.7563  31.9881       nmf        6   \n",
       "\n",
       "           z    seed  abs_z_score  \n",
       "2444895  200  908341      31.9881  "
      ]
     },
     "execution_count": 30,
     "metadata": {},
     "output_type": "execute_result"
    }
   ],
   "source": [
    "# Additionall, the top scoring feature for Monocytes_FANTOM_2 is in the nmf model with 200 features\n",
    "file = os.path.join('..', '6.analyze-weights', 'results', 'gtex',\n",
    "                    'gpxcell', 'signal',\n",
    "                    'gtex_z_200_GpXCELL__geneset_scores.tsv.gz')\n",
    "\n",
    "gtex_z200_scores_df = (\n",
    "    pd.read_table(file)\n",
    "    .query('variable == \"Monocytes_FANTOM_2\"'))\n",
    "\n",
    "gtex_z200_scores_df = (\n",
    "    gtex_z200_scores_df\n",
    "    .assign(abs_z_score = gtex_z200_scores_df.z_score.abs())\n",
    "    .sort_values(by='abs_z_score', ascending=False)\n",
    "    .head(1)\n",
    ")\n",
    "\n",
    "gtex_z200_scores_df"
   ]
  },
  {
   "cell_type": "code",
   "execution_count": 31,
   "metadata": {},
   "outputs": [
    {
     "data": {
      "text/plain": [
       "'nmf_6'"
      ]
     },
     "execution_count": 31,
     "metadata": {},
     "output_type": "execute_result"
    }
   ],
   "source": [
    "heme_z200_feature = '{}_{}'.format(gtex_z200_scores_df.algorithm.values[0],\n",
    "                                   gtex_z200_scores_df.feature.values[0])\n",
    "\n",
    "heme_z200_feature"
   ]
  },
  {
   "cell_type": "code",
   "execution_count": 32,
   "metadata": {},
   "outputs": [],
   "source": [
    "# Obtain this transformation too\n",
    "weight_heme_z200_df = load_weight_matrix(dataset='GTEX',\n",
    "                                         z_dim=200,\n",
    "                                         seed=gtex_z200_scores_df.seed.values[0])\n",
    "\n",
    "\n",
    "result_heme_nmf_200_feat6, _ = apply_signature(weight_df=weight_heme_z200_df,\n",
    "                                            other_df=heme_zeroone_df,\n",
    "                                            feature=heme_z200_feature,\n",
    "                                            align=True)"
   ]
  },
  {
   "cell_type": "code",
   "execution_count": 33,
   "metadata": {},
   "outputs": [],
   "source": [
    "# Combine the full scores and output for downstream visualization\n",
    "full_heme_result_df = (\n",
    "    result_heme_vae_3_feat2\n",
    "    .merge(result_heme_nmf_200_feat6, left_index=True, right_index=True)\n",
    "    .reset_index().rename(columns={'index': 'cell'})\n",
    ")"
   ]
  },
  {
   "cell_type": "code",
   "execution_count": 34,
   "metadata": {},
   "outputs": [],
   "source": [
    "heme_cell_type_recode_df = (\n",
    "    pd.DataFrame(full_heme_result_df.cell.str.split('_').values.tolist(),\n",
    "                 columns = ['cell_type', 'replicate', 'additional'])\n",
    ")\n",
    "\n",
    "heme_cell_type_recode_df.loc[~heme_cell_type_recode_df.additional.isna(), 'cell_type'] = \"PRE_BCELL2\""
   ]
  },
  {
   "cell_type": "code",
   "execution_count": 35,
   "metadata": {},
   "outputs": [],
   "source": [
    "full_heme_result_df = (\n",
    "    pd.concat([heme_cell_type_recode_df.drop(['additional'], axis='columns'),\n",
    "               full_heme_result_df], axis='columns')\n",
    ")"
   ]
  },
  {
   "cell_type": "code",
   "execution_count": 36,
   "metadata": {},
   "outputs": [
    {
     "data": {
      "text/html": [
       "<div>\n",
       "<style scoped>\n",
       "    .dataframe tbody tr th:only-of-type {\n",
       "        vertical-align: middle;\n",
       "    }\n",
       "\n",
       "    .dataframe tbody tr th {\n",
       "        vertical-align: top;\n",
       "    }\n",
       "\n",
       "    .dataframe thead th {\n",
       "        text-align: right;\n",
       "    }\n",
       "</style>\n",
       "<table border=\"1\" class=\"dataframe\">\n",
       "  <thead>\n",
       "    <tr style=\"text-align: right;\">\n",
       "      <th></th>\n",
       "      <th>label</th>\n",
       "      <th>classification</th>\n",
       "    </tr>\n",
       "  </thead>\n",
       "  <tbody>\n",
       "    <tr>\n",
       "      <th>0</th>\n",
       "      <td>HSC1</td>\n",
       "      <td>HSC</td>\n",
       "    </tr>\n",
       "    <tr>\n",
       "      <th>1</th>\n",
       "      <td>HSC2</td>\n",
       "      <td>HSC</td>\n",
       "    </tr>\n",
       "    <tr>\n",
       "      <th>2</th>\n",
       "      <td>HSC3</td>\n",
       "      <td>HSC</td>\n",
       "    </tr>\n",
       "    <tr>\n",
       "      <th>3</th>\n",
       "      <td>CMP</td>\n",
       "      <td>Myeloid</td>\n",
       "    </tr>\n",
       "    <tr>\n",
       "      <th>4</th>\n",
       "      <td>MEP</td>\n",
       "      <td>Myeloid</td>\n",
       "    </tr>\n",
       "  </tbody>\n",
       "</table>\n",
       "</div>"
      ],
      "text/plain": [
       "  label classification\n",
       "0  HSC1            HSC\n",
       "1  HSC2            HSC\n",
       "2  HSC3            HSC\n",
       "3   CMP        Myeloid\n",
       "4   MEP        Myeloid"
      ]
     },
     "execution_count": 36,
     "metadata": {},
     "output_type": "execute_result"
    }
   ],
   "source": [
    "# Recode cell-type into larger classification\n",
    "file = os.path.join('results', 'cell-type-classification.tsv')\n",
    "cell_class_df = pd.read_table(file)\n",
    "\n",
    "cell_updater = dict(zip(cell_class_df.label, cell_class_df.classification))\n",
    "\n",
    "cell_class_df.head()"
   ]
  },
  {
   "cell_type": "code",
   "execution_count": 37,
   "metadata": {},
   "outputs": [
    {
     "data": {
      "text/html": [
       "<div>\n",
       "<style scoped>\n",
       "    .dataframe tbody tr th:only-of-type {\n",
       "        vertical-align: middle;\n",
       "    }\n",
       "\n",
       "    .dataframe tbody tr th {\n",
       "        vertical-align: top;\n",
       "    }\n",
       "\n",
       "    .dataframe thead th {\n",
       "        text-align: right;\n",
       "    }\n",
       "</style>\n",
       "<table border=\"1\" class=\"dataframe\">\n",
       "  <thead>\n",
       "    <tr style=\"text-align: right;\">\n",
       "      <th></th>\n",
       "      <th>cell_type</th>\n",
       "      <th>replicate</th>\n",
       "      <th>cell</th>\n",
       "      <th>vae_2</th>\n",
       "      <th>nmf_6</th>\n",
       "      <th>cell_class</th>\n",
       "    </tr>\n",
       "  </thead>\n",
       "  <tbody>\n",
       "    <tr>\n",
       "      <th>0</th>\n",
       "      <td>BASO1</td>\n",
       "      <td>3</td>\n",
       "      <td>BASO1_3</td>\n",
       "      <td>11.587813</td>\n",
       "      <td>196.772311</td>\n",
       "      <td>Basophil</td>\n",
       "    </tr>\n",
       "    <tr>\n",
       "      <th>1</th>\n",
       "      <td>BASO1</td>\n",
       "      <td>4</td>\n",
       "      <td>BASO1_4</td>\n",
       "      <td>13.777747</td>\n",
       "      <td>220.265032</td>\n",
       "      <td>Basophil</td>\n",
       "    </tr>\n",
       "    <tr>\n",
       "      <th>2</th>\n",
       "      <td>BASO1</td>\n",
       "      <td>5</td>\n",
       "      <td>BASO1_5</td>\n",
       "      <td>4.523471</td>\n",
       "      <td>159.282957</td>\n",
       "      <td>Basophil</td>\n",
       "    </tr>\n",
       "    <tr>\n",
       "      <th>3</th>\n",
       "      <td>BASO1</td>\n",
       "      <td>6</td>\n",
       "      <td>BASO1_6</td>\n",
       "      <td>11.517815</td>\n",
       "      <td>198.788344</td>\n",
       "      <td>Basophil</td>\n",
       "    </tr>\n",
       "    <tr>\n",
       "      <th>4</th>\n",
       "      <td>BASO1</td>\n",
       "      <td>7</td>\n",
       "      <td>BASO1_7</td>\n",
       "      <td>18.585413</td>\n",
       "      <td>229.836773</td>\n",
       "      <td>Basophil</td>\n",
       "    </tr>\n",
       "  </tbody>\n",
       "</table>\n",
       "</div>"
      ],
      "text/plain": [
       "  cell_type replicate     cell      vae_2       nmf_6 cell_class\n",
       "0     BASO1         3  BASO1_3  11.587813  196.772311   Basophil\n",
       "1     BASO1         4  BASO1_4  13.777747  220.265032   Basophil\n",
       "2     BASO1         5  BASO1_5   4.523471  159.282957   Basophil\n",
       "3     BASO1         6  BASO1_6  11.517815  198.788344   Basophil\n",
       "4     BASO1         7  BASO1_7  18.585413  229.836773   Basophil"
      ]
     },
     "execution_count": 37,
     "metadata": {},
     "output_type": "execute_result"
    }
   ],
   "source": [
    "full_heme_result_df = (\n",
    "    full_heme_result_df\n",
    "    .assign(cell_class = full_heme_result_df.cell_type.replace(cell_updater))\n",
    ")\n",
    "\n",
    "file = os.path.join('results', 'hematopoietic_data_biobombe_results.tsv')\n",
    "full_heme_result_df.to_csv(file, index=False, sep='\\t')\n",
    "\n",
    "full_heme_result_df.head()"
   ]
  },
  {
   "cell_type": "code",
   "execution_count": 38,
   "metadata": {},
   "outputs": [
    {
     "data": {
      "image/png": "[encoded data removed]",
      "text/plain": [
       "<Figure size 360x216 with 1 Axes>"
      ]
     },
     "metadata": {},
     "output_type": "display_data"
    }
   ],
   "source": [
    "# Quickly plot results for both features\n",
    "plt.rcParams['figure.figsize'] = 5, 3\n",
    "ax = sns.stripplot(y='vae_2', x = 'cell_class', data = full_heme_result_df, hue = 'cell_class', jitter=0.1)\n",
    "\n",
    "handles, labels = ax.get_legend_handles_labels()\n",
    "\n",
    "l = plt.legend(handles,\n",
    "               labels,\n",
    "               bbox_to_anchor=(1.02, 0.8), loc=2, borderaxespad=0.)\n"
   ]
  },
  {
   "cell_type": "code",
   "execution_count": 39,
   "metadata": {},
   "outputs": [
    {
     "data": {
      "image/png": "[encoded data removed]",
      "text/plain": [
       "<Figure size 360x216 with 1 Axes>"
      ]
     },
     "metadata": {},
     "output_type": "display_data"
    }
   ],
   "source": [
    "plt.rcParams['figure.figsize'] = 5, 3\n",
    "ax = sns.stripplot(y='nmf_6', x = 'cell_class', data = full_heme_result_df, hue = 'cell_class', jitter=0.1)\n",
    "\n",
    "handles, labels = ax.get_legend_handles_labels()\n",
    "\n",
    "l = plt.legend(handles,\n",
    "               labels,\n",
    "               bbox_to_anchor=(1.02, 0.8), loc=2, borderaxespad=0.)"
   ]
  },
  {
   "cell_type": "markdown",
   "metadata": {},
   "source": [
    "## Generate Supplementary Table of Neutrophil and Monocyte Signatures"
   ]
  },
  {
   "cell_type": "code",
   "execution_count": 40,
   "metadata": {},
   "outputs": [],
   "source": [
    "# Load curated gene names from versioned resource \n",
    "commit = '721204091a96e55de6dcad165d6d8265e67e2a48'\n",
    "url = 'https://raw.githubusercontent.com/cognoma/genes/{}/data/genes.tsv'.format(commit)\n",
    "gene_df = pd.read_table(url)\n",
    "\n",
    "# Only consider protein-coding genes\n",
    "gene_df = (\n",
    "    gene_df.query(\"gene_type == 'protein-coding'\")\n",
    ")\n",
    "\n",
    "entrez_to_symbol = dict(zip(gene_df.entrez_gene_id,\n",
    "                            gene_df.symbol))"
   ]
  },
  {
   "cell_type": "code",
   "execution_count": 41,
   "metadata": {},
   "outputs": [
    {
     "data": {
      "text/html": [
       "<div>\n",
       "<style scoped>\n",
       "    .dataframe tbody tr th:only-of-type {\n",
       "        vertical-align: middle;\n",
       "    }\n",
       "\n",
       "    .dataframe tbody tr th {\n",
       "        vertical-align: top;\n",
       "    }\n",
       "\n",
       "    .dataframe thead th {\n",
       "        text-align: right;\n",
       "    }\n",
       "</style>\n",
       "<table border=\"1\" class=\"dataframe\">\n",
       "  <thead>\n",
       "    <tr style=\"text-align: right;\">\n",
       "      <th></th>\n",
       "      <th>entrez_gene_id</th>\n",
       "      <th>gene_symbol</th>\n",
       "      <th>signature</th>\n",
       "      <th>in_external_dataset</th>\n",
       "    </tr>\n",
       "  </thead>\n",
       "  <tbody>\n",
       "    <tr>\n",
       "      <th>0</th>\n",
       "      <td>1441</td>\n",
       "      <td>CSF3R</td>\n",
       "      <td>Neutrophil_HPCA_2</td>\n",
       "      <td>Yes</td>\n",
       "    </tr>\n",
       "    <tr>\n",
       "      <th>1</th>\n",
       "      <td>54210</td>\n",
       "      <td>TREM1</td>\n",
       "      <td>Neutrophil_HPCA_2</td>\n",
       "      <td>Yes</td>\n",
       "    </tr>\n",
       "    <tr>\n",
       "      <th>2</th>\n",
       "      <td>53829</td>\n",
       "      <td>P2RY13</td>\n",
       "      <td>Neutrophil_HPCA_2</td>\n",
       "      <td>Yes</td>\n",
       "    </tr>\n",
       "    <tr>\n",
       "      <th>3</th>\n",
       "      <td>2215</td>\n",
       "      <td>FCGR3B</td>\n",
       "      <td>Neutrophil_HPCA_2</td>\n",
       "      <td>Yes</td>\n",
       "    </tr>\n",
       "    <tr>\n",
       "      <th>4</th>\n",
       "      <td>6283</td>\n",
       "      <td>S100A12</td>\n",
       "      <td>Neutrophil_HPCA_2</td>\n",
       "      <td>Yes</td>\n",
       "    </tr>\n",
       "  </tbody>\n",
       "</table>\n",
       "</div>"
      ],
      "text/plain": [
       "  entrez_gene_id gene_symbol          signature in_external_dataset\n",
       "0           1441       CSF3R  Neutrophil_HPCA_2                 Yes\n",
       "1          54210       TREM1  Neutrophil_HPCA_2                 Yes\n",
       "2          53829      P2RY13  Neutrophil_HPCA_2                 Yes\n",
       "3           2215      FCGR3B  Neutrophil_HPCA_2                 Yes\n",
       "4           6283     S100A12  Neutrophil_HPCA_2                 Yes"
      ]
     },
     "execution_count": 41,
     "metadata": {},
     "output_type": "execute_result"
    }
   ],
   "source": [
    "neutrophil_df = pd.DataFrame(neutrophil_hpca_genes, columns=['entrez_gene_id'])\n",
    "neutrophil_df = (\n",
    "    neutrophil_df.assign(\n",
    "        gene_symbol=neutrophil_df.entrez_gene_id.astype(int).replace(entrez_to_symbol),\n",
    "        signature='Neutrophil_HPCA_2',\n",
    "        in_external_dataset='Yes')\n",
    ")\n",
    "neutrophil_df.head()"
   ]
  },
  {
   "cell_type": "code",
   "execution_count": 42,
   "metadata": {},
   "outputs": [
    {
     "data": {
      "text/html": [
       "<div>\n",
       "<style scoped>\n",
       "    .dataframe tbody tr th:only-of-type {\n",
       "        vertical-align: middle;\n",
       "    }\n",
       "\n",
       "    .dataframe tbody tr th {\n",
       "        vertical-align: top;\n",
       "    }\n",
       "\n",
       "    .dataframe thead th {\n",
       "        text-align: right;\n",
       "    }\n",
       "</style>\n",
       "<table border=\"1\" class=\"dataframe\">\n",
       "  <thead>\n",
       "    <tr style=\"text-align: right;\">\n",
       "      <th></th>\n",
       "      <th>entrez_gene_id</th>\n",
       "      <th>gene_symbol</th>\n",
       "      <th>signature</th>\n",
       "      <th>in_external_dataset</th>\n",
       "    </tr>\n",
       "  </thead>\n",
       "  <tbody>\n",
       "    <tr>\n",
       "      <th>0</th>\n",
       "      <td>1536</td>\n",
       "      <td>CYBB</td>\n",
       "      <td>Monocyte_FANTOM_2</td>\n",
       "      <td>Yes</td>\n",
       "    </tr>\n",
       "    <tr>\n",
       "      <th>1</th>\n",
       "      <td>10241</td>\n",
       "      <td>CALCOCO2</td>\n",
       "      <td>Monocyte_FANTOM_2</td>\n",
       "      <td>Yes</td>\n",
       "    </tr>\n",
       "    <tr>\n",
       "      <th>2</th>\n",
       "      <td>3587</td>\n",
       "      <td>IL10RA</td>\n",
       "      <td>Monocyte_FANTOM_2</td>\n",
       "      <td>Yes</td>\n",
       "    </tr>\n",
       "    <tr>\n",
       "      <th>3</th>\n",
       "      <td>11277</td>\n",
       "      <td>TREX1</td>\n",
       "      <td>Monocyte_FANTOM_2</td>\n",
       "      <td>Yes</td>\n",
       "    </tr>\n",
       "    <tr>\n",
       "      <th>4</th>\n",
       "      <td>23569</td>\n",
       "      <td>PADI4</td>\n",
       "      <td>Monocyte_FANTOM_2</td>\n",
       "      <td>Yes</td>\n",
       "    </tr>\n",
       "  </tbody>\n",
       "</table>\n",
       "</div>"
      ],
      "text/plain": [
       "  entrez_gene_id gene_symbol          signature in_external_dataset\n",
       "0           1536        CYBB  Monocyte_FANTOM_2                 Yes\n",
       "1          10241    CALCOCO2  Monocyte_FANTOM_2                 Yes\n",
       "2           3587      IL10RA  Monocyte_FANTOM_2                 Yes\n",
       "3          11277       TREX1  Monocyte_FANTOM_2                 Yes\n",
       "4          23569       PADI4  Monocyte_FANTOM_2                 Yes"
      ]
     },
     "execution_count": 42,
     "metadata": {},
     "output_type": "execute_result"
    }
   ],
   "source": [
    "monocyte_df = pd.DataFrame(monocyte_fantom_genes, columns=['entrez_gene_id'])\n",
    "monocyte_df = (\n",
    "    monocyte_df.assign(\n",
    "        gene_symbol=monocyte_df.entrez_gene_id.astype(int).replace(entrez_to_symbol),\n",
    "        signature='Monocyte_FANTOM_2',\n",
    "        in_external_dataset='Yes')\n",
    ")\n",
    "\n",
    "monocyte_df.loc[monocyte_df.entrez_gene_id.isin(monocyte_fantom_genes_missing), 'in_external_dataset'] = \"No\"\n",
    "monocyte_df.head()"
   ]
  },
  {
   "cell_type": "code",
   "execution_count": 43,
   "metadata": {},
   "outputs": [],
   "source": [
    "sup_table_df = pd.concat([neutrophil_df, monocyte_df], axis='rows').reset_index(drop=True)\n",
    "\n",
    "file = os.path.join(\"results\", \"neutrophil_and_monocyte_signature_genes.tsv\")\n",
    "sup_table_df.to_csv(file, sep='\\t', index=False)"
   ]
  }
 ],
 "metadata": {
  "kernelspec": {
   "display_name": "Python [conda env:biobombe]",
   "language": "python",
   "name": "conda-env-biobombe-py"
  },
  "language_info": {
   "codemirror_mode": {
    "name": "ipython",
    "version": 3
   },
   "file_extension": ".py",
   "mimetype": "text/x-python",
   "name": "python",
   "nbconvert_exporter": "python",
   "pygments_lexer": "ipython3",
   "version": "3.6.7"
  }
 },
 "nbformat": 4,
 "nbformat_minor": 2
}
