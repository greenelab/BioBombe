{
 "cells": [
  {
   "cell_type": "markdown",
   "metadata": {},
   "source": [
    "# Permute Hetnets for Interpreting Compressed Latent Spaces\n",
    "\n",
    "Modified from @dhimmel - https://github.com/dhimmel/integrate/blob/master/permute.ipynb\n",
    "\n",
    "Generate several randomly permuted hetnets to serve as a null distribution. The permutations preserve node degree but randomizes connections between nodes. See [Himmelstein et al. 2017](https://doi.org/10.7554/eLife.26726) for more details."
   ]
  },
  {
   "cell_type": "code",
   "execution_count": 1,
   "metadata": {},
   "outputs": [],
   "source": [
    "import os\n",
    "import pandas as pd\n",
    "\n",
    "import hetio.readwrite\n",
    "import hetio.permute"
   ]
  },
  {
   "cell_type": "code",
   "execution_count": 2,
   "metadata": {},
   "outputs": [
    {
     "name": "stdout",
     "output_type": "stream",
     "text": [
      "CPU times: user 57.8 s, sys: 1.67 s, total: 59.4 s\n",
      "Wall time: 59.3 s\n"
     ]
    }
   ],
   "source": [
    "%%time\n",
    "hetnet_path = os.path.join('hetnets', 'interpret_hetnet.json.bz2')\n",
    "graph = hetio.readwrite.read_graph(hetnet_path)"
   ]
  },
  {
   "cell_type": "code",
   "execution_count": 3,
   "metadata": {},
   "outputs": [],
   "source": [
    "# Selected as a result of `scripts/evaluate-permutations.ipynb`\n",
    "num_permuted_hetnets = 10\n",
    "num_swaps = 4"
   ]
  },
  {
   "cell_type": "code",
   "execution_count": 4,
   "metadata": {},
   "outputs": [
    {
     "name": "stdout",
     "output_type": "stream",
     "text": [
      "Starting permutation 1\n",
      "Starting permutation 2\n",
      "Starting permutation 3\n",
      "Starting permutation 4\n",
      "Starting permutation 5\n",
      "Starting permutation 6\n",
      "Starting permutation 7\n",
      "Starting permutation 8\n",
      "Starting permutation 9\n",
      "Starting permutation 10\n",
      "CPU times: user 7h 1min 22s, sys: 3.6 s, total: 7h 1min 25s\n",
      "Wall time: 7h 7s\n"
     ]
    }
   ],
   "source": [
    "%%time\n",
    "stat_dfs = list()\n",
    "permuted_graph = graph\n",
    " \n",
    "for i in range(num_permuted_hetnets):\n",
    "    i += 1\n",
    "    print('Starting permutation', i)\n",
    "    permuted_graph, stats = hetio.permute.permute_graph(permuted_graph,\n",
    "                                                        multiplier=num_swaps,\n",
    "                                                        seed=i)\n",
    "    stat_df = pd.DataFrame(stats)\n",
    "    stat_df['permutation'] = i\n",
    "    stat_dfs.append(stat_df)\n",
    "    perm_path = os.path.join('hetnets', 'permuted',\n",
    "                             'interpret_hetnet_perm-{}.json.bz2'.format(i))\n",
    "    hetio.readwrite.write_graph(permuted_graph, perm_path)"
   ]
  },
  {
   "cell_type": "code",
   "execution_count": 5,
   "metadata": {},
   "outputs": [],
   "source": [
    "# Save stats\n",
    "stat_df = pd.concat(stat_dfs)\n",
    "stat_path = os.path.join('hetnets', 'permuted', 'stats.tsv')\n",
    "stat_df.to_csv(stat_path, sep='\\t', index=False, float_format='%.5g')"
   ]
  }
 ],
 "metadata": {
  "kernelspec": {
   "display_name": "Python [conda env:interpret-compression]",
   "language": "python",
   "name": "conda-env-interpret-compression-py"
  },
  "language_info": {
   "codemirror_mode": {
    "name": "ipython",
    "version": 3
   },
   "file_extension": ".py",
   "mimetype": "text/x-python",
   "name": "python",
   "nbconvert_exporter": "python",
   "pygments_lexer": "ipython3",
   "version": "3.6.7"
  }
 },
 "nbformat": 4,
 "nbformat_minor": 2
}
