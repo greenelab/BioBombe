{
 "cells": [
  {
   "cell_type": "markdown",
   "metadata": {},
   "source": [
    "# Application of Compressed Gene Expression Signatures\n",
    "\n",
    "**Gregory Way, 2018**\n",
    "\n",
    "We previously identified a specific VAE feature (z = 3) that captured blood signatures.\n",
    "These signatures were not captured in VAE z = 2, and, when present, contributed to a rapid increase in the ability to capture the signal in GTEX blood tissues.\n",
    "\n",
    "The primary differences between the two VAE models appeared to be related to neutrophil and monocyte signatures. Here, we test the ability of these signatures to generalize to external datasets.\n",
    "\n",
    "\n",
    "## Part 1:\n",
    "\n",
    "### Enrichment of Neutrophil Signatures\n",
    "\n",
    "Here, we apply the VAE feature enriched for neutrophil genes to a publicly available dataset capturing neutrophil differentiation in two leukemia cell lines.\n",
    "\n",
    "![cell_type_Neutrophils_HPCA_2.png](https://github.com/greenelab/BioBombe/raw/master/6.analyze-weights/figures/GTEX/signal/GpXCELL/gene_set_Neutrophils_HPCA_2.png)\n",
    "\n",
    "## Part 2:\n",
    "\n",
    "### Enrichment of Monocyte Signatures\n",
    "\n",
    "Here, we apply the VAE features enriched for monocyte genes to a different publicly available dataset that captures various cell-types undergoing hematopoiesis.\n",
    "\n",
    "![cell_type_Monocytes_FANTOM_2.png](https://github.com/greenelab/BioBombe/raw/master/6.analyze-weights/figures/GTEX/signal/GpXCELL/gene_set_Monocytes_FANTOM_2.png)\n",
    "\n",
    "## Output\n",
    "\n",
    "In both cases, various scores are output that will be visualized in a separate notebook."
   ]
  },
  {
   "cell_type": "code",
   "execution_count": 1,
   "metadata": {},
   "outputs": [],
   "source": [
    "import os\n",
    "import sys\n",
    "import numpy as np\n",
    "import pandas as pd\n",
    "import matplotlib.pyplot as plt\n",
    "import seaborn as sns\n",
    "\n",
    "import hetio.readwrite\n",
    "import hetmech.matrix\n",
    "\n",
    "from scripts.utils import load_weight_matrix, apply_signature, load_enrichment_results\n",
    "\n",
    "sys.path.append('../scripts')\n",
    "from latent import parse_gmt"
   ]
  },
  {
   "cell_type": "code",
   "execution_count": 2,
   "metadata": {},
   "outputs": [],
   "source": [
    "%matplotlib inline"
   ]
  },
  {
   "cell_type": "code",
   "execution_count": 3,
   "metadata": {},
   "outputs": [],
   "source": [
    "np.random.seed(123)"
   ]
  },
  {
   "cell_type": "markdown",
   "metadata": {},
   "source": [
    "## 1.0. Load and Process External Neutrophil Dataset"
   ]
  },
  {
   "cell_type": "code",
   "execution_count": 4,
   "metadata": {},
   "outputs": [
    {
     "name": "stdout",
     "output_type": "stream",
     "text": [
      "(14, 19272)\n"
     ]
    },
    {
     "data": {
      "text/html": [
       "<div>\n",
       "<style scoped>\n",
       "    .dataframe tbody tr th:only-of-type {\n",
       "        vertical-align: middle;\n",
       "    }\n",
       "\n",
       "    .dataframe tbody tr th {\n",
       "        vertical-align: top;\n",
       "    }\n",
       "\n",
       "    .dataframe thead th {\n",
       "        text-align: right;\n",
       "    }\n",
       "</style>\n",
       "<table border=\"1\" class=\"dataframe\">\n",
       "  <thead>\n",
       "    <tr style=\"text-align: right;\">\n",
       "      <th></th>\n",
       "      <th>7105</th>\n",
       "      <th>64102</th>\n",
       "      <th>8813</th>\n",
       "      <th>6359</th>\n",
       "      <th>55732</th>\n",
       "      <th>2268</th>\n",
       "      <th>3075</th>\n",
       "      <th>2519</th>\n",
       "      <th>2729</th>\n",
       "      <th>4800</th>\n",
       "      <th>...</th>\n",
       "      <th>79447</th>\n",
       "      <th>140032</th>\n",
       "      <th>101234261</th>\n",
       "      <th>100996720</th>\n",
       "      <th>100527949</th>\n",
       "      <th>100862671</th>\n",
       "      <th>100861540</th>\n",
       "      <th>140</th>\n",
       "      <th>100033411</th>\n",
       "      <th>100129520</th>\n",
       "    </tr>\n",
       "  </thead>\n",
       "  <tbody>\n",
       "    <tr>\n",
       "      <th>PLB-985, not differentiated, replicate 1</th>\n",
       "      <td>0.0</td>\n",
       "      <td>0.0</td>\n",
       "      <td>0.634427</td>\n",
       "      <td>0.166941</td>\n",
       "      <td>1.000000</td>\n",
       "      <td>0.000000</td>\n",
       "      <td>0.0</td>\n",
       "      <td>0.01219</td>\n",
       "      <td>0.358691</td>\n",
       "      <td>0.40302</td>\n",
       "      <td>...</td>\n",
       "      <td>1.000000</td>\n",
       "      <td>0.0</td>\n",
       "      <td>0.0</td>\n",
       "      <td>0.173369</td>\n",
       "      <td>0.020122</td>\n",
       "      <td>0.025108</td>\n",
       "      <td>0.0</td>\n",
       "      <td>0.000093</td>\n",
       "      <td>0.0</td>\n",
       "      <td>0.0</td>\n",
       "    </tr>\n",
       "    <tr>\n",
       "      <th>PLB-985, DMSO, day 6, replicate 1</th>\n",
       "      <td>0.0</td>\n",
       "      <td>0.0</td>\n",
       "      <td>0.294013</td>\n",
       "      <td>0.876342</td>\n",
       "      <td>0.041159</td>\n",
       "      <td>0.089441</td>\n",
       "      <td>0.0</td>\n",
       "      <td>0.00000</td>\n",
       "      <td>0.954808</td>\n",
       "      <td>0.65640</td>\n",
       "      <td>...</td>\n",
       "      <td>0.495317</td>\n",
       "      <td>0.0</td>\n",
       "      <td>0.0</td>\n",
       "      <td>1.000000</td>\n",
       "      <td>0.017264</td>\n",
       "      <td>0.499439</td>\n",
       "      <td>0.0</td>\n",
       "      <td>0.352886</td>\n",
       "      <td>0.0</td>\n",
       "      <td>0.0</td>\n",
       "    </tr>\n",
       "  </tbody>\n",
       "</table>\n",
       "<p>2 rows × 19272 columns</p>\n",
       "</div>"
      ],
      "text/plain": [
       "                                          7105  64102      8813      6359  \\\n",
       "PLB-985, not differentiated, replicate 1   0.0    0.0  0.634427  0.166941   \n",
       "PLB-985, DMSO, day 6, replicate 1          0.0    0.0  0.294013  0.876342   \n",
       "\n",
       "                                             55732      2268  3075     2519  \\\n",
       "PLB-985, not differentiated, replicate 1  1.000000  0.000000   0.0  0.01219   \n",
       "PLB-985, DMSO, day 6, replicate 1         0.041159  0.089441   0.0  0.00000   \n",
       "\n",
       "                                              2729     4800    ...      \\\n",
       "PLB-985, not differentiated, replicate 1  0.358691  0.40302    ...       \n",
       "PLB-985, DMSO, day 6, replicate 1         0.954808  0.65640    ...       \n",
       "\n",
       "                                             79447  140032  101234261  \\\n",
       "PLB-985, not differentiated, replicate 1  1.000000     0.0        0.0   \n",
       "PLB-985, DMSO, day 6, replicate 1         0.495317     0.0        0.0   \n",
       "\n",
       "                                          100996720  100527949  100862671  \\\n",
       "PLB-985, not differentiated, replicate 1   0.173369   0.020122   0.025108   \n",
       "PLB-985, DMSO, day 6, replicate 1          1.000000   0.017264   0.499439   \n",
       "\n",
       "                                          100861540       140  100033411  \\\n",
       "PLB-985, not differentiated, replicate 1        0.0  0.000093        0.0   \n",
       "PLB-985, DMSO, day 6, replicate 1               0.0  0.352886        0.0   \n",
       "\n",
       "                                          100129520  \n",
       "PLB-985, not differentiated, replicate 1        0.0  \n",
       "PLB-985, DMSO, day 6, replicate 1               0.0  \n",
       "\n",
       "[2 rows x 19272 columns]"
      ]
     },
     "execution_count": 4,
     "metadata": {},
     "output_type": "execute_result"
    }
   ],
   "source": [
    "file = os.path.join('data', 'GSE103706_processed_matrix.tsv.gz')\n",
    "geo_scaled_zeroone_df = pd.read_table(file, index_col=0)\n",
    "\n",
    "print(geo_scaled_zeroone_df.shape)\n",
    "geo_scaled_zeroone_df.head(2)"
   ]
  },
  {
   "cell_type": "markdown",
   "metadata": {},
   "source": [
    "## 1.1. Apply Signature from VAE z = 3 (feature 0)"
   ]
  },
  {
   "cell_type": "code",
   "execution_count": 5,
   "metadata": {},
   "outputs": [],
   "source": [
    "vae_z3_seed = 908341\n",
    "vae_z3_feature = 'vae_0'"
   ]
  },
  {
   "cell_type": "code",
   "execution_count": 6,
   "metadata": {},
   "outputs": [],
   "source": [
    "weight_z3_df = load_weight_matrix(dataset='GTEX',\n",
    "                                  z_dim=3,\n",
    "                                  seed=vae_z3_seed)\n",
    "\n",
    "result_vae_3_feat0 = apply_signature(weight_df=weight_z3_df,\n",
    "                                     other_df=geo_scaled_zeroone_df,\n",
    "                                     feature=vae_z3_feature,\n",
    "                                     align=True)"
   ]
  },
  {
   "cell_type": "markdown",
   "metadata": {},
   "source": [
    "## 1.2. Apply Signature from VAE z = 14 (feature 10)"
   ]
  },
  {
   "cell_type": "code",
   "execution_count": 7,
   "metadata": {},
   "outputs": [],
   "source": [
    "vae_z14_seed = 486191\n",
    "vae_z14_feature = 'vae_10'"
   ]
  },
  {
   "cell_type": "code",
   "execution_count": 8,
   "metadata": {},
   "outputs": [],
   "source": [
    "weight_z14_df = load_weight_matrix(dataset='GTEX',\n",
    "                                   z_dim=14,\n",
    "                                   seed=vae_z14_seed)\n",
    "\n",
    "result_vae_14_feat10 = apply_signature(weight_df=weight_z14_df,\n",
    "                                       other_df=geo_scaled_zeroone_df,\n",
    "                                       feature=vae_z14_feature,\n",
    "                                       align=True)"
   ]
  },
  {
   "cell_type": "markdown",
   "metadata": {},
   "source": [
    "## 1.3. Combine Data and Add Phenotype Information"
   ]
  },
  {
   "cell_type": "code",
   "execution_count": 9,
   "metadata": {},
   "outputs": [],
   "source": [
    "full_neutrophil_results_df = result_vae_14_feat10.merge(result_vae_3_feat0,\n",
    "                                                        left_index=True,\n",
    "                                                        right_index=True)"
   ]
  },
  {
   "cell_type": "code",
   "execution_count": 10,
   "metadata": {},
   "outputs": [],
   "source": [
    "# Process phenotype data\n",
    "cell_line = [x[0] for x in result_vae_3_feat0.index.str.split(',')]\n",
    "treatment = [x[1] for x in result_vae_3_feat0.index.str.split(',')]\n",
    "day = [x[2].strip(' ') if 'replicate' not in x[2] else 'day 0'\n",
    "       for x in result_vae_3_feat0.index.str.split(',')]"
   ]
  },
  {
   "cell_type": "code",
   "execution_count": 11,
   "metadata": {},
   "outputs": [
    {
     "data": {
      "text/html": [
       "<div>\n",
       "<style scoped>\n",
       "    .dataframe tbody tr th:only-of-type {\n",
       "        vertical-align: middle;\n",
       "    }\n",
       "\n",
       "    .dataframe tbody tr th {\n",
       "        vertical-align: top;\n",
       "    }\n",
       "\n",
       "    .dataframe thead th {\n",
       "        text-align: right;\n",
       "    }\n",
       "</style>\n",
       "<table border=\"1\" class=\"dataframe\">\n",
       "  <thead>\n",
       "    <tr style=\"text-align: right;\">\n",
       "      <th></th>\n",
       "      <th>full_id</th>\n",
       "      <th>vae_10</th>\n",
       "      <th>vae_0</th>\n",
       "      <th>cell_line</th>\n",
       "      <th>treatment</th>\n",
       "      <th>day</th>\n",
       "    </tr>\n",
       "  </thead>\n",
       "  <tbody>\n",
       "    <tr>\n",
       "      <th>0</th>\n",
       "      <td>PLB-985, not differentiated, replicate 1</td>\n",
       "      <td>15.023124</td>\n",
       "      <td>-197.212255</td>\n",
       "      <td>PLB-985</td>\n",
       "      <td>Not Differentiated</td>\n",
       "      <td>day 0</td>\n",
       "    </tr>\n",
       "    <tr>\n",
       "      <th>1</th>\n",
       "      <td>PLB-985, DMSO, day 6, replicate 1</td>\n",
       "      <td>-30.062771</td>\n",
       "      <td>-165.257834</td>\n",
       "      <td>PLB-985</td>\n",
       "      <td>DMSO</td>\n",
       "      <td>day 6</td>\n",
       "    </tr>\n",
       "    <tr>\n",
       "      <th>2</th>\n",
       "      <td>PLB-985, DMSO+Nutridoma, day 4</td>\n",
       "      <td>-28.914972</td>\n",
       "      <td>-162.056202</td>\n",
       "      <td>PLB-985</td>\n",
       "      <td>DMSO+Nutridoma</td>\n",
       "      <td>day 4</td>\n",
       "    </tr>\n",
       "    <tr>\n",
       "      <th>3</th>\n",
       "      <td>PLB-985, DMSO+Nutridoma, day 6, replicate 1</td>\n",
       "      <td>-35.947254</td>\n",
       "      <td>-153.059585</td>\n",
       "      <td>PLB-985</td>\n",
       "      <td>DMSO+Nutridoma</td>\n",
       "      <td>day 6</td>\n",
       "    </tr>\n",
       "    <tr>\n",
       "      <th>4</th>\n",
       "      <td>HL-60, not differentiated, replicate 1</td>\n",
       "      <td>3.711192</td>\n",
       "      <td>-165.541292</td>\n",
       "      <td>HL-60</td>\n",
       "      <td>Not Differentiated</td>\n",
       "      <td>day 0</td>\n",
       "    </tr>\n",
       "    <tr>\n",
       "      <th>5</th>\n",
       "      <td>HL-60, DMSO, day 6, replicate 1</td>\n",
       "      <td>-36.608932</td>\n",
       "      <td>-156.390062</td>\n",
       "      <td>HL-60</td>\n",
       "      <td>DMSO</td>\n",
       "      <td>day 6</td>\n",
       "    </tr>\n",
       "    <tr>\n",
       "      <th>6</th>\n",
       "      <td>HL-60, DMSO+Nutridoma, day 6, replicate 1</td>\n",
       "      <td>-36.797638</td>\n",
       "      <td>-144.121119</td>\n",
       "      <td>HL-60</td>\n",
       "      <td>DMSO+Nutridoma</td>\n",
       "      <td>day 6</td>\n",
       "    </tr>\n",
       "    <tr>\n",
       "      <th>7</th>\n",
       "      <td>PLB-985, not differentiated, replicate 2</td>\n",
       "      <td>9.900077</td>\n",
       "      <td>-145.737554</td>\n",
       "      <td>PLB-985</td>\n",
       "      <td>Not Differentiated</td>\n",
       "      <td>day 0</td>\n",
       "    </tr>\n",
       "    <tr>\n",
       "      <th>8</th>\n",
       "      <td>PLB-985, DMSO, day 6, replicate 2</td>\n",
       "      <td>-31.274222</td>\n",
       "      <td>-116.195076</td>\n",
       "      <td>PLB-985</td>\n",
       "      <td>DMSO</td>\n",
       "      <td>day 6</td>\n",
       "    </tr>\n",
       "    <tr>\n",
       "      <th>9</th>\n",
       "      <td>PLB-985, DMSO+Nutridoma, day 2</td>\n",
       "      <td>-16.068799</td>\n",
       "      <td>-136.136777</td>\n",
       "      <td>PLB-985</td>\n",
       "      <td>DMSO+Nutridoma</td>\n",
       "      <td>day 2</td>\n",
       "    </tr>\n",
       "    <tr>\n",
       "      <th>10</th>\n",
       "      <td>PLB-985, DMSO+Nutridoma, day 6, replicate 2</td>\n",
       "      <td>-24.050141</td>\n",
       "      <td>-129.877561</td>\n",
       "      <td>PLB-985</td>\n",
       "      <td>DMSO+Nutridoma</td>\n",
       "      <td>day 6</td>\n",
       "    </tr>\n",
       "    <tr>\n",
       "      <th>11</th>\n",
       "      <td>HL-60, not differentiated, replicate 2</td>\n",
       "      <td>20.017671</td>\n",
       "      <td>-131.136546</td>\n",
       "      <td>HL-60</td>\n",
       "      <td>Not Differentiated</td>\n",
       "      <td>day 0</td>\n",
       "    </tr>\n",
       "    <tr>\n",
       "      <th>12</th>\n",
       "      <td>HL-60, DMSO, day 6, replicate 2</td>\n",
       "      <td>-39.586398</td>\n",
       "      <td>-115.963675</td>\n",
       "      <td>HL-60</td>\n",
       "      <td>DMSO</td>\n",
       "      <td>day 6</td>\n",
       "    </tr>\n",
       "    <tr>\n",
       "      <th>13</th>\n",
       "      <td>HL-60, DMSO+Nutridoma, day 6, replicate 2</td>\n",
       "      <td>-22.434761</td>\n",
       "      <td>-106.251128</td>\n",
       "      <td>HL-60</td>\n",
       "      <td>DMSO+Nutridoma</td>\n",
       "      <td>day 6</td>\n",
       "    </tr>\n",
       "  </tbody>\n",
       "</table>\n",
       "</div>"
      ],
      "text/plain": [
       "                                        full_id     vae_10       vae_0  \\\n",
       "0      PLB-985, not differentiated, replicate 1  15.023124 -197.212255   \n",
       "1             PLB-985, DMSO, day 6, replicate 1 -30.062771 -165.257834   \n",
       "2                PLB-985, DMSO+Nutridoma, day 4 -28.914972 -162.056202   \n",
       "3   PLB-985, DMSO+Nutridoma, day 6, replicate 1 -35.947254 -153.059585   \n",
       "4        HL-60, not differentiated, replicate 1   3.711192 -165.541292   \n",
       "5               HL-60, DMSO, day 6, replicate 1 -36.608932 -156.390062   \n",
       "6     HL-60, DMSO+Nutridoma, day 6, replicate 1 -36.797638 -144.121119   \n",
       "7      PLB-985, not differentiated, replicate 2   9.900077 -145.737554   \n",
       "8             PLB-985, DMSO, day 6, replicate 2 -31.274222 -116.195076   \n",
       "9                PLB-985, DMSO+Nutridoma, day 2 -16.068799 -136.136777   \n",
       "10  PLB-985, DMSO+Nutridoma, day 6, replicate 2 -24.050141 -129.877561   \n",
       "11       HL-60, not differentiated, replicate 2  20.017671 -131.136546   \n",
       "12              HL-60, DMSO, day 6, replicate 2 -39.586398 -115.963675   \n",
       "13    HL-60, DMSO+Nutridoma, day 6, replicate 2 -22.434761 -106.251128   \n",
       "\n",
       "   cell_line           treatment    day  \n",
       "0    PLB-985  Not Differentiated  day 0  \n",
       "1    PLB-985                DMSO  day 6  \n",
       "2    PLB-985      DMSO+Nutridoma  day 4  \n",
       "3    PLB-985      DMSO+Nutridoma  day 6  \n",
       "4      HL-60  Not Differentiated  day 0  \n",
       "5      HL-60                DMSO  day 6  \n",
       "6      HL-60      DMSO+Nutridoma  day 6  \n",
       "7    PLB-985  Not Differentiated  day 0  \n",
       "8    PLB-985                DMSO  day 6  \n",
       "9    PLB-985      DMSO+Nutridoma  day 2  \n",
       "10   PLB-985      DMSO+Nutridoma  day 6  \n",
       "11     HL-60  Not Differentiated  day 0  \n",
       "12     HL-60                DMSO  day 6  \n",
       "13     HL-60      DMSO+Nutridoma  day 6  "
      ]
     },
     "execution_count": 11,
     "metadata": {},
     "output_type": "execute_result"
    }
   ],
   "source": [
    "full_neutrophil_results_df = (\n",
    "    full_neutrophil_results_df\n",
    "    .assign(cell_line=cell_line,\n",
    "            treatment=treatment,\n",
    "            day=day)\n",
    "    .reset_index()\n",
    "    .rename(columns={'index': 'full_id'})\n",
    ")\n",
    "\n",
    "recode_labels = {' not differentiated': 'Not Differentiated',\n",
    "                 ' DMSO': 'DMSO',\n",
    "                 ' DMSO+Nutridoma': 'DMSO+Nutridoma'}\n",
    "\n",
    "full_neutrophil_results_df.treatment = full_neutrophil_results_df.treatment.replace(recode_labels)\n",
    "\n",
    "file = os.path.join('results', 'neutrophil_data_biobombe_results.tsv')\n",
    "full_neutrophil_results_df.to_csv(file, index=False, sep='\\t')\n",
    "\n",
    "full_neutrophil_results_df"
   ]
  },
  {
   "cell_type": "markdown",
   "metadata": {},
   "source": [
    "## 1.4. Quickly Visualize Signature Applied to External Dataset\n",
    "\n",
    "Note the final figure is compiled in an alternative notebook"
   ]
  },
  {
   "cell_type": "code",
   "execution_count": 12,
   "metadata": {},
   "outputs": [
    {
     "data": {
      "image/png": "[encoded data removed]",
      "text/plain": [
       "<Figure size 360x216 with 1 Axes>"
      ]
     },
     "metadata": {},
     "output_type": "display_data"
    }
   ],
   "source": [
    "# Quickly visualize results\n",
    "plt.rcParams['figure.figsize'] = 5, 3\n",
    "ax = sns.stripplot(x='cell_line',\n",
    "                   y='vae_0',\n",
    "                   data=full_neutrophil_results_df,\n",
    "                   hue='treatment',\n",
    "                   jitter=0.1)\n",
    "\n",
    "handles, labels = ax.get_legend_handles_labels()\n",
    "\n",
    "l = plt.legend(handles,\n",
    "               labels,\n",
    "               bbox_to_anchor=(1.02, 0.8),\n",
    "               loc=2,\n",
    "               borderaxespad=0.)\n",
    "l.set_title(\"Treatment\")\n",
    "\n",
    "ax.set_ylabel('VAE Feature 0 (z = 3)')\n",
    "ax.set_xlabel('Cell Lines')\n",
    "\n",
    "plt.tight_layout()"
   ]
  },
  {
   "cell_type": "code",
   "execution_count": 13,
   "metadata": {},
   "outputs": [
    {
     "data": {
      "image/png": "[encoded data removed]",
      "text/plain": [
       "<Figure size 360x216 with 1 Axes>"
      ]
     },
     "metadata": {},
     "output_type": "display_data"
    }
   ],
   "source": [
    "# Quickly visualize results\n",
    "plt.rcParams['figure.figsize'] = 5, 3\n",
    "ax = sns.stripplot(x='cell_line',\n",
    "                   y='vae_10',\n",
    "                   data=full_neutrophil_results_df,\n",
    "                   hue='treatment',\n",
    "                   jitter=0.1)\n",
    "\n",
    "handles, labels = ax.get_legend_handles_labels()\n",
    "\n",
    "l = plt.legend(handles,\n",
    "               labels,\n",
    "               bbox_to_anchor=(1.02, 0.8),\n",
    "               loc=2,\n",
    "               borderaxespad=0.)\n",
    "l.set_title(\"Treatment\")\n",
    "\n",
    "ax.set_ylabel('VAE Feature 10 (z = 14)')\n",
    "ax.set_xlabel('Cell Lines')\n",
    "\n",
    "plt.tight_layout()"
   ]
  },
  {
   "cell_type": "markdown",
   "metadata": {},
   "source": [
    "## 1.5. Compare the two signatures derived from both models"
   ]
  },
  {
   "cell_type": "code",
   "execution_count": 14,
   "metadata": {},
   "outputs": [
    {
     "data": {
      "text/html": [
       "<div>\n",
       "<style scoped>\n",
       "    .dataframe tbody tr th:only-of-type {\n",
       "        vertical-align: middle;\n",
       "    }\n",
       "\n",
       "    .dataframe tbody tr th {\n",
       "        vertical-align: top;\n",
       "    }\n",
       "\n",
       "    .dataframe thead th {\n",
       "        text-align: right;\n",
       "    }\n",
       "</style>\n",
       "<table border=\"1\" class=\"dataframe\">\n",
       "  <thead>\n",
       "    <tr style=\"text-align: right;\">\n",
       "      <th></th>\n",
       "      <th>model_type_z3</th>\n",
       "      <th>variable</th>\n",
       "      <th>value_z3</th>\n",
       "      <th>z_score_z3</th>\n",
       "      <th>algorithm_z3</th>\n",
       "      <th>feature_z3</th>\n",
       "      <th>z_z3</th>\n",
       "      <th>seed_z3</th>\n",
       "      <th>model_type_z14</th>\n",
       "      <th>value_z14</th>\n",
       "      <th>z_score_z14</th>\n",
       "      <th>algorithm_z14</th>\n",
       "      <th>feature_z14</th>\n",
       "      <th>z_z14</th>\n",
       "      <th>seed_z14</th>\n",
       "    </tr>\n",
       "  </thead>\n",
       "  <tbody>\n",
       "    <tr>\n",
       "      <th>0</th>\n",
       "      <td>real</td>\n",
       "      <td>Keratinocytes_HPCA_3</td>\n",
       "      <td>-10.9015</td>\n",
       "      <td>-33.32250</td>\n",
       "      <td>vae</td>\n",
       "      <td>2</td>\n",
       "      <td>3</td>\n",
       "      <td>908341</td>\n",
       "      <td>real</td>\n",
       "      <td>-2.46113</td>\n",
       "      <td>-5.42071</td>\n",
       "      <td>vae</td>\n",
       "      <td>10</td>\n",
       "      <td>14</td>\n",
       "      <td>486191</td>\n",
       "    </tr>\n",
       "    <tr>\n",
       "      <th>1</th>\n",
       "      <td>real</td>\n",
       "      <td>Keratinocytes_HPCA_3</td>\n",
       "      <td>-11.9194</td>\n",
       "      <td>-19.00490</td>\n",
       "      <td>vae</td>\n",
       "      <td>1</td>\n",
       "      <td>3</td>\n",
       "      <td>908341</td>\n",
       "      <td>real</td>\n",
       "      <td>-2.46113</td>\n",
       "      <td>-5.42071</td>\n",
       "      <td>vae</td>\n",
       "      <td>10</td>\n",
       "      <td>14</td>\n",
       "      <td>486191</td>\n",
       "    </tr>\n",
       "    <tr>\n",
       "      <th>2</th>\n",
       "      <td>real</td>\n",
       "      <td>Keratinocytes_HPCA_3</td>\n",
       "      <td>1.3954</td>\n",
       "      <td>5.91483</td>\n",
       "      <td>vae</td>\n",
       "      <td>0</td>\n",
       "      <td>3</td>\n",
       "      <td>908341</td>\n",
       "      <td>real</td>\n",
       "      <td>-2.46113</td>\n",
       "      <td>-5.42071</td>\n",
       "      <td>vae</td>\n",
       "      <td>10</td>\n",
       "      <td>14</td>\n",
       "      <td>486191</td>\n",
       "    </tr>\n",
       "  </tbody>\n",
       "</table>\n",
       "</div>"
      ],
      "text/plain": [
       "  model_type_z3              variable  value_z3  z_score_z3 algorithm_z3  \\\n",
       "0          real  Keratinocytes_HPCA_3  -10.9015   -33.32250          vae   \n",
       "1          real  Keratinocytes_HPCA_3  -11.9194   -19.00490          vae   \n",
       "2          real  Keratinocytes_HPCA_3    1.3954     5.91483          vae   \n",
       "\n",
       "   feature_z3  z_z3  seed_z3 model_type_z14  value_z14  z_score_z14  \\\n",
       "0           2     3   908341           real   -2.46113     -5.42071   \n",
       "1           1     3   908341           real   -2.46113     -5.42071   \n",
       "2           0     3   908341           real   -2.46113     -5.42071   \n",
       "\n",
       "  algorithm_z14  feature_z14  z_z14  seed_z14  \n",
       "0           vae           10     14    486191  \n",
       "1           vae           10     14    486191  \n",
       "2           vae           10     14    486191  "
      ]
     },
     "execution_count": 14,
     "metadata": {},
     "output_type": "execute_result"
    }
   ],
   "source": [
    "# What other genesets are enriched in VAE z = 3 feature?\n",
    "vae_z3_p0 = load_enrichment_results(dataset='GTEX',\n",
    "                                    z_dim=3,\n",
    "                                    metaedge='GpXCELL',\n",
    "                                    algorithm='vae',\n",
    "                                    feature=0,\n",
    "                                    seed=vae_z3_seed,\n",
    "                                    shuffled=False)\n",
    "\n",
    "# What other genesets are enriched in VAE z = 14 feature?\n",
    "vae_z14_p10 = load_enrichment_results(dataset='GTEX',\n",
    "                                      z_dim=14,\n",
    "                                      metaedge='GpXCELL',\n",
    "                                      algorithm='vae',\n",
    "                                      feature=10,\n",
    "                                      seed=vae_z14_seed,\n",
    "                                      shuffled=False)\n",
    "\n",
    "full_test_df = vae_z3_p0.merge(vae_z14_p10, on='variable', suffixes=('_z3', '_z14'))\n",
    "\n",
    "file = os.path.join('results', 'latent_feature_enrichment_comparison_neutrophil_genesets.tsv')\n",
    "full_test_df.to_csv(file, index=False, sep='\\t')\n",
    "\n",
    "full_test_df.head(3)"
   ]
  },
  {
   "cell_type": "code",
   "execution_count": 15,
   "metadata": {},
   "outputs": [
    {
     "data": {
      "image/png": "[encoded data removed]",
      "text/plain": [
       "<Figure size 360x216 with 1 Axes>"
      ]
     },
     "metadata": {},
     "output_type": "display_data"
    }
   ],
   "source": [
    "# Save dataframe for better plotting in R, but visualize quickly here\n",
    "sns.scatterplot(data=full_test_df, x='z_score_z3', y='z_score_z14');"
   ]
  },
  {
   "cell_type": "markdown",
   "metadata": {},
   "source": [
    "### 1.5.1 Determine Gene Weights across the Two Features\n",
    "\n",
    "Also assign labels to which genesets the genes contribute to"
   ]
  },
  {
   "cell_type": "code",
   "execution_count": 16,
   "metadata": {},
   "outputs": [
    {
     "data": {
      "text/plain": [
       "489"
      ]
     },
     "execution_count": 16,
     "metadata": {},
     "output_type": "execute_result"
    }
   ],
   "source": [
    "# First, load the XCELL dataset and extract genes that belong to neutrophil processes\n",
    "geneset_file = os.path.join('..', '3.build-hetnets', 'data', 'xcell_all_entrez.gmt')\n",
    "\n",
    "xcell_genesets_gmt = parse_gmt(gene_sets=[geneset_file])\n",
    "len(xcell_genesets_gmt)"
   ]
  },
  {
   "cell_type": "code",
   "execution_count": 17,
   "metadata": {},
   "outputs": [],
   "source": [
    "unique_genes = []\n",
    "for geneset_name, geneset in xcell_genesets_gmt.items():\n",
    "    for gene in geneset:\n",
    "        unique_genes.append(gene)\n",
    "\n",
    "unique_genes = set(unique_genes)\n",
    "\n",
    "classification_genes = []\n",
    "for geneset_name, geneset in xcell_genesets_gmt.items():\n",
    "    if 'neutrophil' in geneset_name.lower():\n",
    "        classification = 'Neutrophils'\n",
    "    elif 'keratinocytes' in geneset_name.lower():\n",
    "        classification = 'Keratinocytes'\n",
    "    elif 'neurons' in geneset_name.lower():\n",
    "        classification = 'Neurons'\n",
    "    elif 'skeletal' in geneset_name.lower():\n",
    "        classification = 'Skeletal Muscle'\n",
    "    elif 'monocytes' in geneset_name.lower():\n",
    "        classification = 'Monocytes'\n",
    "    else:\n",
    "        classification = 'Other Geneset'\n",
    "    for gene in geneset:\n",
    "        if gene in weight_z14_df.index:\n",
    "            classification_genes.append([classification, gene, geneset_name])"
   ]
  },
  {
   "cell_type": "code",
   "execution_count": 18,
   "metadata": {},
   "outputs": [
    {
     "data": {
      "text/html": [
       "<div>\n",
       "<style scoped>\n",
       "    .dataframe tbody tr th:only-of-type {\n",
       "        vertical-align: middle;\n",
       "    }\n",
       "\n",
       "    .dataframe tbody tr th {\n",
       "        vertical-align: top;\n",
       "    }\n",
       "\n",
       "    .dataframe thead th {\n",
       "        text-align: right;\n",
       "    }\n",
       "</style>\n",
       "<table border=\"1\" class=\"dataframe\">\n",
       "  <thead>\n",
       "    <tr style=\"text-align: right;\">\n",
       "      <th></th>\n",
       "      <th>classification</th>\n",
       "      <th>gene</th>\n",
       "      <th>gene_set</th>\n",
       "    </tr>\n",
       "    <tr>\n",
       "      <th>gene</th>\n",
       "      <th></th>\n",
       "      <th></th>\n",
       "      <th></th>\n",
       "    </tr>\n",
       "  </thead>\n",
       "  <tbody>\n",
       "    <tr>\n",
       "      <th>5228</th>\n",
       "      <td>Keratinocytes</td>\n",
       "      <td>5228</td>\n",
       "      <td>Keratinocytes_FANTOM_1</td>\n",
       "    </tr>\n",
       "    <tr>\n",
       "      <th>6273</th>\n",
       "      <td>Keratinocytes</td>\n",
       "      <td>6273</td>\n",
       "      <td>Keratinocytes_FANTOM_2</td>\n",
       "    </tr>\n",
       "    <tr>\n",
       "      <th>6279</th>\n",
       "      <td>Keratinocytes</td>\n",
       "      <td>6279</td>\n",
       "      <td>Keratinocytes_FANTOM_2</td>\n",
       "    </tr>\n",
       "    <tr>\n",
       "      <th>6280</th>\n",
       "      <td>Keratinocytes</td>\n",
       "      <td>6280</td>\n",
       "      <td>Keratinocytes_FANTOM_2</td>\n",
       "    </tr>\n",
       "    <tr>\n",
       "      <th>6665</th>\n",
       "      <td>Keratinocytes</td>\n",
       "      <td>6665</td>\n",
       "      <td>Keratinocytes_FANTOM_2</td>\n",
       "    </tr>\n",
       "  </tbody>\n",
       "</table>\n",
       "</div>"
      ],
      "text/plain": [
       "     classification  gene                gene_set\n",
       "gene                                             \n",
       "5228  Keratinocytes  5228  Keratinocytes_FANTOM_1\n",
       "6273  Keratinocytes  6273  Keratinocytes_FANTOM_2\n",
       "6279  Keratinocytes  6279  Keratinocytes_FANTOM_2\n",
       "6280  Keratinocytes  6280  Keratinocytes_FANTOM_2\n",
       "6665  Keratinocytes  6665  Keratinocytes_FANTOM_2"
      ]
     },
     "execution_count": 18,
     "metadata": {},
     "output_type": "execute_result"
    }
   ],
   "source": [
    "result_df = (\n",
    "    pd.DataFrame(classification_genes, columns=['classification', 'gene', 'gene_set'])\n",
    "    .sort_values(by='classification')\n",
    "    .reset_index(drop=True)\n",
    "    .drop_duplicates(subset='gene', keep='first')\n",
    ")\n",
    "\n",
    "result_df.gene = result_df.gene.astype(str)\n",
    "result_df.index = result_df.gene\n",
    "result_df.head()"
   ]
  },
  {
   "cell_type": "code",
   "execution_count": 19,
   "metadata": {},
   "outputs": [
    {
     "data": {
      "text/plain": [
       "Other Geneset      2250\n",
       "Monocytes           202\n",
       "Neurons             169\n",
       "Keratinocytes        90\n",
       "Neutrophils          27\n",
       "Skeletal Muscle      13\n",
       "Name: classification, dtype: int64"
      ]
     },
     "execution_count": 19,
     "metadata": {},
     "output_type": "execute_result"
    }
   ],
   "source": [
    "result_df.classification.value_counts()"
   ]
  },
  {
   "cell_type": "code",
   "execution_count": 20,
   "metadata": {},
   "outputs": [],
   "source": [
    "both_weight_df = (\n",
    "    weight_z3_df.merge(weight_z14_df,\n",
    "                       left_index=True,\n",
    "                       right_index=True,\n",
    "                       suffixes=('_3', '_14'))\n",
    "    .merge(result_df, left_index=True,\n",
    "           right_index=True, how='left')\n",
    "    .fillna('No Geneset')\n",
    ")\n",
    "\n",
    "file = os.path.join('results', 'latent_feature_enrichment_comparison_neutrophil_genes.tsv')\n",
    "both_weight_df.to_csv(file, index=False, sep='\\t')"
   ]
  },
  {
   "cell_type": "markdown",
   "metadata": {},
   "source": [
    "## 2.0. Load and Process External Hematopoietic Dataset"
   ]
  },
  {
   "cell_type": "code",
   "execution_count": 21,
   "metadata": {},
   "outputs": [
    {
     "name": "stdout",
     "output_type": "stream",
     "text": [
      "(211, 8968)\n"
     ]
    },
    {
     "data": {
      "text/html": [
       "<div>\n",
       "<style scoped>\n",
       "    .dataframe tbody tr th:only-of-type {\n",
       "        vertical-align: middle;\n",
       "    }\n",
       "\n",
       "    .dataframe tbody tr th {\n",
       "        vertical-align: top;\n",
       "    }\n",
       "\n",
       "    .dataframe thead th {\n",
       "        text-align: right;\n",
       "    }\n",
       "</style>\n",
       "<table border=\"1\" class=\"dataframe\">\n",
       "  <thead>\n",
       "    <tr style=\"text-align: right;\">\n",
       "      <th></th>\n",
       "      <th>8563</th>\n",
       "      <th>8434</th>\n",
       "      <th>55099</th>\n",
       "      <th>4863</th>\n",
       "      <th>4628</th>\n",
       "      <th>1387</th>\n",
       "      <th>55854</th>\n",
       "      <th>79572</th>\n",
       "      <th>1785</th>\n",
       "      <th>2634</th>\n",
       "      <th>...</th>\n",
       "      <th>9125</th>\n",
       "      <th>2885</th>\n",
       "      <th>26276</th>\n",
       "      <th>3106</th>\n",
       "      <th>64757</th>\n",
       "      <th>9764</th>\n",
       "      <th>57819</th>\n",
       "      <th>192683</th>\n",
       "      <th>152559</th>\n",
       "      <th>2669</th>\n",
       "    </tr>\n",
       "  </thead>\n",
       "  <tbody>\n",
       "    <tr>\n",
       "      <th>HSC1_1</th>\n",
       "      <td>0.312585</td>\n",
       "      <td>0.765356</td>\n",
       "      <td>0.294345</td>\n",
       "      <td>0.625128</td>\n",
       "      <td>0.608219</td>\n",
       "      <td>0.766648</td>\n",
       "      <td>0.621663</td>\n",
       "      <td>0.725602</td>\n",
       "      <td>0.670308</td>\n",
       "      <td>0.696596</td>\n",
       "      <td>...</td>\n",
       "      <td>0.291599</td>\n",
       "      <td>0.178822</td>\n",
       "      <td>0.598740</td>\n",
       "      <td>0.552248</td>\n",
       "      <td>0.295143</td>\n",
       "      <td>0.153165</td>\n",
       "      <td>0.963897</td>\n",
       "      <td>0.176392</td>\n",
       "      <td>0.923904</td>\n",
       "      <td>0.336856</td>\n",
       "    </tr>\n",
       "    <tr>\n",
       "      <th>HSC1_13</th>\n",
       "      <td>0.311769</td>\n",
       "      <td>0.561833</td>\n",
       "      <td>0.329615</td>\n",
       "      <td>0.401469</td>\n",
       "      <td>0.487599</td>\n",
       "      <td>0.637845</td>\n",
       "      <td>0.644225</td>\n",
       "      <td>0.713899</td>\n",
       "      <td>0.459758</td>\n",
       "      <td>0.667098</td>\n",
       "      <td>...</td>\n",
       "      <td>0.287931</td>\n",
       "      <td>0.248829</td>\n",
       "      <td>0.743992</td>\n",
       "      <td>0.565033</td>\n",
       "      <td>0.473721</td>\n",
       "      <td>0.156976</td>\n",
       "      <td>0.964679</td>\n",
       "      <td>0.307535</td>\n",
       "      <td>0.810295</td>\n",
       "      <td>0.314071</td>\n",
       "    </tr>\n",
       "  </tbody>\n",
       "</table>\n",
       "<p>2 rows × 8968 columns</p>\n",
       "</div>"
      ],
      "text/plain": [
       "             8563      8434     55099      4863      4628      1387     55854  \\\n",
       "HSC1_1   0.312585  0.765356  0.294345  0.625128  0.608219  0.766648  0.621663   \n",
       "HSC1_13  0.311769  0.561833  0.329615  0.401469  0.487599  0.637845  0.644225   \n",
       "\n",
       "            79572      1785      2634    ...         9125      2885     26276  \\\n",
       "HSC1_1   0.725602  0.670308  0.696596    ...     0.291599  0.178822  0.598740   \n",
       "HSC1_13  0.713899  0.459758  0.667098    ...     0.287931  0.248829  0.743992   \n",
       "\n",
       "             3106     64757      9764     57819    192683    152559      2669  \n",
       "HSC1_1   0.552248  0.295143  0.153165  0.963897  0.176392  0.923904  0.336856  \n",
       "HSC1_13  0.565033  0.473721  0.156976  0.964679  0.307535  0.810295  0.314071  \n",
       "\n",
       "[2 rows x 8968 columns]"
      ]
     },
     "execution_count": 21,
     "metadata": {},
     "output_type": "execute_result"
    }
   ],
   "source": [
    "file = os.path.join('data', 'GSE24759_processed_matrix.tsv.gz')\n",
    "heme_zeroone_df = pd.read_table(file, index_col=0)\n",
    "\n",
    "print(heme_zeroone_df.shape)\n",
    "heme_zeroone_df.head(2)"
   ]
  },
  {
   "cell_type": "code",
   "execution_count": 22,
   "metadata": {},
   "outputs": [],
   "source": [
    "heme_z3_seed = 908341\n",
    "heme_z3_feature = 'vae_2'"
   ]
  },
  {
   "cell_type": "code",
   "execution_count": 23,
   "metadata": {},
   "outputs": [],
   "source": [
    "# Transform the external dataset with this learned feature\n",
    "weight_heme_z3_df = load_weight_matrix(dataset='GTEX',\n",
    "                                       z_dim=3,\n",
    "                                       seed=heme_z3_seed)\n",
    "\n",
    "result_heme_vae_3_feat2 = apply_signature(weight_df=weight_heme_z3_df,\n",
    "                                          other_df=heme_zeroone_df,\n",
    "                                          feature=heme_z3_feature,\n",
    "                                          align=True)"
   ]
  },
  {
   "cell_type": "code",
   "execution_count": 24,
   "metadata": {},
   "outputs": [
    {
     "data": {
      "text/html": [
       "<div>\n",
       "<style scoped>\n",
       "    .dataframe tbody tr th:only-of-type {\n",
       "        vertical-align: middle;\n",
       "    }\n",
       "\n",
       "    .dataframe tbody tr th {\n",
       "        vertical-align: top;\n",
       "    }\n",
       "\n",
       "    .dataframe thead th {\n",
       "        text-align: right;\n",
       "    }\n",
       "</style>\n",
       "<table border=\"1\" class=\"dataframe\">\n",
       "  <thead>\n",
       "    <tr style=\"text-align: right;\">\n",
       "      <th></th>\n",
       "      <th>model_type</th>\n",
       "      <th>variable</th>\n",
       "      <th>value</th>\n",
       "      <th>z_score</th>\n",
       "      <th>algorithm</th>\n",
       "      <th>feature</th>\n",
       "      <th>z</th>\n",
       "      <th>seed</th>\n",
       "      <th>abs_z_score</th>\n",
       "    </tr>\n",
       "  </thead>\n",
       "  <tbody>\n",
       "    <tr>\n",
       "      <th>2444895</th>\n",
       "      <td>real</td>\n",
       "      <td>Monocytes_FANTOM_2</td>\n",
       "      <td>37.7563</td>\n",
       "      <td>31.9881</td>\n",
       "      <td>nmf</td>\n",
       "      <td>6</td>\n",
       "      <td>200</td>\n",
       "      <td>908341</td>\n",
       "      <td>31.9881</td>\n",
       "    </tr>\n",
       "  </tbody>\n",
       "</table>\n",
       "</div>"
      ],
      "text/plain": [
       "        model_type            variable    value  z_score algorithm  feature  \\\n",
       "2444895       real  Monocytes_FANTOM_2  37.7563  31.9881       nmf        6   \n",
       "\n",
       "           z    seed  abs_z_score  \n",
       "2444895  200  908341      31.9881  "
      ]
     },
     "execution_count": 24,
     "metadata": {},
     "output_type": "execute_result"
    }
   ],
   "source": [
    "# Additionall, the top scoring feature for Monocytes_FANTOM_2 is in the nmf model with 200 features\n",
    "file = os.path.join('..', '6.analyze-weights', 'results', 'gtex',\n",
    "                    'gpxcell', 'signal',\n",
    "                    'gtex_z_200_GpXCELL__geneset_scores.tsv.gz')\n",
    "\n",
    "gtex_z200_scores_df = (\n",
    "    pd.read_table(file)\n",
    "    .query('variable == \"Monocytes_FANTOM_2\"'))\n",
    "\n",
    "gtex_z200_scores_df = (\n",
    "    gtex_z200_scores_df\n",
    "    .assign(abs_z_score = gtex_z200_scores_df.z_score.abs())\n",
    "    .sort_values(by='abs_z_score', ascending=False)\n",
    "    .head(1)\n",
    ")\n",
    "\n",
    "gtex_z200_scores_df"
   ]
  },
  {
   "cell_type": "code",
   "execution_count": 25,
   "metadata": {},
   "outputs": [
    {
     "data": {
      "text/plain": [
       "'nmf_6'"
      ]
     },
     "execution_count": 25,
     "metadata": {},
     "output_type": "execute_result"
    }
   ],
   "source": [
    "heme_z200_feature = '{}_{}'.format(gtex_z200_scores_df.algorithm.values[0],\n",
    "                                   gtex_z200_scores_df.feature.values[0])\n",
    "\n",
    "heme_z200_feature"
   ]
  },
  {
   "cell_type": "code",
   "execution_count": 26,
   "metadata": {},
   "outputs": [],
   "source": [
    "# Obtain this transformation too\n",
    "weight_heme_z200_df = load_weight_matrix(dataset='GTEX',\n",
    "                                         z_dim=200,\n",
    "                                         seed=gtex_z200_scores_df.seed.values[0])\n",
    "\n",
    "\n",
    "result_heme_nmf_200_feat6 = apply_signature(weight_df=weight_heme_z200_df,\n",
    "                                            other_df=heme_zeroone_df,\n",
    "                                            feature=heme_z200_feature,\n",
    "                                            align=True)"
   ]
  },
  {
   "cell_type": "code",
   "execution_count": 27,
   "metadata": {},
   "outputs": [],
   "source": [
    "# Combine the full scores and output for downstream visualization\n",
    "full_heme_result_df = (\n",
    "    result_heme_vae_3_feat2\n",
    "    .merge(result_heme_nmf_200_feat6, left_index=True, right_index=True)\n",
    "    .reset_index().rename(columns={'index': 'cell'})\n",
    ")"
   ]
  },
  {
   "cell_type": "code",
   "execution_count": 28,
   "metadata": {},
   "outputs": [],
   "source": [
    "heme_cell_type_recode_df = (\n",
    "    pd.DataFrame(full_heme_result_df.cell.str.split('_').values.tolist(),\n",
    "                 columns = ['cell_type', 'replicate', 'additional'])\n",
    ")\n",
    "\n",
    "heme_cell_type_recode_df.loc[~heme_cell_type_recode_df.additional.isna(), 'cell_type'] = \"PRE_BCELL2\""
   ]
  },
  {
   "cell_type": "code",
   "execution_count": 29,
   "metadata": {},
   "outputs": [],
   "source": [
    "full_heme_result_df = (\n",
    "    pd.concat([heme_cell_type_recode_df.drop(['additional'], axis='columns'),\n",
    "               full_heme_result_df], axis='columns')\n",
    ")"
   ]
  },
  {
   "cell_type": "code",
   "execution_count": 30,
   "metadata": {},
   "outputs": [
    {
     "data": {
      "text/html": [
       "<div>\n",
       "<style scoped>\n",
       "    .dataframe tbody tr th:only-of-type {\n",
       "        vertical-align: middle;\n",
       "    }\n",
       "\n",
       "    .dataframe tbody tr th {\n",
       "        vertical-align: top;\n",
       "    }\n",
       "\n",
       "    .dataframe thead th {\n",
       "        text-align: right;\n",
       "    }\n",
       "</style>\n",
       "<table border=\"1\" class=\"dataframe\">\n",
       "  <thead>\n",
       "    <tr style=\"text-align: right;\">\n",
       "      <th></th>\n",
       "      <th>label</th>\n",
       "      <th>classification</th>\n",
       "    </tr>\n",
       "  </thead>\n",
       "  <tbody>\n",
       "    <tr>\n",
       "      <th>0</th>\n",
       "      <td>HSC1</td>\n",
       "      <td>HSC</td>\n",
       "    </tr>\n",
       "    <tr>\n",
       "      <th>1</th>\n",
       "      <td>HSC2</td>\n",
       "      <td>HSC</td>\n",
       "    </tr>\n",
       "    <tr>\n",
       "      <th>2</th>\n",
       "      <td>HSC3</td>\n",
       "      <td>HSC</td>\n",
       "    </tr>\n",
       "    <tr>\n",
       "      <th>3</th>\n",
       "      <td>CMP</td>\n",
       "      <td>Myeloid</td>\n",
       "    </tr>\n",
       "    <tr>\n",
       "      <th>4</th>\n",
       "      <td>MEP</td>\n",
       "      <td>Myeloid</td>\n",
       "    </tr>\n",
       "  </tbody>\n",
       "</table>\n",
       "</div>"
      ],
      "text/plain": [
       "  label classification\n",
       "0  HSC1            HSC\n",
       "1  HSC2            HSC\n",
       "2  HSC3            HSC\n",
       "3   CMP        Myeloid\n",
       "4   MEP        Myeloid"
      ]
     },
     "execution_count": 30,
     "metadata": {},
     "output_type": "execute_result"
    }
   ],
   "source": [
    "# Recode cell-type into larger classification\n",
    "file = os.path.join('results', 'cell-type-classification.tsv')\n",
    "cell_class_df = pd.read_table(file)\n",
    "\n",
    "cell_updater = dict(zip(cell_class_df.label, cell_class_df.classification))\n",
    "\n",
    "cell_class_df.head()"
   ]
  },
  {
   "cell_type": "code",
   "execution_count": 31,
   "metadata": {},
   "outputs": [
    {
     "data": {
      "text/html": [
       "<div>\n",
       "<style scoped>\n",
       "    .dataframe tbody tr th:only-of-type {\n",
       "        vertical-align: middle;\n",
       "    }\n",
       "\n",
       "    .dataframe tbody tr th {\n",
       "        vertical-align: top;\n",
       "    }\n",
       "\n",
       "    .dataframe thead th {\n",
       "        text-align: right;\n",
       "    }\n",
       "</style>\n",
       "<table border=\"1\" class=\"dataframe\">\n",
       "  <thead>\n",
       "    <tr style=\"text-align: right;\">\n",
       "      <th></th>\n",
       "      <th>cell_type</th>\n",
       "      <th>replicate</th>\n",
       "      <th>cell</th>\n",
       "      <th>vae_2</th>\n",
       "      <th>nmf_6</th>\n",
       "      <th>cell_class</th>\n",
       "    </tr>\n",
       "  </thead>\n",
       "  <tbody>\n",
       "    <tr>\n",
       "      <th>0</th>\n",
       "      <td>HSC1</td>\n",
       "      <td>1</td>\n",
       "      <td>HSC1_1</td>\n",
       "      <td>16.635073</td>\n",
       "      <td>279.152254</td>\n",
       "      <td>HSC</td>\n",
       "    </tr>\n",
       "    <tr>\n",
       "      <th>1</th>\n",
       "      <td>HSC1</td>\n",
       "      <td>13</td>\n",
       "      <td>HSC1_13</td>\n",
       "      <td>16.515089</td>\n",
       "      <td>287.086240</td>\n",
       "      <td>HSC</td>\n",
       "    </tr>\n",
       "    <tr>\n",
       "      <th>2</th>\n",
       "      <td>HSC1</td>\n",
       "      <td>14</td>\n",
       "      <td>HSC1_14</td>\n",
       "      <td>16.751959</td>\n",
       "      <td>269.305807</td>\n",
       "      <td>HSC</td>\n",
       "    </tr>\n",
       "    <tr>\n",
       "      <th>3</th>\n",
       "      <td>HSC1</td>\n",
       "      <td>2</td>\n",
       "      <td>HSC1_2</td>\n",
       "      <td>17.084755</td>\n",
       "      <td>265.566778</td>\n",
       "      <td>HSC</td>\n",
       "    </tr>\n",
       "    <tr>\n",
       "      <th>4</th>\n",
       "      <td>HSC1</td>\n",
       "      <td>3</td>\n",
       "      <td>HSC1_3</td>\n",
       "      <td>14.739639</td>\n",
       "      <td>251.125044</td>\n",
       "      <td>HSC</td>\n",
       "    </tr>\n",
       "  </tbody>\n",
       "</table>\n",
       "</div>"
      ],
      "text/plain": [
       "  cell_type replicate     cell      vae_2       nmf_6 cell_class\n",
       "0      HSC1         1   HSC1_1  16.635073  279.152254        HSC\n",
       "1      HSC1        13  HSC1_13  16.515089  287.086240        HSC\n",
       "2      HSC1        14  HSC1_14  16.751959  269.305807        HSC\n",
       "3      HSC1         2   HSC1_2  17.084755  265.566778        HSC\n",
       "4      HSC1         3   HSC1_3  14.739639  251.125044        HSC"
      ]
     },
     "execution_count": 31,
     "metadata": {},
     "output_type": "execute_result"
    }
   ],
   "source": [
    "full_heme_result_df = (\n",
    "    full_heme_result_df\n",
    "    .assign(cell_class = full_heme_result_df.cell_type.replace(cell_updater))\n",
    ")\n",
    "\n",
    "file = os.path.join('results', 'hematopoietic_data_biobombe_results.tsv')\n",
    "full_heme_result_df.to_csv(file, index=False, sep='\\t')\n",
    "\n",
    "full_heme_result_df.head()"
   ]
  },
  {
   "cell_type": "code",
   "execution_count": 32,
   "metadata": {},
   "outputs": [
    {
     "data": {
      "image/png": "[encoded data removed]",
      "text/plain": [
       "<Figure size 360x216 with 1 Axes>"
      ]
     },
     "metadata": {},
     "output_type": "display_data"
    }
   ],
   "source": [
    "# Quickly plot results for both features\n",
    "plt.rcParams['figure.figsize'] = 5, 3\n",
    "ax = sns.stripplot(y='vae_2', x = 'cell_class', data = full_heme_result_df, hue = 'cell_class', jitter=0.1)\n",
    "\n",
    "handles, labels = ax.get_legend_handles_labels()\n",
    "\n",
    "l = plt.legend(handles,\n",
    "               labels,\n",
    "               bbox_to_anchor=(1.02, 0.8), loc=2, borderaxespad=0.)\n"
   ]
  },
  {
   "cell_type": "code",
   "execution_count": 33,
   "metadata": {},
   "outputs": [
    {
     "data": {
      "image/png": "[encoded data removed]",
      "text/plain": [
       "<Figure size 360x216 with 1 Axes>"
      ]
     },
     "metadata": {},
     "output_type": "display_data"
    }
   ],
   "source": [
    "plt.rcParams['figure.figsize'] = 5, 3\n",
    "ax = sns.stripplot(y='nmf_6', x = 'cell_class', data = full_heme_result_df, hue = 'cell_class', jitter=0.1)\n",
    "\n",
    "handles, labels = ax.get_legend_handles_labels()\n",
    "\n",
    "l = plt.legend(handles,\n",
    "               labels,\n",
    "               bbox_to_anchor=(1.02, 0.8), loc=2, borderaxespad=0.)"
   ]
  }
 ],
 "metadata": {
  "kernelspec": {
   "display_name": "Python [conda env:biobombe]",
   "language": "python",
   "name": "conda-env-biobombe-py"
  },
  "language_info": {
   "codemirror_mode": {
    "name": "ipython",
    "version": 3
   },
   "file_extension": ".py",
   "mimetype": "text/x-python",
   "name": "python",
   "nbconvert_exporter": "python",
   "pygments_lexer": "ipython3",
   "version": "3.6.7"
  }
 },
 "nbformat": 4,
 "nbformat_minor": 2
}
