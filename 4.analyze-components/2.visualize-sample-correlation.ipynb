{
 "cells": [
  {
   "cell_type": "markdown",
   "metadata": {},
   "source": [
    " # Curating and Visualizing Sample Correlations\n",
    "\n",
    "**Gregory Way 2018**\n",
    "\n",
    "Observing how well samples correlate between input and reconstruction across algorithms and bottleneck dimensions\n",
    "\n",
    "The data was generated first by running the following:\n",
    "\n",
    "```bash\n",
    "bash 2.ensemble-z-analysis/analysis.sh\n",
    "```\n",
    "\n",
    "## Structure:\n",
    "\n",
    "The notebook will collect all the data that track sample correlations and then visualize results in a series of plots for each dataset.\n",
    "For each dataset the following four steps are sequentially performed:\n",
    "\n",
    "1. Load phenotype data\n",
    "2. Load sample correlation data\n",
    "3. Merge and output phenotype and sample correlation results\n",
    "4. Output mean and variance summaries for correlations per sample type\n",
    "\n",
    "After each step is performed for all datasets, all the plots are generated on the fly.\n",
    "\n",
    "## Output:\n",
    "\n",
    "Several sample correlation figures"
   ]
  },
  {
   "cell_type": "code",
   "execution_count": 1,
   "metadata": {},
   "outputs": [],
   "source": [
    "suppressPackageStartupMessages(library(dplyr))\n",
    "suppressPackageStartupMessages(library(ggplot2))"
   ]
  },
  {
   "cell_type": "code",
   "execution_count": 2,
   "metadata": {},
   "outputs": [],
   "source": [
    "# Load helper functions\n",
    "source(file.path(\"scripts\", \"util.R\"))"
   ]
  },
  {
   "cell_type": "code",
   "execution_count": 3,
   "metadata": {},
   "outputs": [],
   "source": [
    "# Create theme\n",
    "correlation_theme <- theme(axis.text.x = element_text(angle = 90,\n",
    "                                                      size = 5),\n",
    "                           plot.title = element_text(hjust = 0.5),\n",
    "                           strip.background = element_rect(colour = \"black\",\n",
    "                                                           fill = \"#fdfff4\"),\n",
    "                           legend.text = element_text(size = 8),\n",
    "                           legend.key.size = unit(0.7, 'lines'))"
   ]
  },
  {
   "cell_type": "code",
   "execution_count": 4,
   "metadata": {},
   "outputs": [],
   "source": [
    "# Create list for data storage\n",
    "sample_correlation_list <- list()"
   ]
  },
  {
   "cell_type": "markdown",
   "metadata": {},
   "source": [
    "## Part 1. TARGET Sample Correlations"
   ]
  },
  {
   "cell_type": "code",
   "execution_count": 5,
   "metadata": {},
   "outputs": [],
   "source": [
    "dataset_name <- \"TARGET\""
   ]
  },
  {
   "cell_type": "code",
   "execution_count": 6,
   "metadata": {},
   "outputs": [],
   "source": [
    "# 1) Load phenotype data\n",
    "target_file <- file.path(\"..\", \"0.expression-download\", \"download\", \"TARGET_phenotype.gz\")\n",
    "target_pheno_df <- readr::read_tsv(target_file,\n",
    "                                   col_types = readr::cols(\n",
    "                                       .default = readr::col_character()))\n",
    "\n",
    "colnames(target_pheno_df)[2] <- 'sample_type'"
   ]
  },
  {
   "cell_type": "code",
   "execution_count": 7,
   "metadata": {},
   "outputs": [],
   "source": [
    "# 2) Load sample correlation data\n",
    "sample_correlation_list[[dataset_name]] <- compile_sample_correlation(dataset_name = dataset_name)"
   ]
  },
  {
   "cell_type": "code",
   "execution_count": 8,
   "metadata": {},
   "outputs": [
    {
     "data": {
      "text/html": [
       "<table>\n",
       "<thead><tr><th scope=col>algorithm</th><th scope=col>id</th><th scope=col>correlation</th><th scope=col>cor_type</th><th scope=col>seed</th><th scope=col>data</th><th scope=col>num_comp</th><th scope=col>dataset_id</th><th scope=col>shuffled</th><th scope=col>sample_type</th><th scope=col>_primary_disease</th><th scope=col>sample_type_code</th><th scope=col>_sample_type</th><th scope=col>_PATIENT</th><th scope=col>_cohort</th></tr></thead>\n",
       "<tbody>\n",
       "\t<tr><td>pca                </td><td>TARGET-30-PARSBI-01</td><td>0.872              </td><td>pearson            </td><td>486191             </td><td>training           </td><td>10                 </td><td>TARGET             </td><td>signal             </td><td>NBL                </td><td>Neuroblastoma      </td><td>TP                 </td><td>Primary Solid Tumor</td><td>PARSBI             </td><td>TARGET             </td></tr>\n",
       "\t<tr><td>ica                </td><td>TARGET-30-PARSBI-01</td><td>0.872              </td><td>pearson            </td><td>486191             </td><td>training           </td><td>10                 </td><td>TARGET             </td><td>signal             </td><td>NBL                </td><td>Neuroblastoma      </td><td>TP                 </td><td>Primary Solid Tumor</td><td>PARSBI             </td><td>TARGET             </td></tr>\n",
       "</tbody>\n",
       "</table>\n"
      ],
      "text/latex": [
       "\\begin{tabular}{r|lllllllllllllll}\n",
       " algorithm & id & correlation & cor\\_type & seed & data & num\\_comp & dataset\\_id & shuffled & sample\\_type & \\_primary\\_disease & sample\\_type\\_code & \\_sample\\_type & \\_PATIENT & \\_cohort\\\\\n",
       "\\hline\n",
       "\t pca                 & TARGET-30-PARSBI-01 & 0.872               & pearson             & 486191              & training            & 10                  & TARGET              & signal              & NBL                 & Neuroblastoma       & TP                  & Primary Solid Tumor & PARSBI              & TARGET             \\\\\n",
       "\t ica                 & TARGET-30-PARSBI-01 & 0.872               & pearson             & 486191              & training            & 10                  & TARGET              & signal              & NBL                 & Neuroblastoma       & TP                  & Primary Solid Tumor & PARSBI              & TARGET             \\\\\n",
       "\\end{tabular}\n"
      ],
      "text/markdown": [
       "\n",
       "algorithm | id | correlation | cor_type | seed | data | num_comp | dataset_id | shuffled | sample_type | _primary_disease | sample_type_code | _sample_type | _PATIENT | _cohort | \n",
       "|---|---|\n",
       "| pca                 | TARGET-30-PARSBI-01 | 0.872               | pearson             | 486191              | training            | 10                  | TARGET              | signal              | NBL                 | Neuroblastoma       | TP                  | Primary Solid Tumor | PARSBI              | TARGET              | \n",
       "| ica                 | TARGET-30-PARSBI-01 | 0.872               | pearson             | 486191              | training            | 10                  | TARGET              | signal              | NBL                 | Neuroblastoma       | TP                  | Primary Solid Tumor | PARSBI              | TARGET              | \n",
       "\n",
       "\n"
      ],
      "text/plain": [
       "  algorithm id                  correlation cor_type seed   data     num_comp\n",
       "1 pca       TARGET-30-PARSBI-01 0.872       pearson  486191 training 10      \n",
       "2 ica       TARGET-30-PARSBI-01 0.872       pearson  486191 training 10      \n",
       "  dataset_id shuffled sample_type _primary_disease sample_type_code\n",
       "1 TARGET     signal   NBL         Neuroblastoma    TP              \n",
       "2 TARGET     signal   NBL         Neuroblastoma    TP              \n",
       "  _sample_type        _PATIENT _cohort\n",
       "1 Primary Solid Tumor PARSBI   TARGET \n",
       "2 Primary Solid Tumor PARSBI   TARGET "
      ]
     },
     "metadata": {},
     "output_type": "display_data"
    }
   ],
   "source": [
    "# 3) Merge phenotype and sample correlation results\n",
    "sample_correlation_list[[dataset_name]] <-\n",
    "    sample_correlation_list[[dataset_name]] %>%\n",
    "    dplyr::full_join(target_pheno_df, by = c(\"id\" = \"sample_id\")) %>%\n",
    "    na.omit\n",
    "\n",
    "out_file <- file.path(\"results\", \"TARGET_sample_correlation_phenotype.tsv.gz\")\n",
    "readr::write_tsv(sample_correlation_list[[dataset_name]], out_file)\n",
    "\n",
    "head(sample_correlation_list[[dataset_name]], 2)"
   ]
  },
  {
   "cell_type": "code",
   "execution_count": 9,
   "metadata": {},
   "outputs": [
    {
     "data": {
      "text/html": [
       "<table>\n",
       "<thead><tr><th scope=col>algorithm</th><th scope=col>sample_type</th><th scope=col>num_comp</th><th scope=col>cor_type</th><th scope=col>shuffled</th><th scope=col>data</th><th scope=col>mean_cor</th><th scope=col>var_cor</th></tr></thead>\n",
       "<tbody>\n",
       "\t<tr><td>pca          </td><td>ALL          </td><td>2            </td><td>pearson      </td><td>shuffled     </td><td>training     </td><td> 1.179701e-01</td><td>7.032166e-04 </td></tr>\n",
       "\t<tr><td>pca          </td><td>ALL          </td><td>2            </td><td>pearson      </td><td>shuffled     </td><td>testing      </td><td> 3.515187e-20</td><td>6.614141e-05 </td></tr>\n",
       "\t<tr><td>pca          </td><td>ALL          </td><td>2            </td><td>pearson      </td><td>signal       </td><td>training     </td><td> 7.132471e-01</td><td>1.361028e-02 </td></tr>\n",
       "\t<tr><td>pca          </td><td>ALL          </td><td>2            </td><td>pearson      </td><td>signal       </td><td>testing      </td><td> 6.317000e-01</td><td>5.577384e-03 </td></tr>\n",
       "\t<tr><td>pca          </td><td>ALL          </td><td>2            </td><td>spearman     </td><td>shuffled     </td><td>training     </td><td> 1.148954e-01</td><td>1.343776e-03 </td></tr>\n",
       "\t<tr><td>pca          </td><td>ALL          </td><td>2            </td><td>spearman     </td><td>shuffled     </td><td>testing      </td><td>-7.400000e-04</td><td>5.362869e-05 </td></tr>\n",
       "</tbody>\n",
       "</table>\n"
      ],
      "text/latex": [
       "\\begin{tabular}{r|llllllll}\n",
       " algorithm & sample\\_type & num\\_comp & cor\\_type & shuffled & data & mean\\_cor & var\\_cor\\\\\n",
       "\\hline\n",
       "\t pca           & ALL           & 2             & pearson       & shuffled      & training      &  1.179701e-01 & 7.032166e-04 \\\\\n",
       "\t pca           & ALL           & 2             & pearson       & shuffled      & testing       &  3.515187e-20 & 6.614141e-05 \\\\\n",
       "\t pca           & ALL           & 2             & pearson       & signal        & training      &  7.132471e-01 & 1.361028e-02 \\\\\n",
       "\t pca           & ALL           & 2             & pearson       & signal        & testing       &  6.317000e-01 & 5.577384e-03 \\\\\n",
       "\t pca           & ALL           & 2             & spearman      & shuffled      & training      &  1.148954e-01 & 1.343776e-03 \\\\\n",
       "\t pca           & ALL           & 2             & spearman      & shuffled      & testing       & -7.400000e-04 & 5.362869e-05 \\\\\n",
       "\\end{tabular}\n"
      ],
      "text/markdown": [
       "\n",
       "algorithm | sample_type | num_comp | cor_type | shuffled | data | mean_cor | var_cor | \n",
       "|---|---|---|---|---|---|\n",
       "| pca           | ALL           | 2             | pearson       | shuffled      | training      |  1.179701e-01 | 7.032166e-04  | \n",
       "| pca           | ALL           | 2             | pearson       | shuffled      | testing       |  3.515187e-20 | 6.614141e-05  | \n",
       "| pca           | ALL           | 2             | pearson       | signal        | training      |  7.132471e-01 | 1.361028e-02  | \n",
       "| pca           | ALL           | 2             | pearson       | signal        | testing       |  6.317000e-01 | 5.577384e-03  | \n",
       "| pca           | ALL           | 2             | spearman      | shuffled      | training      |  1.148954e-01 | 1.343776e-03  | \n",
       "| pca           | ALL           | 2             | spearman      | shuffled      | testing       | -7.400000e-04 | 5.362869e-05  | \n",
       "\n",
       "\n"
      ],
      "text/plain": [
       "  algorithm sample_type num_comp cor_type shuffled data     mean_cor     \n",
       "1 pca       ALL         2        pearson  shuffled training  1.179701e-01\n",
       "2 pca       ALL         2        pearson  shuffled testing   3.515187e-20\n",
       "3 pca       ALL         2        pearson  signal   training  7.132471e-01\n",
       "4 pca       ALL         2        pearson  signal   testing   6.317000e-01\n",
       "5 pca       ALL         2        spearman shuffled training  1.148954e-01\n",
       "6 pca       ALL         2        spearman shuffled testing  -7.400000e-04\n",
       "  var_cor     \n",
       "1 7.032166e-04\n",
       "2 6.614141e-05\n",
       "3 1.361028e-02\n",
       "4 5.577384e-03\n",
       "5 1.343776e-03\n",
       "6 5.362869e-05"
      ]
     },
     "metadata": {},
     "output_type": "display_data"
    }
   ],
   "source": [
    "# 4) Summarize correlations per sample-type and write to file\n",
    "disease_summary_df <- sample_correlation_list[[dataset_name]] %>%\n",
    "    dplyr::group_by(algorithm, sample_type, num_comp, cor_type, shuffled, data) %>%\n",
    "    dplyr::summarize(mean_cor = mean(correlation),\n",
    "                     var_cor = var(correlation))\n",
    "\n",
    "out_file <- file.path(\"results\", paste0(dataset_name, \"_sample_correlation_phenotype_summary.tsv.gz\"))\n",
    "readr::write_tsv(disease_summary_df, out_file)\n",
    "\n",
    "head(disease_summary_df)"
   ]
  },
  {
   "cell_type": "markdown",
   "metadata": {},
   "source": [
    "## Part 2. TCGA Sample Correlations"
   ]
  },
  {
   "cell_type": "code",
   "execution_count": 10,
   "metadata": {},
   "outputs": [],
   "source": [
    "dataset_name <- \"TCGA\""
   ]
  },
  {
   "cell_type": "code",
   "execution_count": 11,
   "metadata": {},
   "outputs": [],
   "source": [
    "# 1) Load phenotype data\n",
    "tcga_file <- file.path(\"..\", \"0.expression-download\", \"data\", \"tcga_sample_identifiers.tsv\")\n",
    "tcga_pheno_df <- readr::read_tsv(tcga_file,\n",
    "                                 col_types = readr::cols(\n",
    "                                        .default = readr::col_character()))\n",
    "\n",
    "colnames(tcga_pheno_df)[2] <- 'sample_class'\n",
    "colnames(tcga_pheno_df)[3] <- 'sample_type'"
   ]
  },
  {
   "cell_type": "code",
   "execution_count": 12,
   "metadata": {},
   "outputs": [],
   "source": [
    "# 2) Load sample correlation data\n",
    "sample_correlation_list[[dataset_name]] <- compile_sample_correlation(dataset_name = dataset_name)"
   ]
  },
  {
   "cell_type": "code",
   "execution_count": 13,
   "metadata": {},
   "outputs": [
    {
     "data": {
      "text/html": [
       "<table>\n",
       "<thead><tr><th scope=col>algorithm</th><th scope=col>id</th><th scope=col>correlation</th><th scope=col>cor_type</th><th scope=col>seed</th><th scope=col>data</th><th scope=col>num_comp</th><th scope=col>dataset_id</th><th scope=col>shuffled</th><th scope=col>sample_class</th><th scope=col>sample_type</th></tr></thead>\n",
       "<tbody>\n",
       "\t<tr><td>pca                </td><td>TCGA-LL-A73Z-01    </td><td>0.905              </td><td>pearson            </td><td>486191             </td><td>training           </td><td>10                 </td><td>TCGA               </td><td>signal             </td><td>Primary Solid Tumor</td><td>BRCA               </td></tr>\n",
       "\t<tr><td>ica                </td><td>TCGA-LL-A73Z-01    </td><td>0.905              </td><td>pearson            </td><td>486191             </td><td>training           </td><td>10                 </td><td>TCGA               </td><td>signal             </td><td>Primary Solid Tumor</td><td>BRCA               </td></tr>\n",
       "</tbody>\n",
       "</table>\n"
      ],
      "text/latex": [
       "\\begin{tabular}{r|lllllllllll}\n",
       " algorithm & id & correlation & cor\\_type & seed & data & num\\_comp & dataset\\_id & shuffled & sample\\_class & sample\\_type\\\\\n",
       "\\hline\n",
       "\t pca                 & TCGA-LL-A73Z-01     & 0.905               & pearson             & 486191              & training            & 10                  & TCGA                & signal              & Primary Solid Tumor & BRCA               \\\\\n",
       "\t ica                 & TCGA-LL-A73Z-01     & 0.905               & pearson             & 486191              & training            & 10                  & TCGA                & signal              & Primary Solid Tumor & BRCA               \\\\\n",
       "\\end{tabular}\n"
      ],
      "text/markdown": [
       "\n",
       "algorithm | id | correlation | cor_type | seed | data | num_comp | dataset_id | shuffled | sample_class | sample_type | \n",
       "|---|---|\n",
       "| pca                 | TCGA-LL-A73Z-01     | 0.905               | pearson             | 486191              | training            | 10                  | TCGA                | signal              | Primary Solid Tumor | BRCA                | \n",
       "| ica                 | TCGA-LL-A73Z-01     | 0.905               | pearson             | 486191              | training            | 10                  | TCGA                | signal              | Primary Solid Tumor | BRCA                | \n",
       "\n",
       "\n"
      ],
      "text/plain": [
       "  algorithm id              correlation cor_type seed   data     num_comp\n",
       "1 pca       TCGA-LL-A73Z-01 0.905       pearson  486191 training 10      \n",
       "2 ica       TCGA-LL-A73Z-01 0.905       pearson  486191 training 10      \n",
       "  dataset_id shuffled sample_class        sample_type\n",
       "1 TCGA       signal   Primary Solid Tumor BRCA       \n",
       "2 TCGA       signal   Primary Solid Tumor BRCA       "
      ]
     },
     "metadata": {},
     "output_type": "display_data"
    }
   ],
   "source": [
    "# 3) Merge phenotype and sample correlation results\n",
    "sample_correlation_list[[dataset_name]] <-\n",
    "    sample_correlation_list[[dataset_name]] %>%\n",
    "    dplyr::full_join(tcga_pheno_df, by = c(\"id\" = \"sample_id\")) %>%\n",
    "    na.omit\n",
    "\n",
    "out_file <- file.path(\"results\", \"TCGA_sample_correlation_phenotype.tsv.gz\")\n",
    "readr::write_tsv(sample_correlation_list[[dataset_name]], out_file)\n",
    "\n",
    "head(sample_correlation_list[[dataset_name]], 2)"
   ]
  },
  {
   "cell_type": "code",
   "execution_count": 14,
   "metadata": {},
   "outputs": [
    {
     "data": {
      "text/html": [
       "<table>\n",
       "<thead><tr><th scope=col>algorithm</th><th scope=col>sample_type</th><th scope=col>num_comp</th><th scope=col>cor_type</th><th scope=col>shuffled</th><th scope=col>data</th><th scope=col>mean_cor</th><th scope=col>var_cor</th></tr></thead>\n",
       "<tbody>\n",
       "\t<tr><td>pca         </td><td>ACC         </td><td>2           </td><td>pearson     </td><td>shuffled    </td><td>training    </td><td>0.1701577   </td><td>0.0008099581</td></tr>\n",
       "\t<tr><td>pca         </td><td>ACC         </td><td>2           </td><td>pearson     </td><td>shuffled    </td><td>testing     </td><td>0.0087250   </td><td>0.0001592814</td></tr>\n",
       "\t<tr><td>pca         </td><td>ACC         </td><td>2           </td><td>pearson     </td><td>signal      </td><td>training    </td><td>0.6447324   </td><td>0.0019596881</td></tr>\n",
       "\t<tr><td>pca         </td><td>ACC         </td><td>2           </td><td>pearson     </td><td>signal      </td><td>testing     </td><td>0.4765000   </td><td>0.0010905128</td></tr>\n",
       "\t<tr><td>pca         </td><td>ACC         </td><td>2           </td><td>spearman    </td><td>shuffled    </td><td>training    </td><td>0.3729211   </td><td>0.0004277056</td></tr>\n",
       "\t<tr><td>pca         </td><td>ACC         </td><td>2           </td><td>spearman    </td><td>shuffled    </td><td>testing     </td><td>0.0115000   </td><td>0.0001959487</td></tr>\n",
       "</tbody>\n",
       "</table>\n"
      ],
      "text/latex": [
       "\\begin{tabular}{r|llllllll}\n",
       " algorithm & sample\\_type & num\\_comp & cor\\_type & shuffled & data & mean\\_cor & var\\_cor\\\\\n",
       "\\hline\n",
       "\t pca          & ACC          & 2            & pearson      & shuffled     & training     & 0.1701577    & 0.0008099581\\\\\n",
       "\t pca          & ACC          & 2            & pearson      & shuffled     & testing      & 0.0087250    & 0.0001592814\\\\\n",
       "\t pca          & ACC          & 2            & pearson      & signal       & training     & 0.6447324    & 0.0019596881\\\\\n",
       "\t pca          & ACC          & 2            & pearson      & signal       & testing      & 0.4765000    & 0.0010905128\\\\\n",
       "\t pca          & ACC          & 2            & spearman     & shuffled     & training     & 0.3729211    & 0.0004277056\\\\\n",
       "\t pca          & ACC          & 2            & spearman     & shuffled     & testing      & 0.0115000    & 0.0001959487\\\\\n",
       "\\end{tabular}\n"
      ],
      "text/markdown": [
       "\n",
       "algorithm | sample_type | num_comp | cor_type | shuffled | data | mean_cor | var_cor | \n",
       "|---|---|---|---|---|---|\n",
       "| pca          | ACC          | 2            | pearson      | shuffled     | training     | 0.1701577    | 0.0008099581 | \n",
       "| pca          | ACC          | 2            | pearson      | shuffled     | testing      | 0.0087250    | 0.0001592814 | \n",
       "| pca          | ACC          | 2            | pearson      | signal       | training     | 0.6447324    | 0.0019596881 | \n",
       "| pca          | ACC          | 2            | pearson      | signal       | testing      | 0.4765000    | 0.0010905128 | \n",
       "| pca          | ACC          | 2            | spearman     | shuffled     | training     | 0.3729211    | 0.0004277056 | \n",
       "| pca          | ACC          | 2            | spearman     | shuffled     | testing      | 0.0115000    | 0.0001959487 | \n",
       "\n",
       "\n"
      ],
      "text/plain": [
       "  algorithm sample_type num_comp cor_type shuffled data     mean_cor \n",
       "1 pca       ACC         2        pearson  shuffled training 0.1701577\n",
       "2 pca       ACC         2        pearson  shuffled testing  0.0087250\n",
       "3 pca       ACC         2        pearson  signal   training 0.6447324\n",
       "4 pca       ACC         2        pearson  signal   testing  0.4765000\n",
       "5 pca       ACC         2        spearman shuffled training 0.3729211\n",
       "6 pca       ACC         2        spearman shuffled testing  0.0115000\n",
       "  var_cor     \n",
       "1 0.0008099581\n",
       "2 0.0001592814\n",
       "3 0.0019596881\n",
       "4 0.0010905128\n",
       "5 0.0004277056\n",
       "6 0.0001959487"
      ]
     },
     "metadata": {},
     "output_type": "display_data"
    }
   ],
   "source": [
    "# 4) Summarize correlations per sample-type and write to file\n",
    "disease_summary_df <- sample_correlation_list[[dataset_name]] %>%\n",
    "    dplyr::group_by(algorithm, sample_type, num_comp, cor_type, shuffled, data) %>%\n",
    "    dplyr::summarize(mean_cor = mean(correlation),\n",
    "                     var_cor = var(correlation))\n",
    "\n",
    "out_file <- file.path(\"results\", paste0(dataset_name, \"_sample_correlation_phenotype_summary.tsv.gz\"))\n",
    "readr::write_tsv(disease_summary_df, out_file)\n",
    "\n",
    "head(disease_summary_df)"
   ]
  },
  {
   "cell_type": "markdown",
   "metadata": {},
   "source": [
    "## Part 3. GTEX Sample Correlations"
   ]
  },
  {
   "cell_type": "code",
   "execution_count": 15,
   "metadata": {},
   "outputs": [],
   "source": [
    "dataset_name <- \"GTEX\""
   ]
  },
  {
   "cell_type": "code",
   "execution_count": 16,
   "metadata": {},
   "outputs": [
    {
     "data": {
      "text/html": [
       "<table>\n",
       "<thead><tr><th scope=col>sample_id</th><th scope=col>sample_type</th></tr></thead>\n",
       "<tbody>\n",
       "\t<tr><td>GTEX-1117F-0003-SM-58Q7G</td><td>Blood                   </td></tr>\n",
       "\t<tr><td>GTEX-1117F-0003-SM-5DWSB</td><td>Blood                   </td></tr>\n",
       "</tbody>\n",
       "</table>\n"
      ],
      "text/latex": [
       "\\begin{tabular}{r|ll}\n",
       " sample\\_id & sample\\_type\\\\\n",
       "\\hline\n",
       "\t GTEX-1117F-0003-SM-58Q7G & Blood                   \\\\\n",
       "\t GTEX-1117F-0003-SM-5DWSB & Blood                   \\\\\n",
       "\\end{tabular}\n"
      ],
      "text/markdown": [
       "\n",
       "sample_id | sample_type | \n",
       "|---|---|\n",
       "| GTEX-1117F-0003-SM-58Q7G | Blood                    | \n",
       "| GTEX-1117F-0003-SM-5DWSB | Blood                    | \n",
       "\n",
       "\n"
      ],
      "text/plain": [
       "  sample_id                sample_type\n",
       "1 GTEX-1117F-0003-SM-58Q7G Blood      \n",
       "2 GTEX-1117F-0003-SM-5DWSB Blood      "
      ]
     },
     "metadata": {},
     "output_type": "display_data"
    }
   ],
   "source": [
    "# 1) Load phenotype data\n",
    "gtex_file <- file.path(\"..\", \"0.expression-download\", \"download\",\n",
    "                       \"GTEx_v7_Annotations_SampleAttributesDS.txt\")\n",
    "gtex_pheno_df <- readr::read_tsv(gtex_file,\n",
    "                                 col_types = readr::cols(\n",
    "                                        .default = readr::col_character()))\n",
    "\n",
    "colnames(gtex_pheno_df)[1] <- 'sample_id'\n",
    "colnames(gtex_pheno_df)[6] <- 'sample_type'\n",
    "\n",
    "# Subset gtex phenotype file for plotting\n",
    "gtex_pheno_df <- gtex_pheno_df[, c('sample_id', 'sample_type')]\n",
    "head(gtex_pheno_df, 2)"
   ]
  },
  {
   "cell_type": "code",
   "execution_count": 17,
   "metadata": {},
   "outputs": [],
   "source": [
    "# 2) Load sample correlation data\n",
    "sample_correlation_list[[dataset_name]] <- compile_sample_correlation(dataset_name = dataset_name)"
   ]
  },
  {
   "cell_type": "code",
   "execution_count": 18,
   "metadata": {},
   "outputs": [
    {
     "data": {
      "text/html": [
       "<table>\n",
       "<thead><tr><th scope=col>algorithm</th><th scope=col>id</th><th scope=col>correlation</th><th scope=col>cor_type</th><th scope=col>seed</th><th scope=col>data</th><th scope=col>num_comp</th><th scope=col>dataset_id</th><th scope=col>shuffled</th><th scope=col>sample_type</th></tr></thead>\n",
       "<tbody>\n",
       "\t<tr><td>pca                    </td><td>GTEX-T5JC-1526-SM-4DM68</td><td>0.74                   </td><td>pearson                </td><td>486191                 </td><td>training               </td><td>10                     </td><td>GTEX                   </td><td>signal                 </td><td>Kidney                 </td></tr>\n",
       "\t<tr><td>ica                    </td><td>GTEX-T5JC-1526-SM-4DM68</td><td>0.74                   </td><td>pearson                </td><td>486191                 </td><td>training               </td><td>10                     </td><td>GTEX                   </td><td>signal                 </td><td>Kidney                 </td></tr>\n",
       "</tbody>\n",
       "</table>\n"
      ],
      "text/latex": [
       "\\begin{tabular}{r|llllllllll}\n",
       " algorithm & id & correlation & cor\\_type & seed & data & num\\_comp & dataset\\_id & shuffled & sample\\_type\\\\\n",
       "\\hline\n",
       "\t pca                     & GTEX-T5JC-1526-SM-4DM68 & 0.74                    & pearson                 & 486191                  & training                & 10                      & GTEX                    & signal                  & Kidney                 \\\\\n",
       "\t ica                     & GTEX-T5JC-1526-SM-4DM68 & 0.74                    & pearson                 & 486191                  & training                & 10                      & GTEX                    & signal                  & Kidney                 \\\\\n",
       "\\end{tabular}\n"
      ],
      "text/markdown": [
       "\n",
       "algorithm | id | correlation | cor_type | seed | data | num_comp | dataset_id | shuffled | sample_type | \n",
       "|---|---|\n",
       "| pca                     | GTEX-T5JC-1526-SM-4DM68 | 0.74                    | pearson                 | 486191                  | training                | 10                      | GTEX                    | signal                  | Kidney                  | \n",
       "| ica                     | GTEX-T5JC-1526-SM-4DM68 | 0.74                    | pearson                 | 486191                  | training                | 10                      | GTEX                    | signal                  | Kidney                  | \n",
       "\n",
       "\n"
      ],
      "text/plain": [
       "  algorithm id                      correlation cor_type seed   data    \n",
       "1 pca       GTEX-T5JC-1526-SM-4DM68 0.74        pearson  486191 training\n",
       "2 ica       GTEX-T5JC-1526-SM-4DM68 0.74        pearson  486191 training\n",
       "  num_comp dataset_id shuffled sample_type\n",
       "1 10       GTEX       signal   Kidney     \n",
       "2 10       GTEX       signal   Kidney     "
      ]
     },
     "metadata": {},
     "output_type": "display_data"
    }
   ],
   "source": [
    "# 3) Merge phenotype and sample correlation results\n",
    "sample_correlation_list[[dataset_name]] <-\n",
    "    sample_correlation_list[[dataset_name]] %>%\n",
    "    dplyr::full_join(gtex_pheno_df, by = c(\"id\" = \"sample_id\")) %>%\n",
    "    na.omit\n",
    "\n",
    "out_file <- file.path(\"results\", \"GTEX_sample_correlation_phenotype.tsv.gz\")\n",
    "readr::write_tsv(sample_correlation_list[[dataset_name]], out_file)\n",
    "\n",
    "head(sample_correlation_list[[dataset_name]], 2)"
   ]
  },
  {
   "cell_type": "code",
   "execution_count": 19,
   "metadata": {},
   "outputs": [
    {
     "data": {
      "text/html": [
       "<table>\n",
       "<thead><tr><th scope=col>algorithm</th><th scope=col>sample_type</th><th scope=col>num_comp</th><th scope=col>cor_type</th><th scope=col>shuffled</th><th scope=col>data</th><th scope=col>mean_cor</th><th scope=col>var_cor</th></tr></thead>\n",
       "<tbody>\n",
       "\t<tr><td>pca           </td><td>Adipose Tissue</td><td>2             </td><td>pearson       </td><td>shuffled      </td><td>training      </td><td>0.1707905     </td><td>8.277689e-04  </td></tr>\n",
       "\t<tr><td>pca           </td><td>Adipose Tissue</td><td>2             </td><td>pearson       </td><td>shuffled      </td><td>testing       </td><td>0.0007000     </td><td>9.116291e-05  </td></tr>\n",
       "\t<tr><td>pca           </td><td>Adipose Tissue</td><td>2             </td><td>pearson       </td><td>signal        </td><td>training      </td><td>0.8364449     </td><td>2.390166e-03  </td></tr>\n",
       "\t<tr><td>pca           </td><td>Adipose Tissue</td><td>2             </td><td>pearson       </td><td>signal        </td><td>testing       </td><td>0.7622750     </td><td>2.476491e-03  </td></tr>\n",
       "\t<tr><td>pca           </td><td>Adipose Tissue</td><td>2             </td><td>spearman      </td><td>shuffled      </td><td>training      </td><td>0.4381693     </td><td>4.390514e-04  </td></tr>\n",
       "\t<tr><td>pca           </td><td>Adipose Tissue</td><td>2             </td><td>spearman      </td><td>shuffled      </td><td>testing       </td><td>0.0009275     </td><td>2.319621e-04  </td></tr>\n",
       "</tbody>\n",
       "</table>\n"
      ],
      "text/latex": [
       "\\begin{tabular}{r|llllllll}\n",
       " algorithm & sample\\_type & num\\_comp & cor\\_type & shuffled & data & mean\\_cor & var\\_cor\\\\\n",
       "\\hline\n",
       "\t pca            & Adipose Tissue & 2              & pearson        & shuffled       & training       & 0.1707905      & 8.277689e-04  \\\\\n",
       "\t pca            & Adipose Tissue & 2              & pearson        & shuffled       & testing        & 0.0007000      & 9.116291e-05  \\\\\n",
       "\t pca            & Adipose Tissue & 2              & pearson        & signal         & training       & 0.8364449      & 2.390166e-03  \\\\\n",
       "\t pca            & Adipose Tissue & 2              & pearson        & signal         & testing        & 0.7622750      & 2.476491e-03  \\\\\n",
       "\t pca            & Adipose Tissue & 2              & spearman       & shuffled       & training       & 0.4381693      & 4.390514e-04  \\\\\n",
       "\t pca            & Adipose Tissue & 2              & spearman       & shuffled       & testing        & 0.0009275      & 2.319621e-04  \\\\\n",
       "\\end{tabular}\n"
      ],
      "text/markdown": [
       "\n",
       "algorithm | sample_type | num_comp | cor_type | shuffled | data | mean_cor | var_cor | \n",
       "|---|---|---|---|---|---|\n",
       "| pca            | Adipose Tissue | 2              | pearson        | shuffled       | training       | 0.1707905      | 8.277689e-04   | \n",
       "| pca            | Adipose Tissue | 2              | pearson        | shuffled       | testing        | 0.0007000      | 9.116291e-05   | \n",
       "| pca            | Adipose Tissue | 2              | pearson        | signal         | training       | 0.8364449      | 2.390166e-03   | \n",
       "| pca            | Adipose Tissue | 2              | pearson        | signal         | testing        | 0.7622750      | 2.476491e-03   | \n",
       "| pca            | Adipose Tissue | 2              | spearman       | shuffled       | training       | 0.4381693      | 4.390514e-04   | \n",
       "| pca            | Adipose Tissue | 2              | spearman       | shuffled       | testing        | 0.0009275      | 2.319621e-04   | \n",
       "\n",
       "\n"
      ],
      "text/plain": [
       "  algorithm sample_type    num_comp cor_type shuffled data     mean_cor \n",
       "1 pca       Adipose Tissue 2        pearson  shuffled training 0.1707905\n",
       "2 pca       Adipose Tissue 2        pearson  shuffled testing  0.0007000\n",
       "3 pca       Adipose Tissue 2        pearson  signal   training 0.8364449\n",
       "4 pca       Adipose Tissue 2        pearson  signal   testing  0.7622750\n",
       "5 pca       Adipose Tissue 2        spearman shuffled training 0.4381693\n",
       "6 pca       Adipose Tissue 2        spearman shuffled testing  0.0009275\n",
       "  var_cor     \n",
       "1 8.277689e-04\n",
       "2 9.116291e-05\n",
       "3 2.390166e-03\n",
       "4 2.476491e-03\n",
       "5 4.390514e-04\n",
       "6 2.319621e-04"
      ]
     },
     "metadata": {},
     "output_type": "display_data"
    }
   ],
   "source": [
    "# 4) Summarize correlations per sample-type and write to file\n",
    "disease_summary_df <- sample_correlation_list[[dataset_name]] %>%\n",
    "    dplyr::group_by(algorithm,\n",
    "                    sample_type,\n",
    "                    num_comp,\n",
    "                    cor_type,\n",
    "                    shuffled,\n",
    "                    data) %>%\n",
    "    dplyr::summarize(mean_cor = mean(correlation),\n",
    "                     var_cor = var(correlation))\n",
    "\n",
    "out_file <- file.path(\"results\",\n",
    "                      paste0(dataset_name, \"_sample_correlation_phenotype_summary.tsv.gz\"))\n",
    "readr::write_tsv(disease_summary_df, out_file)\n",
    "\n",
    "head(disease_summary_df)"
   ]
  },
  {
   "cell_type": "markdown",
   "metadata": {},
   "source": [
    "## Part 4. Generate and Save all Sample Correlation Plots"
   ]
  },
  {
   "cell_type": "code",
   "execution_count": 20,
   "metadata": {},
   "outputs": [
    {
     "name": "stdout",
     "output_type": "stream",
     "text": [
      "[1] \"Processing...  TARGET signal pearson\"\n",
      "[1] \"Processing...  TARGET signal spearman\"\n",
      "[1] \"Processing...  TARGET shuffled pearson\"\n",
      "[1] \"Processing...  TARGET shuffled spearman\"\n",
      "[1] \"Processing...  TCGA signal pearson\"\n",
      "[1] \"Processing...  TCGA signal spearman\"\n",
      "[1] \"Processing...  TCGA shuffled pearson\"\n",
      "[1] \"Processing...  TCGA shuffled spearman\"\n",
      "[1] \"Processing...  GTEX signal pearson\"\n",
      "[1] \"Processing...  GTEX signal spearman\"\n",
      "[1] \"Processing...  GTEX shuffled pearson\"\n",
      "[1] \"Processing...  GTEX shuffled spearman\"\n"
     ]
    }
   ],
   "source": [
    "for (dataset_name in names(sample_correlation_list)) {\n",
    "    # Extract out the specific dataset correlation data\n",
    "    sample_corr_df <- sample_correlation_list[[dataset_name]]\n",
    "    \n",
    "    # Loop through the datatype\n",
    "    for (data_type in c(\"signal\", \"shuffled\")) {\n",
    "        \n",
    "        # Loop over the correlation type\n",
    "        for (correlation_type in c(\"pearson\", \"spearman\")) {\n",
    "            \n",
    "            print(paste(\"Processing... \",\n",
    "                        dataset_name, data_type, correlation_type))\n",
    "\n",
    "            # Execute the plotting logic\n",
    "            plot_sample_correlation(dataset_name = dataset_name,\n",
    "                                    data_df = sample_corr_df,\n",
    "                                    data_type = data_type,\n",
    "                                    correlation_type = correlation_type,\n",
    "                                    use_theme = correlation_theme,\n",
    "                                    return_figures = FALSE)\n",
    "        }\n",
    "    }\n",
    "}"
   ]
  }
 ],
 "metadata": {
  "kernelspec": {
   "display_name": "R [conda env:biobombe]",
   "language": "R",
   "name": "conda-env-biobombe-r"
  },
  "language_info": {
   "codemirror_mode": "r",
   "file_extension": ".r",
   "mimetype": "text/x-r-source",
   "name": "R",
   "pygments_lexer": "r",
   "version": "3.4.1"
  }
 },
 "nbformat": 4,
 "nbformat_minor": 2
}
