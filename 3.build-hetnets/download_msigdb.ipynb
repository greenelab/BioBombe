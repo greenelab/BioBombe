{
 "cells": [
  {
   "cell_type": "markdown",
   "metadata": {},
   "source": [
    "# Download MSigDB Gene Sets\n",
    "\n",
    "**Gregory Way 2018**\n",
    "\n",
    "**Modified scripts originally written by Daniel Himmelstein (@dhimmel)**\n",
    "\n",
    "_Most_ MSigDB gene sets (_version 6.1_) are now `CC BY 4.0` (except KEGG, BioCarta, and AAAS/STKE). Download and process."
   ]
  },
  {
   "cell_type": "code",
   "execution_count": 1,
   "metadata": {},
   "outputs": [],
   "source": [
    "import csv\n",
    "import pandas as pd"
   ]
  },
  {
   "cell_type": "code",
   "execution_count": 2,
   "metadata": {},
   "outputs": [],
   "source": [
    "# MSigDB version\n",
    "version = '6.1'\n",
    "gene_id = 'entrez'"
   ]
  },
  {
   "cell_type": "code",
   "execution_count": 3,
   "metadata": {},
   "outputs": [
    {
     "name": "stdout",
     "output_type": "stream",
     "text": [
      "Last-modified header missing -- time-stamps turned off.\r\n",
      "2018-04-11 20:49:49 URL:http://software.broadinstitute.org/gsea/resources/msigdb/6.1/msigdb.v6.1.entrez.gmt [15624270/15624270] -> \"data/msigdb.v6.1.entrez.gmt\" [1]\r\n"
     ]
    }
   ],
   "source": [
    "# Download full MSigDB matrix\n",
    "# NOTE - This fill is not added to the repository because it contains\n",
    "# gene sets with restrictive licenses\n",
    "url_prefix = 'https://www.broadinstitute.org/gsea/resources/msigdb/'\n",
    "url = '{}{}/msigdb.v{}.{}.gmt'.format(url_prefix, version, version, gene_id)\n",
    "! wget --timestamping --no-verbose --directory-prefix 'data' $url"
   ]
  },
  {
   "cell_type": "code",
   "execution_count": 4,
   "metadata": {},
   "outputs": [
    {
     "name": "stdout",
     "output_type": "stream",
     "text": [
      "Last-modified header missing -- time-stamps turned off.\n",
      "2018-04-11 20:49:50 URL:http://software.broadinstitute.org/gsea/resources/msigdb/6.1/c1.all.v6.1.entrez.gmt [208819/208819] -> \"data/c1.all.v6.1.entrez.gmt\" [1]\n",
      "Last-modified header missing -- time-stamps turned off.\n",
      "2018-04-11 20:49:53 URL:http://software.broadinstitute.org/gsea/resources/msigdb/6.1/c2.cgp.v6.1.entrez.gmt [2445273/2445273] -> \"data/c2.cgp.v6.1.entrez.gmt\" [1]\n",
      "Last-modified header missing -- time-stamps turned off.\n",
      "2018-04-11 20:49:55 URL:http://software.broadinstitute.org/gsea/resources/msigdb/6.1/c2.cp.reactome.v6.1.entrez.gmt [294820/294820] -> \"data/c2.cp.reactome.v6.1.entrez.gmt\" [1]\n",
      "Last-modified header missing -- time-stamps turned off.\n",
      "2018-04-11 20:49:56 URL:http://software.broadinstitute.org/gsea/resources/msigdb/6.1/c3.mir.v6.1.entrez.gmt [210449/210449] -> \"data/c3.mir.v6.1.entrez.gmt\" [1]\n",
      "Last-modified header missing -- time-stamps turned off.\n",
      "2018-04-11 20:49:58 URL:http://software.broadinstitute.org/gsea/resources/msigdb/6.1/c3.tft.v6.1.entrez.gmt [961054/961054] -> \"data/c3.tft.v6.1.entrez.gmt\" [1]\n",
      "Last-modified header missing -- time-stamps turned off.\n",
      "2018-04-11 20:49:59 URL:http://software.broadinstitute.org/gsea/resources/msigdb/6.1/c4.cgn.v6.1.entrez.gmt [254676/254676] -> \"data/c4.cgn.v6.1.entrez.gmt\" [1]\n",
      "Last-modified header missing -- time-stamps turned off.\n",
      "2018-04-11 20:50:00 URL:http://software.broadinstitute.org/gsea/resources/msigdb/6.1/c4.cm.v6.1.entrez.gmt [283783/283783] -> \"data/c4.cm.v6.1.entrez.gmt\" [1]\n",
      "Last-modified header missing -- time-stamps turned off.\n",
      "2018-04-11 20:50:04 URL:http://software.broadinstitute.org/gsea/resources/msigdb/6.1/c5.bp.v6.1.entrez.gmt [3299300/3299300] -> \"data/c5.bp.v6.1.entrez.gmt\" [1]\n",
      "Last-modified header missing -- time-stamps turned off.\n",
      "2018-04-11 20:50:05 URL:http://software.broadinstitute.org/gsea/resources/msigdb/6.1/c5.cc.v6.1.entrez.gmt [543041/543041] -> \"data/c5.cc.v6.1.entrez.gmt\" [1]\n",
      "Last-modified header missing -- time-stamps turned off.\n",
      "2018-04-11 20:50:05 URL:http://software.broadinstitute.org/gsea/resources/msigdb/6.1/c5.mf.v6.1.entrez.gmt [640122/640122] -> \"data/c5.mf.v6.1.entrez.gmt\" [1]\n",
      "Last-modified header missing -- time-stamps turned off.\n",
      "2018-04-11 20:50:06 URL:http://software.broadinstitute.org/gsea/resources/msigdb/6.1/c6.all.v6.1.entrez.gmt [186514/186514] -> \"data/c6.all.v6.1.entrez.gmt\" [1]\n",
      "Last-modified header missing -- time-stamps turned off.\n",
      "2018-04-11 20:50:09 URL:http://software.broadinstitute.org/gsea/resources/msigdb/6.1/c7.all.v6.1.entrez.gmt [6034378/6034378] -> \"data/c7.all.v6.1.entrez.gmt\" [1]\n"
     ]
    }
   ],
   "source": [
    "# Many of the genesets have sub gene sets - process these as well\n",
    "msigdb_dict = {\n",
    "    'c1.all': 'positional gene sets',\n",
    "    'c2.cgp': 'chemical and genetic perturbations',\n",
    "    'c2.cp.reactome': 'Reactome gene sets',\n",
    "    'c3.mir': 'microRNA targets',\n",
    "    'c3.tft': 'transcription factor targets',\n",
    "    'c4.cgn': 'cancer gene neighborhoods',\n",
    "    'c4.cm': 'cancer modules',\n",
    "    'c5.bp': 'GO biological processes',\n",
    "    'c5.cc': 'GO cellular components',\n",
    "    'c5.mf': 'GO molecular functions',\n",
    "    'c6.all': 'oncogenic signatures',\n",
    "    'c7.all': 'immunologic signatrues'\n",
    "}\n",
    "\n",
    "for gene_set in msigdb_dict:\n",
    "    url = '{}{}/{}.v{}.{}.gmt'.format(url_prefix, version, gene_set, version, gene_id)\n",
    "    ! wget --timestamping --no-verbose --directory-prefix 'data' $url"
   ]
  }
 ],
 "metadata": {
  "kernelspec": {
   "display_name": "Python [conda env:interpret-compression]",
   "language": "python",
   "name": "conda-env-interpret-compression-py"
  },
  "language_info": {
   "codemirror_mode": {
    "name": "ipython",
    "version": 3
   },
   "file_extension": ".py",
   "mimetype": "text/x-python",
   "name": "python",
   "nbconvert_exporter": "python",
   "pygments_lexer": "ipython3",
   "version": "3.6.5"
  }
 },
 "nbformat": 4,
 "nbformat_minor": 2
}
