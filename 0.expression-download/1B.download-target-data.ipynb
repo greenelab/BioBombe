{
 "cells": [
  {
   "cell_type": "markdown",
   "metadata": {},
   "source": [
    "# Download TARGET Pan Cancer Data for Compression\n",
    "\n",
    "The notebook downloads gene expression and clinical data from The TARGET project. The data is downloaded from [UCSC Xena](https://xenabrowser.net/datapages/?dataset=target_RSEM_gene_fpkm&host=https%3A%2F%2Ftoil.xenahubs.net).\n",
    "\n",
    "The data is in `log2(FPKM)` RSEM transformed."
   ]
  },
  {
   "cell_type": "code",
   "execution_count": 1,
   "metadata": {},
   "outputs": [],
   "source": [
    "import os\n",
    "from urllib.request import urlretrieve"
   ]
  },
  {
   "cell_type": "code",
   "execution_count": 2,
   "metadata": {},
   "outputs": [],
   "source": [
    "# Get Gene Expression Data\n",
    "url = 'https://toil.xenahubs.net/download/'\n",
    "name = 'target_RSEM_gene_fpkm.gz'\n",
    "\n",
    "path = os.path.join('download', name)"
   ]
  },
  {
   "cell_type": "code",
   "execution_count": 3,
   "metadata": {},
   "outputs": [
    {
     "data": {
      "text/plain": [
       "('download/target_RSEM_gene_fpkm.gz',\n",
       " <http.client.HTTPMessage at 0x7ff728471be0>)"
      ]
     },
     "execution_count": 3,
     "metadata": {},
     "output_type": "execute_result"
    }
   ],
   "source": [
    "urlretrieve('{}{}'.format(url, name), path)"
   ]
  },
  {
   "cell_type": "code",
   "execution_count": 4,
   "metadata": {},
   "outputs": [
    {
     "name": "stdout",
     "output_type": "stream",
     "text": [
      "3bad9d91f7e23a85141a8d7fc0c38006985d9002f6786417f5e33d09b5d52df6  download/target_RSEM_gene_fpkm.gz\r\n"
     ]
    }
   ],
   "source": [
    "! sha256sum 'download/target_RSEM_gene_fpkm.gz'"
   ]
  },
  {
   "cell_type": "code",
   "execution_count": 5,
   "metadata": {},
   "outputs": [],
   "source": [
    "# Get Probe Mappings\n",
    "name = 'gencode.v23.annotation.gene.probeMap.gz'\n",
    "\n",
    "path = os.path.join('download', name)"
   ]
  },
  {
   "cell_type": "code",
   "execution_count": 6,
   "metadata": {},
   "outputs": [
    {
     "data": {
      "text/plain": [
       "('download/gencode.v23.annotation.gene.probeMap.gz',\n",
       " <http.client.HTTPMessage at 0x7ff719ba3438>)"
      ]
     },
     "execution_count": 6,
     "metadata": {},
     "output_type": "execute_result"
    }
   ],
   "source": [
    "urlretrieve('{}{}'.format(url, name), path)"
   ]
  },
  {
   "cell_type": "code",
   "execution_count": 7,
   "metadata": {},
   "outputs": [
    {
     "name": "stdout",
     "output_type": "stream",
     "text": [
      "7f8de4473d0de91a93b67b0d288571a7f8d3dbc750e4f3f99c326c5eed51e207  download/gencode.v23.annotation.gene.probeMap.gz\r\n"
     ]
    }
   ],
   "source": [
    "! sha256sum 'download/gencode.v23.annotation.gene.probeMap.gz'"
   ]
  },
  {
   "cell_type": "code",
   "execution_count": 8,
   "metadata": {},
   "outputs": [],
   "source": [
    "# Get Sample Identifiers\n",
    "name = 'TARGET_phenotype.gz'\n",
    "\n",
    "path = os.path.join('download', name)"
   ]
  },
  {
   "cell_type": "code",
   "execution_count": 9,
   "metadata": {},
   "outputs": [
    {
     "data": {
      "text/plain": [
       "('download/TARGET_phenotype.gz', <http.client.HTTPMessage at 0x7ff719ba3828>)"
      ]
     },
     "execution_count": 9,
     "metadata": {},
     "output_type": "execute_result"
    }
   ],
   "source": [
    "urlretrieve('{}{}'.format(url, name), path)"
   ]
  },
  {
   "cell_type": "code",
   "execution_count": 10,
   "metadata": {},
   "outputs": [
    {
     "name": "stdout",
     "output_type": "stream",
     "text": [
      "a2943a81f54b18e11771bbd78b80d5f33a491a8ae37eb468d17a88a7244c74b1  download/TARGET_phenotype.gz\r\n"
     ]
    }
   ],
   "source": [
    "! sha256sum 'download/TARGET_phenotype.gz'"
   ]
  }
 ],
 "metadata": {
  "kernelspec": {
   "display_name": "Python [conda env:interpret-compression]",
   "language": "python",
   "name": "conda-env-interpret-compression-py"
  },
  "language_info": {
   "codemirror_mode": {
    "name": "ipython",
    "version": 3
   },
   "file_extension": ".py",
   "mimetype": "text/x-python",
   "name": "python",
   "nbconvert_exporter": "python",
   "pygments_lexer": "ipython3",
   "version": "3.6.5"
  }
 },
 "nbformat": 4,
 "nbformat_minor": 2
}
