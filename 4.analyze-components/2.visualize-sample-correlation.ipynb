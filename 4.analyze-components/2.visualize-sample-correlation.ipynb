{
 "cells": [
  {
   "cell_type": "markdown",
   "metadata": {},
   "source": [
    "# Curating and Visualizing Sample Correlations\n",
    "\n",
    "**Gregory Way 2018**\n",
    "\n",
    "Observing how well samples correlate between input and reconstruction across algorithms and bottleneck dimensions\n",
    "\n",
    "The data was generated first by running the following:\n",
    "\n",
    "```bash\n",
    "bash 2.ensemble-z-analysis/analysis.sh\n",
    "```\n",
    "\n",
    "## Structure:\n",
    "\n",
    "The notebook will collect all the data that track sample correlations and then visualize results in a series of plots for each dataset.\n",
    "For each dataset the following three steps are sequentially performed:\n",
    "\n",
    "1. Load phenotype data\n",
    "2. Load sample correlation data\n",
    "3. Merge phenotype and sample correlation results\n",
    "\n",
    "After each step is performed for all datasets, all the plots are generated on the fly.\n",
    "\n",
    "## Output:\n",
    "\n",
    "Several sample correlation figures"
   ]
  },
  {
   "cell_type": "code",
   "execution_count": 1,
   "metadata": {},
   "outputs": [],
   "source": [
    "suppressPackageStartupMessages(library(dplyr))\n",
    "suppressPackageStartupMessages(library(ggplot2))"
   ]
  },
  {
   "cell_type": "code",
   "execution_count": 2,
   "metadata": {},
   "outputs": [],
   "source": [
    "# Load helper functions\n",
    "source(file.path(\"scripts\", \"util.R\"))"
   ]
  },
  {
   "cell_type": "code",
   "execution_count": 3,
   "metadata": {},
   "outputs": [],
   "source": [
    "# Create theme\n",
    "correlation_theme <- theme(axis.text.x = element_text(angle = 90, size = 5),\n",
    "                           plot.title = element_text(hjust = 0.5),\n",
    "                           legend.text = element_text(size = 8),\n",
    "                           legend.key.size = unit(0.7, 'lines'))"
   ]
  },
  {
   "cell_type": "code",
   "execution_count": 4,
   "metadata": {},
   "outputs": [],
   "source": [
    "# Create list for data storage\n",
    "sample_correlation_list <- list()"
   ]
  },
  {
   "cell_type": "markdown",
   "metadata": {},
   "source": [
    "## Part 1. TARGET Sample Correlations"
   ]
  },
  {
   "cell_type": "code",
   "execution_count": 5,
   "metadata": {},
   "outputs": [],
   "source": [
    "dataset_name <- \"TARGET\""
   ]
  },
  {
   "cell_type": "code",
   "execution_count": 6,
   "metadata": {},
   "outputs": [],
   "source": [
    "# 1) Load phenotype data\n",
    "target_file <- file.path(\"..\", \"0.expression-download\", \"download\", \"TARGET_phenotype.gz\")\n",
    "target_pheno_df <- readr::read_tsv(target_file,\n",
    "                                   col_types = readr::cols(\n",
    "                                       .default = readr::col_character()))\n",
    "\n",
    "colnames(target_pheno_df)[2] <- 'sample_type'"
   ]
  },
  {
   "cell_type": "code",
   "execution_count": 7,
   "metadata": {},
   "outputs": [],
   "source": [
    "# 2) Load sample correlation data\n",
    "sample_correlation_list[[dataset_name]] <- compile_sample_correlation(dataset_name = dataset_name)"
   ]
  },
  {
   "cell_type": "code",
   "execution_count": 8,
   "metadata": {},
   "outputs": [
    {
     "data": {
      "text/html": [
       "<table>\n",
       "<thead><tr><th scope=col>algorithm</th><th scope=col>id</th><th scope=col>correlation</th><th scope=col>cor_type</th><th scope=col>seed</th><th scope=col>data</th><th scope=col>num_comp</th><th scope=col>dataset_id</th><th scope=col>shuffled</th><th scope=col>sample_type</th><th scope=col>_primary_disease</th><th scope=col>sample_type_code</th><th scope=col>_sample_type</th><th scope=col>_PATIENT</th><th scope=col>_cohort</th></tr></thead>\n",
       "<tbody>\n",
       "\t<tr><td>pca                </td><td>TARGET-30-PARSBI-01</td><td>0.872              </td><td>pearson            </td><td>8407               </td><td>training           </td><td>10                 </td><td>TARGET             </td><td>signal             </td><td>NBL                </td><td>Neuroblastoma      </td><td>TP                 </td><td>Primary Solid Tumor</td><td>PARSBI             </td><td>TARGET             </td></tr>\n",
       "\t<tr><td>ica                </td><td>TARGET-30-PARSBI-01</td><td>0.872              </td><td>pearson            </td><td>8407               </td><td>training           </td><td>10                 </td><td>TARGET             </td><td>signal             </td><td>NBL                </td><td>Neuroblastoma      </td><td>TP                 </td><td>Primary Solid Tumor</td><td>PARSBI             </td><td>TARGET             </td></tr>\n",
       "</tbody>\n",
       "</table>\n"
      ],
      "text/latex": [
       "\\begin{tabular}{r|lllllllllllllll}\n",
       " algorithm & id & correlation & cor\\_type & seed & data & num\\_comp & dataset\\_id & shuffled & sample\\_type & \\_primary\\_disease & sample\\_type\\_code & \\_sample\\_type & \\_PATIENT & \\_cohort\\\\\n",
       "\\hline\n",
       "\t pca                 & TARGET-30-PARSBI-01 & 0.872               & pearson             & 8407                & training            & 10                  & TARGET              & signal              & NBL                 & Neuroblastoma       & TP                  & Primary Solid Tumor & PARSBI              & TARGET             \\\\\n",
       "\t ica                 & TARGET-30-PARSBI-01 & 0.872               & pearson             & 8407                & training            & 10                  & TARGET              & signal              & NBL                 & Neuroblastoma       & TP                  & Primary Solid Tumor & PARSBI              & TARGET             \\\\\n",
       "\\end{tabular}\n"
      ],
      "text/markdown": [
       "\n",
       "algorithm | id | correlation | cor_type | seed | data | num_comp | dataset_id | shuffled | sample_type | _primary_disease | sample_type_code | _sample_type | _PATIENT | _cohort | \n",
       "|---|---|\n",
       "| pca                 | TARGET-30-PARSBI-01 | 0.872               | pearson             | 8407                | training            | 10                  | TARGET              | signal              | NBL                 | Neuroblastoma       | TP                  | Primary Solid Tumor | PARSBI              | TARGET              | \n",
       "| ica                 | TARGET-30-PARSBI-01 | 0.872               | pearson             | 8407                | training            | 10                  | TARGET              | signal              | NBL                 | Neuroblastoma       | TP                  | Primary Solid Tumor | PARSBI              | TARGET              | \n",
       "\n",
       "\n"
      ],
      "text/plain": [
       "  algorithm id                  correlation cor_type seed data     num_comp\n",
       "1 pca       TARGET-30-PARSBI-01 0.872       pearson  8407 training 10      \n",
       "2 ica       TARGET-30-PARSBI-01 0.872       pearson  8407 training 10      \n",
       "  dataset_id shuffled sample_type _primary_disease sample_type_code\n",
       "1 TARGET     signal   NBL         Neuroblastoma    TP              \n",
       "2 TARGET     signal   NBL         Neuroblastoma    TP              \n",
       "  _sample_type        _PATIENT _cohort\n",
       "1 Primary Solid Tumor PARSBI   TARGET \n",
       "2 Primary Solid Tumor PARSBI   TARGET "
      ]
     },
     "metadata": {},
     "output_type": "display_data"
    }
   ],
   "source": [
    "# 3) Merge phenotype and sample correlation results\n",
    "sample_correlation_list[[dataset_name]] <-\n",
    "    sample_correlation_list[[dataset_name]] %>%\n",
    "    dplyr::full_join(target_pheno_df, by = c(\"id\" = \"sample_id\")) %>%\n",
    "    na.omit\n",
    "\n",
    "head(sample_correlation_list[[dataset_name]], 2)"
   ]
  },
  {
   "cell_type": "markdown",
   "metadata": {},
   "source": [
    "## Part 2. TCGA Sample Correlations"
   ]
  },
  {
   "cell_type": "code",
   "execution_count": 9,
   "metadata": {},
   "outputs": [],
   "source": [
    "dataset_name <- \"TCGA\""
   ]
  },
  {
   "cell_type": "code",
   "execution_count": 10,
   "metadata": {},
   "outputs": [],
   "source": [
    "# 1) Load phenotype data\n",
    "tcga_file <- file.path(\"..\", \"0.expression-download\", \"data\", \"tcga_sample_identifiers.tsv\")\n",
    "tcga_pheno_df <- readr::read_tsv(tcga_file,\n",
    "                                 col_types = readr::cols(\n",
    "                                        .default = readr::col_character()))\n",
    "\n",
    "colnames(tcga_pheno_df)[2] <- 'sample_class'\n",
    "colnames(tcga_pheno_df)[3] <- 'sample_type'"
   ]
  },
  {
   "cell_type": "code",
   "execution_count": 11,
   "metadata": {},
   "outputs": [],
   "source": [
    "# 2) Load sample correlation data\n",
    "sample_correlation_list[[dataset_name]] <- compile_sample_correlation(dataset_name = dataset_name)"
   ]
  },
  {
   "cell_type": "code",
   "execution_count": 12,
   "metadata": {},
   "outputs": [
    {
     "data": {
      "text/html": [
       "<table>\n",
       "<thead><tr><th scope=col>algorithm</th><th scope=col>id</th><th scope=col>correlation</th><th scope=col>cor_type</th><th scope=col>seed</th><th scope=col>data</th><th scope=col>num_comp</th><th scope=col>dataset_id</th><th scope=col>shuffled</th><th scope=col>sample_class</th><th scope=col>sample_type</th></tr></thead>\n",
       "<tbody>\n",
       "\t<tr><td>pca                </td><td>TCGA-LL-A73Z-01    </td><td>0.905              </td><td>pearson            </td><td>904824             </td><td>training           </td><td>10                 </td><td>TCGA               </td><td>signal             </td><td>Primary Solid Tumor</td><td>BRCA               </td></tr>\n",
       "\t<tr><td>ica                </td><td>TCGA-LL-A73Z-01    </td><td>0.905              </td><td>pearson            </td><td>904824             </td><td>training           </td><td>10                 </td><td>TCGA               </td><td>signal             </td><td>Primary Solid Tumor</td><td>BRCA               </td></tr>\n",
       "</tbody>\n",
       "</table>\n"
      ],
      "text/latex": [
       "\\begin{tabular}{r|lllllllllll}\n",
       " algorithm & id & correlation & cor\\_type & seed & data & num\\_comp & dataset\\_id & shuffled & sample\\_class & sample\\_type\\\\\n",
       "\\hline\n",
       "\t pca                 & TCGA-LL-A73Z-01     & 0.905               & pearson             & 904824              & training            & 10                  & TCGA                & signal              & Primary Solid Tumor & BRCA               \\\\\n",
       "\t ica                 & TCGA-LL-A73Z-01     & 0.905               & pearson             & 904824              & training            & 10                  & TCGA                & signal              & Primary Solid Tumor & BRCA               \\\\\n",
       "\\end{tabular}\n"
      ],
      "text/markdown": [
       "\n",
       "algorithm | id | correlation | cor_type | seed | data | num_comp | dataset_id | shuffled | sample_class | sample_type | \n",
       "|---|---|\n",
       "| pca                 | TCGA-LL-A73Z-01     | 0.905               | pearson             | 904824              | training            | 10                  | TCGA                | signal              | Primary Solid Tumor | BRCA                | \n",
       "| ica                 | TCGA-LL-A73Z-01     | 0.905               | pearson             | 904824              | training            | 10                  | TCGA                | signal              | Primary Solid Tumor | BRCA                | \n",
       "\n",
       "\n"
      ],
      "text/plain": [
       "  algorithm id              correlation cor_type seed   data     num_comp\n",
       "1 pca       TCGA-LL-A73Z-01 0.905       pearson  904824 training 10      \n",
       "2 ica       TCGA-LL-A73Z-01 0.905       pearson  904824 training 10      \n",
       "  dataset_id shuffled sample_class        sample_type\n",
       "1 TCGA       signal   Primary Solid Tumor BRCA       \n",
       "2 TCGA       signal   Primary Solid Tumor BRCA       "
      ]
     },
     "metadata": {},
     "output_type": "display_data"
    }
   ],
   "source": [
    "# 3) Merge phenotype and sample correlation results\n",
    "sample_correlation_list[[dataset_name]] <-\n",
    "    sample_correlation_list[[dataset_name]] %>%\n",
    "    dplyr::full_join(tcga_pheno_df, by = c(\"id\" = \"sample_id\")) %>%\n",
    "    na.omit\n",
    "\n",
    "head(sample_correlation_list[[dataset_name]], 2)"
   ]
  },
  {
   "cell_type": "markdown",
   "metadata": {},
   "source": [
    "## Part 3. GTEX Sample Correlations"
   ]
  },
  {
   "cell_type": "code",
   "execution_count": 13,
   "metadata": {},
   "outputs": [],
   "source": [
    "dataset_name <- \"GTEX\""
   ]
  },
  {
   "cell_type": "code",
   "execution_count": 14,
   "metadata": {},
   "outputs": [
    {
     "data": {
      "text/html": [
       "<table>\n",
       "<thead><tr><th scope=col>sample_id</th><th scope=col>sample_type</th></tr></thead>\n",
       "<tbody>\n",
       "\t<tr><td>GTEX-1117F-0003-SM-58Q7G</td><td>Blood                   </td></tr>\n",
       "\t<tr><td>GTEX-1117F-0003-SM-5DWSB</td><td>Blood                   </td></tr>\n",
       "</tbody>\n",
       "</table>\n"
      ],
      "text/latex": [
       "\\begin{tabular}{r|ll}\n",
       " sample\\_id & sample\\_type\\\\\n",
       "\\hline\n",
       "\t GTEX-1117F-0003-SM-58Q7G & Blood                   \\\\\n",
       "\t GTEX-1117F-0003-SM-5DWSB & Blood                   \\\\\n",
       "\\end{tabular}\n"
      ],
      "text/markdown": [
       "\n",
       "sample_id | sample_type | \n",
       "|---|---|\n",
       "| GTEX-1117F-0003-SM-58Q7G | Blood                    | \n",
       "| GTEX-1117F-0003-SM-5DWSB | Blood                    | \n",
       "\n",
       "\n"
      ],
      "text/plain": [
       "  sample_id                sample_type\n",
       "1 GTEX-1117F-0003-SM-58Q7G Blood      \n",
       "2 GTEX-1117F-0003-SM-5DWSB Blood      "
      ]
     },
     "metadata": {},
     "output_type": "display_data"
    }
   ],

   "source": [
    "# 1) Load phenotype data\n",
    "gtex_file <- file.path(\"..\", \"0.expression-download\", \"download\",\n",
    "                       \"GTEx_v7_Annotations_SampleAttributesDS.txt\")\n",
    "gtex_pheno_df <- readr::read_tsv(gtex_file,\n",
    "                                 col_types = readr::cols(\n",
    "                                        .default = readr::col_character()))\n",
    "\n",
    "colnames(gtex_pheno_df)[1] <- 'sample_id'\n",
    "colnames(gtex_pheno_df)[6] <- 'sample_type'\n",
    "\n",
    "# Subset gtex phenotype file for plotting\n",
    "gtex_pheno_df <- gtex_pheno_df[, c('sample_id', 'sample_type')]\n",
    "head(gtex_pheno_df, 2)"
   ]
  },
  {
   "cell_type": "code",
   "execution_count": 15,
   "metadata": {},
   "outputs": [],
   "source": [
    "# 2) Load sample correlation data\n",
    "sample_correlation_list[[dataset_name]] <- compile_sample_correlation(dataset_name = dataset_name)"
   ]
  },
  {
   "cell_type": "code",
   "execution_count": 16,
   "metadata": {},
   "outputs": [
    {
     "data": {
      "text/html": [
       "<table>\n",
       "<thead><tr><th scope=col>algorithm</th><th scope=col>id</th><th scope=col>correlation</th><th scope=col>cor_type</th><th scope=col>seed</th><th scope=col>data</th><th scope=col>num_comp</th><th scope=col>dataset_id</th><th scope=col>shuffled</th><th scope=col>sample_type</th></tr></thead>\n",
       "<tbody>\n",
       "\t<tr><td>pca                    </td><td>GTEX-T5JC-1526-SM-4DM68</td><td>0.74                   </td><td>pearson                </td><td>802271                 </td><td>training               </td><td>10                     </td><td>GTEX                   </td><td>signal                 </td><td>Kidney                 </td></tr>\n",
       "\t<tr><td>ica                    </td><td>GTEX-T5JC-1526-SM-4DM68</td><td>0.74                   </td><td>pearson                </td><td>802271                 </td><td>training               </td><td>10                     </td><td>GTEX                   </td><td>signal                 </td><td>Kidney                 </td></tr>\n",
       "</tbody>\n",
       "</table>\n"
      ],
      "text/latex": [
       "\\begin{tabular}{r|llllllllll}\n",
       " algorithm & id & correlation & cor\\_type & seed & data & num\\_comp & dataset\\_id & shuffled & sample\\_type\\\\\n",
       "\\hline\n",
       "\t pca                     & GTEX-T5JC-1526-SM-4DM68 & 0.74                    & pearson                 & 802271                  & training                & 10                      & GTEX                    & signal                  & Kidney                 \\\\\n",
       "\t ica                     & GTEX-T5JC-1526-SM-4DM68 & 0.74                    & pearson                 & 802271                  & training                & 10                      & GTEX                    & signal                  & Kidney                 \\\\\n",
       "\\end{tabular}\n"
      ],
      "text/markdown": [
       "\n",
       "algorithm | id | correlation | cor_type | seed | data | num_comp | dataset_id | shuffled | sample_type | \n",
       "|---|---|\n",
       "| pca                     | GTEX-T5JC-1526-SM-4DM68 | 0.74                    | pearson                 | 802271                  | training                | 10                      | GTEX                    | signal                  | Kidney                  | \n",
       "| ica                     | GTEX-T5JC-1526-SM-4DM68 | 0.74                    | pearson                 | 802271                  | training                | 10                      | GTEX                    | signal                  | Kidney                  | \n",
       "\n",
       "\n"
      ],
      "text/plain": [
       "  algorithm id                      correlation cor_type seed   data    \n",
       "1 pca       GTEX-T5JC-1526-SM-4DM68 0.74        pearson  802271 training\n",
       "2 ica       GTEX-T5JC-1526-SM-4DM68 0.74        pearson  802271 training\n",
       "  num_comp dataset_id shuffled sample_type\n",
       "1 10       GTEX       signal   Kidney     \n",
       "2 10       GTEX       signal   Kidney     "
      ]
     },
     "metadata": {},
     "output_type": "display_data"
    }
   ],
   "source": [
    "# 3) Merge phenotype and sample correlation results\n",
    "sample_correlation_list[[dataset_name]] <-\n",
    "    sample_correlation_list[[dataset_name]] %>%\n",
    "    dplyr::full_join(gtex_pheno_df, by = c(\"id\" = \"sample_id\")) %>%\n",
    "    na.omit\n",
    "\n",
    "head(sample_correlation_list[[dataset_name]], 2)"
   ]
  },
  {
   "cell_type": "markdown",
   "metadata": {},
   "source": [
    "## Part 4. Generate and Save all Sample Correlation Plots"
   ]
  },
  {
   "cell_type": "code",
   "execution_count": 17,
   "metadata": {},
   "outputs": [
    {
     "name": "stdout",
     "output_type": "stream",
     "text": [
      "[1] \"Processing...  TARGET signal pearson\"\n",
      "[1] \"Processing...  TARGET signal spearman\"\n",
      "[1] \"Processing...  TARGET shuffled pearson\"\n",
      "[1] \"Processing...  TARGET shuffled spearman\"\n",
      "[1] \"Processing...  TCGA signal pearson\"\n",
      "[1] \"Processing...  TCGA signal spearman\"\n",
      "[1] \"Processing...  TCGA shuffled pearson\"\n",
      "[1] \"Processing...  TCGA shuffled spearman\"\n",
      "[1] \"Processing...  GTEX signal pearson\"\n",
      "[1] \"Processing...  GTEX signal spearman\"\n",
      "[1] \"Processing...  GTEX shuffled pearson\"\n",
      "[1] \"Processing...  GTEX shuffled spearman\"\n"
     ]
    }
   ],
   "source": [
    "for (dataset_name in names(sample_correlation_list)) {\n",
    "    # Extract out the specific dataset correlation data\n",
    "    sample_corr_df <- sample_correlation_list[[dataset_name]]\n",
    "    \n",
    "    # Loop through the datatype\n",
    "    for (data_type in c(\"signal\", \"shuffled\")) {\n",
    "        \n",
    "        # Loop over the correlation type\n",
    "        for (correlation_type in c(\"pearson\", \"spearman\")) {\n",
    "            \n",
    "            print(paste(\"Processing... \",\n",
    "                        dataset_name, data_type, correlation_type))\n",
    "\n",
    "            # Execute the plotting logic\n",
    "            plot_sample_correlation(dataset_name = dataset_name,\n",
    "                                    data_df = sample_corr_df,\n",
    "                                    data_type = data_type,\n",
    "                                    correlation_type = correlation_type,\n",
    "                                    use_theme = correlation_theme,\n",
    "                                    return_figures = FALSE)\n",
    "        }\n",
    "    }\n",
    "}\n"
   ]
  }
 ],
 "metadata": {
  "kernelspec": {
   "display_name": "R [conda env:interpret-compression]",
   "language": "R",
   "name": "conda-env-interpret-compression-r"
  },
  "language_info": {
   "codemirror_mode": "r",
   "file_extension": ".r",
   "mimetype": "text/x-r-source",
   "name": "R",
   "pygments_lexer": "r",
   "version": "3.4.1"
  }
 },
 "nbformat": 4,
 "nbformat_minor": 2
}
