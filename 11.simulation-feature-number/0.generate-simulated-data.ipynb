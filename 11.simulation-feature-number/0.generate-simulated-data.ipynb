{
 "cells": [
  {
   "cell_type": "markdown",
   "metadata": {},
   "source": [
    "# Generate a matrix with a given covariance structure\n",
    "\n",
    "In this notebook, we simulate a matrix with 10,000 samples and 10 features.\n",
    "We artifically inject two distinct signals into the matrix.\n",
    "\n",
    "We sample the 10,000 samples from a given covariance matrix.\n",
    "This covariance matrix specifies two groups of correlated features.\n",
    "\n",
    "| Group | Correlated Features |\n",
    "| :---- | :------------------ |\n",
    "| 1 | 1, 2, 3 |\n",
    "| 2 | 5, 6, 7 |\n",
    "\n",
    "The remaining features (4, 8, 9, 10) are random Gaussian noise.\n",
    "The second group of features has lower correlation than the first group."
   ]
  },
  {
   "cell_type": "code",
   "execution_count": 1,
   "metadata": {},
   "outputs": [
    {
     "name": "stderr",
     "output_type": "stream",
     "text": [
      "Warning message:\n",
      "“package ‘dplyr’ was built under R version 3.4.4”"
     ]
    }
   ],
   "source": [
    "suppressPackageStartupMessages(library(dplyr))"
   ]
  },
  {
   "cell_type": "code",
   "execution_count": 2,
   "metadata": {},
   "outputs": [],
   "source": [
    "set.seed(1234)"
   ]
  },
  {
   "cell_type": "code",
   "execution_count": 3,
   "metadata": {},
   "outputs": [],
   "source": [
    "n = 10000\n",
    "p = 10"
   ]
  },
  {
   "cell_type": "code",
   "execution_count": 4,
   "metadata": {},
   "outputs": [],
   "source": [
    "cov_mat = diag(p)\n",
    "\n",
    "random_off_diag_structure <- abs(rnorm(n = length(cov_mat[lower.tri(cov_mat)]), mean = 0, sd = 0))\n",
    "\n",
    "cov_mat[lower.tri(cov_mat)] <- random_off_diag_structure\n",
    "\n",
    "cov_mat[2, 1] <- 0.95\n",
    "cov_mat[3, 2] <- 0.90\n",
    "cov_mat[3, 1] <- 0.93\n",
    "\n",
    "cov_mat[6, 5] <- 0.90\n",
    "cov_mat[7, 6] <- 0.85\n",
    "cov_mat[7, 5] <- 0.88\n",
    "\n",
    "cov_mat[upper.tri(cov_mat)] <- t(cov_mat)[upper.tri(cov_mat)]"
   ]
  },
  {
   "cell_type": "code",
   "execution_count": 5,
   "metadata": {},
   "outputs": [
    {
     "data": {
      "text/html": [
       "<table>\n",
       "<tbody>\n",
       "\t<tr><td>1.00</td><td>0.95</td><td>0.93</td><td>0   </td><td>0.00</td><td>0.00</td><td>0.00</td><td>0   </td><td>0   </td><td>0   </td></tr>\n",
       "\t<tr><td>0.95</td><td>1.00</td><td>0.90</td><td>0   </td><td>0.00</td><td>0.00</td><td>0.00</td><td>0   </td><td>0   </td><td>0   </td></tr>\n",
       "\t<tr><td>0.93</td><td>0.90</td><td>1.00</td><td>0   </td><td>0.00</td><td>0.00</td><td>0.00</td><td>0   </td><td>0   </td><td>0   </td></tr>\n",
       "\t<tr><td>0.00</td><td>0.00</td><td>0.00</td><td>1   </td><td>0.00</td><td>0.00</td><td>0.00</td><td>0   </td><td>0   </td><td>0   </td></tr>\n",
       "\t<tr><td>0.00</td><td>0.00</td><td>0.00</td><td>0   </td><td>1.00</td><td>0.90</td><td>0.88</td><td>0   </td><td>0   </td><td>0   </td></tr>\n",
       "\t<tr><td>0.00</td><td>0.00</td><td>0.00</td><td>0   </td><td>0.90</td><td>1.00</td><td>0.85</td><td>0   </td><td>0   </td><td>0   </td></tr>\n",
       "\t<tr><td>0.00</td><td>0.00</td><td>0.00</td><td>0   </td><td>0.88</td><td>0.85</td><td>1.00</td><td>0   </td><td>0   </td><td>0   </td></tr>\n",
       "\t<tr><td>0.00</td><td>0.00</td><td>0.00</td><td>0   </td><td>0.00</td><td>0.00</td><td>0.00</td><td>1   </td><td>0   </td><td>0   </td></tr>\n",
       "\t<tr><td>0.00</td><td>0.00</td><td>0.00</td><td>0   </td><td>0.00</td><td>0.00</td><td>0.00</td><td>0   </td><td>1   </td><td>0   </td></tr>\n",
       "\t<tr><td>0.00</td><td>0.00</td><td>0.00</td><td>0   </td><td>0.00</td><td>0.00</td><td>0.00</td><td>0   </td><td>0   </td><td>1   </td></tr>\n",
       "</tbody>\n",
       "</table>\n"
      ],
      "text/latex": [
       "\\begin{tabular}{llllllllll}\n",
       "\t 1.00 & 0.95 & 0.93 & 0    & 0.00 & 0.00 & 0.00 & 0    & 0    & 0   \\\\\n",
       "\t 0.95 & 1.00 & 0.90 & 0    & 0.00 & 0.00 & 0.00 & 0    & 0    & 0   \\\\\n",
       "\t 0.93 & 0.90 & 1.00 & 0    & 0.00 & 0.00 & 0.00 & 0    & 0    & 0   \\\\\n",
       "\t 0.00 & 0.00 & 0.00 & 1    & 0.00 & 0.00 & 0.00 & 0    & 0    & 0   \\\\\n",
       "\t 0.00 & 0.00 & 0.00 & 0    & 1.00 & 0.90 & 0.88 & 0    & 0    & 0   \\\\\n",
       "\t 0.00 & 0.00 & 0.00 & 0    & 0.90 & 1.00 & 0.85 & 0    & 0    & 0   \\\\\n",
       "\t 0.00 & 0.00 & 0.00 & 0    & 0.88 & 0.85 & 1.00 & 0    & 0    & 0   \\\\\n",
       "\t 0.00 & 0.00 & 0.00 & 0    & 0.00 & 0.00 & 0.00 & 1    & 0    & 0   \\\\\n",
       "\t 0.00 & 0.00 & 0.00 & 0    & 0.00 & 0.00 & 0.00 & 0    & 1    & 0   \\\\\n",
       "\t 0.00 & 0.00 & 0.00 & 0    & 0.00 & 0.00 & 0.00 & 0    & 0    & 1   \\\\\n",
       "\\end{tabular}\n"
      ],
      "text/markdown": [
       "\n",
       "| 1.00 | 0.95 | 0.93 | 0    | 0.00 | 0.00 | 0.00 | 0    | 0    | 0    | \n",
       "| 0.95 | 1.00 | 0.90 | 0    | 0.00 | 0.00 | 0.00 | 0    | 0    | 0    | \n",
       "| 0.93 | 0.90 | 1.00 | 0    | 0.00 | 0.00 | 0.00 | 0    | 0    | 0    | \n",
       "| 0.00 | 0.00 | 0.00 | 1    | 0.00 | 0.00 | 0.00 | 0    | 0    | 0    | \n",
       "| 0.00 | 0.00 | 0.00 | 0    | 1.00 | 0.90 | 0.88 | 0    | 0    | 0    | \n",
       "| 0.00 | 0.00 | 0.00 | 0    | 0.90 | 1.00 | 0.85 | 0    | 0    | 0    | \n",
       "| 0.00 | 0.00 | 0.00 | 0    | 0.88 | 0.85 | 1.00 | 0    | 0    | 0    | \n",
       "| 0.00 | 0.00 | 0.00 | 0    | 0.00 | 0.00 | 0.00 | 1    | 0    | 0    | \n",
       "| 0.00 | 0.00 | 0.00 | 0    | 0.00 | 0.00 | 0.00 | 0    | 1    | 0    | \n",
       "| 0.00 | 0.00 | 0.00 | 0    | 0.00 | 0.00 | 0.00 | 0    | 0    | 1    | \n",
       "\n",
       "\n"
      ],
      "text/plain": [
       "      [,1] [,2] [,3] [,4] [,5] [,6] [,7] [,8] [,9] [,10]\n",
       " [1,] 1.00 0.95 0.93 0    0.00 0.00 0.00 0    0    0    \n",
       " [2,] 0.95 1.00 0.90 0    0.00 0.00 0.00 0    0    0    \n",
       " [3,] 0.93 0.90 1.00 0    0.00 0.00 0.00 0    0    0    \n",
       " [4,] 0.00 0.00 0.00 1    0.00 0.00 0.00 0    0    0    \n",
       " [5,] 0.00 0.00 0.00 0    1.00 0.90 0.88 0    0    0    \n",
       " [6,] 0.00 0.00 0.00 0    0.90 1.00 0.85 0    0    0    \n",
       " [7,] 0.00 0.00 0.00 0    0.88 0.85 1.00 0    0    0    \n",
       " [8,] 0.00 0.00 0.00 0    0.00 0.00 0.00 1    0    0    \n",
       " [9,] 0.00 0.00 0.00 0    0.00 0.00 0.00 0    1    0    \n",
       "[10,] 0.00 0.00 0.00 0    0.00 0.00 0.00 0    0    1    "
      ]
     },
     "metadata": {},
     "output_type": "display_data"
    }
   ],
   "source": [
    "cov_mat"
   ]
  },
  {
   "cell_type": "code",
   "execution_count": 6,
   "metadata": {},
   "outputs": [
    {
     "data": {
      "text/html": [
       "<table>\n",
       "<thead><tr><th scope=col></th><th scope=col></th><th scope=col></th><th scope=col></th><th scope=col></th><th scope=col></th><th scope=col></th><th scope=col></th><th scope=col></th><th scope=col></th></tr></thead>\n",
       "<tbody>\n",
       "\t<tr><td>1.00</td><td>0.95</td><td>0.93</td><td>0   </td><td>0.00</td><td>0.00</td><td>0.00</td><td>0   </td><td>0   </td><td>0   </td></tr>\n",
       "\t<tr><td>0.95</td><td>1.00</td><td>0.90</td><td>0   </td><td>0.00</td><td>0.00</td><td>0.00</td><td>0   </td><td>0   </td><td>0   </td></tr>\n",
       "\t<tr><td>0.93</td><td>0.90</td><td>1.00</td><td>0   </td><td>0.00</td><td>0.00</td><td>0.00</td><td>0   </td><td>0   </td><td>0   </td></tr>\n",
       "\t<tr><td>0.00</td><td>0.00</td><td>0.00</td><td>1   </td><td>0.00</td><td>0.00</td><td>0.00</td><td>0   </td><td>0   </td><td>0   </td></tr>\n",
       "\t<tr><td>0.00</td><td>0.00</td><td>0.00</td><td>0   </td><td>1.00</td><td>0.90</td><td>0.88</td><td>0   </td><td>0   </td><td>0   </td></tr>\n",
       "\t<tr><td>0.00</td><td>0.00</td><td>0.00</td><td>0   </td><td>0.90</td><td>1.00</td><td>0.85</td><td>0   </td><td>0   </td><td>0   </td></tr>\n",
       "\t<tr><td>0.00</td><td>0.00</td><td>0.00</td><td>0   </td><td>0.88</td><td>0.85</td><td>1.00</td><td>0   </td><td>0   </td><td>0   </td></tr>\n",
       "\t<tr><td>0.00</td><td>0.00</td><td>0.00</td><td>0   </td><td>0.00</td><td>0.00</td><td>0.00</td><td>1   </td><td>0   </td><td>0   </td></tr>\n",
       "\t<tr><td>0.00</td><td>0.00</td><td>0.00</td><td>0   </td><td>0.00</td><td>0.00</td><td>0.00</td><td>0   </td><td>1   </td><td>0   </td></tr>\n",
       "\t<tr><td>0.00</td><td>0.00</td><td>0.00</td><td>0   </td><td>0.00</td><td>0.00</td><td>0.00</td><td>0   </td><td>0   </td><td>1   </td></tr>\n",
       "</tbody>\n",
       "</table>\n"
      ],
      "text/latex": [
       "\\begin{tabular}{r|llllllllll}\n",
       "  &  &  &  &  &  &  &  &  & \\\\\n",
       "\\hline\n",
       "\t 1.00 & 0.95 & 0.93 & 0    & 0.00 & 0.00 & 0.00 & 0    & 0    & 0   \\\\\n",
       "\t 0.95 & 1.00 & 0.90 & 0    & 0.00 & 0.00 & 0.00 & 0    & 0    & 0   \\\\\n",
       "\t 0.93 & 0.90 & 1.00 & 0    & 0.00 & 0.00 & 0.00 & 0    & 0    & 0   \\\\\n",
       "\t 0.00 & 0.00 & 0.00 & 1    & 0.00 & 0.00 & 0.00 & 0    & 0    & 0   \\\\\n",
       "\t 0.00 & 0.00 & 0.00 & 0    & 1.00 & 0.90 & 0.88 & 0    & 0    & 0   \\\\\n",
       "\t 0.00 & 0.00 & 0.00 & 0    & 0.90 & 1.00 & 0.85 & 0    & 0    & 0   \\\\\n",
       "\t 0.00 & 0.00 & 0.00 & 0    & 0.88 & 0.85 & 1.00 & 0    & 0    & 0   \\\\\n",
       "\t 0.00 & 0.00 & 0.00 & 0    & 0.00 & 0.00 & 0.00 & 1    & 0    & 0   \\\\\n",
       "\t 0.00 & 0.00 & 0.00 & 0    & 0.00 & 0.00 & 0.00 & 0    & 1    & 0   \\\\\n",
       "\t 0.00 & 0.00 & 0.00 & 0    & 0.00 & 0.00 & 0.00 & 0    & 0    & 1   \\\\\n",
       "\\end{tabular}\n"
      ],
      "text/markdown": [
       "\n",
       " |  |  |  |  |  |  |  |  |  | \n",
       "|---|---|---|---|---|---|---|---|---|---|\n",
       "| 1.00 | 0.95 | 0.93 | 0    | 0.00 | 0.00 | 0.00 | 0    | 0    | 0    | \n",
       "| 0.95 | 1.00 | 0.90 | 0    | 0.00 | 0.00 | 0.00 | 0    | 0    | 0    | \n",
       "| 0.93 | 0.90 | 1.00 | 0    | 0.00 | 0.00 | 0.00 | 0    | 0    | 0    | \n",
       "| 0.00 | 0.00 | 0.00 | 1    | 0.00 | 0.00 | 0.00 | 0    | 0    | 0    | \n",
       "| 0.00 | 0.00 | 0.00 | 0    | 1.00 | 0.90 | 0.88 | 0    | 0    | 0    | \n",
       "| 0.00 | 0.00 | 0.00 | 0    | 0.90 | 1.00 | 0.85 | 0    | 0    | 0    | \n",
       "| 0.00 | 0.00 | 0.00 | 0    | 0.88 | 0.85 | 1.00 | 0    | 0    | 0    | \n",
       "| 0.00 | 0.00 | 0.00 | 0    | 0.00 | 0.00 | 0.00 | 1    | 0    | 0    | \n",
       "| 0.00 | 0.00 | 0.00 | 0    | 0.00 | 0.00 | 0.00 | 0    | 1    | 0    | \n",
       "| 0.00 | 0.00 | 0.00 | 0    | 0.00 | 0.00 | 0.00 | 0    | 0    | 1    | \n",
       "\n",
       "\n"
      ],
      "text/plain": [
       "                                        \n",
       "1  1.00 0.95 0.93 0 0.00 0.00 0.00 0 0 0\n",
       "2  0.95 1.00 0.90 0 0.00 0.00 0.00 0 0 0\n",
       "3  0.93 0.90 1.00 0 0.00 0.00 0.00 0 0 0\n",
       "4  0.00 0.00 0.00 1 0.00 0.00 0.00 0 0 0\n",
       "5  0.00 0.00 0.00 0 1.00 0.90 0.88 0 0 0\n",
       "6  0.00 0.00 0.00 0 0.90 1.00 0.85 0 0 0\n",
       "7  0.00 0.00 0.00 0 0.88 0.85 1.00 0 0 0\n",
       "8  0.00 0.00 0.00 0 0.00 0.00 0.00 1 0 0\n",
       "9  0.00 0.00 0.00 0 0.00 0.00 0.00 0 1 0\n",
       "10 0.00 0.00 0.00 0 0.00 0.00 0.00 0 0 1"
      ]
     },
     "metadata": {},
     "output_type": "display_data"
    }
   ],
   "source": [
    "cov_mat %>%\n",
    "    dplyr::as_tibble(.name_repair = \"minimal\")"
   ]
  },
  {
   "cell_type": "code",
   "execution_count": 7,
   "metadata": {},
   "outputs": [
    {
     "data": {
      "text/html": [
       "<table>\n",
       "<thead><tr><th scope=col>feature_num</th><th scope=col>feature_1</th><th scope=col>feature_2</th><th scope=col>feature_3</th><th scope=col>feature_4</th><th scope=col>feature_5</th><th scope=col>feature_6</th><th scope=col>feature_7</th><th scope=col>feature_8</th><th scope=col>feature_9</th><th scope=col>feature_10</th></tr></thead>\n",
       "<tbody>\n",
       "\t<tr><td>feature_1 </td><td>1.00      </td><td>0.95      </td><td>0.93      </td><td>0         </td><td>0.00      </td><td>0.00      </td><td>0.00      </td><td>0         </td><td>0         </td><td>0         </td></tr>\n",
       "\t<tr><td>feature_2 </td><td>0.95      </td><td>1.00      </td><td>0.90      </td><td>0         </td><td>0.00      </td><td>0.00      </td><td>0.00      </td><td>0         </td><td>0         </td><td>0         </td></tr>\n",
       "\t<tr><td>feature_3 </td><td>0.93      </td><td>0.90      </td><td>1.00      </td><td>0         </td><td>0.00      </td><td>0.00      </td><td>0.00      </td><td>0         </td><td>0         </td><td>0         </td></tr>\n",
       "\t<tr><td>feature_4 </td><td>0.00      </td><td>0.00      </td><td>0.00      </td><td>1         </td><td>0.00      </td><td>0.00      </td><td>0.00      </td><td>0         </td><td>0         </td><td>0         </td></tr>\n",
       "\t<tr><td>feature_5 </td><td>0.00      </td><td>0.00      </td><td>0.00      </td><td>0         </td><td>1.00      </td><td>0.90      </td><td>0.88      </td><td>0         </td><td>0         </td><td>0         </td></tr>\n",
       "\t<tr><td>feature_6 </td><td>0.00      </td><td>0.00      </td><td>0.00      </td><td>0         </td><td>0.90      </td><td>1.00      </td><td>0.85      </td><td>0         </td><td>0         </td><td>0         </td></tr>\n",
       "\t<tr><td>feature_7 </td><td>0.00      </td><td>0.00      </td><td>0.00      </td><td>0         </td><td>0.88      </td><td>0.85      </td><td>1.00      </td><td>0         </td><td>0         </td><td>0         </td></tr>\n",
       "\t<tr><td>feature_8 </td><td>0.00      </td><td>0.00      </td><td>0.00      </td><td>0         </td><td>0.00      </td><td>0.00      </td><td>0.00      </td><td>1         </td><td>0         </td><td>0         </td></tr>\n",
       "\t<tr><td>feature_9 </td><td>0.00      </td><td>0.00      </td><td>0.00      </td><td>0         </td><td>0.00      </td><td>0.00      </td><td>0.00      </td><td>0         </td><td>1         </td><td>0         </td></tr>\n",
       "\t<tr><td>feature_10</td><td>0.00      </td><td>0.00      </td><td>0.00      </td><td>0         </td><td>0.00      </td><td>0.00      </td><td>0.00      </td><td>0         </td><td>0         </td><td>1         </td></tr>\n",
       "</tbody>\n",
       "</table>\n"
      ],
      "text/latex": [
       "\\begin{tabular}{r|lllllllllll}\n",
       " feature\\_num & feature\\_1 & feature\\_2 & feature\\_3 & feature\\_4 & feature\\_5 & feature\\_6 & feature\\_7 & feature\\_8 & feature\\_9 & feature\\_10\\\\\n",
       "\\hline\n",
       "\t feature\\_1  & 1.00         & 0.95         & 0.93         & 0            & 0.00         & 0.00         & 0.00         & 0            & 0            & 0           \\\\\n",
       "\t feature\\_2  & 0.95         & 1.00         & 0.90         & 0            & 0.00         & 0.00         & 0.00         & 0            & 0            & 0           \\\\\n",
       "\t feature\\_3  & 0.93         & 0.90         & 1.00         & 0            & 0.00         & 0.00         & 0.00         & 0            & 0            & 0           \\\\\n",
       "\t feature\\_4  & 0.00         & 0.00         & 0.00         & 1            & 0.00         & 0.00         & 0.00         & 0            & 0            & 0           \\\\\n",
       "\t feature\\_5  & 0.00         & 0.00         & 0.00         & 0            & 1.00         & 0.90         & 0.88         & 0            & 0            & 0           \\\\\n",
       "\t feature\\_6  & 0.00         & 0.00         & 0.00         & 0            & 0.90         & 1.00         & 0.85         & 0            & 0            & 0           \\\\\n",
       "\t feature\\_7  & 0.00         & 0.00         & 0.00         & 0            & 0.88         & 0.85         & 1.00         & 0            & 0            & 0           \\\\\n",
       "\t feature\\_8  & 0.00         & 0.00         & 0.00         & 0            & 0.00         & 0.00         & 0.00         & 1            & 0            & 0           \\\\\n",
       "\t feature\\_9  & 0.00         & 0.00         & 0.00         & 0            & 0.00         & 0.00         & 0.00         & 0            & 1            & 0           \\\\\n",
       "\t feature\\_10 & 0.00         & 0.00         & 0.00         & 0            & 0.00         & 0.00         & 0.00         & 0            & 0            & 1           \\\\\n",
       "\\end{tabular}\n"
      ],
      "text/markdown": [
       "\n",
       "feature_num | feature_1 | feature_2 | feature_3 | feature_4 | feature_5 | feature_6 | feature_7 | feature_8 | feature_9 | feature_10 | \n",
       "|---|---|---|---|---|---|---|---|---|---|\n",
       "| feature_1  | 1.00       | 0.95       | 0.93       | 0          | 0.00       | 0.00       | 0.00       | 0          | 0          | 0          | \n",
       "| feature_2  | 0.95       | 1.00       | 0.90       | 0          | 0.00       | 0.00       | 0.00       | 0          | 0          | 0          | \n",
       "| feature_3  | 0.93       | 0.90       | 1.00       | 0          | 0.00       | 0.00       | 0.00       | 0          | 0          | 0          | \n",
       "| feature_4  | 0.00       | 0.00       | 0.00       | 1          | 0.00       | 0.00       | 0.00       | 0          | 0          | 0          | \n",
       "| feature_5  | 0.00       | 0.00       | 0.00       | 0          | 1.00       | 0.90       | 0.88       | 0          | 0          | 0          | \n",
       "| feature_6  | 0.00       | 0.00       | 0.00       | 0          | 0.90       | 1.00       | 0.85       | 0          | 0          | 0          | \n",
       "| feature_7  | 0.00       | 0.00       | 0.00       | 0          | 0.88       | 0.85       | 1.00       | 0          | 0          | 0          | \n",
       "| feature_8  | 0.00       | 0.00       | 0.00       | 0          | 0.00       | 0.00       | 0.00       | 1          | 0          | 0          | \n",
       "| feature_9  | 0.00       | 0.00       | 0.00       | 0          | 0.00       | 0.00       | 0.00       | 0          | 1          | 0          | \n",
       "| feature_10 | 0.00       | 0.00       | 0.00       | 0          | 0.00       | 0.00       | 0.00       | 0          | 0          | 1          | \n",
       "\n",
       "\n"
      ],
      "text/plain": [
       "   feature_num feature_1 feature_2 feature_3 feature_4 feature_5 feature_6\n",
       "1  feature_1   1.00      0.95      0.93      0         0.00      0.00     \n",
       "2  feature_2   0.95      1.00      0.90      0         0.00      0.00     \n",
       "3  feature_3   0.93      0.90      1.00      0         0.00      0.00     \n",
       "4  feature_4   0.00      0.00      0.00      1         0.00      0.00     \n",
       "5  feature_5   0.00      0.00      0.00      0         1.00      0.90     \n",
       "6  feature_6   0.00      0.00      0.00      0         0.90      1.00     \n",
       "7  feature_7   0.00      0.00      0.00      0         0.88      0.85     \n",
       "8  feature_8   0.00      0.00      0.00      0         0.00      0.00     \n",
       "9  feature_9   0.00      0.00      0.00      0         0.00      0.00     \n",
       "10 feature_10  0.00      0.00      0.00      0         0.00      0.00     \n",
       "   feature_7 feature_8 feature_9 feature_10\n",
       "1  0.00      0         0         0         \n",
       "2  0.00      0         0         0         \n",
       "3  0.00      0         0         0         \n",
       "4  0.00      0         0         0         \n",
       "5  0.88      0         0         0         \n",
       "6  0.85      0         0         0         \n",
       "7  1.00      0         0         0         \n",
       "8  0.00      1         0         0         \n",
       "9  0.00      0         1         0         \n",
       "10 0.00      0         0         1         "
      ]
     },
     "metadata": {},
     "output_type": "display_data"
    }
   ],
   "source": [
    "feature_ids <- paste0(\"feature_\", seq(1, nrow(cov_mat)))\n",
    "\n",
    "cov_mat_df <- cov_mat %>%\n",
    "    dplyr::as_tibble(.name_repair = \"minimal\")\n",
    "\n",
    "colnames(cov_mat_df) <- feature_ids\n",
    "\n",
    "cov_mat_df <- cov_mat_df %>%\n",
    "    dplyr::mutate(feature_num = feature_ids) %>%\n",
    "    dplyr::select(feature_num, dplyr::everything())\n",
    "\n",
    "out_file <- file.path(\"data\", \"simulated_covariance_structure.tsv\")\n",
    "cov_mat_df %>% readr::write_tsv(out_file)\n",
    "\n",
    "cov_mat_df"
   ]
  },
  {
   "cell_type": "code",
   "execution_count": 8,
   "metadata": {},
   "outputs": [
    {
     "name": "stdout",
     "output_type": "stream",
     "text": [
      "[1] 10000    10\n"
     ]
    },
    {
     "data": {
      "text/html": [
       "<table>\n",
       "<thead><tr><th scope=col>feature_1</th><th scope=col>feature_2</th><th scope=col>feature_3</th><th scope=col>feature_4</th><th scope=col>feature_5</th><th scope=col>feature_6</th><th scope=col>feature_7</th><th scope=col>feature_8</th><th scope=col>feature_9</th><th scope=col>feature_10</th></tr></thead>\n",
       "<tbody>\n",
       "\t<tr><td> 1.0286196  </td><td> 1.3146307  </td><td> 1.1901828  </td><td> 0.49060054 </td><td>-1.4864160  </td><td>-1.52344310 </td><td>-2.21882023 </td><td>-0.903147902</td><td>2.4918186   </td><td>-1.6878627  </td></tr>\n",
       "\t<tr><td>-0.1512017  </td><td>-0.3485621  </td><td>-0.3135512  </td><td> 0.02499143 </td><td> 0.5670100  </td><td> 0.59210400 </td><td> 0.64420043 </td><td>-0.006098308</td><td>0.0532215   </td><td>-0.9552011  </td></tr>\n",
       "\t<tr><td>-1.0618205  </td><td>-0.8835110  </td><td>-1.2288525  </td><td> 1.29905349 </td><td> 0.2972670  </td><td> 0.51318971 </td><td> 0.68231753 </td><td>-0.904131937</td><td>0.4562491   </td><td>-0.6480572  </td></tr>\n",
       "\t<tr><td> 2.2379443  </td><td> 2.6729694  </td><td> 1.9504273  </td><td>-0.23457321 </td><td> 0.3891368  </td><td>-0.08028292 </td><td> 0.09300547 </td><td>-0.060453158</td><td>1.5770552   </td><td> 0.2610342  </td></tr>\n",
       "\t<tr><td>-0.5824264  </td><td>-0.4616994  </td><td>-0.2081670  </td><td>-0.45257621 </td><td> 1.5829965  </td><td> 1.56321431 </td><td> 1.03738579 </td><td>-1.094187464</td><td>0.6223530   </td><td>-1.2196940  </td></tr>\n",
       "\t<tr><td>-0.5003933  </td><td>-0.5806993  </td><td>-0.3988106  </td><td>-0.01112573 </td><td>-0.8851752  </td><td>-0.26575244 </td><td>-0.26149642 </td><td> 0.352918538</td><td>1.1879753   </td><td>-1.5501888  </td></tr>\n",
       "</tbody>\n",
       "</table>\n"
      ],
      "text/latex": [
       "\\begin{tabular}{r|llllllllll}\n",
       " feature\\_1 & feature\\_2 & feature\\_3 & feature\\_4 & feature\\_5 & feature\\_6 & feature\\_7 & feature\\_8 & feature\\_9 & feature\\_10\\\\\n",
       "\\hline\n",
       "\t  1.0286196   &  1.3146307   &  1.1901828   &  0.49060054  & -1.4864160   & -1.52344310  & -2.21882023  & -0.903147902 & 2.4918186    & -1.6878627  \\\\\n",
       "\t -0.1512017   & -0.3485621   & -0.3135512   &  0.02499143  &  0.5670100   &  0.59210400  &  0.64420043  & -0.006098308 & 0.0532215    & -0.9552011  \\\\\n",
       "\t -1.0618205   & -0.8835110   & -1.2288525   &  1.29905349  &  0.2972670   &  0.51318971  &  0.68231753  & -0.904131937 & 0.4562491    & -0.6480572  \\\\\n",
       "\t  2.2379443   &  2.6729694   &  1.9504273   & -0.23457321  &  0.3891368   & -0.08028292  &  0.09300547  & -0.060453158 & 1.5770552    &  0.2610342  \\\\\n",
       "\t -0.5824264   & -0.4616994   & -0.2081670   & -0.45257621  &  1.5829965   &  1.56321431  &  1.03738579  & -1.094187464 & 0.6223530    & -1.2196940  \\\\\n",
       "\t -0.5003933   & -0.5806993   & -0.3988106   & -0.01112573  & -0.8851752   & -0.26575244  & -0.26149642  &  0.352918538 & 1.1879753    & -1.5501888  \\\\\n",
       "\\end{tabular}\n"
      ],
      "text/markdown": [
       "\n",
       "feature_1 | feature_2 | feature_3 | feature_4 | feature_5 | feature_6 | feature_7 | feature_8 | feature_9 | feature_10 | \n",
       "|---|---|---|---|---|---|\n",
       "|  1.0286196   |  1.3146307   |  1.1901828   |  0.49060054  | -1.4864160   | -1.52344310  | -2.21882023  | -0.903147902 | 2.4918186    | -1.6878627   | \n",
       "| -0.1512017   | -0.3485621   | -0.3135512   |  0.02499143  |  0.5670100   |  0.59210400  |  0.64420043  | -0.006098308 | 0.0532215    | -0.9552011   | \n",
       "| -1.0618205   | -0.8835110   | -1.2288525   |  1.29905349  |  0.2972670   |  0.51318971  |  0.68231753  | -0.904131937 | 0.4562491    | -0.6480572   | \n",
       "|  2.2379443   |  2.6729694   |  1.9504273   | -0.23457321  |  0.3891368   | -0.08028292  |  0.09300547  | -0.060453158 | 1.5770552    |  0.2610342   | \n",
       "| -0.5824264   | -0.4616994   | -0.2081670   | -0.45257621  |  1.5829965   |  1.56321431  |  1.03738579  | -1.094187464 | 0.6223530    | -1.2196940   | \n",
       "| -0.5003933   | -0.5806993   | -0.3988106   | -0.01112573  | -0.8851752   | -0.26575244  | -0.26149642  |  0.352918538 | 1.1879753    | -1.5501888   | \n",
       "\n",
       "\n"
      ],
      "text/plain": [
       "  feature_1  feature_2  feature_3  feature_4   feature_5  feature_6  \n",
       "1  1.0286196  1.3146307  1.1901828  0.49060054 -1.4864160 -1.52344310\n",
       "2 -0.1512017 -0.3485621 -0.3135512  0.02499143  0.5670100  0.59210400\n",
       "3 -1.0618205 -0.8835110 -1.2288525  1.29905349  0.2972670  0.51318971\n",
       "4  2.2379443  2.6729694  1.9504273 -0.23457321  0.3891368 -0.08028292\n",
       "5 -0.5824264 -0.4616994 -0.2081670 -0.45257621  1.5829965  1.56321431\n",
       "6 -0.5003933 -0.5806993 -0.3988106 -0.01112573 -0.8851752 -0.26575244\n",
       "  feature_7   feature_8    feature_9 feature_10\n",
       "1 -2.21882023 -0.903147902 2.4918186 -1.6878627\n",
       "2  0.64420043 -0.006098308 0.0532215 -0.9552011\n",
       "3  0.68231753 -0.904131937 0.4562491 -0.6480572\n",
       "4  0.09300547 -0.060453158 1.5770552  0.2610342\n",
       "5  1.03738579 -1.094187464 0.6223530 -1.2196940\n",
       "6 -0.26149642  0.352918538 1.1879753 -1.5501888"
      ]
     },
     "metadata": {},
     "output_type": "display_data"
    }
   ],
   "source": [
    "simulated_data <- MASS::mvrnorm(n = n, mu = rep(0, p), Sigma = cov_mat) \n",
    "colnames(simulated_data) <- paste0(\"feature_\", 1:ncol(simulated_data))\n",
    "simulated_data <- simulated_data %>% dplyr::as_tibble(.name_repair = \"minimal\")\n",
    "\n",
    "print(dim(simulated_data))\n",
    "head(simulated_data)"
   ]
  },
  {
   "cell_type": "code",
   "execution_count": 9,
   "metadata": {},
   "outputs": [],
   "source": [
    "out_file <- file.path(\"data\", \"simulated_signal_n1000_p10.tsv\")\n",
    "simulated_data %>% readr::write_tsv(out_file)"
   ]
  }
 ],
 "metadata": {
  "kernelspec": {
   "display_name": "R [conda env:biobombe]",
   "language": "R",
   "name": "conda-env-biobombe-r"
  },
  "language_info": {
   "codemirror_mode": "r",
   "file_extension": ".r",
   "mimetype": "text/x-r-source",
   "name": "R",
   "pygments_lexer": "r",
   "version": "3.4.1"
  }
 },
 "nbformat": 4,
 "nbformat_minor": 2
}
