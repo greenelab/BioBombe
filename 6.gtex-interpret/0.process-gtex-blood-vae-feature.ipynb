{
 "cells": [
  {
   "cell_type": "markdown",
   "metadata": {},
   "source": [
    "# Capturing Blood Tissue in GTEx Data\n",
    "\n",
    "**Gregory Way, 2018**\n",
    "\n",
    "When viewing sample correlation differences across z dimensions stratified by tissue-type, we often observed a rapid increase in correlation after increasing model capacity by one.\n",
    "\n",
    "For example, the ability of variational autoencoders to capture blood tissue correlation jumps by nearly 50% between bottleneck dimensions 2 and 3 (see below).\n",
    "\n",
    "![sample-correlation_Blood_GTEX_signal_pearson.png](https://raw.githubusercontent.com/greenelab/interpret-compression/master/4.analyze-components/figures/GTEX/sample-correlation/sample-type/sample-correlation_Blood_GTEX_signal_pearson.png)\n",
    "\n",
    "## Procedure\n",
    "\n",
    "In the following notebook, we extract two representative weight matrices for VAE latent space dimensions 2 and 3.\n",
    "We apply two compression feature interpretaion approaches to the weight vectors for each latent space feature. \n",
    "\n",
    "1. Our matrix interpretation approach\n",
    "2. Overrepresentation Tests using high weight genes\n",
    "\n",
    "In both approaches we use genesets derived in the XCELL paper that represent cell-types ([Aran et al. 2017](https://doi.org/10.1186/s13059-017-1349-1))\n",
    "\n",
    "We output the results of both approaches and analyze the results in subsequent notebooks."
   ]
  },
  {
   "cell_type": "code",
   "execution_count": 1,
   "metadata": {},
   "outputs": [],
   "source": [
    "import os\n",
    "import sys\n",
    "import glob\n",
    "import requests\n",
    "import pandas as pd\n",
    "import numpy as np\n",
    "import gseapy as gp\n",
    "\n",
    "sys.path.append('../scripts')\n",
    "from latent import latentModel, load_hetnets, parse_gmt, run_overrepresentation"
   ]
  },
  {
   "cell_type": "code",
   "execution_count": 2,
   "metadata": {},
   "outputs": [],
   "source": [
    "np.random.seed(123)"
   ]
  },
  {
   "cell_type": "code",
   "execution_count": 3,
   "metadata": {},
   "outputs": [],
   "source": [
    "metaedge = 'GpXCELL'"
   ]
  },
  {
   "cell_type": "code",
   "execution_count": 4,
   "metadata": {},
   "outputs": [],
   "source": [
    "base_dir = '../2.ensemble-z-analysis/results/GTEX_results/ensemble_z_matrices/'"
   ]
  },
  {
   "cell_type": "code",
   "execution_count": 5,
   "metadata": {},
   "outputs": [],
   "source": [
    "sample_weight_2 = os.path.join(base_dir, 'gtex_components_2', 'model_109635_weight_matrix.tsv.gz')\n",
    "sample_weight_3 = os.path.join(base_dir, 'gtex_components_3', 'model_174930_weight_matrix.tsv.gz')"
   ]
  },
  {
   "cell_type": "code",
   "execution_count": 6,
   "metadata": {},
   "outputs": [
    {
     "data": {
      "text/html": [
       "<div>\n",
       "<style scoped>\n",
       "    .dataframe tbody tr th:only-of-type {\n",
       "        vertical-align: middle;\n",
       "    }\n",
       "\n",
       "    .dataframe tbody tr th {\n",
       "        vertical-align: top;\n",
       "    }\n",
       "\n",
       "    .dataframe thead th {\n",
       "        text-align: right;\n",
       "    }\n",
       "</style>\n",
       "<table border=\"1\" class=\"dataframe\">\n",
       "  <thead>\n",
       "    <tr style=\"text-align: right;\">\n",
       "      <th></th>\n",
       "      <th>vae_0</th>\n",
       "      <th>vae_1</th>\n",
       "    </tr>\n",
       "  </thead>\n",
       "  <tbody>\n",
       "    <tr>\n",
       "      <th>3043</th>\n",
       "      <td>0.172343</td>\n",
       "      <td>-0.227981</td>\n",
       "    </tr>\n",
       "    <tr>\n",
       "      <th>3040</th>\n",
       "      <td>0.155789</td>\n",
       "      <td>-0.227012</td>\n",
       "    </tr>\n",
       "    <tr>\n",
       "      <th>6280</th>\n",
       "      <td>-0.031052</td>\n",
       "      <td>-0.212339</td>\n",
       "    </tr>\n",
       "    <tr>\n",
       "      <th>5644</th>\n",
       "      <td>0.192519</td>\n",
       "      <td>-0.264237</td>\n",
       "    </tr>\n",
       "    <tr>\n",
       "      <th>2512</th>\n",
       "      <td>-0.029802</td>\n",
       "      <td>0.060251</td>\n",
       "    </tr>\n",
       "  </tbody>\n",
       "</table>\n",
       "</div>"
      ],
      "text/plain": [
       "         vae_0     vae_1\n",
       "3043  0.172343 -0.227981\n",
       "3040  0.155789 -0.227012\n",
       "6280 -0.031052 -0.212339\n",
       "5644  0.192519 -0.264237\n",
       "2512 -0.029802  0.060251"
      ]
     },
     "execution_count": 6,
     "metadata": {},
     "output_type": "execute_result"
    }
   ],
   "source": [
    "sample_weight_2_df = pd.read_table(sample_weight_2, index_col=0)\n",
    "sample_weight_3_df = pd.read_table(sample_weight_3, index_col=0)\n",
    "\n",
    "sample_weight_2_df = sample_weight_2_df.loc[:, sample_weight_2_df.columns.str.contains('vae')]\n",
    "sample_weight_3_df = sample_weight_3_df.loc[:, sample_weight_3_df.columns.str.contains('vae')]\n",
    "\n",
    "sample_weight_2_df.head()"
   ]
  },
  {
   "cell_type": "code",
   "execution_count": 7,
   "metadata": {},
   "outputs": [
    {
     "data": {
      "text/html": [
       "<div>\n",
       "<style scoped>\n",
       "    .dataframe tbody tr th:only-of-type {\n",
       "        vertical-align: middle;\n",
       "    }\n",
       "\n",
       "    .dataframe tbody tr th {\n",
       "        vertical-align: top;\n",
       "    }\n",
       "\n",
       "    .dataframe thead th {\n",
       "        text-align: right;\n",
       "    }\n",
       "</style>\n",
       "<table border=\"1\" class=\"dataframe\">\n",
       "  <thead>\n",
       "    <tr style=\"text-align: right;\">\n",
       "      <th></th>\n",
       "      <th>vae_0_two</th>\n",
       "      <th>vae_1_two</th>\n",
       "      <th>vae_0_three</th>\n",
       "      <th>vae_1_three</th>\n",
       "      <th>vae_2</th>\n",
       "    </tr>\n",
       "  </thead>\n",
       "  <tbody>\n",
       "    <tr>\n",
       "      <th>3043</th>\n",
       "      <td>0.172343</td>\n",
       "      <td>-0.227981</td>\n",
       "      <td>0.236818</td>\n",
       "      <td>-0.602538</td>\n",
       "      <td>-0.240952</td>\n",
       "    </tr>\n",
       "    <tr>\n",
       "      <th>3040</th>\n",
       "      <td>0.155789</td>\n",
       "      <td>-0.227012</td>\n",
       "      <td>0.213518</td>\n",
       "      <td>-0.589104</td>\n",
       "      <td>-0.245543</td>\n",
       "    </tr>\n",
       "  </tbody>\n",
       "</table>\n",
       "</div>"
      ],
      "text/plain": [
       "      vae_0_two  vae_1_two  vae_0_three  vae_1_three     vae_2\n",
       "3043   0.172343  -0.227981     0.236818    -0.602538 -0.240952\n",
       "3040   0.155789  -0.227012     0.213518    -0.589104 -0.245543"
      ]
     },
     "execution_count": 7,
     "metadata": {},
     "output_type": "execute_result"
    }
   ],
   "source": [
    "combined_model = sample_weight_2_df.merge(sample_weight_3_df,\n",
    "                                          left_index=True,\n",
    "                                          right_index=True,\n",
    "                                          suffixes=('_two', '_three'))\n",
    "combined_model.index = combined_model.index.astype('str')\n",
    "combined_model.head(2)"
   ]
  },
  {
   "cell_type": "code",
   "execution_count": 8,
   "metadata": {},
   "outputs": [],
   "source": [
    "# Load hetnets for the given metaedge for rapid latent feature interpretation\n",
    "hetnets = load_hetnets(\n",
    "    hetnet_file='../3.build-hetnets/hetnets/interpret_hetnet.json.bz2',\n",
    "    permuted_directory='../3.build-hetnets/hetnets/permuted/',\n",
    "    subset_genes=combined_model.index,\n",
    "    metaedge_abbrev=metaedge\n",
    "   )"
   ]
  },
  {
   "cell_type": "markdown",
   "metadata": {},
   "source": [
    "## Apply Interpret Compression Approach"
   ]
  },
  {
   "cell_type": "code",
   "execution_count": 9,
   "metadata": {},
   "outputs": [
    {
     "name": "stdout",
     "output_type": "stream",
     "text": [
      "CPU times: user 3.24 s, sys: 10.3 ms, total: 3.25 s\n",
      "Wall time: 4.68 s\n"
     ]
    }
   ],
   "source": [
    "%%time\n",
    "\n",
    "mult_results = {}\n",
    "all_list = []\n",
    "for model in hetnets.keys():\n",
    "    hetnet = hetnets[model]\n",
    "    mult_results[model] = combined_model.T @ hetnet\n",
    "    long_result = mult_results[model].reset_index().melt(id_vars=['index'])\n",
    "    long_result = long_result.assign(model=model)\n",
    "    if model != 'real':\n",
    "        long_result = long_result.assign(model_type='permuted')\n",
    "    else:\n",
    "        long_result = long_result.assign(model_type='real')\n",
    "    all_list.append(long_result)"
   ]
  },
  {
   "cell_type": "code",
   "execution_count": 10,
   "metadata": {},
   "outputs": [
    {
     "data": {
      "text/html": [
       "<div>\n",
       "<style scoped>\n",
       "    .dataframe tbody tr th:only-of-type {\n",
       "        vertical-align: middle;\n",
       "    }\n",
       "\n",
       "    .dataframe tbody tr th {\n",
       "        vertical-align: top;\n",
       "    }\n",
       "\n",
       "    .dataframe thead th {\n",
       "        text-align: right;\n",
       "    }\n",
       "</style>\n",
       "<table border=\"1\" class=\"dataframe\">\n",
       "  <thead>\n",
       "    <tr style=\"text-align: right;\">\n",
       "      <th></th>\n",
       "      <th>index</th>\n",
       "      <th>variable</th>\n",
       "      <th>value</th>\n",
       "      <th>model</th>\n",
       "      <th>model_type</th>\n",
       "    </tr>\n",
       "  </thead>\n",
       "  <tbody>\n",
       "    <tr>\n",
       "      <th>0</th>\n",
       "      <td>vae_0_two</td>\n",
       "      <td>Adipocytes_ENCODE_1</td>\n",
       "      <td>-0.315539</td>\n",
       "      <td>0</td>\n",
       "      <td>permuted</td>\n",
       "    </tr>\n",
       "    <tr>\n",
       "      <th>1</th>\n",
       "      <td>vae_1_two</td>\n",
       "      <td>Adipocytes_ENCODE_1</td>\n",
       "      <td>0.283446</td>\n",
       "      <td>0</td>\n",
       "      <td>permuted</td>\n",
       "    </tr>\n",
       "    <tr>\n",
       "      <th>2</th>\n",
       "      <td>vae_0_three</td>\n",
       "      <td>Adipocytes_ENCODE_1</td>\n",
       "      <td>-0.345545</td>\n",
       "      <td>0</td>\n",
       "      <td>permuted</td>\n",
       "    </tr>\n",
       "    <tr>\n",
       "      <th>3</th>\n",
       "      <td>vae_1_three</td>\n",
       "      <td>Adipocytes_ENCODE_1</td>\n",
       "      <td>-0.324586</td>\n",
       "      <td>0</td>\n",
       "      <td>permuted</td>\n",
       "    </tr>\n",
       "    <tr>\n",
       "      <th>4</th>\n",
       "      <td>vae_2</td>\n",
       "      <td>Adipocytes_ENCODE_1</td>\n",
       "      <td>-0.462507</td>\n",
       "      <td>0</td>\n",
       "      <td>permuted</td>\n",
       "    </tr>\n",
       "  </tbody>\n",
       "</table>\n",
       "</div>"
      ],
      "text/plain": [
       "         index             variable     value model model_type\n",
       "0    vae_0_two  Adipocytes_ENCODE_1 -0.315539     0   permuted\n",
       "1    vae_1_two  Adipocytes_ENCODE_1  0.283446     0   permuted\n",
       "2  vae_0_three  Adipocytes_ENCODE_1 -0.345545     0   permuted\n",
       "3  vae_1_three  Adipocytes_ENCODE_1 -0.324586     0   permuted\n",
       "4        vae_2  Adipocytes_ENCODE_1 -0.462507     0   permuted"
      ]
     },
     "execution_count": 10,
     "metadata": {},
     "output_type": "execute_result"
    }
   ],
   "source": [
    "all_df = pd.concat(all_list)\n",
    "all_df.value = all_df.value.astype(float)\n",
    "all_df.head()"
   ]
  },
  {
   "cell_type": "code",
   "execution_count": 11,
   "metadata": {},
   "outputs": [],
   "source": [
    "permuted_mean = (\n",
    "    all_df\n",
    "    .groupby(['model_type', 'index', 'variable'])\n",
    "    .mean()\n",
    "    .reset_index()\n",
    "    .query(\"model_type == 'permuted'\")\n",
    ")\n",
    "\n",
    "permuted_std = (\n",
    "    all_df\n",
    "    .groupby(['model_type', 'index', 'variable'])\n",
    "    .std()\n",
    "    .reset_index()\n",
    "    .query(\"model_type == 'permuted'\")\n",
    ")\n",
    "\n",
    "real_df = (\n",
    "    all_df\n",
    "    .groupby(['model_type', 'index', 'variable'])\n",
    "    .mean()\n",
    "    .reset_index()\n",
    "    .query(\"model_type == 'real'\")\n",
    ")\n"
   ]
  },
  {
   "cell_type": "code",
   "execution_count": 12,
   "metadata": {},
   "outputs": [
    {
     "data": {
      "text/html": [
       "<div>\n",
       "<style scoped>\n",
       "    .dataframe tbody tr th:only-of-type {\n",
       "        vertical-align: middle;\n",
       "    }\n",
       "\n",
       "    .dataframe tbody tr th {\n",
       "        vertical-align: top;\n",
       "    }\n",
       "\n",
       "    .dataframe thead th {\n",
       "        text-align: right;\n",
       "    }\n",
       "</style>\n",
       "<table border=\"1\" class=\"dataframe\">\n",
       "  <thead>\n",
       "    <tr style=\"text-align: right;\">\n",
       "      <th></th>\n",
       "      <th>model_type</th>\n",
       "      <th>index</th>\n",
       "      <th>variable</th>\n",
       "      <th>value</th>\n",
       "      <th>z_score</th>\n",
       "    </tr>\n",
       "  </thead>\n",
       "  <tbody>\n",
       "    <tr>\n",
       "      <th>0</th>\n",
       "      <td>real</td>\n",
       "      <td>vae_0_three</td>\n",
       "      <td>Adipocytes_ENCODE_1</td>\n",
       "      <td>0.188528</td>\n",
       "      <td>2.214140</td>\n",
       "    </tr>\n",
       "    <tr>\n",
       "      <th>1</th>\n",
       "      <td>real</td>\n",
       "      <td>vae_0_three</td>\n",
       "      <td>Adipocytes_ENCODE_2</td>\n",
       "      <td>0.216554</td>\n",
       "      <td>2.116078</td>\n",
       "    </tr>\n",
       "    <tr>\n",
       "      <th>2</th>\n",
       "      <td>real</td>\n",
       "      <td>vae_0_three</td>\n",
       "      <td>Adipocytes_ENCODE_3</td>\n",
       "      <td>0.079694</td>\n",
       "      <td>1.543371</td>\n",
       "    </tr>\n",
       "    <tr>\n",
       "      <th>3</th>\n",
       "      <td>real</td>\n",
       "      <td>vae_0_three</td>\n",
       "      <td>Adipocytes_FANTOM_1</td>\n",
       "      <td>0.406027</td>\n",
       "      <td>2.878554</td>\n",
       "    </tr>\n",
       "    <tr>\n",
       "      <th>4</th>\n",
       "      <td>real</td>\n",
       "      <td>vae_0_three</td>\n",
       "      <td>Adipocytes_FANTOM_2</td>\n",
       "      <td>0.406027</td>\n",
       "      <td>6.245608</td>\n",
       "    </tr>\n",
       "  </tbody>\n",
       "</table>\n",
       "</div>"
      ],
      "text/plain": [
       "  model_type        index             variable     value   z_score\n",
       "0       real  vae_0_three  Adipocytes_ENCODE_1  0.188528  2.214140\n",
       "1       real  vae_0_three  Adipocytes_ENCODE_2  0.216554  2.116078\n",
       "2       real  vae_0_three  Adipocytes_ENCODE_3  0.079694  1.543371\n",
       "3       real  vae_0_three  Adipocytes_FANTOM_1  0.406027  2.878554\n",
       "4       real  vae_0_three  Adipocytes_FANTOM_2  0.406027  6.245608"
      ]
     },
     "execution_count": 12,
     "metadata": {},
     "output_type": "execute_result"
    }
   ],
   "source": [
    "z_score = (real_df.reset_index(drop=True).value - permuted_mean.value) / permuted_std.value\n",
    "real_df = real_df.reset_index(drop=True).assign(z_score=z_score)\n",
    "\n",
    "real_df.head()"
   ]
  },
  {
   "cell_type": "code",
   "execution_count": 13,
   "metadata": {},
   "outputs": [],
   "source": [
    "file = os.path.join('results', 'gtex_vae_example_interpret_compression.tsv')\n",
    "real_df.sort_values(by='z_score').to_csv(file, sep='\\t')"
   ]
  },
  {
   "cell_type": "markdown",
   "metadata": {},
   "source": [
    "## Perform overrepresentation tests on the same features\n",
    "\n",
    "### Split into positive and negative tails and extract high weight genes"
   ]
  },
  {
   "cell_type": "code",
   "execution_count": 14,
   "metadata": {},
   "outputs": [
    {
     "data": {
      "text/plain": [
       "489"
      ]
     },
     "execution_count": 14,
     "metadata": {},
     "output_type": "execute_result"
    }
   ],
   "source": [
    "geneset_file = os.path.join('..', '3.build-hetnets', 'data', 'xcell_all_entrez.gmt')\n",
    "xcell_genesets_gmt = parse_gmt(gene_sets=[geneset_file])\n",
    "len(xcell_genesets_gmt)"
   ]
  },
  {
   "cell_type": "code",
   "execution_count": 15,
   "metadata": {},
   "outputs": [],
   "source": [
    "vae_2_lm = latentModel(filename=sample_weight_2,\n",
    "                       z_dim=2,\n",
    "                       dataset_name='GTEX',\n",
    "                       algorithm_name='VAE',\n",
    "                       weight_seed='109635',\n",
    "                       shuffled_true=False)\n",
    "\n",
    "vae_3_lm = latentModel(filename=sample_weight_3,\n",
    "                       z_dim=2,\n",
    "                       dataset_name='GTEX',\n",
    "                       algorithm_name='VAE',\n",
    "                       weight_seed='174930',\n",
    "                       shuffled_true=False)"
   ]
  },
  {
   "cell_type": "code",
   "execution_count": 16,
   "metadata": {},
   "outputs": [],
   "source": [
    "vae_2_lm.get_high_weight_genes()\n",
    "vae_3_lm.get_high_weight_genes()"
   ]
  },
  {
   "cell_type": "code",
   "execution_count": 17,
   "metadata": {},
   "outputs": [],
   "source": [
    "background_genes = []\n",
    "for xcell_name, xcell_gene_set in xcell_genesets_gmt.items():\n",
    "    background_genes += xcell_gene_set"
   ]
  },
  {
   "cell_type": "code",
   "execution_count": 18,
   "metadata": {},
   "outputs": [
    {
     "name": "stdout",
     "output_type": "stream",
     "text": [
      "CPU times: user 4.77 s, sys: 16.2 ms, total: 4.78 s\n",
      "Wall time: 6.56 s\n"
     ]
    }
   ],
   "source": [
    "%%time\n",
    "\n",
    "gene_list = vae_2_lm.w_df[vae_2_lm.pos_high_w_df.vae_0].index.tolist()\n",
    "vae_feature_0_zdim_2_pos = run_overrepresentation(gene_list=gene_list,\n",
    "                                                  gene_set_dict=xcell_genesets_gmt,\n",
    "                                                  background_genes=background_genes)\n",
    "\n",
    "gene_list = vae_2_lm.w_df[vae_2_lm.neg_high_w_df.vae_0].index.tolist()\n",
    "vae_feature_0_zdim_2_neg = run_overrepresentation(gene_list=gene_list,\n",
    "                                                  gene_set_dict=xcell_genesets_gmt,\n",
    "                                                  background_genes=background_genes)\n",
    "\n",
    "gene_list = vae_2_lm.w_df[vae_2_lm.pos_high_w_df.vae_1].index.tolist()\n",
    "vae_feature_1_zdim_2_pos = run_overrepresentation(gene_list=gene_list,\n",
    "                                                  gene_set_dict=xcell_genesets_gmt,\n",
    "                                                  background_genes=background_genes)\n",
    "\n",
    "gene_list = vae_2_lm.w_df[vae_2_lm.neg_high_w_df.vae_1].index.tolist()\n",
    "vae_feature_1_zdim_2_neg = run_overrepresentation(gene_list=gene_list,\n",
    "                                                  gene_set_dict=xcell_genesets_gmt,\n",
    "                                                  background_genes=background_genes)\n",
    "\n",
    "gene_list = vae_3_lm.w_df[vae_3_lm.pos_high_w_df.vae_0].index.tolist()\n",
    "vae_feature_0_zdim_3_pos = run_overrepresentation(gene_list=gene_list,\n",
    "                                                  gene_set_dict=xcell_genesets_gmt,\n",
    "                                                  background_genes=background_genes)\n",
    "\n",
    "gene_list = vae_3_lm.w_df[vae_3_lm.neg_high_w_df.vae_0].index.tolist()\n",
    "vae_feature_0_zdim_3_neg = run_overrepresentation(gene_list=gene_list,\n",
    "                                                  gene_set_dict=xcell_genesets_gmt,\n",
    "                                                  background_genes=background_genes)\n",
    "\n",
    "gene_list = vae_3_lm.w_df[vae_3_lm.pos_high_w_df.vae_1].index.tolist()\n",
    "vae_feature_1_zdim_3_pos = run_overrepresentation(gene_list=gene_list,\n",
    "                                                  gene_set_dict=xcell_genesets_gmt,\n",
    "                                                  background_genes=background_genes)\n",
    "\n",
    "gene_list = vae_3_lm.w_df[vae_3_lm.neg_high_w_df.vae_1].index.tolist()\n",
    "vae_feature_1_zdim_3_neg = run_overrepresentation(gene_list=gene_list,\n",
    "                                                  gene_set_dict=xcell_genesets_gmt,\n",
    "                                                  background_genes=background_genes)\n",
    "\n",
    "gene_list = vae_3_lm.w_df[vae_3_lm.pos_high_w_df.vae_2].index.tolist()\n",
    "vae_feature_2_zdim_3_pos = run_overrepresentation(gene_list=gene_list,\n",
    "                                                  gene_set_dict=xcell_genesets_gmt,\n",
    "                                                  background_genes=background_genes)\n",
    "\n",
    "gene_list = vae_3_lm.w_df[vae_3_lm.neg_high_w_df.vae_2].index.tolist()\n",
    "vae_feature_2_zdim_3_neg = run_overrepresentation(gene_list=gene_list,\n",
    "                                                  gene_set_dict=xcell_genesets_gmt,\n",
    "                                                  background_genes=background_genes)"
   ]
  },
  {
   "cell_type": "code",
   "execution_count": 19,
   "metadata": {},
   "outputs": [],
   "source": [
    "vae_feature_0_zdim_2_pos = vae_feature_0_zdim_2_pos.assign(feature='vae_0_two', tailed='pos')\n",
    "vae_feature_0_zdim_2_neg = vae_feature_0_zdim_2_neg.assign(feature='vae_0_two', tailed='neg')\n",
    "vae_feature_1_zdim_2_pos = vae_feature_1_zdim_2_pos.assign(feature='vae_1_two', tailed='pos')\n",
    "vae_feature_1_zdim_2_neg = vae_feature_1_zdim_2_neg.assign(feature='vae_1_two', tailed='neg')\n",
    "\n",
    "vae_feature_0_zdim_3_pos = vae_feature_0_zdim_3_pos.assign(feature='vae_0_three', tailed='pos')\n",
    "vae_feature_0_zdim_3_neg = vae_feature_0_zdim_3_neg.assign(feature='vae_0_three', tailed='neg')\n",
    "vae_feature_1_zdim_3_pos = vae_feature_1_zdim_3_pos.assign(feature='vae_1_three', tailed='pos')\n",
    "vae_feature_1_zdim_3_neg = vae_feature_1_zdim_3_neg.assign(feature='vae_1_three', tailed='neg')\n",
    "vae_feature_2_zdim_3_pos = vae_feature_2_zdim_3_pos.assign(feature='vae_2', tailed='pos')\n",
    "vae_feature_2_zdim_3_neg = vae_feature_2_zdim_3_neg.assign(feature='vae_2', tailed='neg')"
   ]
  },
  {
   "cell_type": "code",
   "execution_count": 20,
   "metadata": {},
   "outputs": [
    {
     "data": {
      "text/html": [
       "<div>\n",
       "<style scoped>\n",
       "    .dataframe tbody tr th:only-of-type {\n",
       "        vertical-align: middle;\n",
       "    }\n",
       "\n",
       "    .dataframe tbody tr th {\n",
       "        vertical-align: top;\n",
       "    }\n",
       "\n",
       "    .dataframe thead th {\n",
       "        text-align: right;\n",
       "    }\n",
       "</style>\n",
       "<table border=\"1\" class=\"dataframe\">\n",
       "  <thead>\n",
       "    <tr style=\"text-align: right;\">\n",
       "      <th></th>\n",
       "      <th>pval</th>\n",
       "      <th>odds</th>\n",
       "      <th>feature</th>\n",
       "      <th>tailed</th>\n",
       "    </tr>\n",
       "  </thead>\n",
       "  <tbody>\n",
       "    <tr>\n",
       "      <th>Memory-B-cells_IRIS_3</th>\n",
       "      <td>0.292183</td>\n",
       "      <td>3.113232</td>\n",
       "      <td>vae_0_two</td>\n",
       "      <td>pos</td>\n",
       "    </tr>\n",
       "    <tr>\n",
       "      <th>NK-cells_HPCA_1</th>\n",
       "      <td>1.000000</td>\n",
       "      <td>0.741374</td>\n",
       "      <td>vae_0_two</td>\n",
       "      <td>pos</td>\n",
       "    </tr>\n",
       "    <tr>\n",
       "      <th>Melanocytes_FANTOM_2</th>\n",
       "      <td>0.130396</td>\n",
       "      <td>0.230904</td>\n",
       "      <td>vae_0_two</td>\n",
       "      <td>pos</td>\n",
       "    </tr>\n",
       "    <tr>\n",
       "      <th>Adipocytes_HPCA_2</th>\n",
       "      <td>0.292183</td>\n",
       "      <td>3.113232</td>\n",
       "      <td>vae_0_two</td>\n",
       "      <td>pos</td>\n",
       "    </tr>\n",
       "    <tr>\n",
       "      <th>NK-cells_BLUEPRINT_2</th>\n",
       "      <td>1.000000</td>\n",
       "      <td>1.032655</td>\n",
       "      <td>vae_0_two</td>\n",
       "      <td>pos</td>\n",
       "    </tr>\n",
       "  </tbody>\n",
       "</table>\n",
       "</div>"
      ],
      "text/plain": [
       "                           pval      odds    feature tailed\n",
       "Memory-B-cells_IRIS_3  0.292183  3.113232  vae_0_two    pos\n",
       "NK-cells_HPCA_1        1.000000  0.741374  vae_0_two    pos\n",
       "Melanocytes_FANTOM_2   0.130396  0.230904  vae_0_two    pos\n",
       "Adipocytes_HPCA_2      0.292183  3.113232  vae_0_two    pos\n",
       "NK-cells_BLUEPRINT_2   1.000000  1.032655  vae_0_two    pos"
      ]
     },
     "execution_count": 20,
     "metadata": {},
     "output_type": "execute_result"
    }
   ],
   "source": [
    "overrepresented_results_df = pd.concat([\n",
    "    vae_feature_0_zdim_2_pos,\n",
    "    vae_feature_0_zdim_2_neg,\n",
    "    vae_feature_1_zdim_2_pos,\n",
    "    vae_feature_1_zdim_2_neg,\n",
    "    vae_feature_0_zdim_3_pos,\n",
    "    vae_feature_0_zdim_3_neg,\n",
    "    vae_feature_1_zdim_3_pos,\n",
    "    vae_feature_1_zdim_3_neg,\n",
    "    vae_feature_2_zdim_3_pos,\n",
    "    vae_feature_2_zdim_3_neg\n",
    "])\n",
    "\n",
    "overrepresented_results_df.head()"
   ]
  },
  {
   "cell_type": "code",
   "execution_count": 21,
   "metadata": {},
   "outputs": [],
   "source": [
    "file = os.path.join('results', 'gtex_vae_example_overrepresentation.tsv')\n",
    "overrepresented_results_df.sort_values(by='pval').to_csv(file, sep='\\t')"
   ]
  }
 ],
 "metadata": {
  "kernelspec": {
   "display_name": "Python [conda env:interpret-compression]",
   "language": "python",
   "name": "conda-env-interpret-compression-py"
  },
  "language_info": {
   "codemirror_mode": {
    "name": "ipython",
    "version": 3
   },
   "file_extension": ".py",
   "mimetype": "text/x-python",
   "name": "python",
   "nbconvert_exporter": "python",
   "pygments_lexer": "ipython3",
   "version": "3.6.6"
  }
 },
 "nbformat": 4,
 "nbformat_minor": 2
}
