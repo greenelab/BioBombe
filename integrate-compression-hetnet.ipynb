{
 "cells": [
  {
   "cell_type": "markdown",
   "metadata": {},
   "source": [
    "# Create a hetnet of MSigDB genesets\n",
    "\n",
    "This script was modified from https://github.com/dhimmel/integrate.\n",
    "\n",
    "## For the automatic interpretation of gene expression compression features\n",
    "\n",
    "The script creates an MSigDB hetnet as described in the eLIFE publication _\"Systematic integration of biomedical knowledge prioritizes drugs for repurposing\"_ by [Himmelstein et al. 2017](https://doi.org/10.7554/eLife.26726)"
   ]
  },
  {
   "cell_type": "code",
   "execution_count": 1,
   "metadata": {},
   "outputs": [],
   "source": [
    "import os\n",
    "import csv\n",
    "import pandas as pd\n",
    "import seaborn as sns\n",
    "\n",
    "import hetio.hetnet\n",
    "import hetio.readwrite\n",
    "import hetio.stats"
   ]
  },
  {
   "cell_type": "code",
   "execution_count": 2,
   "metadata": {},
   "outputs": [],
   "source": [
    "%matplotlib inline"
   ]
  },
  {
   "cell_type": "markdown",
   "metadata": {},
   "source": [
    "## Define the metagraph and instantiate the graph"
   ]
  },
  {
   "cell_type": "code",
   "execution_count": 3,
   "metadata": {},
   "outputs": [],
   "source": [
    "kind_to_abbev = {\n",
    "    \n",
    "    # metanodes\n",
    "    'Gene': 'G',\n",
    "\n",
    "    'Cancer-Hallmarks': 'H',\n",
    "    'Positional-Gene-Sets': 'C1',\n",
    "    'Curated-Gene-Sets-CPG': 'C2-CPG',\n",
    "    'Curated-Gene-Sets-REACTOME': 'C2-CP-REACTOME',\n",
    "    'Motif-Gene-Sets-MIR': 'C3-MIR',\n",
    "    'Motif-Gene-Sets-TFT': 'C3-TFT',\n",
    "    'Computational-Gene-Sets-CGN': 'C4-CGN',\n",
    "    'Computational-Gene-Sets-CM': 'C4-CM',\n",
    "    'GO-Gene-Sets-BP': 'C5-BP',\n",
    "    'GO-Gene-Sets-CC': 'C5-CC',\n",
    "    'GO-Gene-Sets-MF': 'C5-MF',\n",
    "    'Oncogenic-Gene-Sets': 'C6',\n",
    "    'Immunologic-Gene-Sets': 'C7',\n",
    "    \n",
    "    # metaedges\n",
    "    'participates': 'p',\n",
    "}\n",
    "\n",
    "metaedge_tuples = [\n",
    "    ('Gene', 'Cancer-Hallmarks', 'participates', 'both'),\n",
    "    ('Gene', 'Positional-Gene-Sets', 'participates', 'both'),\n",
    "    ('Gene', 'Curated-Gene-Sets-CPG', 'participates', 'both'),\n",
    "    ('Gene', 'Curated-Gene-Sets-REACTOME', 'participates', 'both'),\n",
    "    ('Gene', 'Motif-Gene-Sets-MIR', 'participates', 'both'),\n",
    "    ('Gene', 'Motif-Gene-Sets-TFT', 'participates', 'both'),\n",
    "    ('Gene', 'Computational-Gene-Sets-CGN', 'participates', 'both'),\n",
    "    ('Gene', 'Computational-Gene-Sets-CM', 'participates', 'both'),\n",
    "    ('Gene', 'GO-Gene-Sets-BP', 'participates', 'both'),\n",
    "    ('Gene', 'GO-Gene-Sets-CC', 'participates', 'both'),\n",
    "    ('Gene', 'GO-Gene-Sets-MF', 'participates', 'both'),\n",
    "    ('Gene', 'Oncogenic-Gene-Sets', 'participates', 'both'),\n",
    "    ('Gene', 'Immunologic-Gene-Sets', 'participates', 'both'),\n",
    "]"
   ]
  },
  {
   "cell_type": "code",
   "execution_count": 4,
   "metadata": {},
   "outputs": [],
   "source": [
    "# Initialize the graph\n",
    "metagraph = hetio.hetnet.MetaGraph.from_edge_tuples(metaedge_tuples, kind_to_abbev)\n",
    "graph = hetio.hetnet.Graph(metagraph)"
   ]
  },
  {
   "cell_type": "markdown",
   "metadata": {},
   "source": [
    "## Get all genes found in MSigDB"
   ]
  },
  {
   "cell_type": "code",
   "execution_count": 5,
   "metadata": {},
   "outputs": [
    {
     "name": "stdout",
     "output_type": "stream",
     "text": [
      "(32431, 17356)\n"
     ]
    },
    {
     "data": {
      "text/html": [
       "<div>\n",
       "<style scoped>\n",
       "    .dataframe tbody tr th:only-of-type {\n",
       "        vertical-align: middle;\n",
       "    }\n",
       "\n",
       "    .dataframe tbody tr th {\n",
       "        vertical-align: top;\n",
       "    }\n",
       "\n",
       "    .dataframe thead th {\n",
       "        text-align: right;\n",
       "    }\n",
       "</style>\n",
       "<table border=\"1\" class=\"dataframe\">\n",
       "  <thead>\n",
       "    <tr style=\"text-align: right;\">\n",
       "      <th></th>\n",
       "      <th>AAACCAC_MIR140</th>\n",
       "      <th>AAAGACA_MIR511</th>\n",
       "      <th>AAAGGAT_MIR501</th>\n",
       "      <th>AAAGGGA_MIR204_MIR211</th>\n",
       "      <th>AAANWWTGC_UNKNOWN</th>\n",
       "      <th>AAAYRNCTG_UNKNOWN</th>\n",
       "      <th>AAAYWAACM_HFH4_01</th>\n",
       "      <th>AACATTC_MIR4093P</th>\n",
       "      <th>AACGGTT_MIR451</th>\n",
       "      <th>AACTGAC_MIR223</th>\n",
       "      <th>...</th>\n",
       "      <th>chrxq21</th>\n",
       "      <th>chrxq22</th>\n",
       "      <th>chrxq23</th>\n",
       "      <th>chrxq24</th>\n",
       "      <th>chrxq25</th>\n",
       "      <th>chrxq26</th>\n",
       "      <th>chrxq27</th>\n",
       "      <th>chrxq28</th>\n",
       "      <th>chryp11</th>\n",
       "      <th>chryq11</th>\n",
       "    </tr>\n",
       "  </thead>\n",
       "  <tbody>\n",
       "    <tr>\n",
       "      <th>1/2-SBSRNA4</th>\n",
       "      <td>0</td>\n",
       "      <td>0</td>\n",
       "      <td>0</td>\n",
       "      <td>0</td>\n",
       "      <td>0</td>\n",
       "      <td>0</td>\n",
       "      <td>0</td>\n",
       "      <td>0</td>\n",
       "      <td>0</td>\n",
       "      <td>0</td>\n",
       "      <td>...</td>\n",
       "      <td>0</td>\n",
       "      <td>0</td>\n",
       "      <td>0</td>\n",
       "      <td>0</td>\n",
       "      <td>0</td>\n",
       "      <td>0</td>\n",
       "      <td>0</td>\n",
       "      <td>0</td>\n",
       "      <td>0</td>\n",
       "      <td>0</td>\n",
       "    </tr>\n",
       "    <tr>\n",
       "      <th>3.8-1.2</th>\n",
       "      <td>0</td>\n",
       "      <td>0</td>\n",
       "      <td>0</td>\n",
       "      <td>0</td>\n",
       "      <td>0</td>\n",
       "      <td>0</td>\n",
       "      <td>0</td>\n",
       "      <td>0</td>\n",
       "      <td>0</td>\n",
       "      <td>0</td>\n",
       "      <td>...</td>\n",
       "      <td>0</td>\n",
       "      <td>0</td>\n",
       "      <td>0</td>\n",
       "      <td>0</td>\n",
       "      <td>0</td>\n",
       "      <td>0</td>\n",
       "      <td>0</td>\n",
       "      <td>0</td>\n",
       "      <td>0</td>\n",
       "      <td>0</td>\n",
       "    </tr>\n",
       "    <tr>\n",
       "      <th>3.8-1.3</th>\n",
       "      <td>0</td>\n",
       "      <td>0</td>\n",
       "      <td>0</td>\n",
       "      <td>0</td>\n",
       "      <td>0</td>\n",
       "      <td>0</td>\n",
       "      <td>0</td>\n",
       "      <td>0</td>\n",
       "      <td>0</td>\n",
       "      <td>0</td>\n",
       "      <td>...</td>\n",
       "      <td>0</td>\n",
       "      <td>0</td>\n",
       "      <td>0</td>\n",
       "      <td>0</td>\n",
       "      <td>0</td>\n",
       "      <td>0</td>\n",
       "      <td>0</td>\n",
       "      <td>0</td>\n",
       "      <td>0</td>\n",
       "      <td>0</td>\n",
       "    </tr>\n",
       "    <tr>\n",
       "      <th>3.8-1.4</th>\n",
       "      <td>0</td>\n",
       "      <td>0</td>\n",
       "      <td>0</td>\n",
       "      <td>0</td>\n",
       "      <td>0</td>\n",
       "      <td>0</td>\n",
       "      <td>0</td>\n",
       "      <td>0</td>\n",
       "      <td>0</td>\n",
       "      <td>0</td>\n",
       "      <td>...</td>\n",
       "      <td>0</td>\n",
       "      <td>0</td>\n",
       "      <td>0</td>\n",
       "      <td>0</td>\n",
       "      <td>0</td>\n",
       "      <td>0</td>\n",
       "      <td>0</td>\n",
       "      <td>0</td>\n",
       "      <td>0</td>\n",
       "      <td>0</td>\n",
       "    </tr>\n",
       "    <tr>\n",
       "      <th>3.8-1.5</th>\n",
       "      <td>0</td>\n",
       "      <td>0</td>\n",
       "      <td>0</td>\n",
       "      <td>0</td>\n",
       "      <td>0</td>\n",
       "      <td>0</td>\n",
       "      <td>0</td>\n",
       "      <td>0</td>\n",
       "      <td>0</td>\n",
       "      <td>0</td>\n",
       "      <td>...</td>\n",
       "      <td>0</td>\n",
       "      <td>0</td>\n",
       "      <td>0</td>\n",
       "      <td>0</td>\n",
       "      <td>0</td>\n",
       "      <td>0</td>\n",
       "      <td>0</td>\n",
       "      <td>0</td>\n",
       "      <td>0</td>\n",
       "      <td>0</td>\n",
       "    </tr>\n",
       "  </tbody>\n",
       "</table>\n",
       "<p>5 rows × 17356 columns</p>\n",
       "</div>"
      ],
      "text/plain": [
       "             AAACCAC_MIR140  AAAGACA_MIR511  AAAGGAT_MIR501  \\\n",
       "1/2-SBSRNA4               0               0               0   \n",
       "3.8-1.2                   0               0               0   \n",
       "3.8-1.3                   0               0               0   \n",
       "3.8-1.4                   0               0               0   \n",
       "3.8-1.5                   0               0               0   \n",
       "\n",
       "             AAAGGGA_MIR204_MIR211  AAANWWTGC_UNKNOWN  AAAYRNCTG_UNKNOWN  \\\n",
       "1/2-SBSRNA4                      0                  0                  0   \n",
       "3.8-1.2                          0                  0                  0   \n",
       "3.8-1.3                          0                  0                  0   \n",
       "3.8-1.4                          0                  0                  0   \n",
       "3.8-1.5                          0                  0                  0   \n",
       "\n",
       "             AAAYWAACM_HFH4_01  AACATTC_MIR4093P  AACGGTT_MIR451  \\\n",
       "1/2-SBSRNA4                  0                 0               0   \n",
       "3.8-1.2                      0                 0               0   \n",
       "3.8-1.3                      0                 0               0   \n",
       "3.8-1.4                      0                 0               0   \n",
       "3.8-1.5                      0                 0               0   \n",
       "\n",
       "             AACTGAC_MIR223   ...     chrxq21  chrxq22  chrxq23  chrxq24  \\\n",
       "1/2-SBSRNA4               0   ...           0        0        0        0   \n",
       "3.8-1.2                   0   ...           0        0        0        0   \n",
       "3.8-1.3                   0   ...           0        0        0        0   \n",
       "3.8-1.4                   0   ...           0        0        0        0   \n",
       "3.8-1.5                   0   ...           0        0        0        0   \n",
       "\n",
       "             chrxq25  chrxq26  chrxq27  chrxq28  chryp11  chryq11  \n",
       "1/2-SBSRNA4        0        0        0        0        0        0  \n",
       "3.8-1.2            0        0        0        0        0        0  \n",
       "3.8-1.3            0        0        0        0        0        0  \n",
       "3.8-1.4            0        0        0        0        0        0  \n",
       "3.8-1.5            0        0        0        0        0        0  \n",
       "\n",
       "[5 rows x 17356 columns]"
      ]
     },
     "execution_count": 5,
     "metadata": {},
     "output_type": "execute_result"
    }
   ],
   "source": [
    "full_msigdb_file = os.path.join('data', 'full_msigdb_binary_matrix.tsv.bz2')\n",
    "msigdb_df = pd.read_table(full_msigdb_file, index_col=0)\n",
    "\n",
    "print(msigdb_df.shape)\n",
    "msigdb_df.head()"
   ]
  },
  {
   "cell_type": "code",
   "execution_count": 6,
   "metadata": {},
   "outputs": [
    {
     "data": {
      "image/png": "[encoded data removed]",
      "text/plain": [
       "<Figure size 432x288 with 1 Axes>"
      ]
     },
     "metadata": {},
     "output_type": "display_data"
    }
   ],
   "source": [
    "# Ask the distribution of pathway sizes\n",
    "msigdb_df.sum(axis=1).sort_values().hist(bins=30);"
   ]
  },
  {
   "cell_type": "code",
   "execution_count": 7,
   "metadata": {},
   "outputs": [
    {
     "data": {
      "image/png": "[encoded data removed]",
      "text/plain": [
       "<Figure size 432x288 with 1 Axes>"
      ]
     },
     "metadata": {},
     "output_type": "display_data"
    }
   ],
   "source": [
    "# What about the distribution of gene participation?\n",
    "msigdb_df.sum(axis=0).sort_values().hist(bins=30);"
   ]
  },
  {
   "cell_type": "markdown",
   "metadata": {},
   "source": [
    "## Gene Nodes"
   ]
  },
  {
   "cell_type": "code",
   "execution_count": 8,
   "metadata": {},
   "outputs": [
    {
     "name": "stdout",
     "output_type": "stream",
     "text": [
      "(20703, 7)\n"
     ]
    },
    {
     "data": {
      "text/html": [
       "<div>\n",
       "<style scoped>\n",
       "    .dataframe tbody tr th:only-of-type {\n",
       "        vertical-align: middle;\n",
       "    }\n",
       "\n",
       "    .dataframe tbody tr th {\n",
       "        vertical-align: top;\n",
       "    }\n",
       "\n",
       "    .dataframe thead th {\n",
       "        text-align: right;\n",
       "    }\n",
       "</style>\n",
       "<table border=\"1\" class=\"dataframe\">\n",
       "  <thead>\n",
       "    <tr style=\"text-align: right;\">\n",
       "      <th></th>\n",
       "      <th>entrez_gene_id</th>\n",
       "      <th>symbol</th>\n",
       "      <th>description</th>\n",
       "      <th>chromosome</th>\n",
       "      <th>gene_type</th>\n",
       "      <th>synonyms</th>\n",
       "      <th>aliases</th>\n",
       "    </tr>\n",
       "  </thead>\n",
       "  <tbody>\n",
       "    <tr>\n",
       "      <th>0</th>\n",
       "      <td>1</td>\n",
       "      <td>A1BG</td>\n",
       "      <td>alpha-1-B glycoprotein</td>\n",
       "      <td>19</td>\n",
       "      <td>protein-coding</td>\n",
       "      <td>A1B|ABG|GAB|HYST2477</td>\n",
       "      <td>alpha-1B-glycoprotein|HEL-S-163pA|epididymis s...</td>\n",
       "    </tr>\n",
       "    <tr>\n",
       "      <th>1</th>\n",
       "      <td>2</td>\n",
       "      <td>A2M</td>\n",
       "      <td>alpha-2-macroglobulin</td>\n",
       "      <td>12</td>\n",
       "      <td>protein-coding</td>\n",
       "      <td>A2MD|CPAMD5|FWP007|S863-7</td>\n",
       "      <td>alpha-2-macroglobulin|C3 and PZP-like alpha-2-...</td>\n",
       "    </tr>\n",
       "  </tbody>\n",
       "</table>\n",
       "</div>"
      ],
      "text/plain": [
       "   entrez_gene_id symbol             description chromosome       gene_type  \\\n",
       "0               1   A1BG  alpha-1-B glycoprotein         19  protein-coding   \n",
       "1               2    A2M   alpha-2-macroglobulin         12  protein-coding   \n",
       "\n",
       "                    synonyms  \\\n",
       "0       A1B|ABG|GAB|HYST2477   \n",
       "1  A2MD|CPAMD5|FWP007|S863-7   \n",
       "\n",
       "                                             aliases  \n",
       "0  alpha-1B-glycoprotein|HEL-S-163pA|epididymis s...  \n",
       "1  alpha-2-macroglobulin|C3 and PZP-like alpha-2-...  "
      ]
     },
     "execution_count": 8,
     "metadata": {},
     "output_type": "execute_result"
    }
   ],
   "source": [
    "# Load curated gene names from versioned resource \n",
    "commit = '721204091a96e55de6dcad165d6d8265e67e2a48'\n",
    "url = 'https://raw.githubusercontent.com/cognoma/genes/{}/data/genes.tsv'.format(commit)\n",
    "gene_df = pd.read_table(url)\n",
    "\n",
    "# Only consider protein-coding genes\n",
    "gene_df = (\n",
    "    gene_df.query(\"gene_type == 'protein-coding'\")\n",
    "    .drop_duplicates('symbol')\n",
    ")\n",
    "\n",
    "coding_genes = set(gene_df['symbol'])\n",
    "print(gene_df.shape)\n",
    "gene_df.head(2)"
   ]
  },
  {
   "cell_type": "code",
   "execution_count": 9,
   "metadata": {},
   "outputs": [
    {
     "data": {
      "image/png": "[encoded data removed]",
      "text/plain": [
       "<Figure size 432x288 with 1 Axes>"
      ]
     },
     "metadata": {},
     "output_type": "display_data"
    }
   ],
   "source": [
    "# Subset the msigdb genes to the gene curation above\n",
    "common_subset_genes = set(gene_df['symbol']).intersection(set(msigdb_df.index))\n",
    "msigdb_subset_genes_df = msigdb_df.loc[common_subset_genes, :]\n",
    "\n",
    "# What is the new distribution of pathway sizes?\n",
    "msigdb_subset_genes_df.sum(axis=1).sort_values().hist(bins=30);"
   ]
  },
  {
   "cell_type": "code",
   "execution_count": 10,
   "metadata": {},
   "outputs": [
    {
     "data": {
      "image/png": "[encoded data removed]",
      "text/plain": [
       "<Figure size 432x288 with 1 Axes>"
      ]
     },
     "metadata": {},
     "output_type": "display_data"
    }
   ],
   "source": [
    "# What is the new distribution of gene representation?\n",
    "msigdb_subset_genes_df.sum(axis=0).sort_values().hist(bins=30);"
   ]
  },
  {
   "cell_type": "code",
   "execution_count": 11,
   "metadata": {},
   "outputs": [
    {
     "data": {
      "image/png": "[encoded data removed]",
      "text/plain": [
       "<Figure size 432x288 with 1 Axes>"
      ]
     },
     "metadata": {},
     "output_type": "display_data"
    }
   ],
   "source": [
    "# The genes that were removed from MSigDB participate mostly in few pathways\n",
    "diff_genes = set(msigdb_df.index).difference(gene_df['symbol'])\n",
    "msigdb_other_genes_df = msigdb_df.loc[diff_genes, :]\n",
    "msigdb_other_genes_df.sum(axis=1).sort_values().hist(bins=30);"
   ]
  },
  {
   "cell_type": "markdown",
   "metadata": {},
   "source": [
    "## Add genes as nodes to the graph\n",
    "\n",
    "Use the gene-symbol identifier for easier interpretation"
   ]
  },
  {
   "cell_type": "code",
   "execution_count": 12,
   "metadata": {},
   "outputs": [
    {
     "name": "stdout",
     "output_type": "stream",
     "text": [
      "CPU times: user 2.4 s, sys: 52 ms, total: 2.45 s\n",
      "Wall time: 3.12 s\n"
     ]
    }
   ],
   "source": [
    "%%time\n",
    "for i, row in gene_df.iterrows():\n",
    "    # Build dictionary of descriptive elements for each gene\n",
    "    meta_data = {\n",
    "        'description': row['description'],\n",
    "        'source': 'Entrez Gene',\n",
    "        'url': 'http://identifiers.org/ncbigene/{}'.format(row['entrez_gene_id']),\n",
    "        'license': 'CC0 1.0',\n",
    "    }\n",
    "    \n",
    "    if pd.notnull(row['chromosome']):\n",
    "        meta_data['chromosome'] = row['chromosome']\n",
    "\n",
    "    # Add genes to graph\n",
    "    graph.add_node(kind='Gene', identifier=row['symbol'], name=row['entrez_gene_id'],\n",
    "                   data=meta_data)"
   ]
  },
  {
   "cell_type": "markdown",
   "metadata": {
    "collapsed": true
   },
   "source": [
    "## Add gene set nodes and associated genes as edges\n",
    "\n",
    "Add each MSigDB collection as distinct nodes with a `participates` edge for representative gene sets and corresponding membership."
   ]
  },
  {
   "cell_type": "code",
   "execution_count": 13,
   "metadata": {},
   "outputs": [],
   "source": [
    "def add_msigdb_node_to_graph(current_graph, collection_file, collection_kind,\n",
    "                             collection_source, gene_list, min_geneset_size=4,\n",
    "                             max_geneset_size=1000, license='CC BY 4.0'):\n",
    "    \"\"\"\n",
    "    Add nodes and edges to current graph based on geneset memembership of collection\n",
    "    \n",
    "    Arguments:\n",
    "    current_graph - a hetnet object to add node-edge info to\n",
    "    collection_file - location of msigdb file\n",
    "    collection_kind - the kind of node already initialized in the graph\n",
    "    collection_source - alternative ID for collection\n",
    "    gene_list - a list of genes to consider when building the graph\n",
    "    min_geneset_size - filter out a given gene set if it has fewer genes\n",
    "    max_geneset_size - filter out a given gene set if it has more genes\n",
    "    license - given license associated with node\n",
    "    \n",
    "    Output:\n",
    "    Adds to current graph; Returns the amount of filtered genesets\n",
    "    \"\"\"\n",
    "    \n",
    "    # Build meta data dictionary to store node info\n",
    "    meta_data = {'license': license, 'source': collection_source}\n",
    "    \n",
    "    # Open the .gmt file and process each geneset\n",
    "    filtered_genesets = []\n",
    "    with open(collection_file, 'r') as collection_fh:\n",
    "        collection_reader = csv.reader(collection_fh, delimiter='\\t')\n",
    "\n",
    "        for row in collection_reader:\n",
    "            # Get geneset and and metadata info\n",
    "            geneset_name = row[0]\n",
    "            meta_data['url'] = row[1]\n",
    "            \n",
    "            # Process geneset membership\n",
    "            genes = row[2:]\n",
    "\n",
    "            # Filter geneset if its too big or small\n",
    "            if min_geneset_size > len(genes) or len(genes) > max_geneset_size:\n",
    "                filtered_genesets.append(geneset_name)\n",
    "                continue\n",
    "                \n",
    "            # Add the genesetname as a node (based on collection) to the graph\n",
    "            current_graph.add_node(kind=collection_kind,\n",
    "                                   identifier=geneset_name,\n",
    "                                   data=meta_data)\n",
    "\n",
    "            # Loop through all genes and add to the graph it should be considered\n",
    "            for gene in genes:\n",
    "                if gene in gene_list:\n",
    "                    source_id = ('Gene', gene)\n",
    "                    target_id = (collection_kind, geneset_name)\n",
    "                    \n",
    "                    edge_data = meta_data.copy()\n",
    "\n",
    "                    current_graph.add_edge(source_id, target_id, 'participates',\n",
    "                                           'both', edge_data)\n",
    "\n",
    "    return filtered_genesets"
   ]
  },
  {
   "cell_type": "code",
   "execution_count": 14,
   "metadata": {},
   "outputs": [
    {
     "name": "stdout",
     "output_type": "stream",
     "text": [
      "CPU times: user 120 ms, sys: 0 ns, total: 120 ms\n",
      "Wall time: 199 ms\n"
     ]
    }
   ],
   "source": [
    "%%time\n",
    "hallmarks_file = os.path.join('data', 'h.all.v6.1.symbols.gmt')\n",
    "hallmark_filtered = add_msigdb_node_to_graph(current_graph=graph,\n",
    "                                             collection_file=hallmarks_file,\n",
    "                                             collection_kind='Cancer-Hallmarks',\n",
    "                                             collection_source='MSigDB-H',\n",
    "                                             gene_list=common_subset_genes)"
   ]
  },
  {
   "cell_type": "code",
   "execution_count": 15,
   "metadata": {},
   "outputs": [
    {
     "name": "stdout",
     "output_type": "stream",
     "text": [
      "CPU times: user 244 ms, sys: 8 ms, total: 252 ms\n",
      "Wall time: 257 ms\n"
     ]
    }
   ],
   "source": [
    "%%time\n",
    "positional_file = os.path.join('data', 'c1.all.v6.1.symbols.gmt')\n",
    "positional_filtered = add_msigdb_node_to_graph(current_graph=graph,\n",
    "                                               collection_file=positional_file,\n",
    "                                               collection_kind='Positional-Gene-Sets',\n",
    "                                               collection_source='MSigDB-C1',\n",
    "                                               gene_list=common_subset_genes)"
   ]
  },
  {
   "cell_type": "code",
   "execution_count": 16,
   "metadata": {},
   "outputs": [
    {
     "name": "stdout",
     "output_type": "stream",
     "text": [
      "CPU times: user 4.88 s, sys: 64 ms, total: 4.95 s\n",
      "Wall time: 5.05 s\n"
     ]
    }
   ],
   "source": [
    "%%time\n",
    "curated_file = os.path.join('data', 'c2.cgp.v6.1.symbols.gmt')\n",
    "curated_filtered = add_msigdb_node_to_graph(current_graph=graph,\n",
    "                                            collection_file=curated_file,\n",
    "                                            collection_kind='Curated-Gene-Sets-CPG',\n",
    "                                            collection_source='MSigDB-C2-CPG',\n",
    "                                            gene_list=common_subset_genes)"
   ]
  },
  {
   "cell_type": "code",
   "execution_count": 17,
   "metadata": {},
   "outputs": [
    {
     "name": "stdout",
     "output_type": "stream",
     "text": [
      "CPU times: user 496 ms, sys: 24 ms, total: 520 ms\n",
      "Wall time: 648 ms\n"
     ]
    }
   ],
   "source": [
    "%%time\n",
    "reactome_file = os.path.join('data', 'c2.cp.reactome.v6.1.symbols.gmt')\n",
    "reactome_filtered = add_msigdb_node_to_graph(current_graph=graph,\n",
    "                                             collection_file=reactome_file,\n",
    "                                             collection_kind='Curated-Gene-Sets-REACTOME',\n",
    "                                             collection_source='MSigDB-C2-Reactome',\n",
    "                                             gene_list=common_subset_genes)"
   ]
  },
  {
   "cell_type": "code",
   "execution_count": 18,
   "metadata": {},
   "outputs": [
    {
     "name": "stdout",
     "output_type": "stream",
     "text": [
      "CPU times: user 668 ms, sys: 4 ms, total: 672 ms\n",
      "Wall time: 677 ms\n"
     ]
    }
   ],
   "source": [
    "%%time\n",
    "micro_file = os.path.join('data', 'c3.mir.v6.1.symbols.gmt')\n",
    "micro_filtered = add_msigdb_node_to_graph(current_graph=graph,\n",
    "                                          collection_file=micro_file,\n",
    "                                          collection_kind='Motif-Gene-Sets-MIR',\n",
    "                                          collection_source='MSigDB-C3-MIR',\n",
    "                                          gene_list=common_subset_genes)"
   ]
  },
  {
   "cell_type": "code",
   "execution_count": 19,
   "metadata": {},
   "outputs": [
    {
     "name": "stdout",
     "output_type": "stream",
     "text": [
      "CPU times: user 1.94 s, sys: 48 ms, total: 1.98 s\n",
      "Wall time: 2.01 s\n"
     ]
    }
   ],
   "source": [
    "%%time\n",
    "tf_file = os.path.join('data', 'c3.tft.v6.1.symbols.gmt')\n",
    "tf_filtered = add_msigdb_node_to_graph(current_graph=graph,\n",
    "                                          collection_file=tf_file,\n",
    "                                          collection_kind='Motif-Gene-Sets-TFT',\n",
    "                                          collection_source='MSigDB-C3-TFT',\n",
    "                                          gene_list=common_subset_genes)"
   ]
  },
  {
   "cell_type": "code",
   "execution_count": 20,
   "metadata": {},
   "outputs": [
    {
     "name": "stdout",
     "output_type": "stream",
     "text": [
      "CPU times: user 488 ms, sys: 32 ms, total: 520 ms\n",
      "Wall time: 530 ms\n"
     ]
    }
   ],
   "source": [
    "%%time\n",
    "cancer_n_file = os.path.join('data', 'c4.cgn.v6.1.symbols.gmt')\n",
    "cancer_n_filtered = add_msigdb_node_to_graph(current_graph=graph,\n",
    "                                             collection_file=cancer_n_file,\n",
    "                                             collection_kind='Computational-Gene-Sets-CGN',\n",
    "                                             collection_source='MSigDB-C4-CGN',\n",
    "                                             gene_list=common_subset_genes)"
   ]
  },
  {
   "cell_type": "code",
   "execution_count": 21,
   "metadata": {},
   "outputs": [
    {
     "name": "stdout",
     "output_type": "stream",
     "text": [
      "CPU times: user 592 ms, sys: 8 ms, total: 600 ms\n",
      "Wall time: 612 ms\n"
     ]
    }
   ],
   "source": [
    "%%time\n",
    "cancer_mod_file = os.path.join('data', 'c4.cm.v6.1.symbols.gmt')\n",
    "cancer_mod_filtered = add_msigdb_node_to_graph(current_graph=graph,\n",
    "                                             collection_file=cancer_mod_file,\n",
    "                                             collection_kind='Computational-Gene-Sets-CM',\n",
    "                                             collection_source='MSigDB-C4-CM',\n",
    "                                             gene_list=common_subset_genes)"
   ]
  },
  {
   "cell_type": "code",
   "execution_count": 22,
   "metadata": {},
   "outputs": [
    {
     "name": "stdout",
     "output_type": "stream",
     "text": [
      "CPU times: user 5.6 s, sys: 76 ms, total: 5.68 s\n",
      "Wall time: 5.67 s\n"
     ]
    }
   ],
   "source": [
    "%%time\n",
    "go_bp_file = os.path.join('data', 'c5.bp.v6.1.symbols.gmt')\n",
    "go_bp_filtered = add_msigdb_node_to_graph(current_graph=graph,\n",
    "                                          collection_file=go_bp_file,\n",
    "                                          collection_kind='GO-Gene-Sets-BP',\n",
    "                                          collection_source='MSigDB-C5-BP',\n",
    "                                          gene_list=common_subset_genes) "
   ]
  },
  {
   "cell_type": "code",
   "execution_count": 23,
   "metadata": {},
   "outputs": [
    {
     "name": "stdout",
     "output_type": "stream",
     "text": [
      "CPU times: user 744 ms, sys: 16 ms, total: 760 ms\n",
      "Wall time: 761 ms\n"
     ]
    }
   ],
   "source": [
    "%%time\n",
    "go_cc_file = os.path.join('data', 'c5.cc.v6.1.symbols.gmt')\n",
    "go_cc_filtered = add_msigdb_node_to_graph(current_graph=graph,\n",
    "                                          collection_file=go_cc_file,\n",
    "                                          collection_kind='GO-Gene-Sets-CC',\n",
    "                                          collection_source='MSigDB-C5-CC',\n",
    "                                          gene_list=common_subset_genes) "
   ]
  },
  {
   "cell_type": "code",
   "execution_count": 24,
   "metadata": {},
   "outputs": [
    {
     "name": "stdout",
     "output_type": "stream",
     "text": [
      "CPU times: user 1.44 s, sys: 20 ms, total: 1.46 s\n",
      "Wall time: 1.45 s\n"
     ]
    }
   ],
   "source": [
    "%%time\n",
    "go_mf_file = os.path.join('data', 'c5.mf.v6.1.symbols.gmt')\n",
    "go_mf_filtered = add_msigdb_node_to_graph(current_graph=graph,\n",
    "                                          collection_file=go_mf_file,\n",
    "                                          collection_kind='GO-Gene-Sets-MF',\n",
    "                                          collection_source='MSigDB-C5-MF',\n",
    "                                          gene_list=common_subset_genes) "
   ]
  },
  {
   "cell_type": "code",
   "execution_count": 25,
   "metadata": {},
   "outputs": [
    {
     "name": "stdout",
     "output_type": "stream",
     "text": [
      "CPU times: user 380 ms, sys: 0 ns, total: 380 ms\n",
      "Wall time: 379 ms\n"
     ]
    }
   ],
   "source": [
    "%%time\n",
    "oncogenic_file = os.path.join('data', 'c6.all.v6.1.symbols.gmt')\n",
    "oncogenic_filtered = add_msigdb_node_to_graph(current_graph=graph,\n",
    "                                              collection_file=oncogenic_file,\n",
    "                                              collection_kind='Oncogenic-Gene-Sets',\n",
    "                                              collection_source='MSigDB-C6',\n",
    "                                              gene_list=common_subset_genes)"
   ]
  },
  {
   "cell_type": "code",
   "execution_count": 26,
   "metadata": {},
   "outputs": [
    {
     "name": "stdout",
     "output_type": "stream",
     "text": [
      "CPU times: user 12.8 s, sys: 240 ms, total: 13 s\n",
      "Wall time: 13 s\n"
     ]
    }
   ],
   "source": [
    "%%time\n",
    "immunologic_file = os.path.join('data', 'c7.all.v6.1.symbols.gmt')\n",
    "immunologic_filtered = add_msigdb_node_to_graph(current_graph=graph,\n",
    "                                                collection_file=immunologic_file,\n",
    "                                                collection_kind='Immunologic-Gene-Sets',\n",
    "                                                collection_source='MSigDB-C7',\n",
    "                                                gene_list=common_subset_genes)"
   ]
  },
  {
   "cell_type": "markdown",
   "metadata": {},
   "source": [
    "## Network visualizations and stats"
   ]
  },
  {
   "cell_type": "code",
   "execution_count": 27,
   "metadata": {},
   "outputs": [],
   "source": [
    "# Export node degree tables\n",
    "node_degree_file = os.path.join('results', 'msigdb_node_degrees.xlsx')\n",
    "hetio.stats.degrees_to_excel(graph, node_degree_file)"
   ]
  },
  {
   "cell_type": "code",
   "execution_count": 28,
   "metadata": {},
   "outputs": [
    {
     "data": {
      "text/html": [
       "<div>\n",
       "<style scoped>\n",
       "    .dataframe tbody tr th:only-of-type {\n",
       "        vertical-align: middle;\n",
       "    }\n",
       "\n",
       "    .dataframe tbody tr th {\n",
       "        vertical-align: top;\n",
       "    }\n",
       "\n",
       "    .dataframe thead th {\n",
       "        text-align: right;\n",
       "    }\n",
       "</style>\n",
       "<table border=\"1\" class=\"dataframe\">\n",
       "  <thead>\n",
       "    <tr style=\"text-align: right;\">\n",
       "      <th></th>\n",
       "      <th>metanode</th>\n",
       "      <th>abbreviation</th>\n",
       "      <th>metaedges</th>\n",
       "      <th>nodes</th>\n",
       "      <th>unconnected_nodes</th>\n",
       "    </tr>\n",
       "  </thead>\n",
       "  <tbody>\n",
       "    <tr>\n",
       "      <th>1</th>\n",
       "      <td>Cancer-Hallmarks</td>\n",
       "      <td>H</td>\n",
       "      <td>1</td>\n",
       "      <td>50</td>\n",
       "      <td>0</td>\n",
       "    </tr>\n",
       "    <tr>\n",
       "      <th>7</th>\n",
       "      <td>Computational-Gene-Sets-CGN</td>\n",
       "      <td>C4-CGN</td>\n",
       "      <td>1</td>\n",
       "      <td>427</td>\n",
       "      <td>0</td>\n",
       "    </tr>\n",
       "    <tr>\n",
       "      <th>8</th>\n",
       "      <td>Computational-Gene-Sets-CM</td>\n",
       "      <td>C4-CM</td>\n",
       "      <td>1</td>\n",
       "      <td>431</td>\n",
       "      <td>0</td>\n",
       "    </tr>\n",
       "    <tr>\n",
       "      <th>3</th>\n",
       "      <td>Curated-Gene-Sets-CPG</td>\n",
       "      <td>C2-CPG</td>\n",
       "      <td>1</td>\n",
       "      <td>3381</td>\n",
       "      <td>0</td>\n",
       "    </tr>\n",
       "    <tr>\n",
       "      <th>4</th>\n",
       "      <td>Curated-Gene-Sets-REACTOME</td>\n",
       "      <td>C2-CP-REACTOME</td>\n",
       "      <td>1</td>\n",
       "      <td>674</td>\n",
       "      <td>0</td>\n",
       "    </tr>\n",
       "    <tr>\n",
       "      <th>9</th>\n",
       "      <td>GO-Gene-Sets-BP</td>\n",
       "      <td>C5-BP</td>\n",
       "      <td>1</td>\n",
       "      <td>4355</td>\n",
       "      <td>0</td>\n",
       "    </tr>\n",
       "    <tr>\n",
       "      <th>10</th>\n",
       "      <td>GO-Gene-Sets-CC</td>\n",
       "      <td>C5-CC</td>\n",
       "      <td>1</td>\n",
       "      <td>561</td>\n",
       "      <td>0</td>\n",
       "    </tr>\n",
       "    <tr>\n",
       "      <th>11</th>\n",
       "      <td>GO-Gene-Sets-MF</td>\n",
       "      <td>C5-MF</td>\n",
       "      <td>1</td>\n",
       "      <td>883</td>\n",
       "      <td>0</td>\n",
       "    </tr>\n",
       "    <tr>\n",
       "      <th>0</th>\n",
       "      <td>Gene</td>\n",
       "      <td>G</td>\n",
       "      <td>13</td>\n",
       "      <td>20703</td>\n",
       "      <td>2536</td>\n",
       "    </tr>\n",
       "    <tr>\n",
       "      <th>13</th>\n",
       "      <td>Immunologic-Gene-Sets</td>\n",
       "      <td>C7</td>\n",
       "      <td>1</td>\n",
       "      <td>4872</td>\n",
       "      <td>0</td>\n",
       "    </tr>\n",
       "    <tr>\n",
       "      <th>5</th>\n",
       "      <td>Motif-Gene-Sets-MIR</td>\n",
       "      <td>C3-MIR</td>\n",
       "      <td>1</td>\n",
       "      <td>221</td>\n",
       "      <td>0</td>\n",
       "    </tr>\n",
       "    <tr>\n",
       "      <th>6</th>\n",
       "      <td>Motif-Gene-Sets-TFT</td>\n",
       "      <td>C3-TFT</td>\n",
       "      <td>1</td>\n",
       "      <td>598</td>\n",
       "      <td>0</td>\n",
       "    </tr>\n",
       "    <tr>\n",
       "      <th>12</th>\n",
       "      <td>Oncogenic-Gene-Sets</td>\n",
       "      <td>C6</td>\n",
       "      <td>1</td>\n",
       "      <td>189</td>\n",
       "      <td>0</td>\n",
       "    </tr>\n",
       "    <tr>\n",
       "      <th>2</th>\n",
       "      <td>Positional-Gene-Sets</td>\n",
       "      <td>C1</td>\n",
       "      <td>1</td>\n",
       "      <td>326</td>\n",
       "      <td>0</td>\n",
       "    </tr>\n",
       "  </tbody>\n",
       "</table>\n",
       "</div>"
      ],
      "text/plain": [
       "                       metanode    abbreviation  metaedges  nodes  \\\n",
       "1              Cancer-Hallmarks               H          1     50   \n",
       "7   Computational-Gene-Sets-CGN          C4-CGN          1    427   \n",
       "8    Computational-Gene-Sets-CM           C4-CM          1    431   \n",
       "3         Curated-Gene-Sets-CPG          C2-CPG          1   3381   \n",
       "4    Curated-Gene-Sets-REACTOME  C2-CP-REACTOME          1    674   \n",
       "9               GO-Gene-Sets-BP           C5-BP          1   4355   \n",
       "10              GO-Gene-Sets-CC           C5-CC          1    561   \n",
       "11              GO-Gene-Sets-MF           C5-MF          1    883   \n",
       "0                          Gene               G         13  20703   \n",
       "13        Immunologic-Gene-Sets              C7          1   4872   \n",
       "5           Motif-Gene-Sets-MIR          C3-MIR          1    221   \n",
       "6           Motif-Gene-Sets-TFT          C3-TFT          1    598   \n",
       "12          Oncogenic-Gene-Sets              C6          1    189   \n",
       "2          Positional-Gene-Sets              C1          1    326   \n",
       "\n",
       "    unconnected_nodes  \n",
       "1                   0  \n",
       "7                   0  \n",
       "8                   0  \n",
       "3                   0  \n",
       "4                   0  \n",
       "9                   0  \n",
       "10                  0  \n",
       "11                  0  \n",
       "0                2536  \n",
       "13                  0  \n",
       "5                   0  \n",
       "6                   0  \n",
       "12                  0  \n",
       "2                   0  "
      ]
     },
     "execution_count": 28,
     "metadata": {},
     "output_type": "execute_result"
    }
   ],
   "source": [
    "# Summary of metanodes and cooresponding nodes\n",
    "metanode_df = hetio.stats.get_metanode_df(graph)\n",
    "\n",
    "metanode_file = os.path.join('results', 'msigdb_metanode_summary.tsv')\n",
    "metanode_df.to_csv(metanode_file, sep='\\t', index=False)\n",
    "metanode_df"
   ]
  },
  {
   "cell_type": "code",
   "execution_count": 29,
   "metadata": {},
   "outputs": [
    {
     "data": {
      "text/plain": [
       "37671"
      ]
     },
     "execution_count": 29,
     "metadata": {},
     "output_type": "execute_result"
    }
   ],
   "source": [
    "# Total number of nodes\n",
    "metanode_df.nodes.sum()"
   ]
  },
  {
   "cell_type": "code",
   "execution_count": 30,
   "metadata": {},
   "outputs": [
    {
     "data": {
      "text/html": [
       "<div>\n",
       "<style scoped>\n",
       "    .dataframe tbody tr th:only-of-type {\n",
       "        vertical-align: middle;\n",
       "    }\n",
       "\n",
       "    .dataframe tbody tr th {\n",
       "        vertical-align: top;\n",
       "    }\n",
       "\n",
       "    .dataframe thead th {\n",
       "        text-align: right;\n",
       "    }\n",
       "</style>\n",
       "<table border=\"1\" class=\"dataframe\">\n",
       "  <thead>\n",
       "    <tr style=\"text-align: right;\">\n",
       "      <th></th>\n",
       "      <th>metaedge</th>\n",
       "      <th>abbreviation</th>\n",
       "      <th>edges</th>\n",
       "      <th>source_nodes</th>\n",
       "      <th>target_nodes</th>\n",
       "    </tr>\n",
       "  </thead>\n",
       "  <tbody>\n",
       "    <tr>\n",
       "      <th>0</th>\n",
       "      <td>Gene - participates - Cancer-Hallmarks</td>\n",
       "      <td>GpH</td>\n",
       "      <td>7213</td>\n",
       "      <td>4302</td>\n",
       "      <td>50</td>\n",
       "    </tr>\n",
       "    <tr>\n",
       "      <th>1</th>\n",
       "      <td>Gene - participates - Computational-Gene-Sets-CGN</td>\n",
       "      <td>GpC4-CGN</td>\n",
       "      <td>41044</td>\n",
       "      <td>4684</td>\n",
       "      <td>427</td>\n",
       "    </tr>\n",
       "    <tr>\n",
       "      <th>2</th>\n",
       "      <td>Gene - participates - Computational-Gene-Sets-CM</td>\n",
       "      <td>GpC4-CM</td>\n",
       "      <td>47057</td>\n",
       "      <td>8000</td>\n",
       "      <td>431</td>\n",
       "    </tr>\n",
       "    <tr>\n",
       "      <th>3</th>\n",
       "      <td>Gene - participates - Curated-Gene-Sets-CPG</td>\n",
       "      <td>GpC2-CPG</td>\n",
       "      <td>322507</td>\n",
       "      <td>16963</td>\n",
       "      <td>3381</td>\n",
       "    </tr>\n",
       "    <tr>\n",
       "      <th>4</th>\n",
       "      <td>Gene - participates - Curated-Gene-Sets-REACTOME</td>\n",
       "      <td>GpC2-CP-REACTOME</td>\n",
       "      <td>35197</td>\n",
       "      <td>5683</td>\n",
       "      <td>674</td>\n",
       "    </tr>\n",
       "    <tr>\n",
       "      <th>5</th>\n",
       "      <td>Gene - participates - GO-Gene-Sets-BP</td>\n",
       "      <td>GpC5-BP</td>\n",
       "      <td>379405</td>\n",
       "      <td>14166</td>\n",
       "      <td>4355</td>\n",
       "    </tr>\n",
       "    <tr>\n",
       "      <th>6</th>\n",
       "      <td>Gene - participates - GO-Gene-Sets-CC</td>\n",
       "      <td>GpC5-CC</td>\n",
       "      <td>59887</td>\n",
       "      <td>9779</td>\n",
       "      <td>561</td>\n",
       "    </tr>\n",
       "    <tr>\n",
       "      <th>7</th>\n",
       "      <td>Gene - participates - GO-Gene-Sets-MF</td>\n",
       "      <td>GpC5-MF</td>\n",
       "      <td>67562</td>\n",
       "      <td>12599</td>\n",
       "      <td>883</td>\n",
       "    </tr>\n",
       "    <tr>\n",
       "      <th>8</th>\n",
       "      <td>Gene - participates - Immunologic-Gene-Sets</td>\n",
       "      <td>GpC7</td>\n",
       "      <td>886581</td>\n",
       "      <td>17091</td>\n",
       "      <td>4872</td>\n",
       "    </tr>\n",
       "    <tr>\n",
       "      <th>9</th>\n",
       "      <td>Gene - participates - Motif-Gene-Sets-MIR</td>\n",
       "      <td>GpC3-MIR</td>\n",
       "      <td>32574</td>\n",
       "      <td>7011</td>\n",
       "      <td>221</td>\n",
       "    </tr>\n",
       "    <tr>\n",
       "      <th>10</th>\n",
       "      <td>Gene - participates - Motif-Gene-Sets-TFT</td>\n",
       "      <td>GpC3-TFT</td>\n",
       "      <td>129340</td>\n",
       "      <td>11323</td>\n",
       "      <td>598</td>\n",
       "    </tr>\n",
       "    <tr>\n",
       "      <th>11</th>\n",
       "      <td>Gene - participates - Oncogenic-Gene-Sets</td>\n",
       "      <td>GpC6</td>\n",
       "      <td>29236</td>\n",
       "      <td>10253</td>\n",
       "      <td>189</td>\n",
       "    </tr>\n",
       "    <tr>\n",
       "      <th>12</th>\n",
       "      <td>Gene - participates - Positional-Gene-Sets</td>\n",
       "      <td>GpC1</td>\n",
       "      <td>17615</td>\n",
       "      <td>17437</td>\n",
       "      <td>326</td>\n",
       "    </tr>\n",
       "  </tbody>\n",
       "</table>\n",
       "</div>"
      ],
      "text/plain": [
       "                                             metaedge      abbreviation  \\\n",
       "0              Gene - participates - Cancer-Hallmarks               GpH   \n",
       "1   Gene - participates - Computational-Gene-Sets-CGN          GpC4-CGN   \n",
       "2    Gene - participates - Computational-Gene-Sets-CM           GpC4-CM   \n",
       "3         Gene - participates - Curated-Gene-Sets-CPG          GpC2-CPG   \n",
       "4    Gene - participates - Curated-Gene-Sets-REACTOME  GpC2-CP-REACTOME   \n",
       "5               Gene - participates - GO-Gene-Sets-BP           GpC5-BP   \n",
       "6               Gene - participates - GO-Gene-Sets-CC           GpC5-CC   \n",
       "7               Gene - participates - GO-Gene-Sets-MF           GpC5-MF   \n",
       "8         Gene - participates - Immunologic-Gene-Sets              GpC7   \n",
       "9           Gene - participates - Motif-Gene-Sets-MIR          GpC3-MIR   \n",
       "10          Gene - participates - Motif-Gene-Sets-TFT          GpC3-TFT   \n",
       "11          Gene - participates - Oncogenic-Gene-Sets              GpC6   \n",
       "12         Gene - participates - Positional-Gene-Sets              GpC1   \n",
       "\n",
       "     edges  source_nodes  target_nodes  \n",
       "0     7213          4302            50  \n",
       "1    41044          4684           427  \n",
       "2    47057          8000           431  \n",
       "3   322507         16963          3381  \n",
       "4    35197          5683           674  \n",
       "5   379405         14166          4355  \n",
       "6    59887          9779           561  \n",
       "7    67562         12599           883  \n",
       "8   886581         17091          4872  \n",
       "9    32574          7011           221  \n",
       "10  129340         11323           598  \n",
       "11   29236         10253           189  \n",
       "12   17615         17437           326  "
      ]
     },
     "execution_count": 30,
     "metadata": {},
     "output_type": "execute_result"
    }
   ],
   "source": [
    "# Summary of metaedges and cooresponding edges\n",
    "metaedge_df = hetio.stats.get_metaedge_df(graph)\n",
    "\n",
    "rows = list()\n",
    "for metaedge, edges in graph.get_metaedge_to_edges(exclude_inverts=True).items():\n",
    "    rows.append({'metaedge': str(metaedge)})\n",
    "\n",
    "metaedge_file = os.path.join('results', 'msigdb_metaedges.tsv')\n",
    "metaedge_df = metaedge_df.merge(pd.DataFrame(rows))\n",
    "metaedge_df.to_csv(metaedge_file, sep='\\t', index=False)\n",
    "metaedge_df"
   ]
  },
  {
   "cell_type": "code",
   "execution_count": 31,
   "metadata": {},
   "outputs": [
    {
     "data": {
      "text/html": [
       "<div>\n",
       "<style scoped>\n",
       "    .dataframe tbody tr th:only-of-type {\n",
       "        vertical-align: middle;\n",
       "    }\n",
       "\n",
       "    .dataframe tbody tr th {\n",
       "        vertical-align: top;\n",
       "    }\n",
       "\n",
       "    .dataframe thead th {\n",
       "        text-align: right;\n",
       "    }\n",
       "</style>\n",
       "<table border=\"1\" class=\"dataframe\">\n",
       "  <thead>\n",
       "    <tr style=\"text-align: right;\">\n",
       "      <th></th>\n",
       "      <th>metaedge</th>\n",
       "      <th>unicode_metaedge</th>\n",
       "      <th>standard_metaedge</th>\n",
       "      <th>abbreviation</th>\n",
       "      <th>standard_abbreviation</th>\n",
       "      <th>source</th>\n",
       "      <th>target</th>\n",
       "      <th>inverted</th>\n",
       "    </tr>\n",
       "  </thead>\n",
       "  <tbody>\n",
       "    <tr>\n",
       "      <th>1</th>\n",
       "      <td>Cancer-Hallmarks - participates - Gene</td>\n",
       "      <td>Cancer-Hallmarks–participates–Gene</td>\n",
       "      <td>Gene - participates - Cancer-Hallmarks</td>\n",
       "      <td>HpG</td>\n",
       "      <td>GpH</td>\n",
       "      <td>Cancer-Hallmarks</td>\n",
       "      <td>Gene</td>\n",
       "      <td>1</td>\n",
       "    </tr>\n",
       "    <tr>\n",
       "      <th>13</th>\n",
       "      <td>Computational-Gene-Sets-CGN - participates - Gene</td>\n",
       "      <td>Computational-Gene-Sets-CGN–participates–Gene</td>\n",
       "      <td>Gene - participates - Computational-Gene-Sets-CGN</td>\n",
       "      <td>C4-CGNpG</td>\n",
       "      <td>GpC4-CGN</td>\n",
       "      <td>Computational-Gene-Sets-CGN</td>\n",
       "      <td>Gene</td>\n",
       "      <td>1</td>\n",
       "    </tr>\n",
       "    <tr>\n",
       "      <th>15</th>\n",
       "      <td>Computational-Gene-Sets-CM - participates - Gene</td>\n",
       "      <td>Computational-Gene-Sets-CM–participates–Gene</td>\n",
       "      <td>Gene - participates - Computational-Gene-Sets-CM</td>\n",
       "      <td>C4-CMpG</td>\n",
       "      <td>GpC4-CM</td>\n",
       "      <td>Computational-Gene-Sets-CM</td>\n",
       "      <td>Gene</td>\n",
       "      <td>1</td>\n",
       "    </tr>\n",
       "    <tr>\n",
       "      <th>5</th>\n",
       "      <td>Curated-Gene-Sets-CPG - participates - Gene</td>\n",
       "      <td>Curated-Gene-Sets-CPG–participates–Gene</td>\n",
       "      <td>Gene - participates - Curated-Gene-Sets-CPG</td>\n",
       "      <td>C2-CPGpG</td>\n",
       "      <td>GpC2-CPG</td>\n",
       "      <td>Curated-Gene-Sets-CPG</td>\n",
       "      <td>Gene</td>\n",
       "      <td>1</td>\n",
       "    </tr>\n",
       "    <tr>\n",
       "      <th>7</th>\n",
       "      <td>Curated-Gene-Sets-REACTOME - participates - Gene</td>\n",
       "      <td>Curated-Gene-Sets-REACTOME–participates–Gene</td>\n",
       "      <td>Gene - participates - Curated-Gene-Sets-REACTOME</td>\n",
       "      <td>C2-CP-REACTOMEpG</td>\n",
       "      <td>GpC2-CP-REACTOME</td>\n",
       "      <td>Curated-Gene-Sets-REACTOME</td>\n",
       "      <td>Gene</td>\n",
       "      <td>1</td>\n",
       "    </tr>\n",
       "    <tr>\n",
       "      <th>17</th>\n",
       "      <td>GO-Gene-Sets-BP - participates - Gene</td>\n",
       "      <td>GO-Gene-Sets-BP–participates–Gene</td>\n",
       "      <td>Gene - participates - GO-Gene-Sets-BP</td>\n",
       "      <td>C5-BPpG</td>\n",
       "      <td>GpC5-BP</td>\n",
       "      <td>GO-Gene-Sets-BP</td>\n",
       "      <td>Gene</td>\n",
       "      <td>1</td>\n",
       "    </tr>\n",
       "    <tr>\n",
       "      <th>19</th>\n",
       "      <td>GO-Gene-Sets-CC - participates - Gene</td>\n",
       "      <td>GO-Gene-Sets-CC–participates–Gene</td>\n",
       "      <td>Gene - participates - GO-Gene-Sets-CC</td>\n",
       "      <td>C5-CCpG</td>\n",
       "      <td>GpC5-CC</td>\n",
       "      <td>GO-Gene-Sets-CC</td>\n",
       "      <td>Gene</td>\n",
       "      <td>1</td>\n",
       "    </tr>\n",
       "    <tr>\n",
       "      <th>21</th>\n",
       "      <td>GO-Gene-Sets-MF - participates - Gene</td>\n",
       "      <td>GO-Gene-Sets-MF–participates–Gene</td>\n",
       "      <td>Gene - participates - GO-Gene-Sets-MF</td>\n",
       "      <td>C5-MFpG</td>\n",
       "      <td>GpC5-MF</td>\n",
       "      <td>GO-Gene-Sets-MF</td>\n",
       "      <td>Gene</td>\n",
       "      <td>1</td>\n",
       "    </tr>\n",
       "    <tr>\n",
       "      <th>0</th>\n",
       "      <td>Gene - participates - Cancer-Hallmarks</td>\n",
       "      <td>Gene–participates–Cancer-Hallmarks</td>\n",
       "      <td>Gene - participates - Cancer-Hallmarks</td>\n",
       "      <td>GpH</td>\n",
       "      <td>GpH</td>\n",
       "      <td>Gene</td>\n",
       "      <td>Cancer-Hallmarks</td>\n",
       "      <td>0</td>\n",
       "    </tr>\n",
       "    <tr>\n",
       "      <th>12</th>\n",
       "      <td>Gene - participates - Computational-Gene-Sets-CGN</td>\n",
       "      <td>Gene–participates–Computational-Gene-Sets-CGN</td>\n",
       "      <td>Gene - participates - Computational-Gene-Sets-CGN</td>\n",
       "      <td>GpC4-CGN</td>\n",
       "      <td>GpC4-CGN</td>\n",
       "      <td>Gene</td>\n",
       "      <td>Computational-Gene-Sets-CGN</td>\n",
       "      <td>0</td>\n",
       "    </tr>\n",
       "    <tr>\n",
       "      <th>14</th>\n",
       "      <td>Gene - participates - Computational-Gene-Sets-CM</td>\n",
       "      <td>Gene–participates–Computational-Gene-Sets-CM</td>\n",
       "      <td>Gene - participates - Computational-Gene-Sets-CM</td>\n",
       "      <td>GpC4-CM</td>\n",
       "      <td>GpC4-CM</td>\n",
       "      <td>Gene</td>\n",
       "      <td>Computational-Gene-Sets-CM</td>\n",
       "      <td>0</td>\n",
       "    </tr>\n",
       "    <tr>\n",
       "      <th>4</th>\n",
       "      <td>Gene - participates - Curated-Gene-Sets-CPG</td>\n",
       "      <td>Gene–participates–Curated-Gene-Sets-CPG</td>\n",
       "      <td>Gene - participates - Curated-Gene-Sets-CPG</td>\n",
       "      <td>GpC2-CPG</td>\n",
       "      <td>GpC2-CPG</td>\n",
       "      <td>Gene</td>\n",
       "      <td>Curated-Gene-Sets-CPG</td>\n",
       "      <td>0</td>\n",
       "    </tr>\n",
       "    <tr>\n",
       "      <th>6</th>\n",
       "      <td>Gene - participates - Curated-Gene-Sets-REACTOME</td>\n",
       "      <td>Gene–participates–Curated-Gene-Sets-REACTOME</td>\n",
       "      <td>Gene - participates - Curated-Gene-Sets-REACTOME</td>\n",
       "      <td>GpC2-CP-REACTOME</td>\n",
       "      <td>GpC2-CP-REACTOME</td>\n",
       "      <td>Gene</td>\n",
       "      <td>Curated-Gene-Sets-REACTOME</td>\n",
       "      <td>0</td>\n",
       "    </tr>\n",
       "    <tr>\n",
       "      <th>16</th>\n",
       "      <td>Gene - participates - GO-Gene-Sets-BP</td>\n",
       "      <td>Gene–participates–GO-Gene-Sets-BP</td>\n",
       "      <td>Gene - participates - GO-Gene-Sets-BP</td>\n",
       "      <td>GpC5-BP</td>\n",
       "      <td>GpC5-BP</td>\n",
       "      <td>Gene</td>\n",
       "      <td>GO-Gene-Sets-BP</td>\n",
       "      <td>0</td>\n",
       "    </tr>\n",
       "    <tr>\n",
       "      <th>18</th>\n",
       "      <td>Gene - participates - GO-Gene-Sets-CC</td>\n",
       "      <td>Gene–participates–GO-Gene-Sets-CC</td>\n",
       "      <td>Gene - participates - GO-Gene-Sets-CC</td>\n",
       "      <td>GpC5-CC</td>\n",
       "      <td>GpC5-CC</td>\n",
       "      <td>Gene</td>\n",
       "      <td>GO-Gene-Sets-CC</td>\n",
       "      <td>0</td>\n",
       "    </tr>\n",
       "    <tr>\n",
       "      <th>20</th>\n",
       "      <td>Gene - participates - GO-Gene-Sets-MF</td>\n",
       "      <td>Gene–participates–GO-Gene-Sets-MF</td>\n",
       "      <td>Gene - participates - GO-Gene-Sets-MF</td>\n",
       "      <td>GpC5-MF</td>\n",
       "      <td>GpC5-MF</td>\n",
       "      <td>Gene</td>\n",
       "      <td>GO-Gene-Sets-MF</td>\n",
       "      <td>0</td>\n",
       "    </tr>\n",
       "    <tr>\n",
       "      <th>24</th>\n",
       "      <td>Gene - participates - Immunologic-Gene-Sets</td>\n",
       "      <td>Gene–participates–Immunologic-Gene-Sets</td>\n",
       "      <td>Gene - participates - Immunologic-Gene-Sets</td>\n",
       "      <td>GpC7</td>\n",
       "      <td>GpC7</td>\n",
       "      <td>Gene</td>\n",
       "      <td>Immunologic-Gene-Sets</td>\n",
       "      <td>0</td>\n",
       "    </tr>\n",
       "    <tr>\n",
       "      <th>8</th>\n",
       "      <td>Gene - participates - Motif-Gene-Sets-MIR</td>\n",
       "      <td>Gene–participates–Motif-Gene-Sets-MIR</td>\n",
       "      <td>Gene - participates - Motif-Gene-Sets-MIR</td>\n",
       "      <td>GpC3-MIR</td>\n",
       "      <td>GpC3-MIR</td>\n",
       "      <td>Gene</td>\n",
       "      <td>Motif-Gene-Sets-MIR</td>\n",
       "      <td>0</td>\n",
       "    </tr>\n",
       "    <tr>\n",
       "      <th>10</th>\n",
       "      <td>Gene - participates - Motif-Gene-Sets-TFT</td>\n",
       "      <td>Gene–participates–Motif-Gene-Sets-TFT</td>\n",
       "      <td>Gene - participates - Motif-Gene-Sets-TFT</td>\n",
       "      <td>GpC3-TFT</td>\n",
       "      <td>GpC3-TFT</td>\n",
       "      <td>Gene</td>\n",
       "      <td>Motif-Gene-Sets-TFT</td>\n",
       "      <td>0</td>\n",
       "    </tr>\n",
       "    <tr>\n",
       "      <th>22</th>\n",
       "      <td>Gene - participates - Oncogenic-Gene-Sets</td>\n",
       "      <td>Gene–participates–Oncogenic-Gene-Sets</td>\n",
       "      <td>Gene - participates - Oncogenic-Gene-Sets</td>\n",
       "      <td>GpC6</td>\n",
       "      <td>GpC6</td>\n",
       "      <td>Gene</td>\n",
       "      <td>Oncogenic-Gene-Sets</td>\n",
       "      <td>0</td>\n",
       "    </tr>\n",
       "    <tr>\n",
       "      <th>2</th>\n",
       "      <td>Gene - participates - Positional-Gene-Sets</td>\n",
       "      <td>Gene–participates–Positional-Gene-Sets</td>\n",
       "      <td>Gene - participates - Positional-Gene-Sets</td>\n",
       "      <td>GpC1</td>\n",
       "      <td>GpC1</td>\n",
       "      <td>Gene</td>\n",
       "      <td>Positional-Gene-Sets</td>\n",
       "      <td>0</td>\n",
       "    </tr>\n",
       "    <tr>\n",
       "      <th>25</th>\n",
       "      <td>Immunologic-Gene-Sets - participates - Gene</td>\n",
       "      <td>Immunologic-Gene-Sets–participates–Gene</td>\n",
       "      <td>Gene - participates - Immunologic-Gene-Sets</td>\n",
       "      <td>C7pG</td>\n",
       "      <td>GpC7</td>\n",
       "      <td>Immunologic-Gene-Sets</td>\n",
       "      <td>Gene</td>\n",
       "      <td>1</td>\n",
       "    </tr>\n",
       "    <tr>\n",
       "      <th>9</th>\n",
       "      <td>Motif-Gene-Sets-MIR - participates - Gene</td>\n",
       "      <td>Motif-Gene-Sets-MIR–participates–Gene</td>\n",
       "      <td>Gene - participates - Motif-Gene-Sets-MIR</td>\n",
       "      <td>C3-MIRpG</td>\n",
       "      <td>GpC3-MIR</td>\n",
       "      <td>Motif-Gene-Sets-MIR</td>\n",
       "      <td>Gene</td>\n",
       "      <td>1</td>\n",
       "    </tr>\n",
       "    <tr>\n",
       "      <th>11</th>\n",
       "      <td>Motif-Gene-Sets-TFT - participates - Gene</td>\n",
       "      <td>Motif-Gene-Sets-TFT–participates–Gene</td>\n",
       "      <td>Gene - participates - Motif-Gene-Sets-TFT</td>\n",
       "      <td>C3-TFTpG</td>\n",
       "      <td>GpC3-TFT</td>\n",
       "      <td>Motif-Gene-Sets-TFT</td>\n",
       "      <td>Gene</td>\n",
       "      <td>1</td>\n",
       "    </tr>\n",
       "    <tr>\n",
       "      <th>23</th>\n",
       "      <td>Oncogenic-Gene-Sets - participates - Gene</td>\n",
       "      <td>Oncogenic-Gene-Sets–participates–Gene</td>\n",
       "      <td>Gene - participates - Oncogenic-Gene-Sets</td>\n",
       "      <td>C6pG</td>\n",
       "      <td>GpC6</td>\n",
       "      <td>Oncogenic-Gene-Sets</td>\n",
       "      <td>Gene</td>\n",
       "      <td>1</td>\n",
       "    </tr>\n",
       "    <tr>\n",
       "      <th>3</th>\n",
       "      <td>Positional-Gene-Sets - participates - Gene</td>\n",
       "      <td>Positional-Gene-Sets–participates–Gene</td>\n",
       "      <td>Gene - participates - Positional-Gene-Sets</td>\n",
       "      <td>C1pG</td>\n",
       "      <td>GpC1</td>\n",
       "      <td>Positional-Gene-Sets</td>\n",
       "      <td>Gene</td>\n",
       "      <td>1</td>\n",
       "    </tr>\n",
       "  </tbody>\n",
       "</table>\n",
       "</div>"
      ],
      "text/plain": [
       "                                             metaedge  \\\n",
       "1              Cancer-Hallmarks - participates - Gene   \n",
       "13  Computational-Gene-Sets-CGN - participates - Gene   \n",
       "15   Computational-Gene-Sets-CM - participates - Gene   \n",
       "5         Curated-Gene-Sets-CPG - participates - Gene   \n",
       "7    Curated-Gene-Sets-REACTOME - participates - Gene   \n",
       "17              GO-Gene-Sets-BP - participates - Gene   \n",
       "19              GO-Gene-Sets-CC - participates - Gene   \n",
       "21              GO-Gene-Sets-MF - participates - Gene   \n",
       "0              Gene - participates - Cancer-Hallmarks   \n",
       "12  Gene - participates - Computational-Gene-Sets-CGN   \n",
       "14   Gene - participates - Computational-Gene-Sets-CM   \n",
       "4         Gene - participates - Curated-Gene-Sets-CPG   \n",
       "6    Gene - participates - Curated-Gene-Sets-REACTOME   \n",
       "16              Gene - participates - GO-Gene-Sets-BP   \n",
       "18              Gene - participates - GO-Gene-Sets-CC   \n",
       "20              Gene - participates - GO-Gene-Sets-MF   \n",
       "24        Gene - participates - Immunologic-Gene-Sets   \n",
       "8           Gene - participates - Motif-Gene-Sets-MIR   \n",
       "10          Gene - participates - Motif-Gene-Sets-TFT   \n",
       "22          Gene - participates - Oncogenic-Gene-Sets   \n",
       "2          Gene - participates - Positional-Gene-Sets   \n",
       "25        Immunologic-Gene-Sets - participates - Gene   \n",
       "9           Motif-Gene-Sets-MIR - participates - Gene   \n",
       "11          Motif-Gene-Sets-TFT - participates - Gene   \n",
       "23          Oncogenic-Gene-Sets - participates - Gene   \n",
       "3          Positional-Gene-Sets - participates - Gene   \n",
       "\n",
       "                                 unicode_metaedge  \\\n",
       "1              Cancer-Hallmarks–participates–Gene   \n",
       "13  Computational-Gene-Sets-CGN–participates–Gene   \n",
       "15   Computational-Gene-Sets-CM–participates–Gene   \n",
       "5         Curated-Gene-Sets-CPG–participates–Gene   \n",
       "7    Curated-Gene-Sets-REACTOME–participates–Gene   \n",
       "17              GO-Gene-Sets-BP–participates–Gene   \n",
       "19              GO-Gene-Sets-CC–participates–Gene   \n",
       "21              GO-Gene-Sets-MF–participates–Gene   \n",
       "0              Gene–participates–Cancer-Hallmarks   \n",
       "12  Gene–participates–Computational-Gene-Sets-CGN   \n",
       "14   Gene–participates–Computational-Gene-Sets-CM   \n",
       "4         Gene–participates–Curated-Gene-Sets-CPG   \n",
       "6    Gene–participates–Curated-Gene-Sets-REACTOME   \n",
       "16              Gene–participates–GO-Gene-Sets-BP   \n",
       "18              Gene–participates–GO-Gene-Sets-CC   \n",
       "20              Gene–participates–GO-Gene-Sets-MF   \n",
       "24        Gene–participates–Immunologic-Gene-Sets   \n",
       "8           Gene–participates–Motif-Gene-Sets-MIR   \n",
       "10          Gene–participates–Motif-Gene-Sets-TFT   \n",
       "22          Gene–participates–Oncogenic-Gene-Sets   \n",
       "2          Gene–participates–Positional-Gene-Sets   \n",
       "25        Immunologic-Gene-Sets–participates–Gene   \n",
       "9           Motif-Gene-Sets-MIR–participates–Gene   \n",
       "11          Motif-Gene-Sets-TFT–participates–Gene   \n",
       "23          Oncogenic-Gene-Sets–participates–Gene   \n",
       "3          Positional-Gene-Sets–participates–Gene   \n",
       "\n",
       "                                    standard_metaedge      abbreviation  \\\n",
       "1              Gene - participates - Cancer-Hallmarks               HpG   \n",
       "13  Gene - participates - Computational-Gene-Sets-CGN          C4-CGNpG   \n",
       "15   Gene - participates - Computational-Gene-Sets-CM           C4-CMpG   \n",
       "5         Gene - participates - Curated-Gene-Sets-CPG          C2-CPGpG   \n",
       "7    Gene - participates - Curated-Gene-Sets-REACTOME  C2-CP-REACTOMEpG   \n",
       "17              Gene - participates - GO-Gene-Sets-BP           C5-BPpG   \n",
       "19              Gene - participates - GO-Gene-Sets-CC           C5-CCpG   \n",
       "21              Gene - participates - GO-Gene-Sets-MF           C5-MFpG   \n",
       "0              Gene - participates - Cancer-Hallmarks               GpH   \n",
       "12  Gene - participates - Computational-Gene-Sets-CGN          GpC4-CGN   \n",
       "14   Gene - participates - Computational-Gene-Sets-CM           GpC4-CM   \n",
       "4         Gene - participates - Curated-Gene-Sets-CPG          GpC2-CPG   \n",
       "6    Gene - participates - Curated-Gene-Sets-REACTOME  GpC2-CP-REACTOME   \n",
       "16              Gene - participates - GO-Gene-Sets-BP           GpC5-BP   \n",
       "18              Gene - participates - GO-Gene-Sets-CC           GpC5-CC   \n",
       "20              Gene - participates - GO-Gene-Sets-MF           GpC5-MF   \n",
       "24        Gene - participates - Immunologic-Gene-Sets              GpC7   \n",
       "8           Gene - participates - Motif-Gene-Sets-MIR          GpC3-MIR   \n",
       "10          Gene - participates - Motif-Gene-Sets-TFT          GpC3-TFT   \n",
       "22          Gene - participates - Oncogenic-Gene-Sets              GpC6   \n",
       "2          Gene - participates - Positional-Gene-Sets              GpC1   \n",
       "25        Gene - participates - Immunologic-Gene-Sets              C7pG   \n",
       "9           Gene - participates - Motif-Gene-Sets-MIR          C3-MIRpG   \n",
       "11          Gene - participates - Motif-Gene-Sets-TFT          C3-TFTpG   \n",
       "23          Gene - participates - Oncogenic-Gene-Sets              C6pG   \n",
       "3          Gene - participates - Positional-Gene-Sets              C1pG   \n",
       "\n",
       "   standard_abbreviation                       source  \\\n",
       "1                    GpH             Cancer-Hallmarks   \n",
       "13              GpC4-CGN  Computational-Gene-Sets-CGN   \n",
       "15               GpC4-CM   Computational-Gene-Sets-CM   \n",
       "5               GpC2-CPG        Curated-Gene-Sets-CPG   \n",
       "7       GpC2-CP-REACTOME   Curated-Gene-Sets-REACTOME   \n",
       "17               GpC5-BP              GO-Gene-Sets-BP   \n",
       "19               GpC5-CC              GO-Gene-Sets-CC   \n",
       "21               GpC5-MF              GO-Gene-Sets-MF   \n",
       "0                    GpH                         Gene   \n",
       "12              GpC4-CGN                         Gene   \n",
       "14               GpC4-CM                         Gene   \n",
       "4               GpC2-CPG                         Gene   \n",
       "6       GpC2-CP-REACTOME                         Gene   \n",
       "16               GpC5-BP                         Gene   \n",
       "18               GpC5-CC                         Gene   \n",
       "20               GpC5-MF                         Gene   \n",
       "24                  GpC7                         Gene   \n",
       "8               GpC3-MIR                         Gene   \n",
       "10              GpC3-TFT                         Gene   \n",
       "22                  GpC6                         Gene   \n",
       "2                   GpC1                         Gene   \n",
       "25                  GpC7        Immunologic-Gene-Sets   \n",
       "9               GpC3-MIR          Motif-Gene-Sets-MIR   \n",
       "11              GpC3-TFT          Motif-Gene-Sets-TFT   \n",
       "23                  GpC6          Oncogenic-Gene-Sets   \n",
       "3                   GpC1         Positional-Gene-Sets   \n",
       "\n",
       "                         target  inverted  \n",
       "1                          Gene         1  \n",
       "13                         Gene         1  \n",
       "15                         Gene         1  \n",
       "5                          Gene         1  \n",
       "7                          Gene         1  \n",
       "17                         Gene         1  \n",
       "19                         Gene         1  \n",
       "21                         Gene         1  \n",
       "0              Cancer-Hallmarks         0  \n",
       "12  Computational-Gene-Sets-CGN         0  \n",
       "14   Computational-Gene-Sets-CM         0  \n",
       "4         Curated-Gene-Sets-CPG         0  \n",
       "6    Curated-Gene-Sets-REACTOME         0  \n",
       "16              GO-Gene-Sets-BP         0  \n",
       "18              GO-Gene-Sets-CC         0  \n",
       "20              GO-Gene-Sets-MF         0  \n",
       "24        Immunologic-Gene-Sets         0  \n",
       "8           Motif-Gene-Sets-MIR         0  \n",
       "10          Motif-Gene-Sets-TFT         0  \n",
       "22          Oncogenic-Gene-Sets         0  \n",
       "2          Positional-Gene-Sets         0  \n",
       "25                         Gene         1  \n",
       "9                          Gene         1  \n",
       "11                         Gene         1  \n",
       "23                         Gene         1  \n",
       "3                          Gene         1  "
      ]
     },
     "execution_count": 31,
     "metadata": {},
     "output_type": "execute_result"
    }
   ],
   "source": [
    "# Summary of different styles for representing each metaedge\n",
    "metaedge_style_file = os.path.join('results', 'msigdb_metaedge_styles.tsv')\n",
    "metaedge_style_df = hetio.stats.get_metaedge_style_df(metagraph)\n",
    "metaedge_style_df.to_csv(metaedge_style_file, sep='\\t', index=False)\n",
    "metaedge_style_df"
   ]
  },
  {
   "cell_type": "code",
   "execution_count": 32,
   "metadata": {
    "scrolled": true
   },
   "outputs": [
    {
     "data": {
      "text/plain": [
       "2055218"
      ]
     },
     "execution_count": 32,
     "metadata": {},
     "output_type": "execute_result"
    }
   ],
   "source": [
    "# Number of edges in the network\n",
    "metaedge_df.edges.sum()"
   ]
  },
  {
   "cell_type": "code",
   "execution_count": 33,
   "metadata": {},
   "outputs": [
    {
     "data": {
      "text/plain": [
       "{'Cancer-Hallmarks': 0,\n",
       " 'Computational-Gene-Sets-CGN': 0,\n",
       " 'Computational-Gene-Sets-CM': 0,\n",
       " 'Curated-Gene-Sets-CPG': 28,\n",
       " 'Curated-Gene-Sets-REACTOME': 0,\n",
       " 'GO-Gene-Sets-BP': 81,\n",
       " 'GO-Gene-Sets-CC': 19,\n",
       " 'GO-Gene-Sets-MF': 18,\n",
       " 'Immunologic-Gene-Sets': 0,\n",
       " 'Motif-Gene-Sets-MIR': 0,\n",
       " 'Motif-Gene-Sets-TFT': 17,\n",
       " 'Oncogenic-Gene-Sets': 0,\n",
       " 'Positional-Gene-Sets': 0}"
      ]
     },
     "execution_count": 33,
     "metadata": {},
     "output_type": "execute_result"
    }
   ],
   "source": [
    "# How many genesets were filtered?\n",
    "{'Cancer-Hallmarks': len(hallmark_filtered),\n",
    " 'Positional-Gene-Sets': len(positional_filtered),\n",
    " 'Curated-Gene-Sets-CPG': len(curated_filtered),\n",
    " 'Curated-Gene-Sets-REACTOME': len(reactome_filtered),\n",
    " 'Motif-Gene-Sets-MIR': len(micro_filtered),\n",
    " 'Motif-Gene-Sets-TFT': len(tf_filtered),\n",
    " 'Computational-Gene-Sets-CGN': len(cancer_n_filtered),\n",
    " 'Computational-Gene-Sets-CM': len(cancer_mod_filtered),\n",
    " 'GO-Gene-Sets-BP': len(go_bp_filtered),\n",
    " 'GO-Gene-Sets-CC': len(go_cc_filtered),\n",
    " 'GO-Gene-Sets-MF': len(go_mf_filtered),\n",
    " 'Oncogenic-Gene-Sets': len(oncogenic_filtered),\n",
    " 'Immunologic-Gene-Sets': len(immunologic_filtered)}"
   ]
  },
  {
   "cell_type": "markdown",
   "metadata": {
    "collapsed": true
   },
   "source": [
    "## Save graph"
   ]
  },
  {
   "cell_type": "code",
   "execution_count": 34,
   "metadata": {},
   "outputs": [
    {
     "name": "stdout",
     "output_type": "stream",
     "text": [
      "CPU times: user 17.3 s, sys: 12 ms, total: 17.3 s\n",
      "Wall time: 17.3 s\n"
     ]
    }
   ],
   "source": [
    "%%time\n",
    "# Write nodes to a table\n",
    "nodes_file = os.path.join('hetnets', 'msigdb_nodes.tsv')\n",
    "hetio.readwrite.write_nodetable(graph, nodes_file)\n",
    "\n",
    "# Write edges to a table\n",
    "edges_file = os.path.join('hetnets', 'msigdb_edges.sif.gz')\n",
    "hetio.readwrite.write_sif(graph, edges_file)"
   ]
  },
  {
   "cell_type": "code",
   "execution_count": 35,
   "metadata": {},
   "outputs": [
    {
     "name": "stdout",
     "output_type": "stream",
     "text": [
      "CPU times: user 4 ms, sys: 0 ns, total: 4 ms\n",
      "Wall time: 782 µs\n"
     ]
    }
   ],
   "source": [
    "%%time\n",
    "# Write metagraph as json\n",
    "metagraph_file = os.path.join('hetnets', 'msigdb_metagraph.json')\n",
    "hetio.readwrite.write_metagraph(metagraph, metagraph_file)"
   ]
  },
  {
   "cell_type": "code",
   "execution_count": 36,
   "metadata": {},
   "outputs": [
    {
     "name": "stdout",
     "output_type": "stream",
     "text": [
      "CPU times: user 3min 15s, sys: 264 ms, total: 3min 16s\n",
      "Wall time: 3min 15s\n"
     ]
    }
   ],
   "source": [
    "%%time\n",
    "# Write graph as json\n",
    "hetnet_json_path = os.path.join('hetnets', 'msigdb_hetnet.json.bz2')\n",
    "hetio.readwrite.write_graph(graph, hetnet_json_path)"
   ]
  },
  {
   "cell_type": "code",
   "execution_count": 37,
   "metadata": {},
   "outputs": [
    {
     "name": "stdout",
     "output_type": "stream",
     "text": [
      "153099f5adcb187d6435a7aa5447a8cf47babeae3ee196b0ffed7bd40deed387  hetnets/msigdb_hetnet.json.bz2\r\n"
     ]
    }
   ],
   "source": [
    "! sha256sum 'hetnets/msigdb_hetnet.json.bz2'"
   ]
  },
  {
   "cell_type": "markdown",
   "metadata": {},
   "source": [
    "## Visualize hetnet node and edge counts"
   ]
  },
  {
   "cell_type": "code",
   "execution_count": 38,
   "metadata": {},
   "outputs": [
    {
     "data": {
      "image/png": "[encoded data removed]",
      "text/plain": [
       "<Figure size 432x288 with 1 Axes>"
      ]
     },
     "metadata": {},
     "output_type": "display_data"
    }
   ],
   "source": [
    "ax = sns.barplot(x='metanode', y='nodes', data=metanode_df.sort_values('nodes'))\n",
    "for tick in ax.get_xticklabels():\n",
    "    tick.set_rotation(90)\n",
    "ax.set_xlabel(''); ax.set_ylabel('nodes');"
   ]
  },
  {
   "cell_type": "code",
   "execution_count": 39,
   "metadata": {
    "scrolled": false
   },
   "outputs": [
    {
     "data": {
      "image/png": "[encoded data removed]",
      "text/plain": [
       "<Figure size 432x288 with 1 Axes>"
      ]
     },
     "metadata": {},
     "output_type": "display_data"
    }
   ],
   "source": [
    "ax = sns.barplot(x='metaedge', y='edges', data=metaedge_df.sort_values('edges'))\n",
    "for tick in ax.get_xticklabels():\n",
    "    tick.set_rotation(90)\n",
    "ax.set_xlabel(''); ax.set_ylabel('edges');"
   ]
  }
 ],
 "metadata": {
  "kernelspec": {
   "display_name": "Python [conda env:interpret-compression]",
   "language": "python",
   "name": "conda-env-interpret-compression-py"
  },
  "language_info": {
   "codemirror_mode": {
    "name": "ipython",
    "version": 3
   },
   "file_extension": ".py",
   "mimetype": "text/x-python",
   "name": "python",
   "nbconvert_exporter": "python",
   "pygments_lexer": "ipython3",
   "version": "3.6.4"
  }
 },
 "nbformat": 4,
 "nbformat_minor": 1
}
