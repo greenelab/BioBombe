{
 "cells": [
  {
   "cell_type": "markdown",
   "metadata": {},
   "source": [
    "# Download TARGET Pan Cancer Data for Compression\n",
    "\n",
    "The notebook downloads gene expression and clinical data from The TARGET project. The data is downloaded from [UCSC Xena](https://xenabrowser.net/datapages/?dataset=target_RSEM_gene_fpkm&host=https%3A%2F%2Ftoil.xenahubs.net).\n",
    "\n",
    "The data is in `log2(FPKM)` RSEM transformed."
   ]
  },
  {
   "cell_type": "code",
   "execution_count": 1,
   "metadata": {},
   "outputs": [],
   "source": [
    "import os\n",
    "from urllib.request import urlretrieve"
   ]
  },
  {
   "cell_type": "code",
   "execution_count": 2,
   "metadata": {},
   "outputs": [],
   "source": [
    "# Get Gene Expression Data\n",
    "url = 'https://toil.xenahubs.net/download/'\n",
    "name = 'target_RSEM_gene_fpkm.gz'\n",
    "\n",
    "path = os.path.join('download', name)"
   ]
  },
  {
   "cell_type": "code",
   "execution_count": 3,
   "metadata": {},
   "outputs": [
    {
     "data": {
      "text/plain": [
       "('download/target_RSEM_gene_fpkm.gz',\n",
       " <http.client.HTTPMessage at 0x7f7cd8cfd7b8>)"
      ]
     },
     "execution_count": 3,
     "metadata": {},
     "output_type": "execute_result"
    }
   ],
   "source": [
    "urlretrieve('{}{}'.format(url, name), path)"
   ]
  },
  {
   "cell_type": "code",
   "execution_count": 4,
   "metadata": {},
   "outputs": [
    {
     "name": "stdout",
     "output_type": "stream",
     "text": [
      "4584cca6e5befebaead5f1865f23f517321dfc52cf9e752d87219f0bc33a14fc  download/target_RSEM_gene_fpkm.gz\r\n"
     ]
    }
   ],
   "source": [
    "! sha256sum 'download/target_RSEM_gene_fpkm.gz'"
   ]
  },
  {
   "cell_type": "code",
   "execution_count": 5,
   "metadata": {},
   "outputs": [],
   "source": [
    "# Get Probe Mappings\n",
    "name = 'gencode.v23.annotation.gene.probemap'\n",
    "\n",
    "path = os.path.join('download', name)"
   ]
  },
  {
   "cell_type": "code",
   "execution_count": 6,
   "metadata": {},
   "outputs": [
    {
     "data": {
      "text/plain": [
       "('download/gencode.v23.annotation.gene.probemap',\n",
       " <http.client.HTTPMessage at 0x7f7cd8cfdf60>)"
      ]
     },
     "execution_count": 6,
     "metadata": {},
     "output_type": "execute_result"
    }
   ],
   "source": [
    "urlretrieve('{}probeMap/{}'.format(url, name), path)"
   ]
  },
  {
   "cell_type": "code",
   "execution_count": 7,
   "metadata": {},
   "outputs": [
    {
     "name": "stdout",
     "output_type": "stream",
     "text": [
      "6783ea58791ae876efb697889a042cc7be8e32e40fc01191c622ef25d9416931  download/gencode.v23.annotation.gene.probemap\r\n"
     ]
    }
   ],
   "source": [
    "! sha256sum 'download/gencode.v23.annotation.gene.probemap'"
   ]
  },
  {
   "cell_type": "code",
   "execution_count": 8,
   "metadata": {},
   "outputs": [],
   "source": [
    "# Get Sample Identifiers\n",
    "name = 'TARGET_phenotype.gz'\n",
    "\n",
    "path = os.path.join('download', name)"
   ]
  },
  {
   "cell_type": "code",
   "execution_count": 9,
   "metadata": {},
   "outputs": [
    {
     "data": {
      "text/plain": [
       "('download/TARGET_phenotype.gz', <http.client.HTTPMessage at 0x7f7cd8d233c8>)"
      ]
     },
     "execution_count": 9,
     "metadata": {},
     "output_type": "execute_result"
    }
   ],
   "source": [
    "urlretrieve('{}{}'.format(url, name), path)"
   ]
  },
  {
   "cell_type": "code",
   "execution_count": 10,
   "metadata": {},
   "outputs": [
    {
     "name": "stdout",
     "output_type": "stream",
     "text": [
      "b52ec780daaa940dbfdd76f5f764cde2567ba6e6acbbab7e889030ef9474a5cc  download/TARGET_phenotype.gz\r\n"
     ]
    }
   ],
   "source": [
    "! sha256sum 'download/TARGET_phenotype.gz'"
   ]
  }
 ],
 "metadata": {
  "kernelspec": {
   "display_name": "Python [conda env:biobombe]",
   "language": "python",
   "name": "conda-env-biobombe-py"
  },
  "language_info": {
   "codemirror_mode": {
    "name": "ipython",
    "version": 3
   },
   "file_extension": ".py",
   "mimetype": "text/x-python",
   "name": "python",
   "nbconvert_exporter": "python",
   "pygments_lexer": "ipython3",
   "version": "3.6.7"
  }
 },
 "nbformat": 4,
 "nbformat_minor": 2
}
